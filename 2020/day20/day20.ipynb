{
 "cells": [
  {
   "cell_type": "code",
   "execution_count": null,
   "metadata": {},
   "outputs": [],
   "source": [
    "import numpy as np"
   ]
  },
  {
   "cell_type": "code",
   "execution_count": null,
   "metadata": {},
   "outputs": [],
   "source": [
    "import PIL.Image\n",
    "from io import BytesIO\n",
    "import IPython.display\n",
    "import numpy as np"
   ]
  },
  {
   "cell_type": "code",
   "execution_count": null,
   "metadata": {},
   "outputs": [],
   "source": [
    "# def array_viz(a, fmt='png'):\n",
    "#     a = 255 - (a.astype(np.uint8) * 255)\n",
    "#     f = BytesIO()\n",
    "#     PIL.Image.fromarray(a).save(f, fmt)\n",
    "#     return IPython.display.Image(data=f.getvalue())\n",
    "# def showarray(a):\n",
    "#     IPython.display.display(array_viz(a))"
   ]
  },
  {
   "cell_type": "markdown",
   "metadata": {},
   "source": [
    "### Display Formatters"
   ]
  },
  {
   "cell_type": "code",
   "execution_count": null,
   "metadata": {},
   "outputs": [],
   "source": [
    "import html\n",
    "html_formatter = get_ipython().display_formatter.formatters['text/html']\n",
    "\n",
    "def bool_array_to_image(a, fmt='png'):\n",
    "    a = 240 - (a.astype(np.uint8) * 240)\n",
    "    f = BytesIO()\n",
    "    PIL.Image.fromarray(a).save(f, fmt)\n",
    "    return IPython.display.Image(data=f.getvalue())\n",
    "\n",
    "def double_bitmap(a):\n",
    "    (h, w) = a.shape\n",
    "    return np.tile(a.reshape((-1, 1)), 2).reshape((h, w*2))\n",
    "\n",
    "def quad_bitmap(a):\n",
    "    return double_bitmap(double_bitmap(a).T).T\n",
    "\n",
    "def ndarray_to_html(a):\n",
    "    if len(a.shape) == 2 and a.max() <= 1 and a.min() >= 0:\n",
    "        while a.size < 1024:\n",
    "            a = quad_bitmap(a)\n",
    "        \n",
    "        for bundle in bool_array_to_image(a)._repr_mimebundle_():\n",
    "            for mimetype, b64value in bundle.items():\n",
    "                if mimetype.startswith('image/'):\n",
    "                    src = f'data:{mimetype};base64,{b64value}'\n",
    "                    return f'<img src=\"{src}\">'\n",
    "    else:\n",
    "        return \"<pre>{}</pre>\".format(html.escape(repr(a)))\n",
    "\n",
    "html_formatter.for_type(np.ndarray, ndarray_to_html)\n",
    "\n",
    "def item_to_html(item):\n",
    "    formatter = html_formatter.for_type(type(item))\n",
    "    if callable(formatter):\n",
    "        item = formatter(item)\n",
    "\n",
    "    if callable(getattr(item, '_repr_mimebundle_', None)):\n",
    "        for bundle in item._repr_mimebundle_():\n",
    "            for mimetype, b64value in bundle.items():\n",
    "                if mimetype.startswith('image/'):\n",
    "                    src = f'data:{mimetype};base64,{b64value}'\n",
    "                    return f'<img src={src}>'\n",
    "    \n",
    "    if not formatter:\n",
    "        item = '<tt>{}</tt>'.format(html.escape(repr(item)))\n",
    "    return f'<span style=\"margin-left:0.2em\">{item}</span>'\n",
    "\n",
    "def list_to_html(l):\n",
    "    items = [item_to_html(item) for item in l]\n",
    "    return '<tt style=\"display:flex;flex-wrap:wrap;align-items:center\">[{}]</tt>'.format(', '.join(items))\n",
    "\n",
    "html_formatter.for_type(list, list_to_html)\n",
    "\n",
    "def tuple_to_html(l):\n",
    "    items = (item_to_html(item) for item in l)\n",
    "    return '<tt style=\"display:flex;flex-wrap:wrap;align-items:center\">({})</tt>'.format(', '.join(items))\n",
    "\n",
    "html_formatter.for_type(tuple, tuple_to_html)\n",
    "\n",
    "[\"Text\", np.array([[1,2],[3,4]]), np.eye(10), [(i, np.random.randint(0,2,(10,10))) for i in range(1,4)]]"
   ]
  },
  {
   "cell_type": "markdown",
   "metadata": {},
   "source": [
    "## Part 1"
   ]
  },
  {
   "cell_type": "code",
   "execution_count": null,
   "metadata": {},
   "outputs": [],
   "source": [
    "tiles = {}\n",
    "current_tile_id = None\n",
    "current_tile = []\n",
    "\n",
    "def make_tile_array(tile_text):\n",
    "    tile_array = np.array([list(row) for row in tile_text]) == '#'\n",
    "    return tile_array.astype(int)\n",
    "\n",
    "with open(\"input.txt\") as f:\n",
    "    for line in f:\n",
    "        line = line.strip()\n",
    "        if line.startswith(\"Tile \"):\n",
    "            current_tile_id = int(line[4:-1])\n",
    "            current_tile = []\n",
    "        elif len(line) == 0:\n",
    "            tiles[current_tile_id] = make_tile_array(current_tile)\n",
    "        else:\n",
    "            current_tile.append(line)\n",
    "\n",
    "tile_ids = np.array(sorted(list(tiles.keys())))"
   ]
  },
  {
   "cell_type": "code",
   "execution_count": null,
   "metadata": {},
   "outputs": [],
   "source": [
    "[*tiles.values()]"
   ]
  },
  {
   "cell_type": "code",
   "execution_count": null,
   "metadata": {},
   "outputs": [],
   "source": [
    "tile = tiles[tile_ids[0]]\n",
    "print(tile)"
   ]
  },
  {
   "cell_type": "code",
   "execution_count": null,
   "metadata": {},
   "outputs": [],
   "source": [
    "def normalize_edge(edge):\n",
    "    a = np.packbits(edge).view(np.uint16)[0]\n",
    "    b = np.packbits(np.flip(edge)).view(np.uint16)[0]\n",
    "    return a\n",
    "[normalize_edge(x) for x in tile]"
   ]
  },
  {
   "cell_type": "code",
   "execution_count": null,
   "metadata": {},
   "outputs": [],
   "source": [
    "def apply_rot(tile, rot_type):\n",
    "    if rot_type <= 0:\n",
    "        return tile\n",
    "    elif rot_type < 4:\n",
    "        return apply_rot(np.rot90(tile), rot_type-1)\n",
    "    else:\n",
    "        return apply_rot(tile.T, rot_type-4)\n",
    "\n",
    "[apply_rot(tile, i) for i in range(8)]"
   ]
  },
  {
   "cell_type": "code",
   "execution_count": null,
   "metadata": {},
   "outputs": [],
   "source": [
    "def get_edge_sigs(tile):\n",
    "    edges = [apply_rot(tile, i)[0] for i in range(8)]\n",
    "    # edges = [ tile[ 0,: ], tile[: ,-1], np.flip(tile[ 0,: ]), np.flip(tile[: ,-1]), tile[-1,: ], tile[: , 0], np.flip(tile[: , 0]), np.flip(tile[-1,: ]) ]\n",
    "    return np.array([normalize_edge(e) for e in edges])\n",
    "\n",
    "np.array([get_edge_sigs(apply_rot(tile, i)) for i in range(8)])"
   ]
  },
  {
   "cell_type": "code",
   "execution_count": null,
   "metadata": {},
   "outputs": [],
   "source": [
    "tile_edges = np.array([get_edge_sigs(tiles[tile_id]) for tile_id in tile_ids])\n",
    "tile_edges[0:5]"
   ]
  },
  {
   "cell_type": "code",
   "execution_count": null,
   "metadata": {},
   "outputs": [],
   "source": [
    "def find_num_matching_borders():\n",
    "    unique, index, inverse, counts = np.unique(tile_edges, return_index=True, return_inverse=True, return_counts=True)\n",
    "    matches = counts[inverse].reshape((-1,8))\n",
    "    return matches\n",
    "num_border_matches = find_num_matching_borders()\n",
    "num_border_matches[:5]"
   ]
  },
  {
   "cell_type": "code",
   "execution_count": null,
   "metadata": {},
   "outputs": [],
   "source": [
    "corners = np.sum(num_border_matches, axis=1) == 12\n",
    "corner_ids = tile_ids[corners]\n",
    "corner_ids"
   ]
  },
  {
   "cell_type": "markdown",
   "metadata": {},
   "source": [
    "### Part 1 Solution"
   ]
  },
  {
   "cell_type": "code",
   "execution_count": null,
   "metadata": {},
   "outputs": [],
   "source": [
    "np.product(corner_ids)"
   ]
  },
  {
   "cell_type": "markdown",
   "metadata": {},
   "source": [
    "## Part 2"
   ]
  },
  {
   "cell_type": "code",
   "execution_count": null,
   "metadata": {},
   "outputs": [],
   "source": [
    "monster = make_tile_array(\n",
    "    ['                  # ',\n",
    "     '#    ##    ##    ###',\n",
    "     ' #  #  #  #  #  #   '])\n",
    "monster"
   ]
  },
  {
   "cell_type": "code",
   "execution_count": null,
   "metadata": {},
   "outputs": [],
   "source": [
    "def remove_borders(tile):\n",
    "    return tile[1:-1, 1:-1]\n",
    "[tile, remove_borders(tile)]"
   ]
  },
  {
   "cell_type": "code",
   "execution_count": null,
   "metadata": {},
   "outputs": [],
   "source": [
    "len(tile_ids)"
   ]
  },
  {
   "cell_type": "code",
   "execution_count": null,
   "metadata": {},
   "outputs": [],
   "source": [
    "picture = np.vstack([np.hstack([remove_borders(tiles[id]) for id in tile_ids[12*i:12*i+12]]) for i in range(12) ])\n",
    "quad_bitmap(picture)"
   ]
  },
  {
   "cell_type": "code",
   "execution_count": null,
   "metadata": {},
   "outputs": [],
   "source": [
    "get_edge_sigs(apply_rot(tiles[1109], 0))"
   ]
  },
  {
   "cell_type": "code",
   "execution_count": null,
   "metadata": {},
   "outputs": [],
   "source": [
    "np.array([get_edge_sigs(apply_rot(tiles[1181], i)) for i in range(8)])"
   ]
  },
  {
   "cell_type": "code",
   "execution_count": null,
   "metadata": {},
   "outputs": [],
   "source": [
    "rot_lookup_d = [0,1,2,3,4,5,6,7]\n",
    "def find_next_tile_d(prev_tile_id, prev_rot_type):\n",
    "    prev_tile = apply_rot(tiles[prev_tile_id], prev_rot_type)\n",
    "    bot_border = prev_tile[-1:]\n",
    "    bot_border_sig = normalize_edge(bot_border)\n",
    "    border_matches, rot_type = np.where(tile_edges == bot_border_sig)\n",
    "    match_tile_ids = tile_ids[border_matches]\n",
    "    which = np.where(match_tile_ids != prev_tile_id)\n",
    "    next_tile_id = match_tile_ids[which][0]\n",
    "    rot = rot_lookup_d[rot_type[which][0]]\n",
    "    return next_tile_id, rot\n",
    "find_next_tile_d(1109, 0)"
   ]
  },
  {
   "cell_type": "code",
   "execution_count": null,
   "metadata": {},
   "outputs": [],
   "source": [
    "def build_col(first_tile_id, first_tile_rot):\n",
    "    col = [(first_tile_id, first_tile_rot)]\n",
    "    for _ in range(11):\n",
    "        prev_tile_id, prev_rot = col[-1]\n",
    "        next_tile_id, next_rot = find_next_tile_d(prev_tile_id, prev_rot)\n",
    "        col.append((next_tile_id, next_rot))\n",
    "#         prev_tile = apply_rot(tiles[prev_tile_id], prev_rot)\n",
    "#         for i in range(8):\n",
    "#             next_tile = apply_rot(tiles[next_tile_id], i)\n",
    "#             if np.array_equal(prev_tile[-1,], next_tile[0,]):\n",
    "#                 print(next_rot, i)\n",
    "#                 col.append((next_tile_id, i))\n",
    "    return col\n",
    "jigsaw_left = build_col(1109,0)\n",
    "jigsaw_left"
   ]
  },
  {
   "cell_type": "code",
   "execution_count": null,
   "metadata": {},
   "outputs": [],
   "source": [
    "rot_lookup = [4,7,6,5,0,3,2,1]\n",
    "def find_next_tile(prev_tile_id, prev_rot_type):\n",
    "    prev_tile = apply_rot(tiles[prev_tile_id], prev_rot_type)\n",
    "    right_border = prev_tile[:,-1]\n",
    "    right_border_sig = normalize_edge(right_border)\n",
    "    border_matches, rot_type = np.where(tile_edges == right_border_sig)\n",
    "    match_tile_ids = tile_ids[border_matches]\n",
    "    which = np.where(match_tile_ids != prev_tile_id)\n",
    "    next_tile_id = match_tile_ids[which][0]\n",
    "    rot = rot_lookup[rot_type[which][0]]\n",
    "    return next_tile_id, rot\n",
    "find_next_tile(1109, 0)"
   ]
  },
  {
   "cell_type": "code",
   "execution_count": null,
   "metadata": {},
   "outputs": [],
   "source": [
    "def build_row(first_tile_id, first_tile_rot):\n",
    "    row = [(first_tile_id, first_tile_rot)]\n",
    "    for _ in range(11):\n",
    "        prev_tile_id, prev_rot = row[-1]\n",
    "        next_tile_id, next_rot = find_next_tile(prev_tile_id, prev_rot)\n",
    "        row.append((next_tile_id, next_rot))\n",
    "#         prev_tile = apply_rot(tiles[prev_tile_id], prev_rot)\n",
    "#         for i in range(8):\n",
    "#             next_tile = apply_rot(tiles[next_tile_id], i)\n",
    "#             if np.array_equal(prev_tile[:,-1], next_tile[:, 0]):\n",
    "#                 print(next_rot, i)\n",
    "#                 row.append((next_tile_id, i))\n",
    "    return row\n",
    "jigsaw = [build_row(i,r) for (i,r) in jigsaw_left]\n",
    "jigsaw[0]"
   ]
  },
  {
   "cell_type": "code",
   "execution_count": null,
   "metadata": {},
   "outputs": [],
   "source": [
    "corner_ids"
   ]
  },
  {
   "cell_type": "code",
   "execution_count": null,
   "metadata": {},
   "outputs": [],
   "source": [
    "def get_inner_tile(tile_id, rot):\n",
    "    tile = apply_rot(tiles[tile_id], rot)\n",
    "    return remove_borders(tile)\n",
    "get_inner_tile(1109, 0)"
   ]
  },
  {
   "cell_type": "code",
   "execution_count": null,
   "metadata": {},
   "outputs": [],
   "source": [
    "picture = np.vstack([\n",
    "    np.hstack([get_inner_tile(i,r) for (i,r) in jigsaw[r]])\n",
    "    for r in range(len(jigsaw))\n",
    "])\n",
    "print(picture.shape)\n",
    "quad_bitmap(quad_bitmap(apply_rot(picture,2)))"
   ]
  },
  {
   "cell_type": "code",
   "execution_count": null,
   "metadata": {},
   "outputs": [],
   "source": [
    "with open(\"seas.png\", \"wb\") as f:\n",
    "    a = 255 - (apply_rot(picture,2).astype(np.uint8) * 255)\n",
    "    PIL.Image.fromarray(a).save(f, \"png\")"
   ]
  },
  {
   "cell_type": "code",
   "execution_count": null,
   "metadata": {},
   "outputs": [],
   "source": [
    "print(monster.shape)\n",
    "print(np.count_nonzero(monster))\n",
    "monster"
   ]
  },
  {
   "cell_type": "code",
   "execution_count": null,
   "metadata": {},
   "outputs": [],
   "source": [
    "def find_monster(sea):\n",
    "    for r in range(8):\n",
    "        num_found = 0\n",
    "        p = apply_rot(sea, r)\n",
    "        for i in range(p.shape[0] - monster.shape[0]):\n",
    "            for j in range(p.shape[1] - monster.shape[1]):\n",
    "                crop = p[i:i+monster.shape[0], j:j+monster.shape[1]]\n",
    "                if np.array_equal(crop & monster, monster):\n",
    "                    num_found += 1\n",
    "#                     print(\"found\", r, i, j)\n",
    "        if num_found > 0:\n",
    "            return num_found\n",
    "find_monster(picture)"
   ]
  },
  {
   "cell_type": "markdown",
   "metadata": {},
   "source": [
    "## Part 2 Solution"
   ]
  },
  {
   "cell_type": "code",
   "execution_count": null,
   "metadata": {},
   "outputs": [],
   "source": [
    "waters = np.count_nonzero(picture) - find_monster(picture) * np.count_nonzero(monster)\n",
    "waters"
   ]
  },
  {
   "cell_type": "code",
   "execution_count": null,
   "metadata": {},
   "outputs": [],
   "source": [
    "current_tile = []\n",
    "with open(\"marked\") as f:\n",
    "    for line in f:\n",
    "        current_tile.append(line.strip())\n",
    "\n",
    "marked = make_tile_array(current_tile)\n",
    "marked"
   ]
  },
  {
   "cell_type": "code",
   "execution_count": null,
   "metadata": {},
   "outputs": [],
   "source": [
    "marked = marked | (np.array([list(row) for row in current_tile]) == 'O').astype(int)\n",
    "marked"
   ]
  },
  {
   "cell_type": "code",
   "execution_count": null,
   "metadata": {},
   "outputs": [],
   "source": [
    "find_monster(marked)"
   ]
  }
 ],
 "metadata": {
  "kernelspec": {
   "display_name": "Python 3",
   "language": "python",
   "name": "python3"
  },
  "language_info": {
   "codemirror_mode": {
    "name": "ipython",
    "version": 3
   },
   "file_extension": ".py",
   "mimetype": "text/x-python",
   "name": "python",
   "nbconvert_exporter": "python",
   "pygments_lexer": "ipython3",
   "version": "3.8.5"
  }
 },
 "nbformat": 4,
 "nbformat_minor": 4
}
