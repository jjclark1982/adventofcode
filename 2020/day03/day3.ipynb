{
 "cells": [
  {
   "cell_type": "code",
   "execution_count": 5,
   "metadata": {},
   "outputs": [],
   "source": [
    "import numpy as np \n",
    "import PIL.Image\n",
    "from io import BytesIO\n",
    "import IPython.display\n",
    "import numpy as np"
   ]
  },
  {
   "cell_type": "code",
   "execution_count": 1,
   "metadata": {},
   "outputs": [
    {
     "name": "stdout",
     "output_type": "stream",
     "text": [
      "Collisions at (1, 1) slope: 68\n",
      "Collisions at (3, 1) slope: 203\n",
      "Collisions at (5, 1) slope: 78\n",
      "Collisions at (7, 1) slope: 77\n",
      "Collisions at (1, 2) slope: 40\n",
      "Product: 3316272960\n"
     ]
    }
   ],
   "source": [
    "import numpy as np \n",
    "\n",
    "def parse_line(line):\n",
    "    return np.array(list(line)) == ord('#')\n",
    "\n",
    "terrain = np.loadtxt(\"input.txt\",\n",
    "    dtype=bool, comments=None, delimiter='\\n', converters={0: parse_line}\n",
    ")\n",
    "\n",
    "# print(terrain.astype(int))\n",
    "\n",
    "def make_path(slope):\n",
    "    right, down = slope\n",
    "    path = np.zeros_like(terrain, dtype=bool)\n",
    "    col = 0\n",
    "    for row in range(len(terrain)):\n",
    "        if row % down != 0:\n",
    "            continue\n",
    "        path[row, col] = True\n",
    "        col = (col + right) % terrain.shape[1]\n",
    "    return path\n",
    "\n",
    "def count_collisions(path):\n",
    "    return np.count_nonzero(path & terrain) \n",
    "\n",
    "slopes = [(1, 1), (3, 1), (5, 1), (7, 1), (1, 2)]\n",
    "\n",
    "paths = map(make_path, slopes)\n",
    "\n",
    "path_collisions = [*map(count_collisions, paths)]\n",
    "\n",
    "for i in range(len(slopes)):\n",
    "    # print(path.astype(int))\n",
    "    print(\"Collisions at {} slope: {}\".format(slopes[i], path_collisions[i]))\n",
    "\n",
    "print(\"Product: {}\".format(np.product(path_collisions)))\n"
   ]
  },
  {
   "cell_type": "code",
   "execution_count": 6,
   "metadata": {},
   "outputs": [
    {
     "data": {
      "text/html": [
       "<tt style=\"display:flex;flex-wrap:wrap;align-items:center\">[<span style=\"margin-left:0.2em\"><tt>&#x27;Text&#x27;</tt></span>, <span style=\"margin-left:0.2em\"><pre>array([[1, 2],\n",
       "       [3, 4]])</pre></span>, <span style=\"margin-left:0.2em\"><img src=\"data:image/png;base64,iVBORw0KGgoAAAANSUhEUgAAACgAAAAoCAAAAACpleexAAAATklEQVR4nM3OsQ2AMBAEwTEV0H+VLoGAACFsngT5Nt5gGnR124fnp7F17GrnaiO1M8HIuzPFyNyZZGTsTDPydCYauTtTjVzOZCOnc6HxAGp3Ebe0tJsVAAAAAElFTkSuQmCC\n",
       "\"></span>, <span style=\"margin-left:0.2em\"><tt style=\"display:flex;flex-wrap:wrap;align-items:center\">[<span style=\"margin-left:0.2em\"><tt style=\"display:flex;flex-wrap:wrap;align-items:center\">(<span style=\"margin-left:0.2em\"><tt>1</tt></span>, <span style=\"margin-left:0.2em\"><img src=\"data:image/png;base64,iVBORw0KGgoAAAANSUhEUgAAACgAAAAoCAAAAACpleexAAAAcklEQVR4nM2Uyw3AMAhDX6oOwP5TeoReimI1PbTqJ/gSMEhYWKGJjrBYxglYuIj3G5vo2rS/YQ1Zn6hx9SR+HX1vj47gfJ8zNWYgRs8xbrbXou8vrOhcFa/D4iNfweuEOP/nlTTCeBvjk9HPNCZEiRu+ARf1FU1L5o0CAAAAAElFTkSuQmCC\n",
       "\"></span>)</tt></span>, <span style=\"margin-left:0.2em\"><tt style=\"display:flex;flex-wrap:wrap;align-items:center\">(<span style=\"margin-left:0.2em\"><tt>2</tt></span>, <span style=\"margin-left:0.2em\"><img src=\"data:image/png;base64,iVBORw0KGgoAAAANSUhEUgAAACgAAAAoCAAAAACpleexAAAAd0lEQVR4nM2RUQqAMAxD38QD9P6nzBH80GLdFDZwrPlpWgINSRFggDjh3K7d+UYn/hcWhcUCV7Uv9LhD681vka/MEe7MfL7dsnQN35lm6VphWhBpyuuxrt2Hw2h7z9S1wwLXlNfjObqXGkYOj+LZryqRTXndLTwAci8bHdVnUDEAAAAASUVORK5CYII=\n",
       "\"></span>)</tt></span>, <span style=\"margin-left:0.2em\"><tt style=\"display:flex;flex-wrap:wrap;align-items:center\">(<span style=\"margin-left:0.2em\"><tt>3</tt></span>, <span style=\"margin-left:0.2em\"><img src=\"data:image/png;base64,iVBORw0KGgoAAAANSUhEUgAAACgAAAAoCAAAAACpleexAAAAdklEQVR4nM2U0QkAIQxDn4cDZP8pO8L9WFDxQMVy5qe1BhJKNBkgwCulpzoDPEziPDFB68kGJIVIr3sU413GSa95dFip6mYKkZ4m5n4grstjttKoGqojWYj0Xh5H8Lsb9uhevMZL7+cR2jetMOm9/xG+d/mjxxdmthVDP37hKQAAAABJRU5ErkJggg==\n",
       "\"></span>)</tt></span>]</tt></span>]</tt>"
      ],
      "text/plain": [
       "['Text',\n",
       " array([[1, 2],\n",
       "        [3, 4]]),\n",
       " array([[1., 0., 0., 0., 0., 0., 0., 0., 0., 0.],\n",
       "        [0., 1., 0., 0., 0., 0., 0., 0., 0., 0.],\n",
       "        [0., 0., 1., 0., 0., 0., 0., 0., 0., 0.],\n",
       "        [0., 0., 0., 1., 0., 0., 0., 0., 0., 0.],\n",
       "        [0., 0., 0., 0., 1., 0., 0., 0., 0., 0.],\n",
       "        [0., 0., 0., 0., 0., 1., 0., 0., 0., 0.],\n",
       "        [0., 0., 0., 0., 0., 0., 1., 0., 0., 0.],\n",
       "        [0., 0., 0., 0., 0., 0., 0., 1., 0., 0.],\n",
       "        [0., 0., 0., 0., 0., 0., 0., 0., 1., 0.],\n",
       "        [0., 0., 0., 0., 0., 0., 0., 0., 0., 1.]]),\n",
       " [(1,\n",
       "   array([[0, 0, 0, 1, 1, 1, 0, 0, 1, 0],\n",
       "          [0, 1, 1, 0, 0, 1, 1, 1, 0, 1],\n",
       "          [0, 1, 1, 1, 1, 1, 1, 1, 0, 1],\n",
       "          [0, 0, 0, 0, 1, 0, 0, 1, 1, 1],\n",
       "          [1, 1, 0, 1, 1, 0, 0, 0, 1, 1],\n",
       "          [1, 0, 1, 0, 1, 0, 0, 1, 0, 1],\n",
       "          [0, 0, 0, 1, 1, 1, 0, 0, 0, 1],\n",
       "          [1, 1, 1, 1, 0, 1, 1, 0, 0, 1],\n",
       "          [1, 1, 1, 1, 1, 0, 0, 1, 0, 1],\n",
       "          [1, 1, 1, 1, 1, 1, 1, 0, 1, 0]])),\n",
       "  (2,\n",
       "   array([[0, 1, 0, 0, 1, 0, 1, 1, 0, 1],\n",
       "          [0, 0, 0, 1, 1, 1, 0, 1, 1, 1],\n",
       "          [0, 1, 1, 1, 0, 0, 1, 0, 0, 1],\n",
       "          [1, 0, 1, 0, 1, 1, 0, 1, 0, 1],\n",
       "          [0, 0, 0, 0, 1, 1, 1, 0, 0, 1],\n",
       "          [0, 1, 1, 0, 1, 0, 1, 0, 0, 0],\n",
       "          [1, 1, 0, 0, 0, 1, 0, 1, 1, 0],\n",
       "          [0, 0, 0, 0, 0, 0, 1, 1, 1, 0],\n",
       "          [1, 1, 1, 0, 0, 0, 0, 0, 1, 0],\n",
       "          [1, 0, 1, 0, 1, 0, 0, 0, 0, 1]])),\n",
       "  (3,\n",
       "   array([[0, 1, 0, 1, 1, 0, 0, 1, 1, 1],\n",
       "          [1, 0, 0, 1, 0, 0, 0, 0, 0, 1],\n",
       "          [1, 0, 1, 0, 1, 1, 0, 0, 0, 0],\n",
       "          [1, 1, 1, 0, 0, 1, 1, 1, 0, 1],\n",
       "          [1, 1, 1, 0, 1, 0, 0, 1, 0, 1],\n",
       "          [0, 0, 1, 0, 1, 1, 1, 1, 0, 0],\n",
       "          [1, 0, 1, 1, 1, 1, 1, 1, 0, 1],\n",
       "          [0, 0, 0, 1, 0, 1, 1, 1, 0, 1],\n",
       "          [0, 0, 0, 1, 0, 0, 0, 0, 1, 1],\n",
       "          [1, 0, 0, 0, 1, 0, 1, 1, 1, 1]]))]]"
      ]
     },
     "execution_count": 6,
     "metadata": {},
     "output_type": "execute_result"
    }
   ],
   "source": [
    "import html\n",
    "html_formatter = get_ipython().display_formatter.formatters['text/html']\n",
    "\n",
    "def bool_array_to_image(a, fmt='png'):\n",
    "    a = 240 - (a.astype(np.uint8) * 240)\n",
    "    f = BytesIO()\n",
    "    PIL.Image.fromarray(a).save(f, fmt)\n",
    "    return IPython.display.Image(data=f.getvalue())\n",
    "\n",
    "def double_bitmap(a):\n",
    "    (h, w) = a.shape\n",
    "    return np.tile(a.reshape((-1, 1)), 2).reshape((h, w*2))\n",
    "\n",
    "def quad_bitmap(a):\n",
    "    return double_bitmap(double_bitmap(a).T).T\n",
    "\n",
    "def ndarray_to_html(a):\n",
    "    if len(a.shape) == 2 and a.max() <= 1 and a.min() >= 0:\n",
    "        while a.size < 1024:\n",
    "            a = quad_bitmap(a)\n",
    "        \n",
    "        for bundle in bool_array_to_image(a)._repr_mimebundle_():\n",
    "            for mimetype, b64value in bundle.items():\n",
    "                if mimetype.startswith('image/'):\n",
    "                    src = f'data:{mimetype};base64,{b64value}'\n",
    "                    return f'<img src=\"{src}\">'\n",
    "    else:\n",
    "        return \"<pre>{}</pre>\".format(html.escape(repr(a)))\n",
    "\n",
    "html_formatter.for_type(np.ndarray, ndarray_to_html)\n",
    "\n",
    "def item_to_html(item):\n",
    "    formatter = html_formatter.for_type(type(item))\n",
    "    if callable(formatter):\n",
    "        item = formatter(item)\n",
    "\n",
    "    if callable(getattr(item, '_repr_mimebundle_', None)):\n",
    "        for bundle in item._repr_mimebundle_():\n",
    "            for mimetype, b64value in bundle.items():\n",
    "                if mimetype.startswith('image/'):\n",
    "                    src = f'data:{mimetype};base64,{b64value}'\n",
    "                    return f'<img src={src}>'\n",
    "    \n",
    "    if not formatter:\n",
    "        item = '<tt>{}</tt>'.format(html.escape(repr(item)))\n",
    "    return f'<span style=\"margin-left:0.2em\">{item}</span>'\n",
    "\n",
    "def list_to_html(l):\n",
    "    items = [item_to_html(item) for item in l]\n",
    "    return '<tt style=\"display:flex;flex-wrap:wrap;align-items:center\">[{}]</tt>'.format(', '.join(items))\n",
    "\n",
    "html_formatter.for_type(list, list_to_html)\n",
    "\n",
    "def tuple_to_html(l):\n",
    "    items = (item_to_html(item) for item in l)\n",
    "    return '<tt style=\"display:flex;flex-wrap:wrap;align-items:center\">({})</tt>'.format(', '.join(items))\n",
    "\n",
    "html_formatter.for_type(tuple, tuple_to_html)\n",
    "\n",
    "[\"Text\", np.array([[1,2],[3,4]]), np.eye(10), [(i, np.random.randint(0,2,(10,10))) for i in range(1,4)]]"
   ]
  },
  {
   "cell_type": "code",
   "execution_count": 7,
   "metadata": {},
   "outputs": [
    {
     "data": {
      "text/html": [
       "<img src=\"data:image/png;base64,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\n",
       "\">"
      ],
      "text/plain": [
       "array([[False, False, False, ...,  True,  True, False],\n",
       "       [False, False, False, ..., False, False, False],\n",
       "       [False, False, False, ..., False, False, False],\n",
       "       ...,\n",
       "       [False, False, False, ..., False,  True, False],\n",
       "       [ True,  True,  True, ..., False,  True, False],\n",
       "       [False,  True, False, ..., False, False, False]])"
      ]
     },
     "execution_count": 7,
     "metadata": {},
     "output_type": "execute_result"
    }
   ],
   "source": [
    "terrain"
   ]
  },
  {
   "cell_type": "code",
   "execution_count": 9,
   "metadata": {},
   "outputs": [
    {
     "data": {
      "text/html": [
       "<img src=\"data:image/png;base64,iVBORw0KGgoAAAANSUhEUgAAAB8AAAFDCAAAAADn/ordAAABE0lEQVR4nO2T0Q3DQAhDXSbo/lMyQj+SpnDYDFCZnyTyU86H9F5IbBMJvLccwIbE9ZBIPG8cifpBkDi+T+TMT4TkDeH5D5H5jcS+vox9fff/NfKcL5DajyFH/4HM+3WE3r8gaj9fZNlfAm/Evj7Evr7r/wvyPV8hpR9Fev+JjPsdCLt/RcR+HkTv70Je9ptM2m+eD8R+9z72m+YSsd+9D881Yr9hv5ex32LSfvMc9lvmE7HfZQhiv3sfmQvEfvc+KleI/e59RC4R+9378Fwj9hv2exn7LSbtN89hv2U+EftdhiD2u/eRuUDsd++jcoXY795H5BKx370PzzViv2G/l7HfYtJ+8xz2W+YTsd9lCPLvfn8AE8FE20fOtUAAAAAASUVORK5CYII=\n",
       "\">"
      ],
      "text/plain": [
       "array([[ True, False, False, ..., False, False, False],\n",
       "       [False, False, False, ..., False, False, False],\n",
       "       [False, False, False, ..., False, False, False],\n",
       "       ...,\n",
       "       [False, False, False, ..., False, False,  True],\n",
       "       [False, False,  True, ..., False, False, False],\n",
       "       [False, False, False, ..., False, False, False]])"
      ]
     },
     "execution_count": 9,
     "metadata": {},
     "output_type": "execute_result"
    }
   ],
   "source": [
    "make_path((3,1))"
   ]
  },
  {
   "cell_type": "code",
   "execution_count": null,
   "metadata": {},
   "outputs": [],
   "source": []
  }
 ],
 "metadata": {
  "kernelspec": {
   "display_name": "Python 3",
   "language": "python",
   "name": "python3"
  },
  "language_info": {
   "codemirror_mode": {
    "name": "ipython",
    "version": 3
   },
   "file_extension": ".py",
   "mimetype": "text/x-python",
   "name": "python",
   "nbconvert_exporter": "python",
   "pygments_lexer": "ipython3",
   "version": "3.8.5"
  }
 },
 "nbformat": 4,
 "nbformat_minor": 4
}
