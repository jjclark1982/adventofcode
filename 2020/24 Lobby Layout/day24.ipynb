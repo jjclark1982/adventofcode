{
 "cells": [
  {
   "cell_type": "code",
   "execution_count": 38,
   "metadata": {},
   "outputs": [],
   "source": [
    "import math\n",
    "import drawSvg as draw\n",
    "import IPython.display"
   ]
  },
  {
   "cell_type": "code",
   "execution_count": 33,
   "metadata": {},
   "outputs": [
    {
     "data": {
      "image/svg+xml": [
       "<svg viewBox=\"0 40 100 100\">\n",
       "  <filter id=\"add-blur-filter\">\n",
       "    <feGaussianBlur stdDeviation=\"2\"/>\n",
       "    <feMerge>\n",
       "      <feMergeNode/>\n",
       "      <feMergeNode in=\"SourceGraphic\"/>\n",
       "    </feMerge>\n",
       "  </filter>\n",
       "  <clipPath id=\"triangle-clip\">\n",
       "    <path d=\"M0,0 L200,0 L200,200 L0,200 M45,70 L100,158 L155,70 Z\"/>\n",
       "  </clipPath>\n",
       "  <mask id=\"triangle-mask\">\n",
       "    <rect id=\"bg\" x=\"0\" y=\"0\" width=\"100%\" height=\"100%\" fill=\"white\"/>\n",
       "    <path d=\"M50,70 L150,70 L100,160 Z\" fill=\"black\"/>\n",
       "  </mask>\n",
       "  \n",
       "  <g class=\"alchemy-circle\">\n",
       "    <circle cx=\"100\" cy=\"100\" r=\"50\" clip-path=\"url(#triangle-clip)\" fill=\"blue\"/>\n",
       "    <path d=\"M45,70 L155,70 L100,158 Z M130,100 a30,30 0 1,0 -60,0 a30,30 0 1,0 60,0\" fill=\"green\"/>\n",
       "  </g>\n",
       "</svg>"
      ],
      "text/plain": [
       "<IPython.core.display.SVG object>"
      ]
     },
     "execution_count": 33,
     "metadata": {},
     "output_type": "execute_result"
    }
   ],
   "source": [
    "svgText = '''\n",
    "<svg viewBox = \"0 40 100 100\">\n",
    "  <filter id=\"add-blur-filter\">\n",
    "    <feGaussianBlur stdDeviation=\"2\" />\n",
    "    <feMerge>\n",
    "      <feMergeNode />\n",
    "      <feMergeNode in=\"SourceGraphic\"/>\n",
    "    </feMerge>\n",
    "  </filter>\n",
    "  <clipPath id=\"triangle-clip\">\n",
    "    <path d=\"M0,0 L200,0 L200,200 L0,200 M45,70 L100,158 L155,70 Z\" />\n",
    "  </clipPath>\n",
    "  <mask id=\"triangle-mask\">\n",
    "    <rect id=\"bg\" x=\"0\" y=\"0\" width=\"100%\" height=\"100%\" fill=\"white\" />\n",
    "    <path d=\"M50,70 L150,70 L100,160 Z\" fill=\"black\" />\n",
    "  </mask>\n",
    "  \n",
    "  <g class=\"alchemy-circle\">\n",
    "    <circle cx=\"100\" cy=\"100\" r=\"50\" clip-path=\"url(#triangle-clip)\" fill=\"blue\" />\n",
    "    <path d=\"M45,70 L155,70 L100,158 Z M130,100 a30,30 0 1,0 -60,0 a30,30 0 1,0 60,0\" fill=\"green\"/>\n",
    "  </g>\n",
    "</svg>\n",
    "'''\n",
    "IPython.display.SVG(svgText)"
   ]
  },
  {
   "cell_type": "code",
   "execution_count": 34,
   "metadata": {},
   "outputs": [
    {
     "data": {
      "text/html": [
       "<img src=\"data:image/svg+xml;base64,PD94bWwgdmVyc2lvbj0iMS4wIiBlbmNvZGluZz0iVVRGLTgiPz4KPHN2ZyB4bWxucz0iaHR0cDovL3d3dy53My5vcmcvMjAwMC9zdmciIHhtbG5zOnhsaW5rPSJodHRwOi8vd3d3LnczLm9yZy8xOTk5L3hsaW5rIgogICAgIHdpZHRoPSIyMDAiIGhlaWdodD0iMTAwIiB2aWV3Qm94PSItMTAwLjAgLTUwLjAgMjAwIDEwMCI+CjxkZWZzPgo8L2RlZnM+CjxwYXRoIGQ9IiIgLz4KPGNpcmNsZSBjeD0iMCIgY3k9IjAiIHI9IjQ5IiBmaWxsPSJub25lIiBzdHJva2U9ImJsYWNrIiAvPgo8L3N2Zz4=\">"
      ],
      "text/plain": [
       "<drawSvg.drawing.Drawing at 0x7fc5b08521f0>"
      ]
     },
     "execution_count": 34,
     "metadata": {},
     "output_type": "execute_result"
    }
   ],
   "source": [
    "import drawSvg as draw\n",
    "\n",
    "d = draw.Drawing(200, 100, origin='center', displayInline=False)\n",
    "\n",
    "hex = draw.Path()\n",
    "d.append(hex)\n",
    "\n",
    "d.append(draw.Circle(cx=0, cy=0, r=49, fill=\"none\", stroke=\"black\"))\n",
    "d"
   ]
  },
  {
   "cell_type": "code",
   "execution_count": 59,
   "metadata": {},
   "outputs": [
    {
     "data": {
      "text/plain": [
       "[(49, 0), (24, 42), (-24, 42), (-49, 0), (-24, -42), (24, -42)]"
      ]
     },
     "execution_count": 59,
     "metadata": {},
     "output_type": "execute_result"
    }
   ],
   "source": [
    "def regular_point(i, N, radius):\n",
    "    x = int(radius * math.cos(math.tau * i / N))\n",
    "    y = int(radius * math.sin(math.tau * i / N))\n",
    "    return (x, y)\n",
    "def regular_poly(N, radius):\n",
    "    return [regular_point(i, N, radius) for i in range(N)]\n",
    "regular_poly(6, 49)"
   ]
  },
  {
   "cell_type": "code",
   "execution_count": 114,
   "metadata": {},
   "outputs": [
    {
     "data": {
      "text/plain": [
       "{'d': 'M49,0 L24,-42 L-24,-42 L-49,0 L-24,42 L24,42 Z'}"
      ]
     },
     "execution_count": 114,
     "metadata": {},
     "output_type": "execute_result"
    }
   ],
   "source": [
    "def points_to_path(points, **kwargs):\n",
    "    path = draw.Path(**kwargs)\n",
    "    for i, point in enumerate(points):\n",
    "        if i == 0:\n",
    "            path.M(*point)\n",
    "        else:\n",
    "            path.L(*point)\n",
    "    path.Z()\n",
    "    return path\n",
    "p = points_to_path(regular_poly(6, 49))\n",
    "p.args"
   ]
  },
  {
   "cell_type": "code",
   "execution_count": 112,
   "metadata": {},
   "outputs": [
    {
     "data": {
      "image/svg+xml": [
       "<?xml version=\"1.0\" encoding=\"UTF-8\"?>\n",
       "<svg xmlns=\"http://www.w3.org/2000/svg\" xmlns:xlink=\"http://www.w3.org/1999/xlink\"\n",
       "     width=\"400\" height=\"100\" viewBox=\"-200.0 -50.0 400 100\" fill=\"none\" stroke=\"gray\">\n",
       "<defs>\n",
       "</defs>\n",
       "<path d=\"M49,0 L24,-42 L-24,-42 L-49,0 L-24,42 L24,42 Z\" />\n",
       "</svg>"
      ],
      "text/plain": [
       "<drawSvg.drawing.Drawing at 0x7fc5b0852490>"
      ]
     },
     "execution_count": 112,
     "metadata": {},
     "output_type": "execute_result"
    }
   ],
   "source": [
    "d = draw.Drawing(400, 100, origin='center', fill='none', stroke='gray')\n",
    "d.append(p)\n",
    "d"
   ]
  },
  {
   "cell_type": "code",
   "execution_count": 113,
   "metadata": {},
   "outputs": [
    {
     "data": {
      "image/svg+xml": [
       "<?xml version=\"1.0\" encoding=\"UTF-8\"?>\n",
       "<svg xmlns=\"http://www.w3.org/2000/svg\" xmlns:xlink=\"http://www.w3.org/1999/xlink\"\n",
       "     width=\"400\" height=\"100\" viewBox=\"-200.0 -50.0 400 100\" fill=\"none\" stroke=\"gray\">\n",
       "<defs>\n",
       "</defs>\n",
       "<path d=\"M49,0 L24,-42 L-24,-42 L-49,0 L-24,42 L24,42 Z\" id=\"d0\" />\n",
       "<g transform=\"translate(150,0)\">\n",
       "<use xlink:href=\"#d0\" />\n",
       "</g>\n",
       "</svg>"
      ],
      "text/plain": [
       "<drawSvg.drawing.Drawing at 0x7fc5b0852490>"
      ]
     },
     "execution_count": 113,
     "metadata": {},
     "output_type": "execute_result"
    }
   ],
   "source": [
    "p2 = draw.Group(transform=\"translate(150,0)\")\n",
    "p2.append(p)\n",
    "d.append(p2)\n",
    "d"
   ]
  },
  {
   "cell_type": "markdown",
   "metadata": {},
   "source": [
    "https://codepen.io/myhf/pen/MVMQPZ"
   ]
  },
  {
   "cell_type": "code",
   "execution_count": null,
   "metadata": {},
   "outputs": [],
   "source": [
    "from bokeh.util.hex import hexbin"
   ]
  }
 ],
 "metadata": {
  "kernelspec": {
   "display_name": "Python 3",
   "language": "python",
   "name": "python3"
  },
  "language_info": {
   "codemirror_mode": {
    "name": "ipython",
    "version": 3
   },
   "file_extension": ".py",
   "mimetype": "text/x-python",
   "name": "python",
   "nbconvert_exporter": "python",
   "pygments_lexer": "ipython3",
   "version": "3.8.5"
  }
 },
 "nbformat": 4,
 "nbformat_minor": 4
}
