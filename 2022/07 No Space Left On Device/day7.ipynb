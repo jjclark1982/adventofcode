{
 "cells": [
  {
   "cell_type": "markdown",
   "metadata": {},
   "source": [
    "# Advent of Code 2022\n",
    "## [Day 7: No Space Left On Device](https://adventofcode.com/2022/day/7)"
   ]
  },
  {
   "cell_type": "code",
   "execution_count": 1,
   "metadata": {},
   "outputs": [
    {
     "data": {
      "text/plain": [
       "['$ cd /',\n",
       " '$ ls',\n",
       " 'dir dpbwg',\n",
       " 'dir dvwfscw',\n",
       " 'dir hccpl',\n",
       " 'dir jsgbg',\n",
       " 'dir lhjmzsl',\n",
       " '63532 mwvbpw.mmg',\n",
       " '239480 npj',\n",
       " 'dir pngs']"
      ]
     },
     "execution_count": 1,
     "metadata": {},
     "output_type": "execute_result"
    }
   ],
   "source": [
    "import aocd\n",
    "input_data = aocd.get_data(year=2022, day=7).split(\"\\n\")\n",
    "input_data[:10]"
   ]
  },
  {
   "cell_type": "markdown",
   "metadata": {},
   "source": [
    "### Part 1"
   ]
  },
  {
   "cell_type": "code",
   "execution_count": 2,
   "metadata": {},
   "outputs": [],
   "source": [
    "from pathlib import Path, PurePosixPath"
   ]
  },
  {
   "cell_type": "code",
   "execution_count": 3,
   "metadata": {},
   "outputs": [
    {
     "data": {
      "text/plain": [
       "PurePosixPath('/foo/..')"
      ]
     },
     "execution_count": 3,
     "metadata": {},
     "output_type": "execute_result"
    }
   ],
   "source": [
    "(PurePosixPath('/') / 'foo' / '..')"
   ]
  },
  {
   "cell_type": "code",
   "execution_count": 4,
   "metadata": {},
   "outputs": [
    {
     "data": {
      "text/plain": [
       "'dpbwg'"
      ]
     },
     "execution_count": 4,
     "metadata": {},
     "output_type": "execute_result"
    }
   ],
   "source": [
    "input_data[15][5:]"
   ]
  },
  {
   "cell_type": "code",
   "execution_count": 5,
   "metadata": {},
   "outputs": [
    {
     "data": {
      "text/plain": [
       "/: 0 items, 0 bytes"
      ]
     },
     "execution_count": 5,
     "metadata": {},
     "output_type": "execute_result"
    }
   ],
   "source": [
    "class inode:\n",
    "    path: Path\n",
    "    nodetype: str = \"dir\"\n",
    "    children: list\n",
    "    size: int = 0\n",
    "    \n",
    "    def __init__(self, **kwargs):\n",
    "        self.__dict__.update(kwargs)\n",
    "        self.children = []\n",
    "    \n",
    "    def total_size(self):\n",
    "        return self.size + sum([i.total_size() for i in self.children])\n",
    "    \n",
    "    def __repr__(self):\n",
    "        if self.nodetype == \"dir\":\n",
    "            return f\"{str(self.path)}: {len(self.children)} items, {self.total_size()} bytes\"\n",
    "        else:\n",
    "            return f\"{str(self.path)}: {self.total_size()} bytes\"\n",
    "    \n",
    "inode(path=PurePosixPath(\"/\"))"
   ]
  },
  {
   "cell_type": "code",
   "execution_count": 6,
   "metadata": {},
   "outputs": [
    {
     "data": {
      "text/plain": [
       "{'/': /: 0 items, 0 bytes}"
      ]
     },
     "execution_count": 6,
     "metadata": {},
     "output_type": "execute_result"
    }
   ],
   "source": [
    "cwd = PurePosixPath(\"/\")\n",
    "lspath = None\n",
    "\n",
    "fs = {}\n",
    "\n",
    "def mkdirp(path) -> inode:\n",
    "    if str(path) in fs:\n",
    "        # print(f\"looked up {path}\")\n",
    "        pass\n",
    "    elif len(path.parents) == 0:\n",
    "        # print(\"creating root dir\")\n",
    "        node = inode(path=path, nodetype=\"dir\")\n",
    "        fs[str(path)] = node\n",
    "    else:\n",
    "        # print(f\"creating {path}\")\n",
    "        parent = mkdirp(path.parent)\n",
    "        node = inode(path=path)\n",
    "        parent.children.append(node)\n",
    "        fs[str(path)] = node\n",
    "    return fs[str(path)]\n",
    "\n",
    "mkdirp(PurePosixPath('/'))\n",
    "fs"
   ]
  },
  {
   "cell_type": "code",
   "execution_count": 7,
   "metadata": {},
   "outputs": [],
   "source": [
    "for line in input_data:\n",
    "    if line == \"$ cd /\":\n",
    "        cwd = PurePosixPath(\"/\")\n",
    "    elif line == \"$ cd ..\":\n",
    "        cwd = cwd.parent\n",
    "    elif line.startswith(\"$ cd \"):\n",
    "        cwd = cwd / line[5:]\n",
    "    elif line == \"$ ls\":\n",
    "        lspath = cwd\n",
    "    else:\n",
    "        stat, name = line.split(\" \")\n",
    "        path = lspath / name\n",
    "        \n",
    "        if stat == \"dir\":\n",
    "            node = mkdirp(path)\n",
    "            node.nodetype = \"dir\"\n",
    "            \n",
    "        else:\n",
    "            node = mkdirp(path)\n",
    "            node.nodetype = \"file\"\n",
    "            node.size = int(stat)"
   ]
  },
  {
   "cell_type": "code",
   "execution_count": 8,
   "metadata": {},
   "outputs": [
    {
     "data": {
      "text/plain": [
       "496"
      ]
     },
     "execution_count": 8,
     "metadata": {},
     "output_type": "execute_result"
    }
   ],
   "source": [
    "len(fs)"
   ]
  },
  {
   "cell_type": "code",
   "execution_count": 9,
   "metadata": {},
   "outputs": [
    {
     "data": {
      "text/plain": [
       "[/dpbwg: 3 items, 308482 bytes,\n",
       " /dvwfscw: 8 items, 7871401 bytes,\n",
       " /hccpl: 3 items, 14058385 bytes,\n",
       " /jsgbg: 1 items, 202682 bytes,\n",
       " /lhjmzsl: 1 items, 197308 bytes,\n",
       " /mwvbpw.mmg: 63532 bytes,\n",
       " /npj: 239480 bytes,\n",
       " /pngs: 4 items, 545639 bytes,\n",
       " /qhs: 2 items, 306017 bytes,\n",
       " /shvgmwn.vhv: 303649 bytes,\n",
       " /sjrrgd.phh: 236905 bytes,\n",
       " /sntcp: 13 items, 21647288 bytes,\n",
       " /sqs: 1 items, 252966 bytes]"
      ]
     },
     "execution_count": 9,
     "metadata": {},
     "output_type": "execute_result"
    }
   ],
   "source": [
    "fs['/'].children"
   ]
  },
  {
   "cell_type": "code",
   "execution_count": 10,
   "metadata": {},
   "outputs": [
    {
     "data": {
      "text/plain": [
       "46233734"
      ]
     },
     "execution_count": 10,
     "metadata": {},
     "output_type": "execute_result"
    }
   ],
   "source": [
    "fs['/'].total_size()"
   ]
  },
  {
   "cell_type": "markdown",
   "metadata": {},
   "source": [
    "#### Part 1 Answer\n",
    "Find all of the directories with a total size of at most 100000.  \n",
    "**What is the sum of the total sizes of those directories?**"
   ]
  },
  {
   "cell_type": "code",
   "execution_count": 11,
   "metadata": {},
   "outputs": [
    {
     "data": {
      "text/plain": [
       "32"
      ]
     },
     "execution_count": 11,
     "metadata": {},
     "output_type": "execute_result"
    }
   ],
   "source": [
    "def small_dirs(thresh=100000):\n",
    "    return [d for d in fs.values() if d.nodetype == \"dir\" and d.total_size() <= thresh]\n",
    "\n",
    "len(small_dirs())"
   ]
  },
  {
   "cell_type": "code",
   "execution_count": 12,
   "metadata": {},
   "outputs": [
    {
     "data": {
      "text/plain": [
       "1350966"
      ]
     },
     "execution_count": 12,
     "metadata": {},
     "output_type": "execute_result"
    }
   ],
   "source": [
    "sum([d.total_size() for d in small_dirs()])"
   ]
  },
  {
   "cell_type": "markdown",
   "metadata": {},
   "source": [
    "---"
   ]
  },
  {
   "cell_type": "markdown",
   "metadata": {},
   "source": [
    "### Part 2"
   ]
  },
  {
   "cell_type": "code",
   "execution_count": 13,
   "metadata": {},
   "outputs": [
    {
     "data": {
      "text/plain": [
       "6233734"
      ]
     },
     "execution_count": 13,
     "metadata": {},
     "output_type": "execute_result"
    }
   ],
   "source": [
    "disk_size = 70000000\n",
    "update_size = 30000000\n",
    "available_size = disk_size - fs['/'].total_size()\n",
    "size_needed = update_size - available_size\n",
    "size_needed"
   ]
  },
  {
   "cell_type": "markdown",
   "metadata": {
    "tags": []
   },
   "source": [
    "#### Part 2 Answer\n",
    "\n",
    "Find the smallest directory that, if deleted, would free up enough space on the filesystem to run the update.  \n",
    "**What is the total size of that directory?**"
   ]
  },
  {
   "cell_type": "code",
   "execution_count": 14,
   "metadata": {},
   "outputs": [
    {
     "data": {
      "text/plain": [
       "[/hccpl/qsgv/lhjmzsl: 7 items, 6296435 bytes,\n",
       " /dvwfscw: 8 items, 7871401 bytes,\n",
       " /sntcp/vqcvbncp: 9 items, 9470683 bytes,\n",
       " /hccpl/qsgv: 9 items, 12653650 bytes,\n",
       " /hccpl: 3 items, 14058385 bytes,\n",
       " /sntcp: 13 items, 21647288 bytes,\n",
       " /: 13 items, 46233734 bytes]"
      ]
     },
     "execution_count": 14,
     "metadata": {},
     "output_type": "execute_result"
    }
   ],
   "source": [
    "def big_dirs(threshold=size_needed):\n",
    "    dirs = [d for d in fs.values() if d.nodetype == 'dir' and d.total_size() >= threshold]\n",
    "    return sorted(dirs, key=lambda x: x.total_size())\n",
    "\n",
    "big_dirs()"
   ]
  }
 ],
 "metadata": {
  "kernelspec": {
   "display_name": "Python 3",
   "language": "python",
   "name": "python3"
  },
  "language_info": {
   "codemirror_mode": {
    "name": "ipython",
    "version": 3
   },
   "file_extension": ".py",
   "mimetype": "text/x-python",
   "name": "python",
   "nbconvert_exporter": "python",
   "pygments_lexer": "ipython3",
   "version": "3.8.5"
  }
 },
 "nbformat": 4,
 "nbformat_minor": 4
}
