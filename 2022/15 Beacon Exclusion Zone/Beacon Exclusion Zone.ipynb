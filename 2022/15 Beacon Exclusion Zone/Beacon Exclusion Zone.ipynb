{
 "cells": [
  {
   "cell_type": "markdown",
   "metadata": {},
   "source": [
    "# Advent of Code 2022\n",
    "## [Day 15: Beacon Exclusion Zone](https://adventofcode.com/2022/day/15)"
   ]
  },
  {
   "cell_type": "markdown",
   "metadata": {},
   "source": [
    "#### Load Data"
   ]
  },
  {
   "cell_type": "code",
   "execution_count": 1,
   "metadata": {},
   "outputs": [
    {
     "data": {
      "text/plain": [
       "['Sensor at x=2389280, y=2368338: closest beacon is at x=2127703, y=2732666',\n",
       " 'Sensor at x=1882900, y=3151610: closest beacon is at x=2127703, y=2732666',\n",
       " 'Sensor at x=2480353, y=3555879: closest beacon is at x=2092670, y=3609041',\n",
       " 'Sensor at x=93539, y=965767: closest beacon is at x=501559, y=361502',\n",
       " 'Sensor at x=357769, y=2291291: closest beacon is at x=262473, y=2000000']"
      ]
     },
     "execution_count": 1,
     "metadata": {},
     "output_type": "execute_result"
    }
   ],
   "source": [
    "import aocd\n",
    "input_data = aocd.get_data(year=2022, day=15).split(\"\\n\")\n",
    "input_data[:5]"
   ]
  },
  {
   "cell_type": "code",
   "execution_count": 2,
   "metadata": {},
   "outputs": [],
   "source": [
    "test_data = \"\"\"Sensor at x=2, y=18: closest beacon is at x=-2, y=15\n",
    "Sensor at x=9, y=16: closest beacon is at x=10, y=16\n",
    "Sensor at x=13, y=2: closest beacon is at x=15, y=3\n",
    "Sensor at x=12, y=14: closest beacon is at x=10, y=16\n",
    "Sensor at x=10, y=20: closest beacon is at x=10, y=16\n",
    "Sensor at x=14, y=17: closest beacon is at x=10, y=16\n",
    "Sensor at x=8, y=7: closest beacon is at x=2, y=10\n",
    "Sensor at x=2, y=0: closest beacon is at x=2, y=10\n",
    "Sensor at x=0, y=11: closest beacon is at x=2, y=10\n",
    "Sensor at x=20, y=14: closest beacon is at x=25, y=17\n",
    "Sensor at x=17, y=20: closest beacon is at x=21, y=22\n",
    "Sensor at x=16, y=7: closest beacon is at x=15, y=3\n",
    "Sensor at x=14, y=3: closest beacon is at x=15, y=3\n",
    "Sensor at x=20, y=1: closest beacon is at x=15, y=3\"\"\".split(\"\\n\")"
   ]
  },
  {
   "cell_type": "markdown",
   "metadata": {},
   "source": [
    "### Part 1"
   ]
  },
  {
   "cell_type": "code",
   "execution_count": 3,
   "metadata": {},
   "outputs": [
    {
     "data": {
      "text/plain": [
       "[2, 18, -2, 15]"
      ]
     },
     "execution_count": 3,
     "metadata": {},
     "output_type": "execute_result"
    }
   ],
   "source": [
    "import re\n",
    "def parse_ints(line:str):\n",
    "    return [int(i) for i in re.findall(r'(-?\\d+)', line)]\n",
    "\n",
    "parse_ints(test_data[0])"
   ]
  },
  {
   "cell_type": "code",
   "execution_count": 4,
   "metadata": {},
   "outputs": [
    {
     "data": {
      "text/plain": [
       "({'x': 2, 'y': 18, 'beacon': (-2, 15), 'radius': 7}, 7)"
      ]
     },
     "execution_count": 4,
     "metadata": {},
     "output_type": "execute_result"
    }
   ],
   "source": [
    "from types import SimpleNamespace\n",
    "from functools import cached_property\n",
    "\n",
    "class Point(SimpleNamespace):\n",
    "    def __init__(self, x, y):\n",
    "        self.x = x\n",
    "        self.y = y\n",
    "        \n",
    "    def dist(self, other):\n",
    "        return abs(self.x - other.x) + abs(self.y - other.y)\n",
    "    \n",
    "    def tuning_frequency(self):\n",
    "        return self.x * 4000000 + self.y\n",
    "    \n",
    "    def __repr__(self):\n",
    "        return f\"({self.x}, {self.y})\"\n",
    "\n",
    "class Sensor(Point):\n",
    "    def __init__(self, line):\n",
    "        x, y, bx, by = parse_ints(line)\n",
    "        self.x = x\n",
    "        self.y = y\n",
    "        self.beacon = Point(x=bx, y=by)\n",
    "        \n",
    "    def __repr__(self):\n",
    "        return str(self.__dict__)\n",
    "    \n",
    "    @cached_property\n",
    "    def radius(self):\n",
    "        return self.dist(self.beacon)\n",
    "        \n",
    "s0 = Sensor(test_data[0])\n",
    "s0, s0.radius"
   ]
  },
  {
   "cell_type": "code",
   "execution_count": 5,
   "metadata": {},
   "outputs": [],
   "source": [
    "test_sensors = [Sensor(line) for line in test_data]\n",
    "input_sensors = [Sensor(line) for line in input_data]"
   ]
  },
  {
   "cell_type": "code",
   "execution_count": 6,
   "metadata": {},
   "outputs": [
    {
     "data": {
      "text/plain": [
       "False"
      ]
     },
     "execution_count": 6,
     "metadata": {},
     "output_type": "execute_result"
    }
   ],
   "source": [
    "def can_contain_beacon(s, p):\n",
    "    if p.x == s.x and p.y == s.y:\n",
    "        return False\n",
    "    if p == s.beacon:\n",
    "        return True\n",
    "    if s.dist(p) <= s.radius:\n",
    "        return False\n",
    "    return True\n",
    "\n",
    "can_contain_beacon(s0, Point(-2,16))"
   ]
  },
  {
   "cell_type": "code",
   "execution_count": 7,
   "metadata": {},
   "outputs": [
    {
     "name": "stdout",
     "output_type": "stream",
     "text": [
      "-8 28\n"
     ]
    },
    {
     "data": {
      "text/plain": [
       "26"
      ]
     },
     "execution_count": 7,
     "metadata": {},
     "output_type": "execute_result"
    }
   ],
   "source": [
    "def count_non_beacon(sensors, y=10):\n",
    "    nearby_sensors = []\n",
    "    for s in sensors:\n",
    "        if s.dist(Point(s.x, y)) <= s.radius:\n",
    "            nearby_sensors.append(s)\n",
    "        \n",
    "    min_x = min(s.x - s.radius for s in nearby_sensors)\n",
    "    max_x = max(s.x + s.radius for s in nearby_sensors)\n",
    "    count = 0\n",
    "    print(min_x, max_x)\n",
    "    for x in range(min_x, max_x+1):\n",
    "        p = Point(x,y)\n",
    "        for s in nearby_sensors:\n",
    "            if not can_contain_beacon(s, p):\n",
    "                count += 1\n",
    "                break\n",
    "    return count\n",
    "    \n",
    "count_non_beacon(test_sensors)"
   ]
  },
  {
   "cell_type": "markdown",
   "metadata": {},
   "source": [
    "#### Part 1 Answer\n",
    "Consult the report from the sensors you just deployed.  \n",
    "**In the row where y=2000000, how many positions cannot contain a beacon?**"
   ]
  },
  {
   "cell_type": "code",
   "execution_count": 8,
   "metadata": {},
   "outputs": [
    {
     "name": "stdout",
     "output_type": "stream",
     "text": [
      "-471146 5611670\n",
      "CPU times: user 17 s, sys: 122 ms, total: 17.1 s\n",
      "Wall time: 17.2 s\n"
     ]
    },
    {
     "data": {
      "text/plain": [
       "5809294"
      ]
     },
     "execution_count": 8,
     "metadata": {},
     "output_type": "execute_result"
    }
   ],
   "source": [
    "%time count_non_beacon(input_sensors, 2000000)"
   ]
  },
  {
   "cell_type": "markdown",
   "metadata": {},
   "source": [
    "---"
   ]
  },
  {
   "cell_type": "markdown",
   "metadata": {},
   "source": [
    "### Part 2"
   ]
  },
  {
   "cell_type": "code",
   "execution_count": 9,
   "metadata": {},
   "outputs": [
    {
     "data": {
      "text/plain": [
       "False"
      ]
     },
     "execution_count": 9,
     "metadata": {},
     "output_type": "execute_result"
    }
   ],
   "source": [
    "def cannot_contain_lost_beacon(s, p):\n",
    "    return s.dist(p) <= s.radius\n",
    "\n",
    "can_contain_beacon(s0, Point(-2,16))"
   ]
  },
  {
   "cell_type": "code",
   "execution_count": 10,
   "metadata": {},
   "outputs": [
    {
     "data": {
      "text/plain": [
       "21"
      ]
     },
     "execution_count": 10,
     "metadata": {},
     "output_type": "execute_result"
    }
   ],
   "source": [
    "def max_y_at_x(s, x):\n",
    "    slack = s.radius - abs(s.x - x)\n",
    "    y = s.y + slack\n",
    "    return y\n",
    "\n",
    "max_y_at_x(test_sensors[0], -2)"
   ]
  },
  {
   "cell_type": "code",
   "execution_count": 11,
   "metadata": {},
   "outputs": [
    {
     "name": "stdout",
     "output_type": "stream",
     "text": [
      "0 / 20\n"
     ]
    },
    {
     "data": {
      "text/plain": [
       "(14, 11)"
      ]
     },
     "execution_count": 11,
     "metadata": {},
     "output_type": "execute_result"
    }
   ],
   "source": [
    "def find_beacon(sensors, max_x=20, max_y=20):\n",
    "    x = 0\n",
    "    while x <= max_x:\n",
    "        if x % 100000 == 0:\n",
    "            print(f\"{x} / {max_x}\")\n",
    "        y = 0\n",
    "        while y <= max_y:\n",
    "            p = Point(x,y)\n",
    "            valid = True\n",
    "            for s in sensors:\n",
    "                if s.dist(p) <= s.radius: \n",
    "                    valid = False\n",
    "                    y = max_y_at_x(s, x)\n",
    "                    break\n",
    "            if valid:\n",
    "                return p\n",
    "            y += 1\n",
    "        x += 1\n",
    "    \n",
    "find_beacon(test_sensors)"
   ]
  },
  {
   "cell_type": "code",
   "execution_count": 12,
   "metadata": {},
   "outputs": [
    {
     "name": "stdout",
     "output_type": "stream",
     "text": [
      "0 / 4000000\n",
      "100000 / 4000000\n",
      "200000 / 4000000\n",
      "300000 / 4000000\n",
      "400000 / 4000000\n",
      "500000 / 4000000\n",
      "600000 / 4000000\n",
      "700000 / 4000000\n",
      "800000 / 4000000\n",
      "900000 / 4000000\n",
      "1000000 / 4000000\n",
      "1100000 / 4000000\n",
      "1200000 / 4000000\n",
      "1300000 / 4000000\n",
      "1400000 / 4000000\n",
      "1500000 / 4000000\n",
      "1600000 / 4000000\n",
      "1700000 / 4000000\n",
      "1800000 / 4000000\n",
      "1900000 / 4000000\n",
      "2000000 / 4000000\n",
      "2100000 / 4000000\n",
      "2200000 / 4000000\n",
      "2300000 / 4000000\n",
      "2400000 / 4000000\n",
      "2500000 / 4000000\n",
      "2600000 / 4000000\n",
      "CPU times: user 1min 15s, sys: 780 ms, total: 1min 16s\n",
      "Wall time: 1min 17s\n"
     ]
    },
    {
     "data": {
      "text/plain": [
       "(2673432, 3308112)"
      ]
     },
     "execution_count": 12,
     "metadata": {},
     "output_type": "execute_result"
    }
   ],
   "source": [
    "%time find_beacon(input_sensors, max_x=4000000, max_y=4000000)"
   ]
  },
  {
   "cell_type": "markdown",
   "metadata": {},
   "source": [
    "#### Part 2 Answer\n",
    "Find the only possible position for the distress beacon.  \n",
    "**What is its tuning frequency?**"
   ]
  },
  {
   "cell_type": "code",
   "execution_count": 13,
   "metadata": {},
   "outputs": [
    {
     "data": {
      "text/plain": [
       "10693731308112"
      ]
     },
     "execution_count": 13,
     "metadata": {},
     "output_type": "execute_result"
    }
   ],
   "source": [
    "Point(2673432, 3308112).tuning_frequency()"
   ]
  }
 ],
 "metadata": {
  "kernelspec": {
   "display_name": "Python 3",
   "language": "python",
   "name": "python3"
  },
  "language_info": {
   "codemirror_mode": {
    "name": "ipython",
    "version": 3
   },
   "file_extension": ".py",
   "mimetype": "text/x-python",
   "name": "python",
   "nbconvert_exporter": "python",
   "pygments_lexer": "ipython3",
   "version": "3.8.5"
  }
 },
 "nbformat": 4,
 "nbformat_minor": 4
}
