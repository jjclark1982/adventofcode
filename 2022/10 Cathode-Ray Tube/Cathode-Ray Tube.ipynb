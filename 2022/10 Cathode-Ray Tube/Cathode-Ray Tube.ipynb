{
 "cells": [
  {
   "cell_type": "markdown",
   "metadata": {},
   "source": [
    "# Advent of Code 2022\n",
    "## [Day 10: Cathode-Ray Tube](https://adventofcode.com/2022/day/10)"
   ]
  },
  {
   "cell_type": "markdown",
   "metadata": {
    "tags": []
   },
   "source": [
    "#### Load Data"
   ]
  },
  {
   "cell_type": "code",
   "execution_count": 1,
   "metadata": {},
   "outputs": [
    {
     "data": {
      "text/plain": [
       "['noop', 'noop', 'addx 5', 'noop', 'noop', 'addx 1', 'addx 3', 'addx 2']"
      ]
     },
     "execution_count": 1,
     "metadata": {},
     "output_type": "execute_result"
    }
   ],
   "source": [
    "import aocd\n",
    "input_data = aocd.get_data(year=2022, day=10).split(\"\\n\")\n",
    "input_data[:8]"
   ]
  },
  {
   "cell_type": "code",
   "execution_count": 2,
   "metadata": {},
   "outputs": [
    {
     "data": {
      "text/plain": [
       "['addx 15', 'addx -11', 'addx 6', 'addx -3', 'addx 5', 'addx -1']"
      ]
     },
     "execution_count": 2,
     "metadata": {},
     "output_type": "execute_result"
    }
   ],
   "source": [
    "with open(\"test_data.txt\") as f:\n",
    "    test_data = f.read().split(\"\\n\")\n",
    "test_data[:6]"
   ]
  },
  {
   "cell_type": "code",
   "execution_count": 3,
   "metadata": {},
   "outputs": [],
   "source": [
    "small_program = \"\"\"noop\n",
    "addx 3\n",
    "addx -5\n",
    "\"\"\".split(\"\\n\")"
   ]
  },
  {
   "cell_type": "code",
   "execution_count": 4,
   "metadata": {},
   "outputs": [],
   "source": [
    "import numpy as np"
   ]
  },
  {
   "cell_type": "code",
   "execution_count": 5,
   "metadata": {},
   "outputs": [],
   "source": [
    "import pandas as pd"
   ]
  },
  {
   "cell_type": "markdown",
   "metadata": {},
   "source": [
    "### Part 1"
   ]
  },
  {
   "cell_type": "code",
   "execution_count": 6,
   "metadata": {},
   "outputs": [
    {
     "data": {
      "text/html": [
       "<div>\n",
       "<style scoped>\n",
       "    .dataframe tbody tr th:only-of-type {\n",
       "        vertical-align: middle;\n",
       "    }\n",
       "\n",
       "    .dataframe tbody tr th {\n",
       "        vertical-align: top;\n",
       "    }\n",
       "\n",
       "    .dataframe thead th {\n",
       "        text-align: right;\n",
       "    }\n",
       "</style>\n",
       "<table border=\"1\" class=\"dataframe\">\n",
       "  <thead>\n",
       "    <tr style=\"text-align: right;\">\n",
       "      <th></th>\n",
       "      <th>cycle</th>\n",
       "      <th>x</th>\n",
       "      <th>signal_strength</th>\n",
       "      <th>program</th>\n",
       "    </tr>\n",
       "  </thead>\n",
       "  <tbody>\n",
       "    <tr>\n",
       "      <th>0</th>\n",
       "      <td>0</td>\n",
       "      <td>0</td>\n",
       "      <td>0</td>\n",
       "      <td></td>\n",
       "    </tr>\n",
       "    <tr>\n",
       "      <th>1</th>\n",
       "      <td>1</td>\n",
       "      <td>1</td>\n",
       "      <td>1</td>\n",
       "      <td>noop</td>\n",
       "    </tr>\n",
       "    <tr>\n",
       "      <th>2</th>\n",
       "      <td>2</td>\n",
       "      <td>1</td>\n",
       "      <td>2</td>\n",
       "      <td>addx 3</td>\n",
       "    </tr>\n",
       "    <tr>\n",
       "      <th>3</th>\n",
       "      <td>3</td>\n",
       "      <td>1</td>\n",
       "      <td>3</td>\n",
       "      <td></td>\n",
       "    </tr>\n",
       "    <tr>\n",
       "      <th>4</th>\n",
       "      <td>4</td>\n",
       "      <td>4</td>\n",
       "      <td>16</td>\n",
       "      <td>addx -5</td>\n",
       "    </tr>\n",
       "    <tr>\n",
       "      <th>5</th>\n",
       "      <td>5</td>\n",
       "      <td>4</td>\n",
       "      <td>20</td>\n",
       "      <td></td>\n",
       "    </tr>\n",
       "    <tr>\n",
       "      <th>6</th>\n",
       "      <td>6</td>\n",
       "      <td>-1</td>\n",
       "      <td>-6</td>\n",
       "      <td></td>\n",
       "    </tr>\n",
       "  </tbody>\n",
       "</table>\n",
       "</div>"
      ],
      "text/plain": [
       "   cycle  x  signal_strength  program\n",
       "0      0  0                0         \n",
       "1      1  1                1     noop\n",
       "2      2  1                2   addx 3\n",
       "3      3  1                3         \n",
       "4      4  4               16  addx -5\n",
       "5      5  4               20         \n",
       "6      6 -1               -6         "
      ]
     },
     "execution_count": 6,
     "metadata": {},
     "output_type": "execute_result"
    }
   ],
   "source": [
    "def run_signal(program):\n",
    "    cycles = 1\n",
    "    x = 1\n",
    "    cycle_series = [0]\n",
    "    x_series = [0]\n",
    "    program_series = ['']\n",
    "\n",
    "    for line in program:\n",
    "        cycle_series.append(cycles)\n",
    "        x_series.append(x)\n",
    "        program_series.append(line)\n",
    "        tokens = line.split(\" \")\n",
    "        if tokens[0] == \"noop\":\n",
    "            cycles += 1\n",
    "        elif tokens[0] == \"addx\":\n",
    "            cycles += 1\n",
    "            cycle_series.append(cycles)\n",
    "            x_series.append(x)\n",
    "            program_series.append(\"\")\n",
    "            cycles += 1\n",
    "            v = int(tokens[1])\n",
    "            x += v\n",
    "\n",
    "    \n",
    "    signal_strength = np.multiply(x_series, cycle_series)\n",
    "    df = pd.DataFrame({\n",
    "        \"cycle\": cycle_series,\n",
    "        \"x\": x_series,\n",
    "        \"signal_strength\": signal_strength,\n",
    "        \"program\": program_series\n",
    "    })\n",
    "    return df\n",
    "\n",
    "run_signal(small_program)"
   ]
  },
  {
   "cell_type": "code",
   "execution_count": 7,
   "metadata": {},
   "outputs": [],
   "source": [
    "def get_signal_strength(program):\n",
    "    return run_signal(program)[\"signal_strength\"]"
   ]
  },
  {
   "cell_type": "code",
   "execution_count": 8,
   "metadata": {},
   "outputs": [
    {
     "data": {
      "text/plain": [
       "array([ 20,  60, 100, 140, 180, 220])"
      ]
     },
     "execution_count": 8,
     "metadata": {},
     "output_type": "execute_result"
    }
   ],
   "source": [
    "interesting = np.arange(6)*40 + 20\n",
    "interesting"
   ]
  },
  {
   "cell_type": "code",
   "execution_count": 9,
   "metadata": {},
   "outputs": [
    {
     "data": {
      "text/plain": [
       "20      420\n",
       "60     1140\n",
       "100    1800\n",
       "140    2940\n",
       "180    2880\n",
       "220    3960\n",
       "Name: signal_strength, dtype: int64"
      ]
     },
     "execution_count": 9,
     "metadata": {},
     "output_type": "execute_result"
    }
   ],
   "source": [
    "np.take(get_signal_strength(test_data), interesting)"
   ]
  },
  {
   "cell_type": "markdown",
   "metadata": {},
   "source": [
    "#### Part 1 Answer\n",
    "Find the signal strength during the 20th, 60th, 100th, 140th, 180th, and 220th cycles. **What is the sum of these six signal strengths?**"
   ]
  },
  {
   "cell_type": "code",
   "execution_count": 10,
   "metadata": {},
   "outputs": [
    {
     "data": {
      "text/plain": [
       "14820"
      ]
     },
     "execution_count": 10,
     "metadata": {},
     "output_type": "execute_result"
    }
   ],
   "source": [
    "np.take(get_signal_strength(input_data), interesting).sum()"
   ]
  },
  {
   "cell_type": "markdown",
   "metadata": {},
   "source": [
    "---"
   ]
  },
  {
   "cell_type": "markdown",
   "metadata": {},
   "source": [
    "### Part 2"
   ]
  },
  {
   "cell_type": "code",
   "execution_count": 11,
   "metadata": {},
   "outputs": [],
   "source": [
    "def get_pixel(cycle, x):\n",
    "    cycle = (((cycle-1) % 40)+1)\n",
    "    if abs((x+1) - cycle) < 2:\n",
    "        return \"#\"\n",
    "    else:\n",
    "        return \".\""
   ]
  },
  {
   "cell_type": "code",
   "execution_count": 19,
   "metadata": {},
   "outputs": [
    {
     "name": "stdout",
     "output_type": "stream",
     "text": [
      "##..##..##..##..##..##..##..##..##..##..\n",
      "###...###...###...###...###...###...###.\n",
      "####....####....####....####....####....\n",
      "#####.....#####.....#####.....#####.....\n",
      "######......######......######......####\n",
      "#######.......#######.......#######.....\n"
     ]
    },
    {
     "data": {
      "text/html": [
       "<div>\n",
       "<style scoped>\n",
       "    .dataframe tbody tr th:only-of-type {\n",
       "        vertical-align: middle;\n",
       "    }\n",
       "\n",
       "    .dataframe tbody tr th {\n",
       "        vertical-align: top;\n",
       "    }\n",
       "\n",
       "    .dataframe thead th {\n",
       "        text-align: right;\n",
       "    }\n",
       "</style>\n",
       "<table border=\"1\" class=\"dataframe\">\n",
       "  <thead>\n",
       "    <tr style=\"text-align: right;\">\n",
       "      <th></th>\n",
       "      <th>cycle</th>\n",
       "      <th>x</th>\n",
       "      <th>signal_strength</th>\n",
       "      <th>program</th>\n",
       "      <th>pixel</th>\n",
       "    </tr>\n",
       "  </thead>\n",
       "  <tbody>\n",
       "    <tr>\n",
       "      <th>1</th>\n",
       "      <td>1</td>\n",
       "      <td>1</td>\n",
       "      <td>1</td>\n",
       "      <td>addx 15</td>\n",
       "      <td>#</td>\n",
       "    </tr>\n",
       "    <tr>\n",
       "      <th>2</th>\n",
       "      <td>2</td>\n",
       "      <td>1</td>\n",
       "      <td>2</td>\n",
       "      <td></td>\n",
       "      <td>#</td>\n",
       "    </tr>\n",
       "    <tr>\n",
       "      <th>3</th>\n",
       "      <td>3</td>\n",
       "      <td>16</td>\n",
       "      <td>48</td>\n",
       "      <td>addx -11</td>\n",
       "      <td>.</td>\n",
       "    </tr>\n",
       "    <tr>\n",
       "      <th>4</th>\n",
       "      <td>4</td>\n",
       "      <td>16</td>\n",
       "      <td>64</td>\n",
       "      <td></td>\n",
       "      <td>.</td>\n",
       "    </tr>\n",
       "    <tr>\n",
       "      <th>5</th>\n",
       "      <td>5</td>\n",
       "      <td>5</td>\n",
       "      <td>25</td>\n",
       "      <td>addx 6</td>\n",
       "      <td>#</td>\n",
       "    </tr>\n",
       "    <tr>\n",
       "      <th>6</th>\n",
       "      <td>6</td>\n",
       "      <td>5</td>\n",
       "      <td>30</td>\n",
       "      <td></td>\n",
       "      <td>#</td>\n",
       "    </tr>\n",
       "    <tr>\n",
       "      <th>7</th>\n",
       "      <td>7</td>\n",
       "      <td>11</td>\n",
       "      <td>77</td>\n",
       "      <td>addx -3</td>\n",
       "      <td>.</td>\n",
       "    </tr>\n",
       "    <tr>\n",
       "      <th>8</th>\n",
       "      <td>8</td>\n",
       "      <td>11</td>\n",
       "      <td>88</td>\n",
       "      <td></td>\n",
       "      <td>.</td>\n",
       "    </tr>\n",
       "    <tr>\n",
       "      <th>9</th>\n",
       "      <td>9</td>\n",
       "      <td>8</td>\n",
       "      <td>72</td>\n",
       "      <td>addx 5</td>\n",
       "      <td>#</td>\n",
       "    </tr>\n",
       "    <tr>\n",
       "      <th>10</th>\n",
       "      <td>10</td>\n",
       "      <td>8</td>\n",
       "      <td>80</td>\n",
       "      <td></td>\n",
       "      <td>#</td>\n",
       "    </tr>\n",
       "  </tbody>\n",
       "</table>\n",
       "</div>"
      ],
      "text/plain": [
       "    cycle   x  signal_strength   program pixel\n",
       "1       1   1                1   addx 15     #\n",
       "2       2   1                2               #\n",
       "3       3  16               48  addx -11     .\n",
       "4       4  16               64               .\n",
       "5       5   5               25    addx 6     #\n",
       "6       6   5               30               #\n",
       "7       7  11               77   addx -3     .\n",
       "8       8  11               88               .\n",
       "9       9   8               72    addx 5     #\n",
       "10     10   8               80               #"
      ]
     },
     "execution_count": 19,
     "metadata": {},
     "output_type": "execute_result"
    }
   ],
   "source": [
    "def plot_screen(program):\n",
    "    df = run_signal(program)\n",
    "    df['pixel'] = [get_pixel(*item) for item in zip(df['cycle'], df['x'])]\n",
    "    rows = len(df) // 40\n",
    "    screen = df[\"pixel\"].to_numpy()[1: 40 * (len(df) // 40)+1].reshape((-1,40))\n",
    "    print(\"\\n\".join([''.join(line) for line in screen]))\n",
    "    return df\n",
    "                     \n",
    "plot_screen(test_data)[1:11]"
   ]
  },
  {
   "cell_type": "markdown",
   "metadata": {},
   "source": [
    "#### Part 2 Answer\n",
    "Render the image given by your program.  \n",
    "**What eight capital letters appear on your CRT?**"
   ]
  },
  {
   "cell_type": "code",
   "execution_count": 13,
   "metadata": {},
   "outputs": [
    {
     "name": "stdout",
     "output_type": "stream",
     "text": [
      "###..####.####.#..#.####.####.#..#..##..\n",
      "#..#....#.#....#.#..#....#....#..#.#..#.\n",
      "#..#...#..###..##...###..###..####.#..#.\n",
      "###...#...#....#.#..#....#....#..#.####.\n",
      "#.#..#....#....#.#..#....#....#..#.#..#.\n",
      "#..#.####.####.#..#.####.#....#..#.#..#.\n"
     ]
    }
   ],
   "source": [
    "plot_screen(input_data);"
   ]
  }
 ],
 "metadata": {
  "kernelspec": {
   "display_name": "Python 3",
   "language": "python",
   "name": "python3"
  },
  "language_info": {
   "codemirror_mode": {
    "name": "ipython",
    "version": 3
   },
   "file_extension": ".py",
   "mimetype": "text/x-python",
   "name": "python",
   "nbconvert_exporter": "python",
   "pygments_lexer": "ipython3",
   "version": "3.8.5"
  }
 },
 "nbformat": 4,
 "nbformat_minor": 4
}
