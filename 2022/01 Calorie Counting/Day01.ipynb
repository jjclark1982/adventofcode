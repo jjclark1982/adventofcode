{
 "cells": [
  {
   "cell_type": "markdown",
   "metadata": {},
   "source": [
    "# Advent of Code 2022\n",
    "## [Day 1: Calorie Counting](https://adventofcode.com/2022/day/1)"
   ]
  },
  {
   "cell_type": "markdown",
   "metadata": {},
   "source": [
    "## Part 1"
   ]
  },
  {
   "cell_type": "code",
   "execution_count": 1,
   "metadata": {},
   "outputs": [
    {
     "data": {
      "text/plain": [
       "['2276',\n",
       " '1441',\n",
       " '3886',\n",
       " '2204',\n",
       " '3853',\n",
       " '3910',\n",
       " '5347',\n",
       " '5630',\n",
       " '5721',\n",
       " '6630']"
      ]
     },
     "execution_count": 1,
     "metadata": {},
     "output_type": "execute_result"
    }
   ],
   "source": [
    "import aocd\n",
    "input_data = aocd.get_data(year=2022, day=1).split('\\n')\n",
    "input_data[-10:]"
   ]
  },
  {
   "cell_type": "code",
   "execution_count": 2,
   "metadata": {},
   "outputs": [
    {
     "data": {
      "text/plain": [
       "254"
      ]
     },
     "execution_count": 2,
     "metadata": {},
     "output_type": "execute_result"
    }
   ],
   "source": [
    "elfs = []\n",
    "elf = []\n",
    "for line in input_data:\n",
    "    if line == '':\n",
    "        elfs.append(elf)\n",
    "        elf = []\n",
    "    else:\n",
    "        elf.append(int(line))\n",
    "elfs.append(elf)\n",
    "\n",
    "len(elfs)"
   ]
  },
  {
   "cell_type": "code",
   "execution_count": 3,
   "metadata": {},
   "outputs": [],
   "source": [
    "def pad_data(ragged_array, pad_value=0):\n",
    "    longest = max(len(a) for a in ragged_array)\n",
    "    for a in ragged_array:\n",
    "        while len(a) < longest:\n",
    "            a.append(pad_value)\n",
    "    return ragged_array\n",
    "\n",
    "pad_data(elfs);"
   ]
  },
  {
   "cell_type": "code",
   "execution_count": 4,
   "metadata": {},
   "outputs": [],
   "source": [
    "# more_elfs = np.tile(np.array(elfs).T, 100000).T\n",
    "# more_elfs.shape"
   ]
  },
  {
   "cell_type": "markdown",
   "metadata": {},
   "source": [
    "#### Part 1 Answer\n",
    "\n",
    "Find the Elf carrying the most Calories. **How many total Calories is that Elf carrying?**"
   ]
  },
  {
   "cell_type": "code",
   "execution_count": 5,
   "metadata": {},
   "outputs": [
    {
     "data": {
      "text/plain": [
       "73211"
      ]
     },
     "execution_count": 5,
     "metadata": {},
     "output_type": "execute_result"
    }
   ],
   "source": [
    "sums = [sum(elf) for elf in elfs]\n",
    "max(sums)"
   ]
  },
  {
   "cell_type": "markdown",
   "metadata": {},
   "source": [
    "### Part 2 Answer\n",
    "Find the top three Elves carrying the most Calories. **How many Calories are those Elves carrying in total?**"
   ]
  },
  {
   "cell_type": "code",
   "execution_count": 6,
   "metadata": {},
   "outputs": [
    {
     "name": "stdout",
     "output_type": "stream",
     "text": [
      "CPU times: user 76 µs, sys: 1 µs, total: 77 µs\n",
      "Wall time: 78.9 µs\n"
     ]
    },
    {
     "data": {
      "text/plain": [
       "213958"
      ]
     },
     "execution_count": 6,
     "metadata": {},
     "output_type": "execute_result"
    }
   ],
   "source": [
    "def top_three_elfs_python(elfs):\n",
    "    sums = [sum(elf) for elf in elfs]\n",
    "    sums.sort()\n",
    "    return sum(sums[-3:])\n",
    "\n",
    "%time top_three_elfs_python(elfs)"
   ]
  },
  {
   "cell_type": "markdown",
   "metadata": {},
   "source": [
    "## NumPy"
   ]
  },
  {
   "cell_type": "code",
   "execution_count": 7,
   "metadata": {},
   "outputs": [],
   "source": [
    "import numpy as np"
   ]
  },
  {
   "cell_type": "code",
   "execution_count": 8,
   "metadata": {},
   "outputs": [],
   "source": [
    "elf_array = np.array(elfs)"
   ]
  },
  {
   "cell_type": "code",
   "execution_count": 9,
   "metadata": {},
   "outputs": [
    {
     "data": {
      "text/plain": [
       "73211"
      ]
     },
     "execution_count": 9,
     "metadata": {},
     "output_type": "execute_result"
    }
   ],
   "source": [
    "elf_array.sum(axis=1).max()"
   ]
  },
  {
   "cell_type": "code",
   "execution_count": 10,
   "metadata": {},
   "outputs": [
    {
     "name": "stdout",
     "output_type": "stream",
     "text": [
      "CPU times: user 765 µs, sys: 541 µs, total: 1.31 ms\n",
      "Wall time: 225 µs\n"
     ]
    },
    {
     "data": {
      "text/plain": [
       "213958"
      ]
     },
     "execution_count": 10,
     "metadata": {},
     "output_type": "execute_result"
    }
   ],
   "source": [
    "def top_three_elfs_numpy(elf_array):\n",
    "    top_elfs = elf_array.sum(axis=1)\n",
    "    top_elfs.sort()\n",
    "    return top_elfs[-3:].sum()\n",
    "\n",
    "%time top_three_elfs_numpy(elf_array)"
   ]
  },
  {
   "cell_type": "markdown",
   "metadata": {},
   "source": [
    "## Numba"
   ]
  },
  {
   "cell_type": "code",
   "execution_count": 11,
   "metadata": {},
   "outputs": [],
   "source": [
    "import numba"
   ]
  },
  {
   "cell_type": "code",
   "execution_count": 12,
   "metadata": {},
   "outputs": [],
   "source": [
    "@numba.jit(nopython=True)\n",
    "def top_three_elfs_numba(elf_array):\n",
    "    top_elfs = elf_array.sum(axis=1)\n",
    "    top_elfs.sort()\n",
    "    return top_elfs[-3:].sum()"
   ]
  },
  {
   "cell_type": "code",
   "execution_count": 13,
   "metadata": {},
   "outputs": [
    {
     "name": "stdout",
     "output_type": "stream",
     "text": [
      "CPU times: user 1.93 s, sys: 44.4 ms, total: 1.98 s\n",
      "Wall time: 1.99 s\n"
     ]
    },
    {
     "data": {
      "text/plain": [
       "213958"
      ]
     },
     "execution_count": 13,
     "metadata": {},
     "output_type": "execute_result"
    }
   ],
   "source": [
    "%time top_three_elfs_numba(elf_array)"
   ]
  },
  {
   "cell_type": "markdown",
   "metadata": {},
   "source": [
    "## Taichi"
   ]
  },
  {
   "cell_type": "code",
   "execution_count": 14,
   "metadata": {},
   "outputs": [
    {
     "name": "stdout",
     "output_type": "stream",
     "text": [
      "[Taichi] version 1.3.0, llvm 15.0.5, commit 230b5ca3, osx, python 3.8.5\n",
      "[Taichi] Starting on arch=metal\n"
     ]
    }
   ],
   "source": [
    "import taichi as ti\n",
    "import taichi.math as tm\n",
    "\n",
    "ti.init(arch=ti.gpu)"
   ]
  },
  {
   "cell_type": "code",
   "execution_count": 15,
   "metadata": {},
   "outputs": [
    {
     "ename": "TaichiCompilationError",
     "evalue": "\nFile \"<ipython-input-15-40867d22e48c>\", line 3, in top_three_elfs_taichi:\n    top_elfs = elf_array.sum(axis=1)\n               ^^^^^^^^^^^^^\nTraceback (most recent call last):\n  File \"/Users/jjclark/miniconda3/envs/advent/lib/python3.8/site-packages/taichi/lang/ast/ast_transformer_utils.py\", line 26, in __call__\n    return method(ctx, node)\n  File \"/Users/jjclark/miniconda3/envs/advent/lib/python3.8/site-packages/taichi/lang/ast/ast_transformer.py\", line 868, in build_Attribute\n    node.ptr = getattr(node.value.ptr, node.attr)\nAttributeError: 'AnyArray' object has no attribute 'sum'\n",
     "output_type": "error",
     "traceback": [
      "\u001b[0;31m---------------------------------------------------------------------------\u001b[0m",
      "\u001b[0;31mTaichiCompilationError\u001b[0m                    Traceback (most recent call last)",
      "\u001b[0;32m<timed eval>\u001b[0m in \u001b[0;36m<module>\u001b[0;34m\u001b[0m\n",
      "\u001b[0;32m~/miniconda3/envs/advent/lib/python3.8/site-packages/taichi/lang/kernel_impl.py\u001b[0m in \u001b[0;36mwrapped\u001b[0;34m(*args, **kwargs)\u001b[0m\n\u001b[1;32m    945\u001b[0m                 \u001b[0;32mreturn\u001b[0m \u001b[0mprimal\u001b[0m\u001b[0;34m(\u001b[0m\u001b[0;34m*\u001b[0m\u001b[0margs\u001b[0m\u001b[0;34m,\u001b[0m \u001b[0;34m**\u001b[0m\u001b[0mkwargs\u001b[0m\u001b[0;34m)\u001b[0m\u001b[0;34m\u001b[0m\u001b[0;34m\u001b[0m\u001b[0m\n\u001b[1;32m    946\u001b[0m             \u001b[0;32mexcept\u001b[0m \u001b[0;34m(\u001b[0m\u001b[0mTaichiCompilationError\u001b[0m\u001b[0;34m,\u001b[0m \u001b[0mTaichiRuntimeError\u001b[0m\u001b[0;34m)\u001b[0m \u001b[0;32mas\u001b[0m \u001b[0me\u001b[0m\u001b[0;34m:\u001b[0m\u001b[0;34m\u001b[0m\u001b[0;34m\u001b[0m\u001b[0m\n\u001b[0;32m--> 947\u001b[0;31m                 \u001b[0;32mraise\u001b[0m \u001b[0mtype\u001b[0m\u001b[0;34m(\u001b[0m\u001b[0me\u001b[0m\u001b[0;34m)\u001b[0m\u001b[0;34m(\u001b[0m\u001b[0;34m'\\n'\u001b[0m \u001b[0;34m+\u001b[0m \u001b[0mstr\u001b[0m\u001b[0;34m(\u001b[0m\u001b[0me\u001b[0m\u001b[0;34m)\u001b[0m\u001b[0;34m)\u001b[0m \u001b[0;32mfrom\u001b[0m \u001b[0;32mNone\u001b[0m\u001b[0;34m\u001b[0m\u001b[0;34m\u001b[0m\u001b[0m\n\u001b[0m\u001b[1;32m    948\u001b[0m \u001b[0;34m\u001b[0m\u001b[0m\n\u001b[1;32m    949\u001b[0m         \u001b[0mwrapped\u001b[0m\u001b[0;34m.\u001b[0m\u001b[0mgrad\u001b[0m \u001b[0;34m=\u001b[0m \u001b[0madjoint\u001b[0m\u001b[0;34m\u001b[0m\u001b[0;34m\u001b[0m\u001b[0m\n",
      "\u001b[0;31mTaichiCompilationError\u001b[0m: \nFile \"<ipython-input-15-40867d22e48c>\", line 3, in top_three_elfs_taichi:\n    top_elfs = elf_array.sum(axis=1)\n               ^^^^^^^^^^^^^\nTraceback (most recent call last):\n  File \"/Users/jjclark/miniconda3/envs/advent/lib/python3.8/site-packages/taichi/lang/ast/ast_transformer_utils.py\", line 26, in __call__\n    return method(ctx, node)\n  File \"/Users/jjclark/miniconda3/envs/advent/lib/python3.8/site-packages/taichi/lang/ast/ast_transformer.py\", line 868, in build_Attribute\n    node.ptr = getattr(node.value.ptr, node.attr)\nAttributeError: 'AnyArray' object has no attribute 'sum'\n"
     ]
    }
   ],
   "source": [
    "@ti.kernel\n",
    "def top_three_elfs_taichi(elf_array: ti.types.ndarray()) -> ti.i32:\n",
    "    top_elfs = elf_array.sum(axis=1)\n",
    "    top_elfs.sort()\n",
    "    return top_elfs[-3:].sum()\n",
    "\n",
    "%time top_three_elfs_taichi(elf_array)"
   ]
  },
  {
   "cell_type": "code",
   "execution_count": 16,
   "metadata": {},
   "outputs": [
    {
     "ename": "AttributeError",
     "evalue": "module 'taichi.tools' has no attribute 'parallel_sort'",
     "output_type": "error",
     "traceback": [
      "\u001b[0;31m---------------------------------------------------------------------------\u001b[0m",
      "\u001b[0;31mAttributeError\u001b[0m                            Traceback (most recent call last)",
      "\u001b[0;32m<ipython-input-16-d2772c777486>\u001b[0m in \u001b[0;36m<module>\u001b[0;34m\u001b[0m\n\u001b[0;32m----> 1\u001b[0;31m \u001b[0mti\u001b[0m\u001b[0;34m.\u001b[0m\u001b[0mtools\u001b[0m\u001b[0;34m.\u001b[0m\u001b[0mparallel_sort\u001b[0m\u001b[0;34m\u001b[0m\u001b[0;34m\u001b[0m\u001b[0m\n\u001b[0m",
      "\u001b[0;31mAttributeError\u001b[0m: module 'taichi.tools' has no attribute 'parallel_sort'"
     ]
    }
   ],
   "source": [
    "ti.tools.parallel_sort"
   ]
  }
 ],
 "metadata": {
  "kernelspec": {
   "display_name": "Python 3",
   "language": "python",
   "name": "python3"
  },
  "language_info": {
   "codemirror_mode": {
    "name": "ipython",
    "version": 3
   },
   "file_extension": ".py",
   "mimetype": "text/x-python",
   "name": "python",
   "nbconvert_exporter": "python",
   "pygments_lexer": "ipython3",
   "version": "3.8.5"
  }
 },
 "nbformat": 4,
 "nbformat_minor": 4
}
