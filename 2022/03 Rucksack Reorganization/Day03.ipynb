{
 "cells": [
  {
   "cell_type": "markdown",
   "metadata": {},
   "source": [
    "# Advent of Code 2022\n",
    "## [Day 3: Rucksack Reorganization](https://adventofcode.com/2022/day/3)"
   ]
  },
  {
   "cell_type": "code",
   "execution_count": 6,
   "metadata": {},
   "outputs": [
    {
     "data": {
      "text/plain": [
       "['WjmsdnddnmQPZPPJPL',\n",
       " 'bQllTtpBlgwtrbbCwfZcfSFPSfLCSF',\n",
       " 'GgVgQrlpphBGrlVGgTtsRHRWVRMzRdVsqdnDnV',\n",
       " 'MMTcbpnfNGQbMjgsRwSzRptRzz',\n",
       " 'lPqCCqQdQqQmCPRzRVSwtzgqqwqR']"
      ]
     },
     "execution_count": 6,
     "metadata": {},
     "output_type": "execute_result"
    }
   ],
   "source": [
    "import aocd\n",
    "input_data = aocd.get_data(year=2022, day=3).split('\\n')\n",
    "input_data[:5]"
   ]
  },
  {
   "cell_type": "markdown",
   "metadata": {},
   "source": [
    "### Part 1"
   ]
  },
  {
   "cell_type": "code",
   "execution_count": 17,
   "metadata": {},
   "outputs": [
    {
     "data": {
      "text/plain": [
       "({'J', 'W', 'g', 'p', 'r', 't', 'v', 'w'},\n",
       " {'F', 'M', 'c', 'f', 'h', 'p', 's'},\n",
       " {'p'})"
      ]
     },
     "execution_count": 17,
     "metadata": {},
     "output_type": "execute_result"
    }
   ],
   "source": [
    "def compartments(rucksack):\n",
    "    l = len(rucksack)\n",
    "    return set(rucksack[:l//2]), set(rucksack[l//2:])\n",
    "\n",
    "c1, c2 = compartments('vJrwpWtwJgWrhcsFMMfFFhFp')\n",
    "c1, c2, c1 & c2"
   ]
  },
  {
   "cell_type": "code",
   "execution_count": 30,
   "metadata": {},
   "outputs": [
    {
     "data": {
      "text/plain": [
       "'L'"
      ]
     },
     "execution_count": 30,
     "metadata": {},
     "output_type": "execute_result"
    }
   ],
   "source": [
    "def doubled_item(rucksack):\n",
    "    c1, c2 = compartments(rucksack)\n",
    "    item = c1 & c2\n",
    "    return next(iter(item))\n",
    "\n",
    "doubled_item('jqHRNqRjqzjGDLGLrsFMfFZSrLrFZsSL')"
   ]
  },
  {
   "cell_type": "code",
   "execution_count": 32,
   "metadata": {},
   "outputs": [
    {
     "data": {
      "text/plain": [
       "(16, 38)"
      ]
     },
     "execution_count": 32,
     "metadata": {},
     "output_type": "execute_result"
    }
   ],
   "source": [
    "def priority(item):\n",
    "    if ord(item) > ord('a'):\n",
    "        return ord(item) - ord('a') + 1\n",
    "    else:\n",
    "        return ord(item) - ord('A') + 27\n",
    "    \n",
    "priority('p'), priority('L')"
   ]
  },
  {
   "cell_type": "markdown",
   "metadata": {},
   "source": [
    "#### Part 1 Answer\n",
    "\n",
    "Find the item type that appears in both compartments of each rucksack. **What is the sum of the priorities of those item types?**"
   ]
  },
  {
   "cell_type": "code",
   "execution_count": 33,
   "metadata": {},
   "outputs": [
    {
     "data": {
      "text/plain": [
       "7568"
      ]
     },
     "execution_count": 33,
     "metadata": {},
     "output_type": "execute_result"
    }
   ],
   "source": [
    "sum(priority(doubled_item(rucksack)) for rucksack in input_data)"
   ]
  },
  {
   "cell_type": "markdown",
   "metadata": {},
   "source": [
    "---\n",
    "\n",
    "### Part 2"
   ]
  },
  {
   "cell_type": "code",
   "execution_count": 48,
   "metadata": {},
   "outputs": [
    {
     "data": {
      "text/plain": [
       "[['WjmsdnddnmQPZPPJPL',\n",
       "  'bQllTtpBlgwtrbbCwfZcfSFPSfLCSF',\n",
       "  'GgVgQrlpphBGrlVGgTtsRHRWVRMzRdVsqdnDnV'],\n",
       " ['MMTcbpnfNGQbMjgsRwSzRptRzz',\n",
       "  'lPqCCqQdQqQmCPRzRVSwtzgqqwqR',\n",
       "  'lrDdllPdBWdDFQFnMbDNDn']]"
      ]
     },
     "execution_count": 48,
     "metadata": {},
     "output_type": "execute_result"
    }
   ],
   "source": [
    "groups = []\n",
    "group = []\n",
    "for i in range(len(input_data)):\n",
    "    group.append(input_data[i])\n",
    "    if i % 3 == 2:\n",
    "        groups.append(group)\n",
    "        group = []\n",
    "groups[:2]"
   ]
  },
  {
   "cell_type": "code",
   "execution_count": 53,
   "metadata": {},
   "outputs": [
    {
     "data": {
      "text/plain": [
       "'Q'"
      ]
     },
     "execution_count": 53,
     "metadata": {},
     "output_type": "execute_result"
    }
   ],
   "source": [
    "def common_item(group):\n",
    "    sacks = [set(r) for r in group]\n",
    "    item = sacks[0] & sacks[1] & sacks[2]\n",
    "    return next(iter(item))\n",
    "\n",
    "common_item(groups[0])"
   ]
  },
  {
   "cell_type": "markdown",
   "metadata": {},
   "source": [
    "#### Part 2 Answer\n",
    "Find the item type that corresponds to the badges of each three-Elf group.  \n",
    "**What is the sum of the priorities of those item types?**"
   ]
  },
  {
   "cell_type": "code",
   "execution_count": 54,
   "metadata": {},
   "outputs": [
    {
     "data": {
      "text/plain": [
       "2780"
      ]
     },
     "execution_count": 54,
     "metadata": {},
     "output_type": "execute_result"
    }
   ],
   "source": [
    "sum(priority(common_item(group)) for group in groups)"
   ]
  }
 ],
 "metadata": {
  "kernelspec": {
   "display_name": "Python 3",
   "language": "python",
   "name": "python3"
  },
  "language_info": {
   "codemirror_mode": {
    "name": "ipython",
    "version": 3
   },
   "file_extension": ".py",
   "mimetype": "text/x-python",
   "name": "python",
   "nbconvert_exporter": "python",
   "pygments_lexer": "ipython3",
   "version": "3.8.5"
  }
 },
 "nbformat": 4,
 "nbformat_minor": 4
}
