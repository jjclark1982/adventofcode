{
 "cells": [
  {
   "cell_type": "markdown",
   "metadata": {},
   "source": [
    "# Advent of Code 2022\n",
    "## [Day 8: Treetop Tree House](https://adventofcode.com/2022/day/8)"
   ]
  },
  {
   "cell_type": "code",
   "execution_count": 1,
   "metadata": {},
   "outputs": [],
   "source": [
    "import aocd\n",
    "input_data = aocd.get_data(year=2022, day=8).split(\"\\n\")"
   ]
  },
  {
   "cell_type": "code",
   "execution_count": 2,
   "metadata": {},
   "outputs": [],
   "source": [
    "from pathlib import Path\n",
    "import sys\n",
    "if str(Path('../..').resolve()) not in sys.path:\n",
    "    sys.path.insert(0, str(Path('../..').resolve()))\n",
    "\n",
    "from aoc_lib import array_to_png"
   ]
  },
  {
   "cell_type": "code",
   "execution_count": 3,
   "metadata": {},
   "outputs": [
    {
     "data": {
      "text/html": [
       "<img src=\"data:image/png;base64,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\n",
       "\">"
      ],
      "text/plain": [
       "array([[2, 0, 2, ..., 0, 1, 0],\n",
       "       [0, 2, 1, ..., 0, 0, 0],\n",
       "       [0, 2, 2, ..., 1, 1, 0],\n",
       "       ...,\n",
       "       [0, 2, 0, ..., 0, 2, 0],\n",
       "       [2, 1, 2, ..., 0, 2, 1],\n",
       "       [0, 1, 2, ..., 2, 0, 1]])"
      ]
     },
     "execution_count": 3,
     "metadata": {},
     "output_type": "execute_result"
    }
   ],
   "source": [
    "import numpy as np\n",
    "height = np.array([[*map(int, list(line))] for line in input_data])\n",
    "height"
   ]
  },
  {
   "cell_type": "markdown",
   "metadata": {},
   "source": [
    "### Part 1"
   ]
  },
  {
   "cell_type": "code",
   "execution_count": 4,
   "metadata": {},
   "outputs": [
    {
     "data": {
      "text/html": [
       "<pre>array([0, 0, 0, 0, 0, 0, 0, 0, 0, 0, 0, 0, 0, 0, 0, 0, 0, 0, 0, 0, 0, 0,\n",
       "       0, 0, 0, 0, 0, 0, 0, 0, 0, 0, 0, 0, 0, 0, 0, 0, 0, 0, 0, 0, 0, 0,\n",
       "       0, 0, 0, 0, 0, 0, 0, 1, 0, 0, 0, 0, 0, 0, 0, 0, 0, 0, 0, 0, 0, 0,\n",
       "       0, 0, 0, 0, 0, 0, 0, 0, 0, 0, 1, 0, 0, 0, 0, 0, 0, 0, 0, 0, 1, 0,\n",
       "       0, 0, 0, 0, 0, 0, 0, 0, 0, 0, 1])</pre>"
      ],
      "text/plain": [
       "array([0, 0, 0, 0, 0, 0, 0, 0, 0, 0, 0, 0, 0, 0, 0, 0, 0, 0, 0, 0, 0, 0,\n",
       "       0, 0, 0, 0, 0, 0, 0, 0, 0, 0, 0, 0, 0, 0, 0, 0, 0, 0, 0, 0, 0, 0,\n",
       "       0, 0, 0, 0, 0, 0, 0, 1, 0, 0, 0, 0, 0, 0, 0, 0, 0, 0, 0, 0, 0, 0,\n",
       "       0, 0, 0, 0, 0, 0, 0, 0, 0, 0, 1, 0, 0, 0, 0, 0, 0, 0, 0, 0, 1, 0,\n",
       "       0, 0, 0, 0, 0, 0, 0, 0, 0, 0, 1])"
      ]
     },
     "execution_count": 4,
     "metadata": {},
     "output_type": "execute_result"
    }
   ],
   "source": [
    "def mask_visible(row):\n",
    "    mask = np.zeros_like(row, dtype=bool)\n",
    "    mask[0] = 1\n",
    "    for i in range(1, len(row)):\n",
    "        max_seen = row[mask].max()\n",
    "        if row[i] > max_seen:\n",
    "            mask[i] = 1\n",
    "    return mask.astype(int)\n",
    "\n",
    "np.flip(mask_visible(height[:,0]))"
   ]
  },
  {
   "cell_type": "code",
   "execution_count": 5,
   "metadata": {},
   "outputs": [
    {
     "data": {
      "text/html": [
       "<pre>array([1, 0, 0, 0, 0, 0, 0, 0, 0, 0, 0, 0, 1, 0, 0, 0, 0, 0, 0, 0, 0, 0,\n",
       "       1, 0, 0, 0, 0, 0, 0, 0, 0, 0, 0, 0, 0, 0, 0, 0, 0, 0, 0, 0, 0, 0,\n",
       "       0, 0, 0, 1, 0, 0, 0, 0, 0, 0, 0, 0, 1, 0, 0, 0, 0, 0, 0, 0, 0, 0,\n",
       "       0, 0, 0, 0, 0, 0, 0, 0, 0, 1, 0, 0, 0, 0, 0, 0, 0, 0, 0, 0, 0, 0,\n",
       "       0, 0, 1, 0, 0, 0, 0, 0, 0, 1, 1])</pre>"
      ],
      "text/plain": [
       "array([1, 0, 0, 0, 0, 0, 0, 0, 0, 0, 0, 0, 1, 0, 0, 0, 0, 0, 0, 0, 0, 0,\n",
       "       1, 0, 0, 0, 0, 0, 0, 0, 0, 0, 0, 0, 0, 0, 0, 0, 0, 0, 0, 0, 0, 0,\n",
       "       0, 0, 0, 1, 0, 0, 0, 0, 0, 0, 0, 0, 1, 0, 0, 0, 0, 0, 0, 0, 0, 0,\n",
       "       0, 0, 0, 0, 0, 0, 0, 0, 0, 1, 0, 0, 0, 0, 0, 0, 0, 0, 0, 0, 0, 0,\n",
       "       0, 0, 1, 0, 0, 0, 0, 0, 0, 1, 1])"
      ]
     },
     "execution_count": 5,
     "metadata": {},
     "output_type": "execute_result"
    }
   ],
   "source": [
    "def mask_all_visible(row):\n",
    "    return mask_visible(row) | np.flip(mask_visible(np.flip(row)))\n",
    "    \n",
    "mask_all_visible(height[:,0])"
   ]
  },
  {
   "cell_type": "code",
   "execution_count": 6,
   "metadata": {},
   "outputs": [
    {
     "data": {
      "text/html": [
       "<img src=\"data:image/png;base64,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\n",
       "\">"
      ],
      "text/plain": [
       "array([[1, 1, 1, ..., 1, 1, 1],\n",
       "       [1, 1, 0, ..., 0, 0, 1],\n",
       "       [1, 1, 0, ..., 1, 1, 1],\n",
       "       ...,\n",
       "       [1, 1, 0, ..., 0, 1, 1],\n",
       "       [1, 0, 0, ..., 0, 1, 1],\n",
       "       [1, 1, 1, ..., 1, 1, 1]])"
      ]
     },
     "execution_count": 6,
     "metadata": {},
     "output_type": "execute_result"
    }
   ],
   "source": [
    "def mask_all_rows(grid):\n",
    "    return np.array([mask_all_visible(row) for row in grid])\n",
    "\n",
    "def mask_all_rows_cols(grid):\n",
    "    return mask_all_rows(grid) | (mask_all_rows(grid.T).T)\n",
    "\n",
    "mask_all_rows_cols(height)"
   ]
  },
  {
   "cell_type": "markdown",
   "metadata": {},
   "source": [
    "#### Part 1 Answer\n",
    "Consider your map; **how many trees are visible from outside the grid?**"
   ]
  },
  {
   "cell_type": "code",
   "execution_count": 7,
   "metadata": {},
   "outputs": [
    {
     "data": {
      "text/plain": [
       "1840"
      ]
     },
     "execution_count": 7,
     "metadata": {},
     "output_type": "execute_result"
    }
   ],
   "source": [
    "mask_all_rows_cols(height).sum()"
   ]
  },
  {
   "cell_type": "code",
   "execution_count": 8,
   "metadata": {},
   "outputs": [
    {
     "data": {
      "text/html": [
       "<img src=\"data:image/png;base64,iVBORw0KGgoAAAANSUhEUgAAAFAAAABQCAAAAACreq1xAAAAZUlEQVR4nO3UwQnAIBAEwBhSgCXYf1WWkv/lQAQJ95j9LerAfmz9Opv7sAcEAoE/gc/ugxn6CL3+ZCAQCEyz/A9n6GNxv/5kIBAITPP5D2foY/O8/mQgEAhM0/phsP5kIBAITPMCVg8ExdD56lEAAAAASUVORK5CYII=\n",
       "\">"
      ],
      "text/plain": [
       "array([[1, 1, 1, 1, 1],\n",
       "       [1, 1, 1, 0, 1],\n",
       "       [1, 1, 0, 1, 1],\n",
       "       [1, 0, 1, 0, 1],\n",
       "       [1, 1, 1, 1, 1]])"
      ]
     },
     "execution_count": 8,
     "metadata": {},
     "output_type": "execute_result"
    }
   ],
   "source": [
    "test_data = np.array([\n",
    "    [3,0,3,7,3],\n",
    "    [2,5,5,1,2],\n",
    "    [6,5,3,3,2],\n",
    "    [3,3,5,4,9],\n",
    "    [3,5,3,9,0]\n",
    "])\n",
    "mask_all_rows_cols(test_data)"
   ]
  },
  {
   "cell_type": "markdown",
   "metadata": {},
   "source": [
    "### Part 2"
   ]
  },
  {
   "cell_type": "code",
   "execution_count": 9,
   "metadata": {},
   "outputs": [],
   "source": [
    "def scenic_mask(grid, row, col):\n",
    "    mask = np.zeros_like(grid, dtype=bool)\n",
    "    mask[(row,col)] = 1\n",
    "    max_seen = grid[mask].max()\n",
    "    \n",
    "    c = col\n",
    "    while c >= 0 and grid[row,c] < max_seen:\n",
    "        c = c - 1\n",
    "        # grid["
   ]
  },
  {
   "cell_type": "code",
   "execution_count": 10,
   "metadata": {},
   "outputs": [
    {
     "data": {
      "text/plain": [
       "2"
      ]
     },
     "execution_count": 10,
     "metadata": {},
     "output_type": "execute_result"
    }
   ],
   "source": [
    "def scene_to_right(grid, row, col):\n",
    "    max_seen = grid[row, col]\n",
    "    distance = 0\n",
    "    for c in range(col+1, grid.shape[1]):\n",
    "        distance += 1\n",
    "        if grid[row, c] >= max_seen:\n",
    "            break\n",
    "    return distance\n",
    "        \n",
    "scene_to_right(test_data, 1, 2)"
   ]
  },
  {
   "cell_type": "code",
   "execution_count": 11,
   "metadata": {},
   "outputs": [
    {
     "data": {
      "text/plain": [
       "1"
      ]
     },
     "execution_count": 11,
     "metadata": {},
     "output_type": "execute_result"
    }
   ],
   "source": [
    "scene_to_right(np.flip(test_data), 1, 3)"
   ]
  },
  {
   "cell_type": "code",
   "execution_count": 12,
   "metadata": {},
   "outputs": [
    {
     "data": {
      "text/html": [
       "<tt style=\"display:flex;flex-wrap:wrap;align-items:center\">[<span style=\"margin-left:0.2em\"><tt>2</tt></span>, <span style=\"margin-left:0.2em\"><tt>2</tt></span>, <span style=\"margin-left:0.2em\"><tt>1</tt></span>, <span style=\"margin-left:0.2em\"><tt>2</tt></span>]</tt>"
      ],
      "text/plain": [
       "[2, 2, 1, 2]"
      ]
     },
     "execution_count": 12,
     "metadata": {},
     "output_type": "execute_result"
    }
   ],
   "source": [
    "def scene_4ways(grid, row, col):\n",
    "    return [\n",
    "        scene_to_right(grid, row, col),\n",
    "        scene_to_right(np.flip(grid, axis=1), row, grid.shape[1]-1-col),\n",
    "        scene_to_right(grid.T, col, row),\n",
    "        scene_to_right(np.flip(grid.T, axis=1), col, grid.shape[0]-1-row)\n",
    "    ]\n",
    "\n",
    "scene_4ways(test_data, 3,2)"
   ]
  },
  {
   "cell_type": "code",
   "execution_count": 13,
   "metadata": {},
   "outputs": [
    {
     "data": {
      "text/plain": [
       "8"
      ]
     },
     "execution_count": 13,
     "metadata": {},
     "output_type": "execute_result"
    }
   ],
   "source": [
    "def scenic_score(grid, row, col):\n",
    "    return np.product(scene_4ways(grid,row,col))\n",
    "\n",
    "scenic_score(test_data, 3,2)"
   ]
  },
  {
   "cell_type": "code",
   "execution_count": 14,
   "metadata": {},
   "outputs": [
    {
     "data": {
      "text/html": [
       "<img src=\"data:image/png;base64,iVBORw0KGgoAAAANSUhEUgAAAGMAAABjCAAAAACqUOFJAAAFW0lEQVR4nNVazXIkNQz+7JmQTJKFyl72Si7ceTRegbfgZXiFLY78VOWwRe3CQjJs/iYz020O/pNkyd2zkKXQIdNty/4kWZJld9waz07++SEsjPAJMNwnwDiQ+mp7i2W2tXbgarcDPaBbZra1jsTU7cCOrfZKW+DzFRp6MlkYI7BUmh35S+EWacwhGMM8X3hk4ltjWHsW5D7KlSmwH0orOsqkivFUX874jI7+lBnLw6TKleGYtK4Nv9oAPsPnkdNO7taTLCYFKseeuMjIVfO2LJaAA7bxwYAI0nq+4S6kNQYAi/1nbfOyCtWMm5mvsk4OAJb4VhVHlTQcsh6PqzTIAY3Ju2SxPjbSJIjRsXG7hk/FGDWGFR/m6AA65xGfTjWXr6O2CsMIuEbY/pz3Gkam7C0DgfA7oKTvORRwlh9L3lbWo+aqrRfTl1WSeb/IRRQrEdN1jyYOVnntlgA2VK7QMeiBdYlHkvkGOKEdDkdm/i0YZBUC4IAPjG9MsEOy5QWurKn+lB0iBp+OJQNSvAVjM90vzXi8fcHBEx3jj/RErP0GsGuIpWbvaJQE0cklw8LqKZR1u7pkzZsTzhZlqD5RF26hbHnl4ccoIBCwBS5J7xCdgToA12Na9uuX6WF3BHuRODFb3ikQ1Iu3QIaIicqAEF7MMM7zA3HkOM0awJhj8nWdvYmjHZ90BObtH9EiciUl3Z1bPXO2Ggfge7QQgaWtDNHmFFWPWADstWKUMQUH4KevUsO2SW8qhuUnD6fG8PuSyWuGaHKFZ17AIW7LTAyCes1ZroNICdiko8ZWM8L7UGrWvIXYNi2CfjPas8IFQ3j6UPmspSz06of0IHZHn4u6tRyx03dv24Y5hZvUxoc83yWV7WV6AeB9HKId7ybjvFMOKl2G60vG39VubXtX0I3o+ifnjz5VPefkq9tpFoW88qTRewABU35TSdo0vlu2Sss3b6NjQ1pfyA30LBCAgZ1l55GrM37JO9b9gVM7U5KqK4tU7Fc2FMrOpFFf3efz3apckxNLWXsgPTQtRTkvW+Jvyk7vZgK8BaydEpO2elx1uwsF11n3iThfAXjqswwA4JIBvtM4qB76FjFr843FVVSlqWeoHnyysW21TlffpOIqWmspd+eqR4KfqKo06kdgcFWPJfsRIt8D+iUmMBmB5po7gETJeEbgG0H5a3v0ZBjS3gsANw3XBLW8rEVT+uL11KROVtEySXhw7Z7wV3mO9v/acqeyPLlY2qQm6ezRr9TyY79sYqNbi5g1jK9/5dl9SSUaAeBnuxYZAI+AmhVopb42wAFgcyILfSGrERmiWdNvB0QfOwGOi3ajYH8H4iR8yQTyRN69uWiaiCpmgHN11XWqUrUQ8NHkj9B8PWizqhiGlQHsEOJBaUc3lnq3Yt0nUvpFCETfHICjPAs5QOxJYZHD8Y6JvFZlJjR5vCj04XO9PWN08/O8C+OJGFQNGRqm/ncIU5Cmo17Puua0efVxnyZ9lS2my7Pat6GnzRHAJdVEnmaDqaavVhL5LxR3IRF+7YB0mn4lZkqliXI7Ou1X5jUIWeTqMVoVM+kxd/bxvH6HreskIYKFQTey88LKqJS3phuE0q1iLJoKpJnptJUGYDWl9Tkjk1KB6BWpNI12Bd1fDyrlMaTFuucHytrDCELKJ2ax68aDaH0y5zsu4SsiRUPkuuWlZCe5mCtsY5T07PioLzpSCelMjByo5SpVRAChNzPg0InzQz4ATpA601Z0PIi+fwNDpo9Tsh6sbwOLaGrsWIQ5R7MeAejdEHjjWZAzPpXVRDSTuivbXC3OmF3Zp+be6c8mhfk//N+o/x3G30qBb2aJM6RHAAAAAElFTkSuQmCC\n",
       "\">"
      ],
      "text/plain": [
       "array([[  0,   0,   0, ...,   0,   0,   0],\n",
       "       [  0,   3,   1, ...,   1,   1,   0],\n",
       "       [  0,   4,  20, ...,   4,   2,   0],\n",
       "       ...,\n",
       "       [  0, 100,   1, ...,   1,   6,   0],\n",
       "       [  0,   1,  40, ...,   1,   4,   0],\n",
       "       [  0,   0,   0, ...,   0,   0,   0]])"
      ]
     },
     "execution_count": 14,
     "metadata": {},
     "output_type": "execute_result"
    }
   ],
   "source": [
    "def all_scenic_scores(grid):\n",
    "    scores = np.zeros_like(grid)\n",
    "    for row in range(height.shape[0]):\n",
    "        for col in range(height.shape[1]):\n",
    "            scores[row][col] = scenic_score(grid, row, col)\n",
    "    return scores\n",
    "        \n",
    "all_scenic_scores(height)"
   ]
  },
  {
   "cell_type": "markdown",
   "metadata": {},
   "source": [
    "#### Part 2 Answer\n",
    "Consider each tree on your map. **What is the highest scenic score possible for any tree?**"
   ]
  },
  {
   "cell_type": "code",
   "execution_count": 15,
   "metadata": {},
   "outputs": [
    {
     "data": {
      "text/plain": [
       "4936"
      ]
     },
     "execution_count": 15,
     "metadata": {},
     "output_type": "execute_result"
    }
   ],
   "source": [
    "all_scenic_scores(height).argmax()"
   ]
  }
 ],
 "metadata": {
  "kernelspec": {
   "display_name": "Python 3",
   "language": "python",
   "name": "python3"
  },
  "language_info": {
   "codemirror_mode": {
    "name": "ipython",
    "version": 3
   },
   "file_extension": ".py",
   "mimetype": "text/x-python",
   "name": "python",
   "nbconvert_exporter": "python",
   "pygments_lexer": "ipython3",
   "version": "3.8.5"
  }
 },
 "nbformat": 4,
 "nbformat_minor": 4
}
