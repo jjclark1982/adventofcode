{
 "cells": [
  {
   "cell_type": "markdown",
   "metadata": {},
   "source": [
    "# Advent of Code 2022\n",
    "## [Day 16: Proboscidea Volcanium](https://adventofcode.com/2022/day/16)"
   ]
  },
  {
   "cell_type": "code",
   "execution_count": 2,
   "metadata": {},
   "outputs": [
    {
     "data": {
      "text/plain": [
       "['Valve VR has flow rate=11; tunnels lead to valves LH, KV, BP',\n",
       " 'Valve UV has flow rate=0; tunnels lead to valves GH, RO',\n",
       " 'Valve OH has flow rate=0; tunnels lead to valves AJ, NY',\n",
       " 'Valve GD has flow rate=0; tunnels lead to valves TX, PW',\n",
       " 'Valve NS has flow rate=0; tunnels lead to valves AJ, AA',\n",
       " 'Valve KZ has flow rate=18; tunnels lead to valves KO, VK, PJ',\n",
       " 'Valve AH has flow rate=0; tunnels lead to valves ZP, DI',\n",
       " 'Valve SA has flow rate=0; tunnels lead to valves VG, JF',\n",
       " 'Valve VK has flow rate=0; tunnels lead to valves RO, KZ',\n",
       " 'Valve GB has flow rate=0; tunnels lead to valves XH, AA']"
      ]
     },
     "execution_count": 2,
     "metadata": {},
     "output_type": "execute_result"
    }
   ],
   "source": [
    "import aocd\n",
    "input_data = aocd.get_data(year=2022, day=16).split('\\n')\n",
    "input_data[:10]"
   ]
  },
  {
   "cell_type": "code",
   "execution_count": null,
   "metadata": {},
   "outputs": [],
   "source": []
  }
 ],
 "metadata": {
  "kernelspec": {
   "display_name": "Python 3",
   "language": "python",
   "name": "python3"
  },
  "language_info": {
   "codemirror_mode": {
    "name": "ipython",
    "version": 3
   },
   "file_extension": ".py",
   "mimetype": "text/x-python",
   "name": "python",
   "nbconvert_exporter": "python",
   "pygments_lexer": "ipython3",
   "version": "3.8.5"
  }
 },
 "nbformat": 4,
 "nbformat_minor": 4
}
