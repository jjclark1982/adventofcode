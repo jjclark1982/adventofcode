{
 "cells": [
  {
   "cell_type": "markdown",
   "metadata": {},
   "source": [
    "# Advent of Code 2022\n",
    "## [Day 17: Pyroclastic Flow](https://adventofcode.com/2022/day/17)"
   ]
  },
  {
   "cell_type": "code",
   "execution_count": 7,
   "metadata": {},
   "outputs": [
    {
     "data": {
      "text/plain": [
       "'>><<<<>><>><>><<>><<'"
      ]
     },
     "execution_count": 7,
     "metadata": {},
     "output_type": "execute_result"
    }
   ],
   "source": [
    "import aocd\n",
    "input_data = aocd.get_data(year=2022, day=17)\n",
    "input_data[:20]"
   ]
  },
  {
   "cell_type": "code",
   "execution_count": 16,
   "metadata": {},
   "outputs": [],
   "source": [
    "test_data = '>>><<><>><<<>><>>><<<>>><<<><<<>><>><<>>'"
   ]
  },
  {
   "cell_type": "code",
   "execution_count": 5,
   "metadata": {},
   "outputs": [],
   "source": [
    "import numpy as np"
   ]
  },
  {
   "cell_type": "code",
   "execution_count": 11,
   "metadata": {},
   "outputs": [
    {
     "data": {
      "text/plain": [
       "[array([[1, 1, 1, 1]]),\n",
       " array([[0, 1, 0],\n",
       "        [1, 1, 1],\n",
       "        [0, 1, 0]]),\n",
       " array([[0, 0, 1],\n",
       "        [0, 0, 1],\n",
       "        [1, 1, 1]]),\n",
       " array([[1],\n",
       "        [1],\n",
       "        [1],\n",
       "        [1]]),\n",
       " array([[1, 1],\n",
       "        [1, 1]])]"
      ]
     },
     "execution_count": 11,
     "metadata": {},
     "output_type": "execute_result"
    }
   ],
   "source": [
    "def parse_rock(rock):\n",
    "    return (np.array([list(line) for line in rock.split(\"\\n\")]) == '#').astype(int)\n",
    "    \n",
    "rocks = [parse_rock(rock) for rock in '''####\n",
    "\n",
    ".#.\n",
    "###\n",
    ".#.\n",
    "\n",
    "..#\n",
    "..#\n",
    "###\n",
    "\n",
    "#\n",
    "#\n",
    "#\n",
    "#\n",
    "\n",
    "##\n",
    "##'''.split(\"\\n\\n\")]\n",
    "rocks"
   ]
  },
  {
   "cell_type": "code",
   "execution_count": 15,
   "metadata": {},
   "outputs": [
    {
     "data": {
      "text/plain": [
       "array([[0, 0, 0, 0, 0, 0, 0],\n",
       "       [0, 0, 0, 0, 0, 0, 0],\n",
       "       [0, 0, 0, 0, 0, 0, 0],\n",
       "       [0, 0, 0, 0, 0, 0, 0],\n",
       "       [0, 0, 0, 0, 0, 0, 0],\n",
       "       [0, 0, 0, 0, 0, 0, 0],\n",
       "       [0, 0, 0, 0, 0, 0, 0],\n",
       "       [0, 0, 0, 0, 0, 0, 0],\n",
       "       [0, 0, 0, 0, 0, 0, 0],\n",
       "       [0, 0, 0, 0, 0, 0, 0],\n",
       "       [0, 0, 0, 0, 0, 0, 0],\n",
       "       [0, 0, 0, 0, 0, 0, 0],\n",
       "       [0, 0, 0, 0, 0, 0, 0],\n",
       "       [0, 0, 0, 0, 0, 0, 0],\n",
       "       [0, 0, 0, 0, 0, 0, 0],\n",
       "       [0, 0, 0, 0, 0, 0, 0],\n",
       "       [0, 0, 0, 0, 0, 0, 0],\n",
       "       [0, 0, 0, 0, 0, 0, 0],\n",
       "       [0, 0, 0, 0, 0, 0, 0],\n",
       "       [0, 0, 0, 0, 0, 0, 0]])"
      ]
     },
     "execution_count": 15,
     "metadata": {},
     "output_type": "execute_result"
    }
   ],
   "source": [
    "chamber = np.zeros((20, 7), dtype=int)\n",
    "chamber"
   ]
  },
  {
   "cell_type": "code",
   "execution_count": 19,
   "metadata": {},
   "outputs": [
    {
     "data": {
      "text/plain": [
       "20"
      ]
     },
     "execution_count": 19,
     "metadata": {},
     "output_type": "execute_result"
    }
   ],
   "source": [
    "def highest_floor(chamber):\n",
    "    for row in range(chamber.shape[0]):\n",
    "        if any(chamber[row]):\n",
    "            return row\n",
    "    return chamber.shape[0]\n",
    "\n",
    "highest_floor(chamber)"
   ]
  },
  {
   "cell_type": "code",
   "execution_count": 38,
   "metadata": {},
   "outputs": [
    {
     "data": {
      "text/plain": [
       "array([12,  2])"
      ]
     },
     "execution_count": 38,
     "metadata": {},
     "output_type": "execute_result"
    }
   ],
   "source": [
    "def get_initial_loc(rock, chamber):\n",
    "    row = highest_floor(chamber) - rock.shape[0] - 3\n",
    "    col = 2\n",
    "    return np.array([row, col])\n",
    "\n",
    "get_initial_loc(rocks[0], chamber)"
   ]
  },
  {
   "cell_type": "code",
   "execution_count": 156,
   "metadata": {},
   "outputs": [
    {
     "data": {
      "text/plain": [
       "array([[0, 0, 0, 0, 0, 0, 0],\n",
       "       [0, 0, 0, 0, 0, 0, 0],\n",
       "       [0, 0, 0, 0, 0, 0, 0],\n",
       "       [0, 0, 0, 0, 0, 0, 0],\n",
       "       [0, 0, 0, 0, 0, 0, 0],\n",
       "       [0, 0, 0, 0, 0, 0, 0],\n",
       "       [0, 0, 0, 0, 0, 0, 0],\n",
       "       [0, 0, 0, 0, 0, 0, 0],\n",
       "       [0, 0, 0, 0, 0, 0, 0],\n",
       "       [0, 0, 0, 0, 0, 0, 0],\n",
       "       [0, 0, 0, 0, 0, 0, 0],\n",
       "       [0, 0, 0, 0, 0, 0, 0],\n",
       "       [0, 0, 0, 0, 0, 0, 0],\n",
       "       [0, 0, 0, 0, 0, 0, 0],\n",
       "       [0, 0, 0, 0, 0, 0, 0],\n",
       "       [0, 0, 0, 0, 0, 0, 0],\n",
       "       [0, 0, 1, 1, 1, 1, 0],\n",
       "       [0, 0, 0, 0, 0, 0, 0],\n",
       "       [0, 0, 0, 0, 0, 0, 0],\n",
       "       [0, 0, 0, 0, 0, 0, 0]])"
      ]
     },
     "execution_count": 156,
     "metadata": {},
     "output_type": "execute_result"
    }
   ],
   "source": [
    "def get_loc(chamber, rock, loc):\n",
    "    end = loc + rock.shape\n",
    "    return chamber[loc[0]:end[0],loc[1]:end[1]] & rock\n",
    "\n",
    "def put_loc(chamber, rock, loc):\n",
    "    end = loc + rock.shape\n",
    "    chamber[loc[0]:end[0],loc[1]:end[1]] = rock\n",
    "    \n",
    "chamber = np.zeros((20, 7), dtype=int)\n",
    "overlay(chamber, rocks[0], get_initial_loc(rocks[0], chamber))\n",
    "chamber"
   ]
  },
  {
   "cell_type": "code",
   "execution_count": 36,
   "metadata": {},
   "outputs": [
    {
     "data": {
      "text/plain": [
       "True"
      ]
     },
     "execution_count": 36,
     "metadata": {},
     "output_type": "execute_result"
    }
   ],
   "source": [
    "np.any(chamber)"
   ]
  },
  {
   "cell_type": "code",
   "execution_count": 48,
   "metadata": {},
   "outputs": [
    {
     "data": {
      "text/plain": [
       "array([3, 5])"
      ]
     },
     "execution_count": 48,
     "metadata": {},
     "output_type": "execute_result"
    }
   ],
   "source": [
    "np.array([3,4]) + (0, 1)"
   ]
  },
  {
   "cell_type": "code",
   "execution_count": 163,
   "metadata": {},
   "outputs": [
    {
     "name": "stdout",
     "output_type": "stream",
     "text": [
      "[[0 0 0 ... 0 0 0]\n",
      " [0 0 0 ... 0 0 0]\n",
      " [0 0 0 ... 0 0 0]\n",
      " ...\n",
      " [0 0 1 ... 1 0 0]\n",
      " [0 0 0 ... 0 0 0]\n",
      " [0 0 1 ... 1 1 0]]\n"
     ]
    },
    {
     "data": {
      "text/plain": [
       "3068"
      ]
     },
     "execution_count": 163,
     "metadata": {},
     "output_type": "execute_result"
    }
   ],
   "source": [
    "def run_sim(gas, max_rocks=None, max_steps=None):\n",
    "    n_rocks = 0\n",
    "    rock = None\n",
    "    loc = None\n",
    "    i = 0\n",
    "    chamber = np.zeros((10, 7), dtype=int)\n",
    "    while True:\n",
    "        if max_rocks is not None and n_rocks >= max_rocks:\n",
    "            break\n",
    "        if max_steps is not None and i >= max_steps:\n",
    "            break\n",
    "            \n",
    "        # select rock to appear\n",
    "        if rock is None:\n",
    "            rock = rocks[n_rocks % len(rocks)]\n",
    "            loc = get_initial_loc(rock, chamber)\n",
    "            if loc[0] < 0:\n",
    "                chamber = np.vstack([np.zeros((10, 7), dtype=int), chamber])\n",
    "                loc = get_initial_loc(rock, chamber)\n",
    "                \n",
    "        # sideways move\n",
    "        jet = gas[i % len(gas)]\n",
    "        if jet == '<':\n",
    "            next_loc = loc + (0, -1)\n",
    "        elif jet == '>':\n",
    "            next_loc = loc + (0, 1)\n",
    "        if 0 <= next_loc[1] < chamber.shape[1] - rock.shape[1] + 1:\n",
    "            if not np.any(get_loc(chamber, rock, next_loc)):\n",
    "                loc = next_loc\n",
    "                \n",
    "        # downward move\n",
    "        next_loc = loc + (1, 0)\n",
    "        if next_loc[0] < chamber.shape[0] - rock.shape[0] + 1:\n",
    "            if not np.any(get_loc(chamber, rock, next_loc)):\n",
    "                loc = next_loc\n",
    "        if tuple(loc) != tuple(next_loc):\n",
    "            put_loc(chamber, rock, loc)\n",
    "            rock = None\n",
    "            n_rocks += 1\n",
    "        i += 1\n",
    "    \n",
    "    if rock is not None:\n",
    "        put_loc(chamber, rock * 2, loc)\n",
    "        \n",
    "    return chamber\n",
    "        \n",
    "chamber = run_sim(test_data, max_rocks=2022)\n",
    "print(chamber)\n",
    "chamber.shape[0] - highest_floor(chamber)"
   ]
  },
  {
   "cell_type": "code",
   "execution_count": 152,
   "metadata": {},
   "outputs": [
    {
     "data": {
      "text/plain": [
       "3068"
      ]
     },
     "execution_count": 152,
     "metadata": {},
     "output_type": "execute_result"
    }
   ],
   "source": [
    "chamber.shape[0] - highest_floor(chamber)"
   ]
  },
  {
   "cell_type": "code",
   "execution_count": 168,
   "metadata": {},
   "outputs": [
    {
     "data": {
      "text/plain": [
       "3169"
      ]
     },
     "execution_count": 168,
     "metadata": {},
     "output_type": "execute_result"
    }
   ],
   "source": [
    "chamber = run_sim(input_data, max_rocks=2022)\n",
    "chamber.shape[0] - highest_floor(chamber)"
   ]
  },
  {
   "cell_type": "code",
   "execution_count": null,
   "metadata": {},
   "outputs": [],
   "source": []
  }
 ],
 "metadata": {
  "kernelspec": {
   "display_name": "Python 3",
   "language": "python",
   "name": "python3"
  },
  "language_info": {
   "codemirror_mode": {
    "name": "ipython",
    "version": 3
   },
   "file_extension": ".py",
   "mimetype": "text/x-python",
   "name": "python",
   "nbconvert_exporter": "python",
   "pygments_lexer": "ipython3",
   "version": "3.8.5"
  }
 },
 "nbformat": 4,
 "nbformat_minor": 4
}
