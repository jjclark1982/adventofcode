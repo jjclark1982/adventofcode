{
 "cells": [
  {
   "cell_type": "markdown",
   "metadata": {},
   "source": [
    "# Advent of Code 2022\n",
    "## [Day 5: Supply Stacks](https://adventofcode.com/2022/day/5)"
   ]
  },
  {
   "cell_type": "code",
   "execution_count": 1,
   "metadata": {},
   "outputs": [],
   "source": [
    "import aocd\n",
    "input_data = [group.split('\\n') for group in aocd.get_data(year=2022, day=5).split('\\n\\n')]"
   ]
  },
  {
   "cell_type": "code",
   "execution_count": 2,
   "metadata": {},
   "outputs": [
    {
     "data": {
      "text/plain": [
       "['        [Q] [B]         [H]        ',\n",
       " '    [F] [W] [D] [Q]     [S]        ',\n",
       " '    [D] [C] [N] [S] [G] [F]        ',\n",
       " '    [R] [D] [L] [C] [N] [Q]     [R]',\n",
       " '[V] [W] [L] [M] [P] [S] [M]     [M]',\n",
       " '[J] [B] [F] [P] [B] [B] [P] [F] [F]',\n",
       " '[B] [V] [G] [J] [N] [D] [B] [L] [V]',\n",
       " '[D] [P] [R] [W] [H] [R] [Z] [W] [S]',\n",
       " ' 1   2   3   4   5   6   7   8   9 ']"
      ]
     },
     "execution_count": 2,
     "metadata": {},
     "output_type": "execute_result"
    }
   ],
   "source": [
    "stack_input = input_data[0]\n",
    "stack_input"
   ]
  },
  {
   "cell_type": "code",
   "execution_count": 3,
   "metadata": {},
   "outputs": [
    {
     "data": {
      "text/plain": [
       "['move 1 from 4 to 1',\n",
       " 'move 2 from 4 to 8',\n",
       " 'move 5 from 9 to 6',\n",
       " 'move 1 from 1 to 3',\n",
       " 'move 5 from 8 to 3']"
      ]
     },
     "execution_count": 3,
     "metadata": {},
     "output_type": "execute_result"
    }
   ],
   "source": [
    "commands = input_data[1]\n",
    "commands[:5]"
   ]
  },
  {
   "cell_type": "markdown",
   "metadata": {},
   "source": [
    "### Part 1"
   ]
  },
  {
   "cell_type": "code",
   "execution_count": 4,
   "metadata": {},
   "outputs": [
    {
     "data": {
      "text/plain": [
       "[[],\n",
       " ['D', 'B', 'J', 'V'],\n",
       " ['P', 'V', 'B', 'W', 'R', 'D', 'F'],\n",
       " ['R', 'G', 'F', 'L', 'D', 'C', 'W', 'Q'],\n",
       " ['W', 'J', 'P', 'M', 'L', 'N', 'D', 'B'],\n",
       " ['H', 'N', 'B', 'P', 'C', 'S', 'Q'],\n",
       " ['R', 'D', 'B', 'S', 'N', 'G'],\n",
       " ['Z', 'B', 'P', 'M', 'Q', 'F', 'S', 'H'],\n",
       " ['W', 'L', 'F'],\n",
       " ['S', 'V', 'F', 'M', 'R']]"
      ]
     },
     "execution_count": 4,
     "metadata": {},
     "output_type": "execute_result"
    }
   ],
   "source": [
    "def parse_column(stack_input, i):\n",
    "    stack = []\n",
    "    for line in reversed(stack_input[:-1]):\n",
    "        item = line[4*(i-1) + 1]\n",
    "        if item != \" \":\n",
    "            stack.append(item)\n",
    "    return stack\n",
    "\n",
    "def parse_stacks(stack_input):\n",
    "    stacks = [[]] + [parse_column(stack_input, i) for i in range(1,10)]\n",
    "    \n",
    "    return stacks\n",
    "\n",
    "stacks = parse_stacks(stack_input)\n",
    "stacks"
   ]
  },
  {
   "cell_type": "code",
   "execution_count": 5,
   "metadata": {},
   "outputs": [],
   "source": [
    "import re"
   ]
  },
  {
   "cell_type": "code",
   "execution_count": 6,
   "metadata": {},
   "outputs": [
    {
     "data": {
      "text/plain": [
       "(1, 4, 1)"
      ]
     },
     "execution_count": 6,
     "metadata": {},
     "output_type": "execute_result"
    }
   ],
   "source": [
    "def parse_command(command):\n",
    "    n, from_stack, to_stack = [*map(int, re.findall(r'\\d+', command))]\n",
    "    return n, from_stack, to_stack\n",
    "\n",
    "parse_command(commands[0])"
   ]
  },
  {
   "cell_type": "code",
   "execution_count": 7,
   "metadata": {},
   "outputs": [],
   "source": [
    "def move_crate(from_stack, to_stack):\n",
    "    crate = stacks[from_stack].pop()\n",
    "    stacks[to_stack].append(crate)"
   ]
  },
  {
   "cell_type": "code",
   "execution_count": 8,
   "metadata": {},
   "outputs": [
    {
     "data": {
      "text/plain": [
       "[[],\n",
       " ['F', 'N', 'B', 'G', 'B'],\n",
       " ['B', 'S', 'G', 'S'],\n",
       " ['V', 'M', 'B', 'D', 'Z', 'W', 'R', 'D'],\n",
       " ['R', 'W', 'M'],\n",
       " ['F', 'P', 'V', 'W', 'Q'],\n",
       " ['H',\n",
       "  'J',\n",
       "  'L',\n",
       "  'R',\n",
       "  'D',\n",
       "  'P',\n",
       "  'F',\n",
       "  'S',\n",
       "  'P',\n",
       "  'J',\n",
       "  'V',\n",
       "  'D',\n",
       "  'N',\n",
       "  'D',\n",
       "  'C',\n",
       "  'F',\n",
       "  'F'],\n",
       " ['N', 'L'],\n",
       " ['S'],\n",
       " ['B', 'C', 'R', 'H', 'W', 'L', 'B', 'Q', 'M', 'Q', 'P']]"
      ]
     },
     "execution_count": 8,
     "metadata": {},
     "output_type": "execute_result"
    }
   ],
   "source": [
    "stacks = parse_stacks(stack_input)\n",
    "for command in commands:\n",
    "    n, from_stack, to_stack = parse_command(command)\n",
    "    for _ in range(n):\n",
    "        move_crate(from_stack, to_stack)\n",
    "        \n",
    "stacks"
   ]
  },
  {
   "cell_type": "markdown",
   "metadata": {},
   "source": [
    "#### Part 1 Answer\n",
    "**After the rearrangement procedure completes, what crate ends up on top of each stack?**"
   ]
  },
  {
   "cell_type": "code",
   "execution_count": 9,
   "metadata": {},
   "outputs": [
    {
     "data": {
      "text/plain": [
       "'BSDMQFLSP'"
      ]
     },
     "execution_count": 9,
     "metadata": {},
     "output_type": "execute_result"
    }
   ],
   "source": [
    "\"\".join([stack[-1] for stack in stacks[1:]])"
   ]
  },
  {
   "cell_type": "markdown",
   "metadata": {},
   "source": [
    "---\n",
    "### Part 2"
   ]
  },
  {
   "cell_type": "code",
   "execution_count": 10,
   "metadata": {},
   "outputs": [],
   "source": [
    "def move_crates(from_stack, to_stack, n=1):\n",
    "    crates = []\n",
    "    for _ in range(n):\n",
    "        crates.append(stacks[from_stack].pop())\n",
    "    while crates:\n",
    "        stacks[to_stack].append(crates.pop())"
   ]
  },
  {
   "cell_type": "code",
   "execution_count": 11,
   "metadata": {},
   "outputs": [
    {
     "data": {
      "text/plain": [
       "[[],\n",
       " ['F', 'D', 'M', 'G', 'P'],\n",
       " ['D', 'V', 'Z', 'G'],\n",
       " ['M', 'R', 'R', 'S', 'V', 'B', 'H', 'S'],\n",
       " ['S', 'H', 'Q'],\n",
       " ['D', 'L', 'C', 'N', 'B'],\n",
       " ['D',\n",
       "  'P',\n",
       "  'J',\n",
       "  'W',\n",
       "  'C',\n",
       "  'B',\n",
       "  'S',\n",
       "  'N',\n",
       "  'F',\n",
       "  'L',\n",
       "  'F',\n",
       "  'W',\n",
       "  'R',\n",
       "  'Q',\n",
       "  'F',\n",
       "  'W',\n",
       "  'F'],\n",
       " ['V', 'L'],\n",
       " ['D'],\n",
       " ['W', 'Q', 'B', 'B', 'P', 'M', 'B', 'J', 'R', 'N', 'P']]"
      ]
     },
     "execution_count": 11,
     "metadata": {},
     "output_type": "execute_result"
    }
   ],
   "source": [
    "stacks = parse_stacks(stack_input)\n",
    "for command in commands:\n",
    "    n, from_stack, to_stack = parse_command(command)\n",
    "    move_crates(from_stack, to_stack, n)\n",
    "        \n",
    "stacks"
   ]
  },
  {
   "cell_type": "markdown",
   "metadata": {},
   "source": [
    "#### Part 2 Answer\n",
    "Before the rearrangement process finishes, update your simulation so that the Elves know where they should stand to be ready to unload the final supplies.  \n",
    "**After the rearrangement procedure completes, what crate ends up on top of each stack?**"
   ]
  },
  {
   "cell_type": "code",
   "execution_count": 12,
   "metadata": {},
   "outputs": [
    {
     "data": {
      "text/plain": [
       "'PGSQBFLDP'"
      ]
     },
     "execution_count": 12,
     "metadata": {},
     "output_type": "execute_result"
    }
   ],
   "source": [
    "\"\".join([stack[-1] for stack in stacks[1:]])"
   ]
  }
 ],
 "metadata": {
  "kernelspec": {
   "display_name": "Python 3",
   "language": "python",
   "name": "python3"
  },
  "language_info": {
   "codemirror_mode": {
    "name": "ipython",
    "version": 3
   },
   "file_extension": ".py",
   "mimetype": "text/x-python",
   "name": "python",
   "nbconvert_exporter": "python",
   "pygments_lexer": "ipython3",
   "version": "3.8.5"
  }
 },
 "nbformat": 4,
 "nbformat_minor": 4
}
