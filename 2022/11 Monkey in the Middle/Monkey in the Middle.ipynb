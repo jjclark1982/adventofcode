{
 "cells": [
  {
   "cell_type": "markdown",
   "metadata": {},
   "source": [
    "# Advent of Code 2022\n",
    "## [Day 11: Monkey in the Middle](https://adventofcode.com/2022/day/11)"
   ]
  },
  {
   "cell_type": "markdown",
   "metadata": {},
   "source": [
    "#### Load Data"
   ]
  },
  {
   "cell_type": "code",
   "execution_count": 1,
   "metadata": {
    "tags": []
   },
   "outputs": [
    {
     "data": {
      "text/plain": [
       "['Monkey 0:',\n",
       " '  Starting items: 54, 98, 50, 94, 69, 62, 53, 85',\n",
       " '  Operation: new = old * 13',\n",
       " '  Test: divisible by 3',\n",
       " '    If true: throw to monkey 2',\n",
       " '    If false: throw to monkey 1']"
      ]
     },
     "execution_count": 1,
     "metadata": {},
     "output_type": "execute_result"
    }
   ],
   "source": [
    "import aocd\n",
    "input_data = aocd.get_data(year=2022, day=11)\n",
    "input_groups = [group.split(\"\\n\") for group in input_data.split(\"\\n\\n\")]\n",
    "input_groups[0]"
   ]
  },
  {
   "cell_type": "code",
   "execution_count": 2,
   "metadata": {},
   "outputs": [],
   "source": [
    "import re"
   ]
  },
  {
   "cell_type": "code",
   "execution_count": 3,
   "metadata": {},
   "outputs": [
    {
     "data": {
      "text/plain": [
       "[54, 98, 50, 94, 69, 62, 53, 85]"
      ]
     },
     "execution_count": 3,
     "metadata": {},
     "output_type": "execute_result"
    }
   ],
   "source": [
    "def parse_ints(line:str):\n",
    "    return [int(i) for i in re.findall(r'(\\d+)', line)]\n",
    "\n",
    "parse_ints(input_groups[0][1])"
   ]
  },
  {
   "cell_type": "markdown",
   "metadata": {},
   "source": [
    "### Part 1"
   ]
  },
  {
   "cell_type": "code",
   "execution_count": 4,
   "metadata": {},
   "outputs": [
    {
     "data": {
      "text/plain": [
       "{'id': 0,\n",
       " 'items': [54, 98, 50, 94, 69, 62, 53, 85],\n",
       " 'operation': 'old * 13',\n",
       " 'test_divisor': 3,\n",
       " 'if_true': 2,\n",
       " 'if_false': 1,\n",
       " 'inspections': 0}"
      ]
     },
     "execution_count": 4,
     "metadata": {},
     "output_type": "execute_result"
    }
   ],
   "source": [
    "class Monkey:\n",
    "    def __init__(self, lines: str):\n",
    "        self.id, = parse_ints(lines[0])\n",
    "        self.items = parse_ints(lines[1])\n",
    "        self.operation = lines[2][19:]\n",
    "        self.test_divisor, = parse_ints(lines[3])\n",
    "        self.if_true, = parse_ints(lines[4])\n",
    "        self.if_false, = parse_ints(lines[5])\n",
    "        self.inspections = 0\n",
    "        \n",
    "    def __repr__(self):\n",
    "        return f\"Monkey {self.id} ({self.inspections}) {self.items}\"\n",
    "\n",
    "    def operate(self, old):\n",
    "        return eval(self.operation)\n",
    "    \n",
    "    def throw_to(self, worry_level):\n",
    "        if worry_level % self.test_divisor == 0:\n",
    "            return self.if_true\n",
    "        else:\n",
    "            return self.if_false\n",
    "        \n",
    "    def take_turn(self, relief_factor=3, modulus=None):\n",
    "        for worry_level in self.items:\n",
    "            self.inspections += 1\n",
    "            worry_level = self.operate(worry_level)\n",
    "            worry_level //= relief_factor\n",
    "            if modulus:\n",
    "                worry_level = worry_level % modulus\n",
    "            target = self.throw_to(worry_level)\n",
    "            monkeys[target].items.append(worry_level)\n",
    "        self.items = []\n",
    "        \n",
    "Monkey(input_groups[0]).__dict__"
   ]
  },
  {
   "cell_type": "code",
   "execution_count": 5,
   "metadata": {},
   "outputs": [
    {
     "data": {
      "text/plain": [
       "[Monkey 0 (0) [54, 98, 50, 94, 69, 62, 53, 85],\n",
       " Monkey 1 (0) [71, 55, 82],\n",
       " Monkey 2 (0) [77, 73, 86, 72, 87],\n",
       " Monkey 3 (0) [97, 91],\n",
       " Monkey 4 (0) [78, 97, 51, 85, 66, 63, 62],\n",
       " Monkey 5 (0) [88],\n",
       " Monkey 6 (0) [87, 57, 63, 86, 87, 53],\n",
       " Monkey 7 (0) [73, 59, 82, 65]]"
      ]
     },
     "execution_count": 5,
     "metadata": {},
     "output_type": "execute_result"
    }
   ],
   "source": [
    "monkeys = [Monkey(g) for g in input_groups]\n",
    "monkeys"
   ]
  },
  {
   "cell_type": "code",
   "execution_count": 6,
   "metadata": {},
   "outputs": [
    {
     "data": {
      "text/plain": [
       "[Monkey 0 (0) [54, 98, 50, 94, 69, 62, 53, 85, 30],\n",
       " Monkey 1 (0) [71, 55, 82],\n",
       " Monkey 2 (0) [77, 73, 86, 72, 87],\n",
       " Monkey 3 (0) [97, 91],\n",
       " Monkey 4 (0) [78, 97, 51, 85, 66, 63, 62],\n",
       " Monkey 5 (1) [],\n",
       " Monkey 6 (0) [87, 57, 63, 86, 87, 53],\n",
       " Monkey 7 (0) [73, 59, 82, 65]]"
      ]
     },
     "execution_count": 6,
     "metadata": {},
     "output_type": "execute_result"
    }
   ],
   "source": [
    "monkeys[5].take_turn()\n",
    "monkeys"
   ]
  },
  {
   "cell_type": "code",
   "execution_count": 7,
   "metadata": {},
   "outputs": [],
   "source": [
    "def run_round(**kwargs):\n",
    "    for monkey in monkeys:\n",
    "        monkey.take_turn(**kwargs)"
   ]
  },
  {
   "cell_type": "markdown",
   "metadata": {},
   "source": [
    "#### Part 1 Answer\n",
    "Figure out which monkeys to chase by counting how many items they inspect over 20 rounds.  \n",
    "**What is the level of monkey business after 20 rounds of stuff-slinging simian shenanigans?**"
   ]
  },
  {
   "cell_type": "code",
   "execution_count": 8,
   "metadata": {},
   "outputs": [
    {
     "data": {
      "text/plain": [
       "[Monkey 0 (323) [3, 1, 1, 1, 1, 1, 1, 1, 1, 1, 1, 1, 1, 1, 1, 1, 1, 1, 675],\n",
       " Monkey 1 (302) [],\n",
       " Monkey 2 (333) [],\n",
       " Monkey 3 (318) [7378, 225, 225, 3, 3, 3, 3, 3, 3, 3, 3, 3, 3, 3, 3, 3, 3],\n",
       " Monkey 4 (55) [],\n",
       " Monkey 5 (314) [],\n",
       " Monkey 6 (25) [],\n",
       " Monkey 7 (337) []]"
      ]
     },
     "execution_count": 8,
     "metadata": {},
     "output_type": "execute_result"
    }
   ],
   "source": [
    "monkeys = [Monkey(g) for g in input_groups]\n",
    "for _ in range(20):\n",
    "    run_round()\n",
    "monkeys"
   ]
  },
  {
   "cell_type": "code",
   "execution_count": 9,
   "metadata": {},
   "outputs": [
    {
     "data": {
      "text/plain": [
       "112221"
      ]
     },
     "execution_count": 9,
     "metadata": {},
     "output_type": "execute_result"
    }
   ],
   "source": [
    "def monkey_business(monkeys):\n",
    "    inspections = sorted([m.inspections for m in monkeys])\n",
    "    return inspections[-1] * inspections[-2]\n",
    "monkey_business(monkeys)"
   ]
  },
  {
   "cell_type": "markdown",
   "metadata": {},
   "source": [
    "---"
   ]
  },
  {
   "cell_type": "markdown",
   "metadata": {},
   "source": [
    "### Part 2"
   ]
  },
  {
   "cell_type": "code",
   "execution_count": 10,
   "metadata": {},
   "outputs": [
    {
     "data": {
      "text/plain": [
       "[Monkey 0 (273) [53892346895282753309310478214642, 59712408315679146282377528668, 13149678514622588, 3472077778387243602206203369322899697198, 3472077778387243602206203369322899697198, 10303565507395642769907270316, 91769706111, 91769706111, 11417375036475, 70309713297, 12857646816140937, 44600529147, 17425633221495, 165223402063959, 157318971377469, 22943649707159, 12709492466457],\n",
       " Monkey 1 (155) [2833675514109104851624611488],\n",
       " Monkey 2 (309) [],\n",
       " Monkey 3 (280) [507955391644306930325229486, 1169823957396270422712689761068, 46247045998327466063114695213457965558480192910754308937438, 323241357713003570192386747424038482635425538582794, 3776260185870161992482131971479074409759484, 766635825704008610165336913014003455439, 1193006179457, 14153335874705, 17742026259542183, 17742026259542183, 226533231879449, 103300753871849],\n",
       " Monkey 4 (132) [11198678988554607191821461465314, 1489278800000820878784066661344308719304498134362, 20773888939950193955113079760, 1103722120575227851771941852709620422401959842904, 1092763516252591892601580257555150475418904, 141367123375481892946523394251702213170363474841916913316],\n",
       " Monkey 5 (276) [],\n",
       " Monkey 6 (39) [],\n",
       " Monkey 7 (297) []]"
      ]
     },
     "execution_count": 10,
     "metadata": {},
     "output_type": "execute_result"
    }
   ],
   "source": [
    "monkeys = [Monkey(g) for g in input_groups]\n",
    "for _ in range(20):\n",
    "    run_round(relief_factor=1)\n",
    "monkeys"
   ]
  },
  {
   "cell_type": "code",
   "execution_count": 11,
   "metadata": {},
   "outputs": [],
   "source": [
    "from functools import reduce"
   ]
  },
  {
   "cell_type": "code",
   "execution_count": 12,
   "metadata": {},
   "outputs": [
    {
     "data": {
      "text/plain": [
       "9699690"
      ]
     },
     "execution_count": 12,
     "metadata": {},
     "output_type": "execute_result"
    }
   ],
   "source": [
    "def get_modulus(monkeys):\n",
    "    return reduce(lambda x,y:x*y, [m.test_divisor for m in monkeys])\n",
    "\n",
    "get_modulus(monkeys)"
   ]
  },
  {
   "cell_type": "code",
   "execution_count": 13,
   "metadata": {},
   "outputs": [
    {
     "data": {
      "text/plain": [
       "[Monkey 0 (273) [2327372, 2528788, 1311248, 3618488, 3618488, 2663326, 939021, 939021, 5733135, 6360177, 2659467, 1354527, 4340835, 7767999, 9657549, 2981159, 8058837],\n",
       " Monkey 1 (155) [4367678],\n",
       " Monkey 2 (309) [],\n",
       " Monkey 3 (280) [3651906, 4682208, 3367428, 2862664, 9333544, 8973329, 2507597, 4112135, 9273863, 9273863, 7932419, 5941469],\n",
       " Monkey 4 (132) [3096224, 7402242, 9693570, 668814, 8227014, 2583506],\n",
       " Monkey 5 (276) [],\n",
       " Monkey 6 (39) [],\n",
       " Monkey 7 (297) []]"
      ]
     },
     "execution_count": 13,
     "metadata": {},
     "output_type": "execute_result"
    }
   ],
   "source": [
    "monkeys = [Monkey(g) for g in input_groups]\n",
    "for _ in range(20):\n",
    "    run_round(relief_factor=1, modulus=get_modulus(monkeys))\n",
    "monkeys"
   ]
  },
  {
   "cell_type": "markdown",
   "metadata": {},
   "source": [
    "#### Part 2 Answer\n",
    "Worry levels are no longer divided by three after each item is inspected; you'll need to find another way to keep your worry levels manageable. Starting again from the initial state in your puzzle input, **what is the level of monkey business after 10000 rounds?**"
   ]
  },
  {
   "cell_type": "code",
   "execution_count": 14,
   "metadata": {},
   "outputs": [
    {
     "data": {
      "text/plain": [
       "[Monkey 0 (148544) [899746, 5018302, 1418297, 7669316, 7182232, 7182232, 5003991, 2881065, 59337, 7018185, 8429049, 3138309, 3101181, 3101181, 3296103, 8057769],\n",
       " Monkey 1 (59007) [],\n",
       " Monkey 2 (161943) [],\n",
       " Monkey 3 (156055) [8812698, 2369392, 3280354, 4762822, 7669312, 3670031, 5857931, 5857931, 6853757, 7194539, 1516607, 2045681, 2045681, 1356161, 4344965, 374921, 7150965],\n",
       " Monkey 4 (54734) [7789658, 6224094, 6071822],\n",
       " Monkey 5 (156056) [],\n",
       " Monkey 6 (5926) [],\n",
       " Monkey 7 (149165) []]"
      ]
     },
     "execution_count": 14,
     "metadata": {},
     "output_type": "execute_result"
    }
   ],
   "source": [
    "monkeys = [Monkey(g) for g in input_groups]\n",
    "for _ in range(10000):\n",
    "    run_round(relief_factor=1, modulus=get_modulus(monkeys))\n",
    "monkeys"
   ]
  },
  {
   "cell_type": "code",
   "execution_count": 15,
   "metadata": {},
   "outputs": [
    {
     "data": {
      "text/plain": [
       "25272176808"
      ]
     },
     "execution_count": 15,
     "metadata": {},
     "output_type": "execute_result"
    }
   ],
   "source": [
    "monkey_business(monkeys)"
   ]
  }
 ],
 "metadata": {
  "kernelspec": {
   "display_name": "Python 3",
   "language": "python",
   "name": "python3"
  },
  "language_info": {
   "codemirror_mode": {
    "name": "ipython",
    "version": 3
   },
   "file_extension": ".py",
   "mimetype": "text/x-python",
   "name": "python",
   "nbconvert_exporter": "python",
   "pygments_lexer": "ipython3",
   "version": "3.8.5"
  }
 },
 "nbformat": 4,
 "nbformat_minor": 4
}
