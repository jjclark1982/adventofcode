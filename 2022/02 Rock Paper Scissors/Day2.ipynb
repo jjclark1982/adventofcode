{
 "cells": [
  {
   "cell_type": "markdown",
   "metadata": {},
   "source": [
    "# Advent of Code 2022\n",
    "## [Day 2: Rock Paper Scissors](https://adventofcode.com/2022/day/2)"
   ]
  },
  {
   "cell_type": "code",
   "execution_count": 1,
   "metadata": {},
   "outputs": [
    {
     "data": {
      "text/plain": [
       "[['A', 'Z'], ['C', 'X'], ['A', 'Z'], ['A', 'Z'], ['C', 'Y']]"
      ]
     },
     "execution_count": 1,
     "metadata": {},
     "output_type": "execute_result"
    }
   ],
   "source": [
    "import aocd\n",
    "input_data = [line.split(\" \") for line in aocd.get_data(year=2022, day=2).split('\\n')]\n",
    "input_data[:5]"
   ]
  },
  {
   "cell_type": "markdown",
   "metadata": {},
   "source": [
    "### Part 1"
   ]
  },
  {
   "cell_type": "code",
   "execution_count": 2,
   "metadata": {},
   "outputs": [],
   "source": [
    "from enum import IntEnum"
   ]
  },
  {
   "cell_type": "code",
   "execution_count": 3,
   "metadata": {},
   "outputs": [
    {
     "data": {
      "text/plain": [
       "[[False, False, True], [True, False, False], [False, True, False]]"
      ]
     },
     "execution_count": 3,
     "metadata": {},
     "output_type": "execute_result"
    }
   ],
   "source": [
    "class SHAPE(IntEnum):\n",
    "    ROCK = 1\n",
    "    PAPER = 2\n",
    "    SCISSORS = 3\n",
    "    \n",
    "    @property\n",
    "    def beats(self):\n",
    "        return SHAPE((self +2 -1) % 3 + 1)\n",
    "\n",
    "    @property\n",
    "    def beaten_by(self):\n",
    "        return SHAPE((self -2 -1) % 3 + 1)\n",
    "    \n",
    "    def __gt__(self, other):\n",
    "        if other == self.beats:\n",
    "            return True\n",
    "        else:\n",
    "            return False\n",
    "        \n",
    "    @classmethod\n",
    "    def from_letter(cls, letter):\n",
    "        mapping = {\n",
    "            \"A\": ROCK,\n",
    "            \"B\": PAPER,\n",
    "            \"C\": SCISSORS,\n",
    "            \"X\": ROCK,\n",
    "            \"Y\": PAPER,\n",
    "            \"Z\": SCISSORS\n",
    "        }\n",
    "        return mapping[letter]\n",
    "        \n",
    "ROCK = SHAPE.ROCK\n",
    "PAPER = SHAPE.PAPER\n",
    "SCISSORS = SHAPE.SCISSORS\n",
    "\n",
    "[[y > x for x in SHAPE] for y in SHAPE]"
   ]
  },
  {
   "cell_type": "code",
   "execution_count": 4,
   "metadata": {},
   "outputs": [
    {
     "data": {
      "text/plain": [
       "[[<SHAPE.ROCK: 1>, <SHAPE.SCISSORS: 3>],\n",
       " [<SHAPE.SCISSORS: 3>, <SHAPE.ROCK: 1>],\n",
       " [<SHAPE.ROCK: 1>, <SHAPE.SCISSORS: 3>],\n",
       " [<SHAPE.ROCK: 1>, <SHAPE.SCISSORS: 3>],\n",
       " [<SHAPE.SCISSORS: 3>, <SHAPE.PAPER: 2>]]"
      ]
     },
     "execution_count": 4,
     "metadata": {},
     "output_type": "execute_result"
    }
   ],
   "source": [
    "rounds = [[SHAPE.from_letter(p) for p in line] for line in input_data]\n",
    "rounds[:5]"
   ]
  },
  {
   "cell_type": "code",
   "execution_count": 5,
   "metadata": {},
   "outputs": [],
   "source": [
    "class RESULT(IntEnum):\n",
    "    WIN = 6\n",
    "    DRAW = 3\n",
    "    LOSE = 0\n",
    "    \n",
    "    @classmethod\n",
    "    def from_letter(cls, letter):\n",
    "        mapping = {\n",
    "            \"X\": LOSE,\n",
    "            \"Y\": DRAW,\n",
    "            \"Z\": WIN\n",
    "        }\n",
    "        return mapping[letter]        \n",
    "    \n",
    "WIN = RESULT.WIN\n",
    "DRAW = RESULT.DRAW\n",
    "LOSE = RESULT.LOSE"
   ]
  },
  {
   "cell_type": "code",
   "execution_count": 6,
   "metadata": {},
   "outputs": [
    {
     "data": {
      "text/plain": [
       "8"
      ]
     },
     "execution_count": 6,
     "metadata": {},
     "output_type": "execute_result"
    }
   ],
   "source": [
    "def outcome_score(p1, p2):\n",
    "    if p2 > p1:\n",
    "        return WIN\n",
    "    if p1 > p2:\n",
    "        return LOSE\n",
    "    return DRAW\n",
    "        \n",
    "def score_round(p1, p2):\n",
    "    return outcome_score(p1, p2) + p2\n",
    "\n",
    "score_round(ROCK, PAPER)"
   ]
  },
  {
   "cell_type": "markdown",
   "metadata": {},
   "source": [
    "#### Part 1 Answer\n",
    "**What would your total score be if everything goes exactly according to your strategy guide?**"
   ]
  },
  {
   "cell_type": "code",
   "execution_count": 7,
   "metadata": {},
   "outputs": [
    {
     "data": {
      "text/plain": [
       "11767"
      ]
     },
     "execution_count": 7,
     "metadata": {},
     "output_type": "execute_result"
    }
   ],
   "source": [
    "sum([score_round(*round) for round in rounds])"
   ]
  },
  {
   "cell_type": "markdown",
   "metadata": {},
   "source": [
    "---\n",
    "### Part 2"
   ]
  },
  {
   "cell_type": "code",
   "execution_count": 8,
   "metadata": {},
   "outputs": [
    {
     "data": {
      "text/plain": [
       "['A', 'Z']"
      ]
     },
     "execution_count": 8,
     "metadata": {},
     "output_type": "execute_result"
    }
   ],
   "source": [
    "input_data[0]"
   ]
  },
  {
   "cell_type": "code",
   "execution_count": 9,
   "metadata": {},
   "outputs": [
    {
     "data": {
      "text/plain": [
       "<SHAPE.ROCK: 1>"
      ]
     },
     "execution_count": 9,
     "metadata": {},
     "output_type": "execute_result"
    }
   ],
   "source": [
    "def select_shape(p1: SHAPE, result: int):    \n",
    "    if result == DRAW:\n",
    "        return p1\n",
    "    elif result == WIN:\n",
    "        return p1.beaten_by\n",
    "    else:\n",
    "        return p1.beats\n",
    "    \n",
    "select_shape(ROCK, DRAW)"
   ]
  },
  {
   "cell_type": "code",
   "execution_count": 10,
   "metadata": {},
   "outputs": [
    {
     "data": {
      "text/plain": [
       "1"
      ]
     },
     "execution_count": 10,
     "metadata": {},
     "output_type": "execute_result"
    }
   ],
   "source": [
    "def play_round(p1: str, result: str):\n",
    "    p1 = SHAPE.from_letter(p1)\n",
    "    result = RESULT.from_letter(result)\n",
    "    \n",
    "    p2 = select_shape(p1, result)\n",
    "    return score_round(p1, p2)\n",
    "\n",
    "play_round(\"B\", \"X\")"
   ]
  },
  {
   "cell_type": "markdown",
   "metadata": {},
   "source": [
    "#### Part 2 Answer\n",
    "Following the Elf's instructions for the second column, **what would your total score be if everything goes exactly according to your strategy guide?**"
   ]
  },
  {
   "cell_type": "code",
   "execution_count": 11,
   "metadata": {},
   "outputs": [
    {
     "data": {
      "text/plain": [
       "13886"
      ]
     },
     "execution_count": 11,
     "metadata": {},
     "output_type": "execute_result"
    }
   ],
   "source": [
    "sum([play_round(*round) for round in input_data])"
   ]
  }
 ],
 "metadata": {
  "kernelspec": {
   "display_name": "Python 3",
   "language": "python",
   "name": "python3"
  },
  "language_info": {
   "codemirror_mode": {
    "name": "ipython",
    "version": 3
   },
   "file_extension": ".py",
   "mimetype": "text/x-python",
   "name": "python",
   "nbconvert_exporter": "python",
   "pygments_lexer": "ipython3",
   "version": "3.8.5"
  }
 },
 "nbformat": 4,
 "nbformat_minor": 4
}
