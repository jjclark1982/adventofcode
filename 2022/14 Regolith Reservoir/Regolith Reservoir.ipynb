{
 "cells": [
  {
   "cell_type": "markdown",
   "metadata": {},
   "source": [
    "# Advent of Code 2022\n",
    "## [Day 14: Regolith Reservoir](https://adventofcode.com/2022/day/14)"
   ]
  },
  {
   "cell_type": "markdown",
   "metadata": {},
   "source": [
    "#### Load Data"
   ]
  },
  {
   "cell_type": "code",
   "execution_count": 1,
   "metadata": {},
   "outputs": [
    {
     "data": {
      "text/plain": [
       "['511,54 -> 511,56 -> 504,56 -> 504,61 -> 520,61 -> 520,56 -> 515,56 -> 515,54',\n",
       " '516,113 -> 521,113',\n",
       " '511,101 -> 511,103 -> 504,103 -> 504,106 -> 517,106 -> 517,103 -> 513,103 -> 513,101',\n",
       " '529,82 -> 533,82',\n",
       " '541,157 -> 545,157']"
      ]
     },
     "execution_count": 1,
     "metadata": {},
     "output_type": "execute_result"
    }
   ],
   "source": [
    "import aocd\n",
    "input_data = aocd.get_data(year=2022, day=14).split(\"\\n\")\n",
    "input_data[:5]"
   ]
  },
  {
   "cell_type": "code",
   "execution_count": 2,
   "metadata": {},
   "outputs": [],
   "source": [
    "test_data = \"\"\"498,4 -> 498,6 -> 496,6\n",
    "503,4 -> 502,4 -> 502,9 -> 494,9\"\"\".split(\"\\n\")"
   ]
  },
  {
   "cell_type": "markdown",
   "metadata": {},
   "source": [
    "### Part 1"
   ]
  },
  {
   "cell_type": "code",
   "execution_count": 3,
   "metadata": {},
   "outputs": [],
   "source": [
    "import numpy as np\n",
    "from collections import namedtuple"
   ]
  },
  {
   "cell_type": "code",
   "execution_count": 4,
   "metadata": {},
   "outputs": [],
   "source": [
    "Point = namedtuple('Point', ['x', 'y'])"
   ]
  },
  {
   "cell_type": "code",
   "execution_count": 5,
   "metadata": {},
   "outputs": [
    {
     "data": {
      "text/plain": [
       "[array([498,   4]), array([498,   6]), array([496,   6])]"
      ]
     },
     "execution_count": 5,
     "metadata": {},
     "output_type": "execute_result"
    }
   ],
   "source": [
    "[np.array([*map(int, p.split(','))]) for p in test_data[0].split(\" -> \")]"
   ]
  },
  {
   "cell_type": "code",
   "execution_count": 6,
   "metadata": {},
   "outputs": [
    {
     "data": {
      "text/plain": [
       "array([ 0, -1])"
      ]
     },
     "execution_count": 6,
     "metadata": {},
     "output_type": "execute_result"
    }
   ],
   "source": [
    "p1 = np.array([500, 54])\n",
    "p2 = np.array([500, 50])\n",
    "np.sign(p2 - p1)"
   ]
  },
  {
   "cell_type": "code",
   "execution_count": 7,
   "metadata": {},
   "outputs": [
    {
     "data": {
      "text/plain": [
       "<function numpy.array_equal(a1, a2, equal_nan=False)>"
      ]
     },
     "execution_count": 7,
     "metadata": {},
     "output_type": "execute_result"
    }
   ],
   "source": [
    "np.array_equal"
   ]
  },
  {
   "cell_type": "code",
   "execution_count": 8,
   "metadata": {},
   "outputs": [
    {
     "data": {
      "text/plain": [
       "array([['.', '.', '.', '.', '.', '.', '.', '.', '.'],\n",
       "       ['.', '.', '.', '.', '.', '.', '.', '.', '.'],\n",
       "       ['.', '.', '.', '.', '.', '.', '.', '.', '.'],\n",
       "       ['.', '.', '.', '.', '.', '.', '.', '.', '.'],\n",
       "       ['.', '.', '.', '#', '.', '.', '.', '#', '#'],\n",
       "       ['.', '.', '.', '#', '.', '.', '.', '#', '.'],\n",
       "       ['.', '#', '#', '#', '.', '.', '.', '#', '.'],\n",
       "       ['.', '.', '.', '.', '.', '.', '.', '#', '.'],\n",
       "       ['.', '.', '.', '.', '.', '.', '.', '#', '.'],\n",
       "       ['#', '#', '#', '#', '#', '#', '#', '#', '.']], dtype='<U1')"
      ]
     },
     "execution_count": 8,
     "metadata": {},
     "output_type": "execute_result"
    }
   ],
   "source": [
    "def init_grid(data):\n",
    "    grid = np.zeros(shape=(1000, 200), dtype='<U1')\n",
    "    grid[()] = '.'\n",
    "    grid\n",
    "    def draw_line(p1, p2):\n",
    "        step = np.sign(p2 - p1)\n",
    "        cursor = p1\n",
    "        while not np.array_equal(cursor, p2):\n",
    "            grid[tuple(cursor)] = '#'\n",
    "            cursor += step\n",
    "        grid[tuple(cursor)] = '#'\n",
    "        \n",
    "    for line in data:\n",
    "        points = [np.array([*map(int, p.split(','))]) for p in line.split(\" -> \")]\n",
    "        for i in range(1, len(points)):\n",
    "            draw_line(points[i-1], points[i])\n",
    "        \n",
    "    return grid\n",
    "\n",
    "g = init_grid(test_data)\n",
    "g[495:504,0:10].T"
   ]
  },
  {
   "cell_type": "code",
   "execution_count": 9,
   "metadata": {},
   "outputs": [
    {
     "data": {
      "text/plain": [
       "array([['.', '.', '.', '.', '.', '.', '.', '.', '.'],\n",
       "       ['.', '.', '.', '.', '.', '.', '.', '.', '.'],\n",
       "       ['.', '.', '.', '.', '.', '.', '.', '.', '.'],\n",
       "       ['.', '.', '.', '.', '.', '.', '.', '.', '.'],\n",
       "       ['.', '.', '.', '#', '.', '.', '.', '#', '#'],\n",
       "       ['.', '.', '.', '#', '.', '.', '.', '#', '.'],\n",
       "       ['.', '#', '#', '#', '.', '.', '.', '#', '.'],\n",
       "       ['.', '.', '.', '.', '.', '.', '.', '#', '.'],\n",
       "       ['.', '.', '.', '.', '.', 'o', '.', '#', '.'],\n",
       "       ['#', '#', '#', '#', '#', '#', '#', '#', '.']], dtype='<U1')"
      ]
     },
     "execution_count": 9,
     "metadata": {},
     "output_type": "execute_result"
    }
   ],
   "source": [
    "directions = [\n",
    "    np.array([0,1]),\n",
    "    np.array([-1,1]),\n",
    "    np.array([1,1])\n",
    "]\n",
    "\n",
    "def add_sand(grid):\n",
    "    cursor = np.array([500,0])\n",
    "    at_rest = False\n",
    "    while not at_rest:\n",
    "        at_rest = True\n",
    "        for d in directions:\n",
    "            next_cursor = cursor + d\n",
    "            if grid[tuple(next_cursor)] == '.':\n",
    "                cursor = next_cursor\n",
    "                at_rest = False\n",
    "                break\n",
    "        if at_rest:\n",
    "            next_cursor = cursor\n",
    "    if grid[tuple(cursor)] == '.':\n",
    "        grid[tuple(cursor)] = '.'\n",
    "        cursor = next_cursor\n",
    "        grid[tuple(cursor)] = 'o'\n",
    "    return cursor\n",
    "    \n",
    "add_sand(g)\n",
    "g[495:504,0:10].T"
   ]
  },
  {
   "cell_type": "code",
   "execution_count": 10,
   "metadata": {},
   "outputs": [
    {
     "data": {
      "text/plain": [
       "(24,\n",
       " array([['.', '.', '.', ..., '.', '.', '.'],\n",
       "        ['.', '.', '.', ..., '.', '.', '.'],\n",
       "        ['.', '.', '.', ..., '.', '.', '.'],\n",
       "        ...,\n",
       "        ['.', '.', '.', ..., '.', '.', '.'],\n",
       "        ['.', '.', '.', ..., '.', '.', '.'],\n",
       "        ['.', '.', '.', ..., '.', '.', '.']], dtype='<U1'))"
      ]
     },
     "execution_count": 10,
     "metadata": {},
     "output_type": "execute_result"
    }
   ],
   "source": [
    "def count_sand(data):\n",
    "    grid = init_grid(data)\n",
    "    n = 0\n",
    "    try:\n",
    "        while True:\n",
    "            add_sand(grid)\n",
    "            n += 1\n",
    "    except IndexError:\n",
    "        pass\n",
    "    return n, grid\n",
    "    \n",
    "count_sand(test_data)"
   ]
  },
  {
   "cell_type": "markdown",
   "metadata": {},
   "source": [
    "#### Part 1 Answer\n",
    "Using your scan, simulate the falling sand.  \n",
    "**How many units of sand come to rest before sand starts flowing into the abyss below?**"
   ]
  },
  {
   "cell_type": "code",
   "execution_count": 11,
   "metadata": {},
   "outputs": [
    {
     "data": {
      "text/plain": [
       "737"
      ]
     },
     "execution_count": 11,
     "metadata": {},
     "output_type": "execute_result"
    }
   ],
   "source": [
    "n, g = count_sand(input_data)\n",
    "n"
   ]
  },
  {
   "cell_type": "code",
   "execution_count": 12,
   "metadata": {},
   "outputs": [],
   "source": [
    "from pathlib import Path\n",
    "import sys\n",
    "if str(Path('../..').resolve()) not in sys.path:\n",
    "    sys.path.insert(0, str(Path('../..').resolve()))\n",
    "\n",
    "from aoc_lib import array_to_png"
   ]
  },
  {
   "cell_type": "code",
   "execution_count": 13,
   "metadata": {},
   "outputs": [
    {
     "data": {
      "text/html": [
       "<img src=\"data:image/png;base64,iVBORw0KGgoAAAANSUhEUgAAA+gAAADICAAAAABejJSTAAAEH0lEQVR4nO3dvZHbUAyFUazHhaD/qliCS3DA1e9qM/JhhvecgOJmSL55ECXLX/8KuLo/0wMA5xM6BBA6BBA6BBA6BBA6BBA6BBA6BBA6BBA6BBA6BBA6BPg7PQCrdVXVNjsDq339m54AOJ0TPUtXVW37dXAMVnOiQwAnepCuuh/n+3VqElZzokMAH69BAKGn6O/VnUhChwBChwBChwA+Xru+fr7bpqZglNADbI/XnpuCSVZ3CCB0CCB0CCB0CCB0CCB0CODjtQA9PQDj/DNVCGB1hwBChwBCT9TTA7Ca0CGA0FO0czyZ0LP09ADMEHqSnh6AKUKHAEKHAEJP46FcJKFDAN91T9HPf2wzMzBG6BDA6g4BhA4BhA4BhJ6mpwdggp+SitOvf24TM7Cap+4QwOoOAYSercu79ghChwAexoXq9/ttYgpWEXqq7fWuZ6ZgEas7BBA6BBA6BPAePVVPD8BKvhkHAazu3E/3npyBU1ndKYlfn9UdAljdIYDQIYDQIYDQuenpATiPp+7c9f6yTc7AOTx1hwBWdwhgdaeq/PjE1VndIYDVHQJY3bnt7ft1cAzOY3WHAFZ3CGB1j9dV9719v05Nwnms7hDA6g4BrO7Zuuptb9+vI8NwHqs7BLC6QwCre7Cu+ri379f183AeqzsEsLpDAKFDAKFDAKGn6ukBWEnoEEDouXp6ANYReqL+cMelCT1ZTw/AKkKHAEKHAELP1NMDsJbvuifqx+02NQNLCR0CWN0hgNCztXfrGYQOAfzCTKh+uduGpmAVoafanl57bAoWsbpDACd6qp4egJV8jg4BrO4QwOpOV5UH7xdndYcATvRwXVW3/5zFqX5dTnQI4ERP1lX1OM6/X0Ym4WROdAjg4zUIIHQIIHR2/eGOy/Awjm89PQAn8jAOAljdIYDQedHTA3AKoUMAoUMAofNDTw/A4YQOAYTOBz09AAcTOm96egBOIHQIIHQIIHQI4LvuvOj9ZZucgeMJHQJY3SGA0Pmhy4dsVyN0COAXZnjTzy/b1BQcS+i82+4XC/xlWN0hgNAhgNAhgNAhgIdxvOvpATier8BCAKs7BLC687uu8p2Za7C6QwCrOwSwuvOLrqra9uvgGBzC6g4BrO4QwOrOJ11139v369QkHMLqDgGs7hDA6s4PXfW2t+/XkWE4hNUdAljdIYDVnVdd9XFv36/r5+EQVncIYHWHAELnpj/ccRFChwBChwBCZ9fTA3AmoUMAofPQ0wNwFqFDAKFDAKHzrKcH4BxC51WL/Yp8151dP/+xzczAaYQOAazuEEDoEEDoEEDoEEDoEEDoEEDoEEDoEEDoEEDoEEDoEEDoEEDoEEDoEEDoEEDoEEDoEEDoEEDoEEDoEEDoEEDoEEDoEEDoEEDoEEDoEEDoEEDoEOA/leRiIMJw82kAAAAASUVORK5CYII=\n",
       "\">"
      ],
      "text/plain": [
       "array([[False, False, False, ..., False, False, False],\n",
       "       [False, False, False, ..., False, False, False],\n",
       "       [False, False, False, ..., False, False, False],\n",
       "       ...,\n",
       "       [False, False, False, ..., False, False, False],\n",
       "       [False, False, False, ..., False, False, False],\n",
       "       [False, False, False, ..., False, False, False]])"
      ]
     },
     "execution_count": 13,
     "metadata": {},
     "output_type": "execute_result"
    }
   ],
   "source": [
    "g.T == '#'"
   ]
  },
  {
   "cell_type": "markdown",
   "metadata": {},
   "source": [
    "---"
   ]
  },
  {
   "cell_type": "markdown",
   "metadata": {
    "tags": []
   },
   "source": [
    "### Part 2"
   ]
  },
  {
   "cell_type": "code",
   "execution_count": 14,
   "metadata": {},
   "outputs": [
    {
     "data": {
      "text/html": [
       "<img src=\"data:image/png;base64,iVBORw0KGgoAAAANSUhEUgAAA+gAAADICAAAAABejJSTAAAEJklEQVR4nO3dwXHbQAyGUTiTAlIC+q+KJaSEHGjLkqzctIsZ/u8dKPqGyzcLUYry8beAq/s1PQCwntAhgNAhgNAhgNAhgNAhgNAhgNAhgNAhgNAhgNAhgNAhwO/pAditq6qO2RnY7ePv9ATAck70LF1VdZzXwTHYzYkOAZzoQbrqdpyf16lJ2M2JDgF8vAYBhJ6iP1d3IgkdAggdAggdAvh47fr6/u6YmoJRQg9wfL/23BRMsrpDAKFDAKFDAKFDAKFDAKFDAB+vBejpARjnn6lCAKs7BBA6BBB6op4egN2EDgGEnqKd48mEnqWnB2CG0JP09ABMEToEEDoEEHoaD+UiCR0C+K57ir7/45iZgTFChwBWdwggdAggdAgg9DQ9PQAT/JRUnH7885iYgd08dYcAVncIIPRsXd61RxA6BPAwLlQ/3x8TU7CL0FMdj3c9MwWbWN0hgNAhgNAhgPfoqXp6AHbyzTgIYHXndrr35AwsZXWnJH59VncIYHWHAEKHAEKHAELnS08PwDqeunPT58sxOQNreOoOAazuEMDqTlX58Ymrs7pDAKs7BLC687W3n9fBMVjH6g4BrO4QwOoer6tue/t5nZqEdazuEMDqDgGs7tm66mlvP68jw7CO1R0CWN0hgNU9WFe93NvP6/55WMfqDgGs7hBA6BBA6BBA6Kl6egB2EjoEEHqunh6AfYSeqF/ccWlCT9bTA7CL0CGA0CGA0DP19ADs5bvuifr79piaga2EDgGs7hBA6Nnau/UMQocAfmEmVD/cHUNTsIvQUx13rz02BZtY3SGAEz1VTw/ATj5HhwBWdwhgdaeryoP3i7O6QwAneriuqq//nMWpfl1OdAjgRE/WVfV9nH++jEzCYk50CODjNQggdAggdE794o7L8DCOTz09AAt5GAcBrO4QQOg86OkBWELoEEDoEEDo/NDTA/B2QocAQueFnh6ANxM6T3p6ABYQOgQQOgQQOgTwXXce9PlyTM7A+wkdAljdIYDQ+aHLh2xXI3QI4BdmeNL3L8fUFLyX0Hl23C4W+MuwukMAoUMAoUMAoUMAD+N41tMD8H6+AgsBrO4QwOrO/3WV78xcg9UdAljdIYDVnf/oqqrjvA6OwVtY3SGA1R0CWN15patue/t5nZqEt7C6QwCrOwSwuvNDVz3t7ed1ZBjewuoOAazuEMDqzqOuerm3n9f98/AWVncIYHWHAELnS7+44yKEDgGEDgGEzqmnB2AloUMAofOtpwdgFaFDAKFDAKFzr6cHYA2h86jFfkW+686p7/84ZmZgGaFDgI8/0xMAyznRIYCHcRBA6BBA6BBA6BBA6BBA6BBA6BBA6BBA6BBA6BBA6BBA6BBA6BBA6BBA6BBA6BBA6BBA6BBA6BBA6BBA6BBA6BBA6BBA6BBA6BBA6BDgH5WMYx6EJjKHAAAAAElFTkSuQmCC\n",
       "\">"
      ],
      "text/plain": [
       "array([[False, False, False, ..., False, False, False],\n",
       "       [False, False, False, ..., False, False, False],\n",
       "       [False, False, False, ..., False, False, False],\n",
       "       ...,\n",
       "       [False, False, False, ..., False, False, False],\n",
       "       [False, False, False, ..., False, False, False],\n",
       "       [False, False, False, ..., False, False, False]])"
      ]
     },
     "execution_count": 14,
     "metadata": {},
     "output_type": "execute_result"
    }
   ],
   "source": [
    "def add_floor(grid):\n",
    "    floor = np.where(grid == '#')[1].max() + 2\n",
    "    grid[:, floor] = '#'\n",
    "    \n",
    "add_floor(g)\n",
    "g.T == '#'"
   ]
  },
  {
   "cell_type": "code",
   "execution_count": 15,
   "metadata": {},
   "outputs": [
    {
     "data": {
      "text/plain": [
       "93"
      ]
     },
     "execution_count": 15,
     "metadata": {},
     "output_type": "execute_result"
    }
   ],
   "source": [
    "def count_sand_floor(data):\n",
    "    grid = init_grid(data)\n",
    "    add_floor(grid)\n",
    "    n = 0\n",
    "    try:\n",
    "        while True:\n",
    "            cursor = add_sand(grid)\n",
    "            n += 1\n",
    "            if np.array_equal(cursor, [500,0]):\n",
    "                break\n",
    "    except IndexError:\n",
    "        pass\n",
    "    return n, grid\n",
    "    \n",
    "n, g = count_sand_floor(test_data)\n",
    "n"
   ]
  },
  {
   "cell_type": "code",
   "execution_count": 16,
   "metadata": {},
   "outputs": [
    {
     "data": {
      "text/html": [
       "<img src=\"data:image/png;base64,iVBORw0KGgoAAAANSUhEUgAAA+gAAADICAAAAABejJSTAAACt0lEQVR4nO3YwWnEMBBAUW1IIdN/VSphS8glbHZDklts8H8PbNlGh7l8BL7dFzWzz56Ao72dPQCHmzVnj8DRhJ4znxclQq+ZpzsZQo+Ztddae8/Jc3AsobfMY50/dnE5Qk+ZtffXMx1CL5mXo3x+3cflCD1kHrendxLezx6Aw8xa+9uX/cM2rsiJnjHr+V/c68rV3e5nTwD8Oyc6BAgdAoQOAUKHAKFDgNAhQOgQIHQIEDoECB0ChA4BQocAoUOA0CFA6BAgdAgQOgQIHQKEDgFChwChQ4DQIUDoECB0CBA6BAgdAoQOAUKHAKFDgNAhQOgQIHQIEDoECB0ChA4BQocAoUOA0CFA6BAgdAgQOgQIHQKEDgFChwChQ4DQIUDoECB0CBA6BAgdAoQOAUKHAKFDgNAhQOgQIHQIEDoECB0ChA4BQocAoUOA0CFA6BAgdAgQOgQIHQKEDgFChwChQ4DQIUDoECB0CBA6BAgdAoQOAUKHAKFDgNAhQOgQIHQIEDoECB0ChA4BQocAoUOA0CFA6BAgdAgQOgQIHQKEDgFChwChQ4DQIUDoECB0CBA6BAgdAoQOAUKHAKFDgNAhQOgQIHQIEDoECB0ChA4BQocAoUOA0CFA6BAgdAgQOgQIHQKEDgFChwChQ4DQIUDoECB0CBA6BAgdAoQOAUKHAKFDgNAhQOgQIHQIEDoECB0ChA4BQocAoUOA0CFA6BAgdAgQOgQIHQKEDgFChwChQ4DQIUDoECB0CBA6BAgdAoQOAUKHAKFDgNAhQOgQIHQIEDoECB0ChA4BQocAoUOA0CFA6BAgdAgQOgQIHQKEDgFChwChQ4DQIUDoECB0CBA6BAgdAoQOAUKHAKFDgNAhQOgQIHQIEDoECB0ChA4BQocAoUOA0CFA6BAgdAgQOgQIHQKEDgFCh4APDIMN0Y+JZ9cAAAAASUVORK5CYII=\n",
       "\">"
      ],
      "text/plain": [
       "array([[False, False, False, ..., False, False, False],\n",
       "       [False, False, False, ..., False, False, False],\n",
       "       [False, False, False, ..., False, False, False],\n",
       "       ...,\n",
       "       [False, False, False, ..., False, False, False],\n",
       "       [False, False, False, ..., False, False, False],\n",
       "       [False, False, False, ..., False, False, False]])"
      ]
     },
     "execution_count": 16,
     "metadata": {},
     "output_type": "execute_result"
    }
   ],
   "source": [
    "g.T == \"o\""
   ]
  },
  {
   "cell_type": "markdown",
   "metadata": {},
   "source": [
    "#### Part 2 Answer\n",
    "Using your scan, simulate the falling sand until the source of the sand becomes blocked.  \n",
    "**How many units of sand come to rest?**"
   ]
  },
  {
   "cell_type": "code",
   "execution_count": 17,
   "metadata": {},
   "outputs": [
    {
     "data": {
      "text/plain": [
       "28145"
      ]
     },
     "execution_count": 17,
     "metadata": {},
     "output_type": "execute_result"
    }
   ],
   "source": [
    "n, g = count_sand_floor(input_data)\n",
    "n"
   ]
  },
  {
   "cell_type": "code",
   "execution_count": 18,
   "metadata": {},
   "outputs": [
    {
     "data": {
      "text/html": [
       "<img src=\"data:image/png;base64,iVBORw0KGgoAAAANSUhEUgAAA+gAAADICAAAAABejJSTAAAEJklEQVR4nO3dwXHbQAyGUTiTAlIC+q+KJaSEHGjLkqzctIsZ/u8dKPqGyzcLUYry8beAq/s1PQCwntAhgNAhgNAhgNAhgNAhgNAhgNAhgNAhgNAhgNAhgNAhwO/pAditq6qO2RnY7ePv9ATAck70LF1VdZzXwTHYzYkOAZzoQbrqdpyf16lJ2M2JDgF8vAYBhJ6iP1d3IgkdAggdAggdAvh47fr6/u6YmoJRQg9wfL/23BRMsrpDAKFDAKFDAKFDAKFDAKFDAB+vBejpARjnn6lCAKs7BBA6BBB6op4egN2EDgGEnqKd48mEnqWnB2CG0JP09ABMEToEEDoEEHoaD+UiCR0C+K57ir7/45iZgTFChwBWdwggdAggdAgg9DQ9PQAT/JRUnH7885iYgd08dYcAVncIIPRsXd61RxA6BPAwLlQ/3x8TU7CL0FMdj3c9MwWbWN0hgNAhgNAhgPfoqXp6AHbyzTgIYHXndrr35AwsZXWnJH59VncIYHWHAEKHAEKHAELnS08PwDqeunPT58sxOQNreOoOAazuEMDqTlX58Ymrs7pDAKs7BLC687W3n9fBMVjH6g4BrO4QwOoer6tue/t5nZqEdazuEMDqDgGs7tm66mlvP68jw7CO1R0CWN0hgNU9WFe93NvP6/55WMfqDgGs7hBA6BBA6BBA6Kl6egB2EjoEEHqunh6AfYSeqF/ccWlCT9bTA7CL0CGA0CGA0DP19ADs5bvuifr79piaga2EDgGs7hBA6Nnau/UMQocAfmEmVD/cHUNTsIvQUx13rz02BZtY3SGAEz1VTw/ATj5HhwBWdwhgdaeryoP3i7O6QwAneriuqq//nMWpfl1OdAjgRE/WVfV9nH++jEzCYk50CODjNQggdAggdE794o7L8DCOTz09AAt5GAcBrO4QQOg86OkBWELoEEDoEEDo/NDTA/B2QocAQueFnh6ANxM6T3p6ABYQOgQQOgQQOgTwXXce9PlyTM7A+wkdAljdIYDQ+aHLh2xXI3QI4BdmeNL3L8fUFLyX0Hl23C4W+MuwukMAoUMAoUMAoUMAD+N41tMD8H6+AgsBrO4QwOrO/3WV78xcg9UdAljdIYDVnf/oqqrjvA6OwVtY3SGA1R0CWN15patue/t5nZqEt7C6QwCrOwSwuvNDVz3t7ed1ZBjewuoOAazuEMDqzqOuerm3n9f98/AWVncIYHWHAELnS7+44yKEDgGEDgGEzqmnB2AloUMAofOtpwdgFaFDAKFDAKFzr6cHYA2h86jFfkW+686p7/84ZmZgGaFDgI8/0xMAyznRIYCHcRBA6BBA6BBA6BBA6BBA6BBA6BBA6BBA6BBA6BBA6BBA6BBA6BBA6BBA6BBA6BBA6BBA6BBA6BBA6BBA6BBA6BBA6BBA6BBA6BBA6BDgH5WMYx6EJjKHAAAAAElFTkSuQmCC\n",
       "\">"
      ],
      "text/plain": [
       "array([[False, False, False, ..., False, False, False],\n",
       "       [False, False, False, ..., False, False, False],\n",
       "       [False, False, False, ..., False, False, False],\n",
       "       ...,\n",
       "       [False, False, False, ..., False, False, False],\n",
       "       [False, False, False, ..., False, False, False],\n",
       "       [False, False, False, ..., False, False, False]])"
      ]
     },
     "execution_count": 18,
     "metadata": {},
     "output_type": "execute_result"
    }
   ],
   "source": [
    "g.T == \"#\""
   ]
  },
  {
   "cell_type": "code",
   "execution_count": 19,
   "metadata": {},
   "outputs": [
    {
     "data": {
      "text/html": [
       "<img src=\"data:image/png;base64,iVBORw0KGgoAAAANSUhEUgAAA+gAAADICAAAAABejJSTAAAIuklEQVR4nO3dUZLbOAxFUc1UFvL2vyosYZYwH+7uuG3JFmUCIMF7qmJLsgjg5xUVp5P889+G1ciyJ0C0f7MHQDhtyh4B0Qj6cvT1Cysh6KvR3SuWQdAXo4d3rIGgr0U7R1gAQV+KDo5RHUFfiV6coTSCvhC9OUddBH0dOnEFRRH0ZejkNVRE0Fehhqsoh6AvQo3XUcs//2VPgAj6e2h75yiOHX0Jejh+PEd17Ogr0M+RvbmIotjRF6C9w92LqIodvT59H9j5T1AMO3p52jl69wmqIejV6eCYb+SWQtCL0/eBbZudTD3qIei16fD8+BMURNBL0+GV409QEUGvTIfXjj9BSfzxWmG6vdn3md2u2WGmzXce5GFHr0uPZ/o+0rbv6DqmR9DL0vOZ9j45XoM6CHpV2jvT412vV6EMgl6UXpydX4cqCHpNenHWshJFEPSS9OKsbS1qIOgVKXE1hvQnewD0p4dza13fugDDY0evRy/OHz87VwHTI+jl6MWV58/O1sDcCHo1enFt77PzVTAxgl6MXlz9+cyu1sGsCHotenH96LO2SpgSQS9FLz5p/S79uBbmQ9Ar0ds7rGs1TIOgF6J3N1jnepgGQa9DE1REEoJehiapiQwEvQqdvM/4ffqKCHoRmqwuYvGPQ9agt3dY2+0HCzEpdvQS1HbLidsv3oxBEfQK1HbTqdsbq2NsBL0Atd128vbm+hgYQZ+f2m48ffuFDhgVQZ+eXG7ttBCD4Fv32anpbru6/nkhZsKOPjl9ePvZ9Y19MBiCPjd9uOD8+uZOGAlBn5o+XCLbTj+VX+iFYRD0menDRW3rL3XDGPgybmK6uM5+17DTxeztHRgUO/q81GGhmupc7ohsBH1a6rBUjZU+6IlUBH1W6rBYv0+9uyIPQZ+UOizX79OIvkjCf7I4J/UoYpc6X1qFZOzoU1L3Cucrft4b8Qj6jNS9hraNn5ypjD9Hn5D6lLHLhZ9XYnDs6PORV53ThXtNgDAEfTryqtRQuN8MiEHQZyOvWk2Fe06BAAR9MvKq1li48XYkI+hzkVc9tX7Fprd3YCB86z4V9S9pP4WtsYm9vQPDYEefibxq/n3hu/eaCPpE5FVVd/UbmjTcimQ8us9DnsVt27ZN9vE/KosxEfRpyLe8XepgnaeAEx7dZyH3+lc6XFmDBOzok5Bncdu2779/2tzHeg4CL+zoc5B7dTX++3H3azE8gj4FudfXxtN7ZTy6z0CexW3bfp7b7VI36zYLvLCjT0Du1cXTe3EEfXxyr6+Np/fieHQfnjyL27Y9PLfbpZ7WZxx4YUcfndyrP+/o7T3bVyAUQR+c3Otr97W9DkbGo/vY5Fnctm33ud0udbYOE8ELO/rQ5F79aEdv79y+AnEI+sjkXl8vXturYVg8ug9M2QO0suwBcIQdfVzKHqCZsgfAEYI+LPmWN4+i8iiKDgj6qJQ9wCXKHgD7CPqg5N/CPIrKoyg+RtDHJNfqtnPUi7pXRAcEfUiKaWMeReVRFB8i6CNS9gAfUfYAeEbQB6TsAT6k7AHwhKCPRwE9zLW6XKvjAn4ybjjyb2Hu3eztHQjFjj4ahfbw6uZVFxcR9MEotItfN7/KuIKgj0WhfbSZ20O2nOriEoI+FIV28u3mWx1t+DJuJIprZd8tza+xvb0DUdjRB6KMlo5NHUujEUEfh3JaOrZ1LI02f7IHwDcl9DTn+vJugJPY0UehxHZ+vf0qowlBH4QSG3r29qyN8/jWfQxK6GkxE9jbO+CPHX0ISm/qN4FfZZzHjj4CJfW1h3PFtEE8dvQBaJDG2runfxskYEfPp7TOtnNNUY0QiR09nYZqvXPJpxFCEfRsGqr50wWvRohF0JNpqPbau8ejEYIR9FwaaoDbifk3QjS+jEul7AG2vVwrqhHCsKNnUvYA28bv09dA0BMpe4AbvTz1a4RABD2Psgf4psMTz0aIRNDTKHuAv1SuER4Q9CzKHuCeyjXCbwQ9ibIH+E33JxbVCGEIeg5lD/BI5RrhHkFPoewBnun+xKIaIQhBz6DsAfbo692iGiEQQU+g7AH2qVwj/CDo8ZQ9wBGVa4RvBD2csgc4pnKN8IW/1BJN2QO8ZF/vimqEGOzowZQ9wGv69ebfCEEIeixlD/COfl4iGiEKQQ+l7AHe0+3NohohBEGPpOwBzlC5RuB/Uw2l7AFOsfs3eXbi/1qNw44eR9kDnKUtaNiQJtg2gh5I2QOcpbvXkFbwR9CjKHuAVirTBAQ9jLIHaKcyTUDQgyh7gCtUpgn41j2EsgdoYbHt+O49Ajt6BGUP0EIHxyEN4YSgB1D2AG20cxTUEF7422v+lD1AM7u93R6qFdcQbtjR3Sl7gHb6etXG03sRBN2bsge4Qj+/FNcQjnh0d6bsAS6yr+f222tEw4AeCyPovpQ9wAds2/T9GtMObnh0d6XsAT4hnt7rYEf3pOwBLrNt+3luv71GNYULdnRHyh7gOm2/d3RFNYUPgu5H2QN8Qk9ZD2kKJzy6u1H2AJfZtj08t99eo1qjP3Z0L8oe4Dptezu6olrDAUF3ouwBPrGXckW1hgce3X0oe4DLbNt2n9tvr1EDoDN2dBfKHuA6bcc7uqIGQG8E3YOyB/jEccoVNQC649HdgbIHuMb0fJTDcttXxI7en7IHmJ6yB6iHoHen7AEKUPYA5RD03pQ9wEWWPcAvyh6gGoLembIHKELZAxRD0PtS9gAfsewB7ih7gFoIelfKHqAQZQ9QCkHvSdkDlKLsASoh6B0pe4DPWfYA95Q9QCEEvR9lD9CFDRR2ZQ9QBz8Z142yB/iM3Z8oZ4Znlj1AFezovSh7gA/p4DiXsgeogh0dWAA7OrAAgg4sgKADCyDowAIIOrAAgg4sgKADCyDowAIIOrAAgg4sgKADCyDowAIIOrAAgg4sgKADCyDowAIIOrAAgg4sgKADCyDowAIIOrAAgg4sgKADCyDowAIIOrAAgg4sgKADC/gfBDHlSrO1nmoAAAAASUVORK5CYII=\n",
       "\">"
      ],
      "text/plain": [
       "array([[False, False, False, ..., False, False, False],\n",
       "       [False, False, False, ..., False, False, False],\n",
       "       [False, False, False, ..., False, False, False],\n",
       "       ...,\n",
       "       [False, False, False, ..., False, False, False],\n",
       "       [False, False, False, ..., False, False, False],\n",
       "       [False, False, False, ..., False, False, False]])"
      ]
     },
     "execution_count": 19,
     "metadata": {},
     "output_type": "execute_result"
    }
   ],
   "source": [
    "g.T == \"o\""
   ]
  }
 ],
 "metadata": {
  "kernelspec": {
   "display_name": "Python 3",
   "language": "python",
   "name": "python3"
  },
  "language_info": {
   "codemirror_mode": {
    "name": "ipython",
    "version": 3
   },
   "file_extension": ".py",
   "mimetype": "text/x-python",
   "name": "python",
   "nbconvert_exporter": "python",
   "pygments_lexer": "ipython3",
   "version": "3.8.5"
  }
 },
 "nbformat": 4,
 "nbformat_minor": 4
}
