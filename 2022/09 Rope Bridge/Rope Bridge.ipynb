{
 "cells": [
  {
   "cell_type": "markdown",
   "metadata": {},
   "source": [
    "# Advent of Code 2022\n",
    "## [Day 9: Rope Bridge](https://adventofcode.com/2022/day/9)"
   ]
  },
  {
   "cell_type": "code",
   "execution_count": 1,
   "metadata": {},
   "outputs": [],
   "source": [
    "get_ipython().ast_node_interactivity = 'all'"
   ]
  },
  {
   "cell_type": "code",
   "execution_count": 2,
   "metadata": {},
   "outputs": [
    {
     "data": {
      "text/plain": [
       "['L 2', 'D 2', 'R 2', 'U 1', 'L 1']"
      ]
     },
     "execution_count": 2,
     "metadata": {},
     "output_type": "execute_result"
    }
   ],
   "source": [
    "import aocd\n",
    "input_data = aocd.get_data(year=2022, day=9).split(\"\\n\")\n",
    "input_data[:5]"
   ]
  },
  {
   "cell_type": "code",
   "execution_count": 3,
   "metadata": {},
   "outputs": [
    {
     "data": {
      "text/plain": [
       "[('L', 2), ('D', 2), ('R', 2), ('U', 1), ('L', 1)]"
      ]
     },
     "execution_count": 3,
     "metadata": {},
     "output_type": "execute_result"
    }
   ],
   "source": [
    "commands = [\n",
    "    (line[0], int(line[2:])) for line in input_data\n",
    "]\n",
    "commands[:5]"
   ]
  },
  {
   "cell_type": "markdown",
   "metadata": {},
   "source": [
    "### Part 1"
   ]
  },
  {
   "cell_type": "code",
   "execution_count": 4,
   "metadata": {},
   "outputs": [],
   "source": [
    "import numpy as np"
   ]
  },
  {
   "cell_type": "code",
   "execution_count": 5,
   "metadata": {},
   "outputs": [],
   "source": [
    "directions = {\n",
    "    'U': np.array([-1, 0]),\n",
    "    'D': np.array([ 1, 0]),\n",
    "    'R': np.array([ 0, 1]),\n",
    "    'L': np.array([ 0,-1]),\n",
    "}"
   ]
  },
  {
   "cell_type": "code",
   "execution_count": 6,
   "metadata": {},
   "outputs": [
    {
     "data": {
      "text/plain": [
       "array([ 2, -2])"
      ]
     },
     "execution_count": 6,
     "metadata": {},
     "output_type": "execute_result"
    },
    {
     "data": {
      "text/plain": [
       "True"
      ]
     },
     "execution_count": 6,
     "metadata": {},
     "output_type": "execute_result"
    },
    {
     "data": {
      "text/plain": [
       "True"
      ]
     },
     "execution_count": 6,
     "metadata": {},
     "output_type": "execute_result"
    }
   ],
   "source": [
    "head = np.array([2,-2])\n",
    "tail = np.array([0,0])\n",
    "head - tail\n",
    "np.abs(head - tail).max() > 1\n",
    "np.abs(head - tail).sum() > 2"
   ]
  },
  {
   "cell_type": "code",
   "execution_count": 7,
   "metadata": {},
   "outputs": [
    {
     "data": {
      "text/plain": [
       "(array([ -82, -400]), array([ -83, -400]))"
      ]
     },
     "execution_count": 7,
     "metadata": {},
     "output_type": "execute_result"
    }
   ],
   "source": [
    "head = np.array([0,0])\n",
    "tail = np.array([0,0])\n",
    "tail_visited = set()\n",
    "\n",
    "for command in commands:\n",
    "    d = directions[command[0]]\n",
    "    steps = command[1]\n",
    "    for _ in range(steps):\n",
    "        head += d\n",
    "        # same row or col\n",
    "        if np.abs(head - tail).max() > 1 or np.abs(head - tail).sum() > 2:\n",
    "            tail += (head - tail).clip(-1,1)\n",
    "        tail_visited.add(tuple(tail))\n",
    "        \n",
    "head, tail"
   ]
  },
  {
   "cell_type": "markdown",
   "metadata": {},
   "source": [
    "#### Part 1 Answer\n",
    "Simulate your complete hypothetical series of motions.  \n",
    "**How many positions does the tail of the rope visit at least once?**"
   ]
  },
  {
   "cell_type": "code",
   "execution_count": 8,
   "metadata": {},
   "outputs": [
    {
     "data": {
      "text/plain": [
       "5513"
      ]
     },
     "execution_count": 8,
     "metadata": {},
     "output_type": "execute_result"
    }
   ],
   "source": [
    "len(tail_visited)"
   ]
  },
  {
   "cell_type": "markdown",
   "metadata": {},
   "source": [
    "### Part 2"
   ]
  },
  {
   "cell_type": "code",
   "execution_count": 9,
   "metadata": {},
   "outputs": [],
   "source": [
    "def pull_link(head, tail):\n",
    "    if np.abs(head - tail).max() > 1 or np.abs(head - tail).sum() > 2:\n",
    "        tail += (head - tail).clip(-1,1)"
   ]
  },
  {
   "cell_type": "code",
   "execution_count": 10,
   "metadata": {},
   "outputs": [
    {
     "data": {
      "text/plain": [
       "[array([5, 5]),\n",
       " array([1, 1]),\n",
       " array([0, 0]),\n",
       " array([0, 0]),\n",
       " array([0, 0]),\n",
       " array([0, 0]),\n",
       " array([0, 0]),\n",
       " array([0, 0]),\n",
       " array([0, 0]),\n",
       " array([0, 0])]"
      ]
     },
     "execution_count": 10,
     "metadata": {},
     "output_type": "execute_result"
    }
   ],
   "source": [
    "links = [np.array([0,0]) for _ in range(10)]\n",
    "links[0] = np.array([5,5])\n",
    "\n",
    "for i in range(1, 9):\n",
    "    pull_link(links[i-1], links[i])\n",
    "    \n",
    "links"
   ]
  },
  {
   "cell_type": "code",
   "execution_count": 11,
   "metadata": {},
   "outputs": [
    {
     "data": {
      "text/plain": [
       "[array([ -82, -400]),\n",
       " array([ -83, -400]),\n",
       " array([ -84, -400]),\n",
       " array([ -85, -400]),\n",
       " array([ -86, -399]),\n",
       " array([ -86, -399]),\n",
       " array([ -86, -400]),\n",
       " array([ -86, -401]),\n",
       " array([ -86, -402]),\n",
       " array([ -86, -403])]"
      ]
     },
     "execution_count": 11,
     "metadata": {},
     "output_type": "execute_result"
    }
   ],
   "source": [
    "links = [np.array([0,0]) for _ in range(10)]\n",
    "tail_visited = set()\n",
    "for command in commands:\n",
    "    d = directions[command[0]]\n",
    "    steps = command[1]\n",
    "    for _ in range(steps):\n",
    "        links[0] += d\n",
    "        for i in range(1, 10):\n",
    "            pull_link(links[i-1], links[i])\n",
    "        tail_visited.add(tuple(links[9]))\n",
    "links"
   ]
  },
  {
   "cell_type": "markdown",
   "metadata": {
    "tags": []
   },
   "source": [
    "#### Part 2 Answer\n",
    "\n",
    "Simulate your complete series of motions on a larger rope with ten knots.  \n",
    "**How many positions does the tail of the rope visit at least once?**"
   ]
  },
  {
   "cell_type": "code",
   "execution_count": 12,
   "metadata": {},
   "outputs": [
    {
     "data": {
      "text/plain": [
       "2427"
      ]
     },
     "execution_count": 12,
     "metadata": {},
     "output_type": "execute_result"
    }
   ],
   "source": [
    "len(tail_visited)"
   ]
  }
 ],
 "metadata": {
  "kernelspec": {
   "display_name": "Python 3",
   "language": "python",
   "name": "python3"
  },
  "language_info": {
   "codemirror_mode": {
    "name": "ipython",
    "version": 3
   },
   "file_extension": ".py",
   "mimetype": "text/x-python",
   "name": "python",
   "nbconvert_exporter": "python",
   "pygments_lexer": "ipython3",
   "version": "3.8.5"
  }
 },
 "nbformat": 4,
 "nbformat_minor": 4
}
