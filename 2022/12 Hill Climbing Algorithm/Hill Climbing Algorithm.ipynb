{
 "cells": [
  {
   "cell_type": "markdown",
   "metadata": {},
   "source": [
    "# Advent of Code 2022\n",
    "## [Day 12: XXX](https://adventofcode.com/2022/day/12)"
   ]
  },
  {
   "cell_type": "markdown",
   "metadata": {},
   "source": [
    "#### Load Data"
   ]
  },
  {
   "cell_type": "code",
   "execution_count": 1,
   "metadata": {},
   "outputs": [
    {
     "data": {
      "text/plain": [
       "['abccccccccaaaaccccaaacaccccaaaaaacccccccccccaaaccccccccccaaaaaaacccccccccccccccccccccccccccccacaaaccccccccccccccccccccccccccccccccccccccccaaaaa',\n",
       " 'abccccccccaaaaccaaaaaaaacccaaaaaacccccccccccaaaacccccccccaaaaaaaaaacccccccccccccccaaccccccccaaaaaccaaaccaacccccccccccccccccccccccccccccccaaaaaa',\n",
       " 'abcccccccccaacccaaaaaaaaccccaaaaacccccccccccaaaacccccccaaaaaaaaaaaaaccccccccccaaaaaaccccccccaaaaaaaaaaaaaaccccccccccccccccaaaccccccccccccaaaaaa',\n",
       " 'abcccccccccccccccaaaaaccccccaacaaccccaacccccaaacccccccaaaaaaaaaaaaaaccccccccccaaaaaaacccccccccaaaaacaaaaaaccccccccccccccccaaccccccccccccccccaaa',\n",
       " 'abccccccccccccccccaaaaaccccccccccaaccaacccccccccccccccaaaaacaaaacacacccccaacccaaaaaaaacccccccaaaaacaaaaaaaccccccccccccccccaaacccccccccccccccaaa']"
      ]
     },
     "execution_count": 1,
     "metadata": {},
     "output_type": "execute_result"
    }
   ],
   "source": [
    "import aocd\n",
    "input_data = aocd.get_data(year=2022, day=12).split(\"\\n\")\n",
    "input_data[:5]\n",
    "# input_groups = [group.split(\"\\n\") for group in input_data.split(\"\\n\\n\")]\n",
    "# input_groups[0]"
   ]
  },
  {
   "cell_type": "markdown",
   "metadata": {},
   "source": [
    "### Part 1"
   ]
  },
  {
   "cell_type": "code",
   "execution_count": 2,
   "metadata": {},
   "outputs": [],
   "source": [
    "import numpy as np"
   ]
  },
  {
   "cell_type": "code",
   "execution_count": 3,
   "metadata": {},
   "outputs": [
    {
     "data": {
      "text/plain": [
       "array([['a', 'b', 'c', ..., 'a', 'a', 'a'],\n",
       "       ['a', 'b', 'c', ..., 'a', 'a', 'a'],\n",
       "       ['a', 'b', 'c', ..., 'a', 'a', 'a'],\n",
       "       ...,\n",
       "       ['a', 'b', 'c', ..., 'c', 'a', 'a'],\n",
       "       ['a', 'b', 'c', ..., 'a', 'a', 'a'],\n",
       "       ['a', 'b', 'c', ..., 'a', 'a', 'a']], dtype='<U1')"
      ]
     },
     "execution_count": 3,
     "metadata": {},
     "output_type": "execute_result"
    }
   ],
   "source": [
    "grid = np.array([[c for c in line] for line in input_data])\n",
    "grid"
   ]
  },
  {
   "cell_type": "code",
   "execution_count": 4,
   "metadata": {},
   "outputs": [
    {
     "data": {
      "text/plain": [
       "((20, 0), (20, 120))"
      ]
     },
     "execution_count": 4,
     "metadata": {},
     "output_type": "execute_result"
    }
   ],
   "source": [
    "S = tuple(np.array(np.where(grid == 'S'))[:,0])\n",
    "E = tuple(np.array(np.where(grid == 'E'))[:,0])\n",
    "S, E"
   ]
  },
  {
   "cell_type": "code",
   "execution_count": 5,
   "metadata": {},
   "outputs": [],
   "source": [
    "def height(letter):\n",
    "    if letter == 'S':\n",
    "        return height('a')\n",
    "    elif letter == 'E':\n",
    "        return height('z')\n",
    "    else:\n",
    "        return ord(letter) - ord('a')"
   ]
  },
  {
   "cell_type": "code",
   "execution_count": 6,
   "metadata": {},
   "outputs": [
    {
     "data": {
      "text/plain": [
       "array([[0, 1, 2, ..., 0, 0, 0],\n",
       "       [0, 1, 2, ..., 0, 0, 0],\n",
       "       [0, 1, 2, ..., 0, 0, 0],\n",
       "       ...,\n",
       "       [0, 1, 2, ..., 2, 0, 0],\n",
       "       [0, 1, 2, ..., 0, 0, 0],\n",
       "       [0, 1, 2, ..., 0, 0, 0]])"
      ]
     },
     "execution_count": 6,
     "metadata": {},
     "output_type": "execute_result"
    }
   ],
   "source": [
    "height_grid = np.array([[height(c) for c in line] for line in grid])\n",
    "height_grid"
   ]
  },
  {
   "cell_type": "code",
   "execution_count": 7,
   "metadata": {},
   "outputs": [],
   "source": [
    "directions = {\n",
    "    # '_': np.array([ 0, 0]),\n",
    "    '^': np.array([-1, 0]),\n",
    "    'v': np.array([ 1, 0]),\n",
    "    '>': np.array([ 0, 1]),\n",
    "    '<': np.array([ 0,-1]),\n",
    "}"
   ]
  },
  {
   "cell_type": "code",
   "execution_count": 8,
   "metadata": {},
   "outputs": [],
   "source": [
    "from collections import deque"
   ]
  },
  {
   "cell_type": "code",
   "execution_count": 9,
   "metadata": {},
   "outputs": [
    {
     "data": {
      "text/plain": [
       "'^^^^^^^^^>>>>>>>>>>>>>>>>>>>v>>v>>>>>>>>>^^>>>>>>>>>^^^>>^^^>>>>>>>>>>v>>v>vvvv>>>>>>>>>>>>>^>>>>>>>>^>>>>>>>>>>>>>>>>>>>>>>>>>>>>>^^>>>^^^^^^>>>>>>>>>>>>>>>>>>vvvv>>v>vv>v>vv>v>v>>v>v>v>vvvvvvvv<v<v<vvv<vv<vv<v<<<<<<<<<^<^<<<<<<<<<^<^<^^^^^^^^^^<^^^^^^^^^>>>^>>>>^>^>>^>>>>>v>>v>vv>vv>v>v>>v>v>vvvvvv<v<v<vvvv<vv<<<<<<<<^<<<<<<<^<<^^^^^^^^^<^^^^^^^>>>>^>>^>^>>>>>v>vv>vv>v>>v>>vvvvv<v<vv<vvvv<<<<<^<^<<<<<<<^^^^^^^^<^^^^>>>>>^>^>>>v>vvvv>>>>vvvv<<vvvv<<<^<<<<<^^^^>>^'"
      ]
     },
     "execution_count": 9,
     "metadata": {},
     "output_type": "execute_result"
    }
   ],
   "source": [
    "def path_to_end(height_grid, S, E):\n",
    "    shortest_path = {}\n",
    "    to_try = deque([(S, [])])\n",
    "    while to_try:\n",
    "        coords, path = to_try.popleft()\n",
    "        if coords in shortest_path and shortest_path[coords] <= len(path):\n",
    "            continue\n",
    "        if coords == E:\n",
    "            return path\n",
    "        shortest_path[coords] = len(path)\n",
    "        \n",
    "        for [d_name, d] in directions.items():\n",
    "            next_coords = tuple(d + coords)\n",
    "            # print(\"checking\", S, grid[S], d, next_coords)\n",
    "            try:\n",
    "                next_h = height_grid[next_coords]\n",
    "            except IndexError:\n",
    "                continue\n",
    "            if next_h > height_grid[coords] + 1:\n",
    "                continue\n",
    "            to_try.append((next_coords, path + [d_name]))\n",
    "                          \n",
    "    return 'none'\n",
    "\n",
    "path = path_to_end(height_grid, S, E)\n",
    "''.join(path)"
   ]
  },
  {
   "cell_type": "markdown",
   "metadata": {},
   "source": [
    "#### Part 1 Answer\n",
    "**What is the fewest steps required to move from your current position to the location that should get the best signal?**"
   ]
  },
  {
   "cell_type": "code",
   "execution_count": 10,
   "metadata": {},
   "outputs": [
    {
     "data": {
      "text/plain": [
       "468"
      ]
     },
     "execution_count": 10,
     "metadata": {},
     "output_type": "execute_result"
    }
   ],
   "source": [
    "len(path)"
   ]
  },
  {
   "cell_type": "markdown",
   "metadata": {},
   "source": [
    "---"
   ]
  },
  {
   "cell_type": "markdown",
   "metadata": {},
   "source": [
    "### Part 2"
   ]
  },
  {
   "cell_type": "code",
   "execution_count": 11,
   "metadata": {},
   "outputs": [
    {
     "data": {
      "text/plain": [
       "'vvv<<vv>>>>v>>>^^^^>^>>^^^^<<^<^^<^<<<v<vv<<<<<v<vvvvvvvvvvv>>>>>>>>v>>>>^>^^^^^>>^>^>^^^^^<<^<^<^^<^^<<<<v<<<vv<v<<<<<v<vvvvvvvvvvvvvvv>v>>>>>>>>>>>>>>>^>^^^^>^^>^>>^^>^^^^^^<^<<^<^<^^<^<^^<<<<<v<<<v<v<v<<v<<<<<v<vvvvvvvvvvvvvvvvvvv>>v>v>>>>>>>>>>>>>>>>>^>^>^^>^^^^>^>^>^>^^>^^^^^^^^<<^<<^<^<^^^^^^^^^<<<<<<<<<<vvv<<<<<<<vvvvv<<<<<<<<<<<<<<<<<<<<<<<vv<<<<<<<<<<<<<<<<<<<<<<<<<<<<<<<<<<<^^<^^^<^<<<<<<<vv<<vvvvvv<<<<<<<<<<<<<<<<<<<^<^<<<<<<<<<<<<<<<<<<<<<<<<<'"
      ]
     },
     "execution_count": 11,
     "metadata": {},
     "output_type": "execute_result"
    }
   ],
   "source": [
    "def path_to_a(height_grid, S, E):\n",
    "    shortest_path = {}\n",
    "    to_try = deque([(E, [])])\n",
    "    while to_try:\n",
    "        coords, path = to_try.popleft()\n",
    "        if coords in shortest_path and shortest_path[coords] <= len(path):\n",
    "            continue\n",
    "        if height_grid[coords] == height('a'):\n",
    "            return path\n",
    "        shortest_path[coords] = len(path)\n",
    "        \n",
    "        for [d_name, d] in directions.items():\n",
    "            next_coords = tuple(d + coords)\n",
    "            # print(\"checking\", S, grid[S], d, next_coords)\n",
    "            try:\n",
    "                next_h = height_grid[next_coords]\n",
    "            except IndexError:\n",
    "                continue\n",
    "            if height_grid[coords] > next_h + 1:\n",
    "                continue\n",
    "            to_try.append((next_coords, path + [d_name]))\n",
    "                          \n",
    "    return 'none'\n",
    "\n",
    "path = path_to_a(height_grid, S, E)\n",
    "''.join(path)"
   ]
  },
  {
   "cell_type": "markdown",
   "metadata": {},
   "source": [
    "#### Part 2 Answer\n",
    "**What is the fewest steps required to move starting from any square with elevation a to the location that should get the best signal?**"
   ]
  },
  {
   "cell_type": "code",
   "execution_count": 12,
   "metadata": {},
   "outputs": [
    {
     "data": {
      "text/plain": [
       "459"
      ]
     },
     "execution_count": 12,
     "metadata": {},
     "output_type": "execute_result"
    }
   ],
   "source": [
    "len(path)"
   ]
  }
 ],
 "metadata": {
  "kernelspec": {
   "display_name": "Python 3",
   "language": "python",
   "name": "python3"
  },
  "language_info": {
   "codemirror_mode": {
    "name": "ipython",
    "version": 3
   },
   "file_extension": ".py",
   "mimetype": "text/x-python",
   "name": "python",
   "nbconvert_exporter": "python",
   "pygments_lexer": "ipython3",
   "version": "3.8.5"
  }
 },
 "nbformat": 4,
 "nbformat_minor": 4
}
