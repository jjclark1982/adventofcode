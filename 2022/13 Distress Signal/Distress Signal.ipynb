{
 "cells": [
  {
   "cell_type": "markdown",
   "metadata": {},
   "source": [
    "# Advent of Code 2022\n",
    "## [Day 13: Distress Signal](https://adventofcode.com/2022/day/13)"
   ]
  },
  {
   "cell_type": "markdown",
   "metadata": {},
   "source": [
    "#### Load Data"
   ]
  },
  {
   "cell_type": "code",
   "execution_count": 1,
   "metadata": {},
   "outputs": [],
   "source": [
    "import aocd\n",
    "input_data = aocd.get_data(year=2022, day=13)"
   ]
  },
  {
   "cell_type": "code",
   "execution_count": 2,
   "metadata": {},
   "outputs": [],
   "source": [
    "test_data = \"\"\"[1,1,3,1,1]\n",
    "[1,1,5,1,1]\n",
    "\n",
    "[[1],[2,3,4]]\n",
    "[[1],4]\n",
    "\n",
    "[9]\n",
    "[[8,7,6]]\n",
    "\n",
    "[[4,4],4,4]\n",
    "[[4,4],4,4,4]\n",
    "\n",
    "[7,7,7,7]\n",
    "[7,7,7]\n",
    "\n",
    "[]\n",
    "[3]\n",
    "\n",
    "[[[]]]\n",
    "[[]]\n",
    "\n",
    "[1,[2,[3,[4,[5,6,7]]]],8,9]\n",
    "[1,[2,[3,[4,[5,6,0]]]],8,9]\"\"\""
   ]
  },
  {
   "cell_type": "code",
   "execution_count": 3,
   "metadata": {},
   "outputs": [],
   "source": [
    "import json\n",
    "def parse_groups(data):\n",
    "    return [[json.loads(l) for l in g.split(\"\\n\")] for g in data.split(\"\\n\\n\")]\n",
    "\n",
    "input_pairs = parse_groups(input_data)\n",
    "test_pairs = parse_groups(test_data)"
   ]
  },
  {
   "cell_type": "markdown",
   "metadata": {},
   "source": [
    "### Part 1"
   ]
  },
  {
   "cell_type": "code",
   "execution_count": 4,
   "metadata": {},
   "outputs": [],
   "source": [
    "from itertools import zip_longest"
   ]
  },
  {
   "cell_type": "code",
   "execution_count": 5,
   "metadata": {},
   "outputs": [],
   "source": [
    "Equal = \"equal\"\n",
    "\n",
    "def compare(left, right, verbose=False):\n",
    "    if verbose:\n",
    "        print(f\"Compare {left} vs {right}\")\n",
    "    if left is None:\n",
    "        return True\n",
    "    elif right is None:\n",
    "        return False\n",
    "    elif type(left) is int and type(right) is int:\n",
    "        if left < right:\n",
    "            return True\n",
    "        elif left > right:\n",
    "            return False\n",
    "        else:\n",
    "            return Equal\n",
    "    elif type(left) is list and type(right) is list:\n",
    "        for pair in zip_longest(left, right, fillvalue=None):\n",
    "            result = compare(*pair, verbose=verbose)\n",
    "            if type(result) is bool:\n",
    "                return result\n",
    "        return Equal\n",
    "    elif type(left) is int and type(right) is list:\n",
    "        return compare([left], right, verbose=verbose)\n",
    "    elif type(left) is list and type(right) is int:\n",
    "        return compare(left, [right], verbose=verbose)\n",
    "    else:\n",
    "        raise ValueError(f\"Unexpected values to compare: {left} vs {right}\")"
   ]
  },
  {
   "cell_type": "code",
   "execution_count": 6,
   "metadata": {},
   "outputs": [
    {
     "name": "stdout",
     "output_type": "stream",
     "text": [
      "Compare [[7, 4], [[[]], 8, [[], 3, 7, [0, 10], [8, 7]]], [[8, 10, 8], 6, [], 4, [7, 8, [2]]], [[[10, 9], 2, 7, [], 4]], []] vs [[[[7], 4, 5, 5, [2, 0, 8]], 0, [[10, 5, 8], [5, 8, 3, 7], [5, 10, 6, 3], 2], 7]]\n",
      "Compare [7, 4] vs [[[7], 4, 5, 5, [2, 0, 8]], 0, [[10, 5, 8], [5, 8, 3, 7], [5, 10, 6, 3], 2], 7]\n",
      "Compare 7 vs [[7], 4, 5, 5, [2, 0, 8]]\n",
      "Compare [7] vs [[7], 4, 5, 5, [2, 0, 8]]\n",
      "Compare 7 vs [7]\n",
      "Compare [7] vs [7]\n",
      "Compare 7 vs 7\n",
      "Compare None vs 4\n"
     ]
    },
    {
     "data": {
      "text/plain": [
       "True"
      ]
     },
     "execution_count": 6,
     "metadata": {},
     "output_type": "execute_result"
    }
   ],
   "source": [
    "compare(*input_pairs[9], verbose=True)"
   ]
  },
  {
   "cell_type": "code",
   "execution_count": 7,
   "metadata": {},
   "outputs": [
    {
     "data": {
      "text/plain": [
       "True"
      ]
     },
     "execution_count": 7,
     "metadata": {},
     "output_type": "execute_result"
    }
   ],
   "source": [
    "def fixed_compare(left, right, verbose=False):\n",
    "    result = compare(left, right, verbose=verbose)\n",
    "    if result is Equal:\n",
    "        return True\n",
    "    return result\n",
    "fixed_compare(*input_pairs[9])"
   ]
  },
  {
   "cell_type": "code",
   "execution_count": 8,
   "metadata": {},
   "outputs": [
    {
     "name": "stdout",
     "output_type": "stream",
     "text": [
      "== Pair 1 ==\n",
      "Compare [1, 1, 3, 1, 1] vs [1, 1, 5, 1, 1]\n",
      "Compare 1 vs 1\n",
      "Compare 1 vs 1\n",
      "Compare 3 vs 5\n",
      "True \n",
      "\n",
      "== Pair 2 ==\n",
      "Compare [[1], [2, 3, 4]] vs [[1], 4]\n",
      "Compare [1] vs [1]\n",
      "Compare 1 vs 1\n",
      "Compare [2, 3, 4] vs 4\n",
      "Compare [2, 3, 4] vs [4]\n",
      "Compare 2 vs 4\n",
      "True \n",
      "\n",
      "== Pair 3 ==\n",
      "Compare [9] vs [[8, 7, 6]]\n",
      "Compare 9 vs [8, 7, 6]\n",
      "Compare [9] vs [8, 7, 6]\n",
      "Compare 9 vs 8\n",
      "False \n",
      "\n",
      "== Pair 4 ==\n",
      "Compare [[4, 4], 4, 4] vs [[4, 4], 4, 4, 4]\n",
      "Compare [4, 4] vs [4, 4]\n",
      "Compare 4 vs 4\n",
      "Compare 4 vs 4\n",
      "Compare 4 vs 4\n",
      "Compare 4 vs 4\n",
      "Compare None vs 4\n",
      "True \n",
      "\n",
      "== Pair 5 ==\n",
      "Compare [7, 7, 7, 7] vs [7, 7, 7]\n",
      "Compare 7 vs 7\n",
      "Compare 7 vs 7\n",
      "Compare 7 vs 7\n",
      "Compare 7 vs None\n",
      "False \n",
      "\n",
      "== Pair 6 ==\n",
      "Compare [] vs [3]\n",
      "Compare None vs 3\n",
      "True \n",
      "\n",
      "== Pair 7 ==\n",
      "Compare [[[]]] vs [[]]\n",
      "Compare [[]] vs []\n",
      "Compare [] vs None\n",
      "False \n",
      "\n",
      "== Pair 8 ==\n",
      "Compare [1, [2, [3, [4, [5, 6, 7]]]], 8, 9] vs [1, [2, [3, [4, [5, 6, 0]]]], 8, 9]\n",
      "Compare 1 vs 1\n",
      "Compare [2, [3, [4, [5, 6, 7]]]] vs [2, [3, [4, [5, 6, 0]]]]\n",
      "Compare 2 vs 2\n",
      "Compare [3, [4, [5, 6, 7]]] vs [3, [4, [5, 6, 0]]]\n",
      "Compare 3 vs 3\n",
      "Compare [4, [5, 6, 7]] vs [4, [5, 6, 0]]\n",
      "Compare 4 vs 4\n",
      "Compare [5, 6, 7] vs [5, 6, 0]\n",
      "Compare 5 vs 5\n",
      "Compare 6 vs 6\n",
      "Compare 7 vs 0\n",
      "False \n",
      "\n"
     ]
    }
   ],
   "source": [
    "for i in range(len(test_pairs)):\n",
    "    print(f\"== Pair {i+1} ==\")\n",
    "    print(compare(*test_pairs[i], verbose=True), \"\\n\")"
   ]
  },
  {
   "cell_type": "code",
   "execution_count": 9,
   "metadata": {},
   "outputs": [
    {
     "data": {
      "text/plain": [
       "[1, 2, 4, 6]"
      ]
     },
     "execution_count": 9,
     "metadata": {},
     "output_type": "execute_result"
    }
   ],
   "source": [
    "def in_right_order(pairs, verbose=False):\n",
    "    indices = []\n",
    "    for i in range(len(pairs)):\n",
    "        if fixed_compare(*pairs[i], verbose=verbose):\n",
    "            indices.append(i+1)\n",
    "    return indices\n",
    "\n",
    "in_right_order(test_pairs)"
   ]
  },
  {
   "cell_type": "code",
   "execution_count": 10,
   "metadata": {},
   "outputs": [
    {
     "data": {
      "text/plain": [
       "13"
      ]
     },
     "execution_count": 10,
     "metadata": {},
     "output_type": "execute_result"
    }
   ],
   "source": [
    "sum(in_right_order(test_pairs))"
   ]
  },
  {
   "cell_type": "markdown",
   "metadata": {},
   "source": [
    "#### Part 1 Answer\n",
    "Determine which pairs of packets are already in the right order.  \n",
    "**What is the sum of the indices of those pairs?**"
   ]
  },
  {
   "cell_type": "code",
   "execution_count": 11,
   "metadata": {},
   "outputs": [
    {
     "data": {
      "text/plain": [
       "6369"
      ]
     },
     "execution_count": 11,
     "metadata": {},
     "output_type": "execute_result"
    }
   ],
   "source": [
    "sum(in_right_order(input_pairs))"
   ]
  },
  {
   "cell_type": "markdown",
   "metadata": {},
   "source": [
    "---"
   ]
  },
  {
   "cell_type": "markdown",
   "metadata": {},
   "source": [
    "### Part 2"
   ]
  },
  {
   "cell_type": "code",
   "execution_count": 12,
   "metadata": {},
   "outputs": [],
   "source": [
    "class Packet:\n",
    "    def __init__(self, val):\n",
    "        self.value = val\n",
    "        \n",
    "    def __lt__(self, other):\n",
    "        return fixed_compare(self.value, other.value)\n",
    "    \n",
    "    def __eq__(self, other):\n",
    "        return compare(self.value, other.value) is Equal\n",
    "    \n",
    "    def __repr__(self):\n",
    "        return str(self.value)"
   ]
  },
  {
   "cell_type": "code",
   "execution_count": 13,
   "metadata": {},
   "outputs": [
    {
     "data": {
      "text/plain": [
       "[[[2]],\n",
       " [[6]],\n",
       " [1, 1, 3, 1, 1],\n",
       " [1, 1, 5, 1, 1],\n",
       " [[1], [2, 3, 4]],\n",
       " [[1], 4],\n",
       " [9],\n",
       " [[8, 7, 6]],\n",
       " [[4, 4], 4, 4],\n",
       " [[4, 4], 4, 4, 4],\n",
       " [7, 7, 7, 7],\n",
       " [7, 7, 7],\n",
       " [],\n",
       " [3],\n",
       " [[[]]],\n",
       " [[]],\n",
       " [1, [2, [3, [4, [5, 6, 7]]]], 8, 9],\n",
       " [1, [2, [3, [4, [5, 6, 0]]]], 8, 9]]"
      ]
     },
     "execution_count": 13,
     "metadata": {},
     "output_type": "execute_result"
    }
   ],
   "source": [
    "packets = [Packet([[2]]), Packet([[6]])]\n",
    "for pair in test_pairs:\n",
    "    packets += [Packet(p) for p in pair]\n",
    "packets"
   ]
  },
  {
   "cell_type": "code",
   "execution_count": 14,
   "metadata": {},
   "outputs": [
    {
     "data": {
      "text/plain": [
       "10"
      ]
     },
     "execution_count": 14,
     "metadata": {},
     "output_type": "execute_result"
    }
   ],
   "source": [
    "sorted(packets).index(Packet([[2]]))+1"
   ]
  },
  {
   "cell_type": "code",
   "execution_count": 15,
   "metadata": {},
   "outputs": [],
   "source": [
    "packets = [Packet([[2]]), Packet([[6]])]\n",
    "for pair in input_pairs:\n",
    "    packets += [Packet(p) for p in pair]\n",
    "signal = sorted(packets)"
   ]
  },
  {
   "cell_type": "markdown",
   "metadata": {},
   "source": [
    "#### Part 2 Answer\n",
    "Organize all of the packets into the correct order.  \n",
    "**What is the decoder key for the distress signal?**"
   ]
  },
  {
   "cell_type": "code",
   "execution_count": 16,
   "metadata": {},
   "outputs": [
    {
     "data": {
      "text/plain": [
       "25800"
      ]
     },
     "execution_count": 16,
     "metadata": {},
     "output_type": "execute_result"
    }
   ],
   "source": [
    "(signal.index(Packet([[2]]))+1) * (signal.index(Packet([[6]]))+1)"
   ]
  },
  {
   "cell_type": "markdown",
   "metadata": {},
   "source": [
    "---"
   ]
  },
  {
   "cell_type": "markdown",
   "metadata": {},
   "source": [
    "### Object-Oriented Interface"
   ]
  },
  {
   "cell_type": "code",
   "execution_count": 17,
   "metadata": {},
   "outputs": [],
   "source": [
    "import json\n",
    "from itertools import zip_longest\n",
    "from textwrap import indent"
   ]
  },
  {
   "cell_type": "code",
   "execution_count": 18,
   "metadata": {},
   "outputs": [
    {
     "name": "stdout",
     "output_type": "stream",
     "text": [
      "┐\n",
      "├──1\n",
      "├──┐\n",
      "│  ├──2\n",
      "│  └──┐\n",
      "│     ├──3\n",
      "│     └──┐\n",
      "│        ├──4\n",
      "│        └──┐\n",
      "│           ├──5\n",
      "│           ├──6\n",
      "│           └──7\n",
      "├──8\n",
      "└──9\n"
     ]
    },
    {
     "data": {
      "text/plain": [
       "[1, [2, [3, [4, [5, 6, 7]]]], 8, 9]"
      ]
     },
     "execution_count": 18,
     "metadata": {},
     "output_type": "execute_result"
    }
   ],
   "source": [
    "class Packet:\n",
    "    def __init__(self, value):\n",
    "        if type(value) is str:\n",
    "            value = json.loads(value)\n",
    "        if type(value) is list:\n",
    "            self.value = [Packet(v) for v in value]\n",
    "        else:\n",
    "            self.value = value\n",
    "        self.type = type(self.value)\n",
    "        \n",
    "    def __len__(self):\n",
    "        if self.type is int:\n",
    "            return 1\n",
    "        else:\n",
    "            return len(self.value)\n",
    "        \n",
    "    def __getitem__(self, key):\n",
    "        if self.type is int:\n",
    "            return self.value\n",
    "        else:\n",
    "            return self.value[key]\n",
    "                \n",
    "    def __iter__(self):\n",
    "        if self.type is int:\n",
    "            return Packet([self.value]).__iter__()\n",
    "        else:\n",
    "            return self.value.__iter__()\n",
    "        \n",
    "    def __lt__(self, other):\n",
    "        return Packet.compare(self, other) < 0\n",
    "            \n",
    "    def __eq__(self, other):\n",
    "        return Packet.compare(self, other) == 0\n",
    "    \n",
    "    def __le__(self, other):\n",
    "        return Packet.compare(self, other) <= 0\n",
    "    \n",
    "    @staticmethod\n",
    "    def compare(left, right, verbose=False):\n",
    "        if verbose:\n",
    "            print(f\"Compare {left} vs {right}\")\n",
    "        if left is None:\n",
    "            return -1\n",
    "        elif right is None:\n",
    "            return +1\n",
    "        elif left.type is int and right.type is int:\n",
    "            return left.value - right.value\n",
    "        else:\n",
    "            for pair in zip_longest(left, right, fillvalue=None):\n",
    "                result = Packet.compare(*pair, verbose=verbose)\n",
    "                if result != 0:\n",
    "                    return result\n",
    "            return 0\n",
    "            \n",
    "    def __repr__(self):\n",
    "        return str(self.value)\n",
    "    \n",
    "    def __str__(self):\n",
    "        # draw a multi-line tree structure\n",
    "        if self.type is int:\n",
    "            return str(self.value)\n",
    "        lines = ['┐']\n",
    "        for i in range(len(self)):\n",
    "            item = self[i]\n",
    "            if i < len(self)-1:\n",
    "                line = indent(str(item), '│  ')\n",
    "                line = '├──' + line[3:]\n",
    "            else:\n",
    "                line = indent(str(item), '   ')\n",
    "                line = '└──' + line[3:]\n",
    "            lines.append(line)\n",
    "        tree = \"\\n\".join(lines)\n",
    "        if len(self) >= 1:\n",
    "            return \"┐\" + tree[1:]\n",
    "        else:\n",
    "            return \"─\" + tree[1:]\n",
    "    \n",
    "    \n",
    "p1 = Packet(test_data.split(\"\\n\")[-2])\n",
    "print(p1)\n",
    "p1"
   ]
  },
  {
   "cell_type": "code",
   "execution_count": 19,
   "metadata": {},
   "outputs": [
    {
     "name": "stdout",
     "output_type": "stream",
     "text": [
      "┐\n",
      "├──1\n",
      "├──┐\n",
      "│  ├──2\n",
      "│  └──┐\n",
      "│     ├──3\n",
      "│     └──┐\n",
      "│        ├──4\n",
      "│        └──┐\n",
      "│           ├──5\n",
      "│           ├──6\n",
      "│           └──0\n",
      "├──8\n",
      "└──9\n"
     ]
    },
    {
     "data": {
      "text/plain": [
       "[1, [2, [3, [4, [5, 6, 0]]]], 8, 9]"
      ]
     },
     "execution_count": 19,
     "metadata": {},
     "output_type": "execute_result"
    }
   ],
   "source": [
    "p2 = Packet(test_data.split(\"\\n\")[-1])\n",
    "print(p2)\n",
    "p2"
   ]
  },
  {
   "cell_type": "code",
   "execution_count": 20,
   "metadata": {},
   "outputs": [
    {
     "data": {
      "text/plain": [
       "(False, False, True)"
      ]
     },
     "execution_count": 20,
     "metadata": {},
     "output_type": "execute_result"
    }
   ],
   "source": [
    "p1 < p2, p1 == p2, p1 > p2"
   ]
  }
 ],
 "metadata": {
  "kernelspec": {
   "display_name": "Python 3",
   "language": "python",
   "name": "python3"
  },
  "language_info": {
   "codemirror_mode": {
    "name": "ipython",
    "version": 3
   },
   "file_extension": ".py",
   "mimetype": "text/x-python",
   "name": "python",
   "nbconvert_exporter": "python",
   "pygments_lexer": "ipython3",
   "version": "3.8.5"
  }
 },
 "nbformat": 4,
 "nbformat_minor": 4
}
