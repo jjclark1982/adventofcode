{
 "cells": [
  {
   "cell_type": "markdown",
   "metadata": {},
   "source": [
    "# Advent of Code 2021\n",
    "## [Day 16: Packet Decoder](https://adventofcode.com/2021/day/16)"
   ]
  },
  {
   "cell_type": "markdown",
   "metadata": {},
   "source": [
    "#### Load Data"
   ]
  },
  {
   "cell_type": "code",
   "execution_count": 1,
   "metadata": {},
   "outputs": [
    {
     "data": {
      "text/plain": [
       "'A059141803C0008447E897180401F82F1E60D80021D11A3DC3F300470015786935BED80A5DB5002F69B4298A60FE73BE41968F48080328D00427BCD339CC7F431253838CCEFF4A943803D251B924EC283F16D400C9CDB3180213D2D542EC01092D77381A98DA89801D241705C80180960E93469801400F0A6CEA7617318732B08C67DA48C27551C00F972830052800B08550A277416401A5C913D0043D2CD125AC4B1DB50E0802059552912E9676931530046C0141007E3D4698E20008744D89509677DBF5759F38CDC594401093FC67BACDCE66B3C87380553E7127B88ECACAD96D98F8AC9E570C015C00B8E4E33AD33632938CEB4CD8C67890C01083B800E5CBDAB2BDDF65814C01299D7E34842E85801224D52DF9824D52DF981C4630047401400042E144698B2200C4328731CA6F9CBCA5FBB798021259B7B3BBC912803879CD67F6F5F78BB9CD6A77D42F1223005B8037600042E25C158FE0008747E8F50B276116C9A2730046801F29BC854A6BF4C65F64EB58DF77C018009D640086C318870A0C01D88105A0B9803310E2045C8CF3F4E7D7880484D0040001098B51DA0980021F17A3047899585004E79CE4ABD503005E610271ED4018899234B64F64588C0129EEDFD2EFBA75E0084CC659AF3457317069A509B97FB3531003254D080557A00CC8401F8791DA13080391EA39C739EFEE5394920C01098C735D51B004A7A92F6A0953D497B504F200F2BC01792FE9D64BFA739584774847CE26006A801AC05DE180184053E280104049D10111CA006300E962005A801E2007B80182007200792E00420051E400EF980192DC8471E259245100967FF7E6F2CF25DBFA8593108D342939595454802D79550C0068A72F0DC52A7D68003E99C863D5BC7A411EA37C229A86EBBC0CB802B331FDBED13BAB92080310265296AFA1EDE8AA64A0C02C9D49966195609C0594223005B80152977996D69EE7BD9CE4C1803978A7392ACE71DA448914C527FFE140'"
      ]
     },
     "execution_count": 1,
     "metadata": {},
     "output_type": "execute_result"
    }
   ],
   "source": [
    "with open('input.txt') as f:\n",
    "    input_data = f.read().strip()\n",
    "input_data"
   ]
  },
  {
   "cell_type": "markdown",
   "metadata": {},
   "source": [
    "### Part 1"
   ]
  },
  {
   "cell_type": "code",
   "execution_count": 2,
   "metadata": {},
   "outputs": [],
   "source": [
    "a = int(input_data[0], 16)"
   ]
  },
  {
   "cell_type": "code",
   "execution_count": 3,
   "metadata": {},
   "outputs": [
    {
     "data": {
      "text/plain": [
       "'0010'"
      ]
     },
     "execution_count": 3,
     "metadata": {},
     "output_type": "execute_result"
    }
   ],
   "source": [
    "f\"{int('2', 16):04b}\""
   ]
  },
  {
   "cell_type": "code",
   "execution_count": 4,
   "metadata": {},
   "outputs": [],
   "source": [
    "example_literal = 'D2FE28'"
   ]
  },
  {
   "cell_type": "code",
   "execution_count": 5,
   "metadata": {},
   "outputs": [
    {
     "data": {
      "text/plain": [
       "'110100101111111000101000'"
      ]
     },
     "execution_count": 5,
     "metadata": {},
     "output_type": "execute_result"
    }
   ],
   "source": [
    "def hex_to_bin(s):\n",
    "    binary = ''\n",
    "    for c in s:\n",
    "        nibble = f\"{int(c, base=16):04b}\"\n",
    "        binary += nibble\n",
    "    return binary\n",
    "\n",
    "packet = hex_to_bin(example_literal)\n",
    "packet"
   ]
  },
  {
   "cell_type": "code",
   "execution_count": 6,
   "metadata": {},
   "outputs": [
    {
     "data": {
      "text/plain": [
       "<BITS 110100101111111000101000>"
      ]
     },
     "execution_count": 6,
     "metadata": {},
     "output_type": "execute_result"
    }
   ],
   "source": [
    "class BITS(object):\n",
    "    def __init__(self, input_str, base=16):\n",
    "        self.cursor = 0\n",
    "        if base == 2:\n",
    "            self.bits = input_str\n",
    "        else:\n",
    "            self.bits = ''\n",
    "            for char in input_str:\n",
    "                nibble = f\"{int(char, base):04b}\"\n",
    "                self.bits += nibble\n",
    "        \n",
    "    def __repr__(self):\n",
    "        return f\"<BITS {self.bits[self.cursor:]}>\"\n",
    "    \n",
    "    @property\n",
    "    def remaining(self):\n",
    "        return len(self.bits) - self.cursor\n",
    "        \n",
    "    def get_str(self, n):\n",
    "        value = self.bits[self.cursor:self.cursor+n]\n",
    "        self.cursor += n\n",
    "        return value\n",
    "    \n",
    "    def get_sub_bits(self, n):\n",
    "        sub_bits = self.get_str(n)\n",
    "        return BITS(sub_bits, base=2)\n",
    "    \n",
    "    def get(self, n):\n",
    "        return int(self.get_str(n), base=2)\n",
    "\n",
    "BITS(example_literal)"
   ]
  },
  {
   "cell_type": "code",
   "execution_count": 7,
   "metadata": {},
   "outputs": [
    {
     "data": {
      "text/plain": [
       "(24, 6, 21)"
      ]
     },
     "execution_count": 7,
     "metadata": {},
     "output_type": "execute_result"
    }
   ],
   "source": [
    "b = BITS(example_literal)\n",
    "b.remaining, b.get(3), b.remaining"
   ]
  },
  {
   "cell_type": "code",
   "execution_count": 8,
   "metadata": {},
   "outputs": [
    {
     "data": {
      "text/plain": [
       "'00111000000000000110111101000101001010010001001000000000'"
      ]
     },
     "execution_count": 8,
     "metadata": {},
     "output_type": "execute_result"
    }
   ],
   "source": [
    "example_operator = '38006F45291200'\n",
    "packet = hex_to_bin(example_operator)\n",
    "packet"
   ]
  },
  {
   "cell_type": "code",
   "execution_count": 14,
   "metadata": {},
   "outputs": [
    {
     "data": {
      "text/plain": [
       "<Packet v1 type=6 len=2>"
      ]
     },
     "execution_count": 14,
     "metadata": {},
     "output_type": "execute_result"
    }
   ],
   "source": [
    "from functools import reduce\n",
    "\n",
    "class Packet(object):\n",
    "    def __init__(self, bits):\n",
    "        self.packet_version = bits.get(3)\n",
    "        self.packet_type = bits.get(3)\n",
    "        self.sub_packets = []\n",
    "        \n",
    "        # literal packet type\n",
    "        if self.packet_type == 4:\n",
    "            literal_value = 0\n",
    "            terminate = False\n",
    "            while not terminate:\n",
    "                terminate = (bits.get(1) == 0)\n",
    "                nibble = bits.get(4)\n",
    "                literal_value = literal_value * 16 + nibble\n",
    "            self.value = literal_value\n",
    "            return\n",
    "\n",
    "        # operator packet type\n",
    "        length_type = bits.get(1)\n",
    "        if length_type == 0:\n",
    "            num_sub_packet_bits = bits.get(15)\n",
    "            sub_packets_bits = bits.get_sub_bits(num_sub_packet_bits)\n",
    "            while sub_packets_bits.remaining > 7:\n",
    "                self.sub_packets.append(Packet(sub_packets_bits))\n",
    "        else:\n",
    "            num_sub_packets = bits.get(11)\n",
    "            for _ in range(num_sub_packets):\n",
    "                self.sub_packets.append(Packet(bits))\n",
    "                \n",
    "    def __repr__(self):\n",
    "        return f\"<Packet v{self.packet_version} type={self.packet_type} len={len(self.sub_packets)}>\"\n",
    "\n",
    "    def total_version(self):\n",
    "        return self.packet_version + sum(p.total_version() for p in self.sub_packets)\n",
    "    \n",
    "    def evaluate(self):\n",
    "        if self.packet_type == 4:\n",
    "            return self.value\n",
    "        values = [p.evaluate() for p in self.sub_packets]\n",
    "        if self.packet_type == 0:\n",
    "            return sum(values)\n",
    "        elif self.packet_type == 1:\n",
    "            return reduce((lambda x, y: x * y), values)\n",
    "        elif self.packet_type == 2:\n",
    "            return min(values)\n",
    "        elif self.packet_type == 3:\n",
    "            return max(values)\n",
    "        elif self.packet_type == 5:\n",
    "            return int(values[0] > values[1])\n",
    "        elif self.packet_type == 6:\n",
    "            return int(values[0] < values[1])\n",
    "        elif self.packet_type == 7:\n",
    "            return int(values[0] == values[1])\n",
    "        \n",
    "Packet(BITS(example_operator))"
   ]
  },
  {
   "cell_type": "code",
   "execution_count": 17,
   "metadata": {},
   "outputs": [
    {
     "name": "stdout",
     "output_type": "stream",
     "text": [
      "[<Packet v0 type=1 len=3>, <Packet v7 type=1 len=2>, <Packet v5 type=2 len=4>, <Packet v0 type=1 len=2>, <Packet v1 type=4 len=0>, <Packet v0 type=3 len=3>, <Packet v3 type=2 len=1>, <Packet v6 type=1 len=2>, <Packet v1 type=1 len=1>, <Packet v3 type=4 len=0>, <Packet v7 type=1 len=3>, <Packet v1 type=2 len=5>, <Packet v4 type=3 len=1>, <Packet v0 type=1 len=2>, <Packet v3 type=1 len=2>, <Packet v0 type=1 len=4>, <Packet v5 type=1 len=2>, <Packet v1 type=4 len=0>, <Packet v5 type=0 len=2>, <Packet v6 type=3 len=5>, <Packet v4 type=1 len=2>, <Packet v4 type=1 len=2>, <Packet v5 type=1 len=2>, <Packet v3 type=4 len=0>, <Packet v6 type=1 len=2>, <Packet v7 type=1 len=2>, <Packet v2 type=1 len=2>, <Packet v4 type=4 len=0>, <Packet v7 type=1 len=2>, <Packet v3 type=0 len=3>, <Packet v4 type=4 len=0>, <Packet v7 type=4 len=0>, <Packet v6 type=1 len=2>, <Packet v0 type=2 len=2>, <Packet v0 type=1 len=2>, <Packet v3 type=2 len=3>, <Packet v2 type=1 len=2>, <Packet v6 type=4 len=0>, <Packet v0 type=4 len=0>, <Packet v3 type=0 len=1>, <Packet v4 type=1 len=2>, <Packet v0 type=1 len=2>, <Packet v7 type=1 len=2>, <Packet v1 type=1 len=1>, <Packet v5 type=4 len=0>, <Packet v5 type=0 len=4>, <Packet v5 type=1 len=2>, <Packet v2 type=0 len=5>, <Packet v1 type=3 len=2>, <Packet v4 type=0 len=3>, <Packet v0 type=1 len=5>, <Packet v2 type=1 len=2>, <Packet v0 type=3 len=4>]\n"
     ]
    }
   ],
   "source": [
    "print(Packet(BITS(input_data)).sub_packets)"
   ]
  },
  {
   "cell_type": "code",
   "execution_count": 10,
   "metadata": {},
   "outputs": [
    {
     "data": {
      "text/plain": [
       "<Packet v7 type=3 len=3>"
      ]
     },
     "execution_count": 10,
     "metadata": {},
     "output_type": "execute_result"
    }
   ],
   "source": [
    "example_operator_2 = 'EE00D40C823060'\n",
    "Packet(BITS(example_operator_2))"
   ]
  },
  {
   "cell_type": "code",
   "execution_count": 11,
   "metadata": {},
   "outputs": [
    {
     "data": {
      "text/plain": [
       "<Packet v1 type=6 len=2>"
      ]
     },
     "execution_count": 11,
     "metadata": {},
     "output_type": "execute_result"
    }
   ],
   "source": [
    "Packet(BITS(example_operator))"
   ]
  },
  {
   "cell_type": "markdown",
   "metadata": {},
   "source": [
    "#### Part 1 Answer\n",
    "Decode the structure of your hexadecimal-encoded BITS transmission;  \n",
    "**what do you get if you add up the version numbers in all packets?**"
   ]
  },
  {
   "cell_type": "code",
   "execution_count": 12,
   "metadata": {},
   "outputs": [
    {
     "data": {
      "text/plain": [
       "860"
      ]
     },
     "execution_count": 12,
     "metadata": {},
     "output_type": "execute_result"
    }
   ],
   "source": [
    "Packet(BITS(input_data)).total_version()"
   ]
  },
  {
   "cell_type": "markdown",
   "metadata": {},
   "source": [
    "### Part 2"
   ]
  },
  {
   "cell_type": "markdown",
   "metadata": {},
   "source": [
    "#### Part 2 Answer\n",
    "**What do you get if you evaluate the expression represented by your hexadecimal-encoded BITS transmission?**"
   ]
  },
  {
   "cell_type": "code",
   "execution_count": 13,
   "metadata": {},
   "outputs": [
    {
     "data": {
      "text/plain": [
       "470949537659"
      ]
     },
     "execution_count": 13,
     "metadata": {},
     "output_type": "execute_result"
    }
   ],
   "source": [
    "Packet(BITS(input_data)).evaluate()"
   ]
  }
 ],
 "metadata": {
  "kernelspec": {
   "display_name": "Python 3",
   "language": "python",
   "name": "python3"
  },
  "language_info": {
   "codemirror_mode": {
    "name": "ipython",
    "version": 3
   },
   "file_extension": ".py",
   "mimetype": "text/x-python",
   "name": "python",
   "nbconvert_exporter": "python",
   "pygments_lexer": "ipython3",
   "version": "3.8.5"
  }
 },
 "nbformat": 4,
 "nbformat_minor": 4
}
