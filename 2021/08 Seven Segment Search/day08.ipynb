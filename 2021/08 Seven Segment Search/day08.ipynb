{
 "cells": [
  {
   "cell_type": "markdown",
   "metadata": {},
   "source": [
    "# Advent of Code 2021\n",
    "## [Day 8: Seven Segment Search](https://adventofcode.com/2021/day/8)"
   ]
  },
  {
   "cell_type": "markdown",
   "metadata": {},
   "source": [
    "### Part 1"
   ]
  },
  {
   "cell_type": "code",
   "execution_count": 1,
   "metadata": {},
   "outputs": [],
   "source": [
    "import numpy as np\n",
    "from collections import defaultdict"
   ]
  },
  {
   "cell_type": "code",
   "execution_count": 2,
   "metadata": {},
   "outputs": [
    {
     "data": {
      "text/plain": [
       "['abdfce bedag acdefgb cg febcga fbdac fcdg cabdg bcg bgacdf | fdcab adbcf gcb acdebf',\n",
       " 'bgeacdf dgebca gbc fbgd fceba fecdg bcgef cfgbde gb fegacd | dbfg abecf dfgb gaecdf',\n",
       " 'dfega bedag af agf fdagcb cbaedgf feac dfecg dcegfa gcfdbe | fag edcgf fga bfgcad',\n",
       " 'ca afc bdafe bgface afdebc dcab cgedf fcaed cdebfga fabged | fcdea abdc fdcbea fdbcega',\n",
       " 'gabde beacg cgafe gcfeab gebdcf fedagc edfgcba bc acfb bcg | fagedc bgc bgace cbg']"
      ]
     },
     "execution_count": 2,
     "metadata": {},
     "output_type": "execute_result"
    }
   ],
   "source": [
    "import aocd\n",
    "input_data = aocd.get_data(day=8, year=2021).split('\\n')\n",
    "input_data[:5]"
   ]
  },
  {
   "cell_type": "code",
   "execution_count": 3,
   "metadata": {},
   "outputs": [],
   "source": [
    "test_data = [\n",
    "    \"be cfbegad cbdgef fgaecd cgeb fdcge agebfd fecdb fabcd edb | fdgacbe cefdb cefbgd gcbe\",\n",
    "    \"edbfga begcd cbg gc gcadebf fbgde acbgfd abcde gfcbed gfec | fcgedb cgb dgebacf gc\",\n",
    "    \"fgaebd cg bdaec gdafb agbcfd gdcbef bgcad gfac gcb cdgabef | cg cg fdcagb cbg\",\n",
    "    \"fbegcd cbd adcefb dageb afcb bc aefdc ecdab fgdeca fcdbega | efabcd cedba gadfec cb\",\n",
    "    \"aecbfdg fbg gf bafeg dbefa fcge gcbea fcaegb dgceab fcbdga | gecf egdcabf bgf bfgea\",\n",
    "    \"fgeab ca afcebg bdacfeg cfaedg gcfdb baec bfadeg bafgc acf | gebdcfa ecba ca fadegcb\",\n",
    "    \"dbcfg fgd bdegcaf fgec aegbdf ecdfab fbedc dacgb gdcebf gf | cefg dcbef fcge gbcadfe\",\n",
    "    \"bdfegc cbegaf gecbf dfcage bdacg ed bedf ced adcbefg gebcd | ed bcgafe cdgba cbgef\",\n",
    "    \"egadfb cdbfeg cegd fecab cgb gbdefca cg fgcdab egfdb bfceg | gbdfcae bgc cg cgb\",\n",
    "    \"gcafb gcf dcaebfg ecagb gf abcdeg gaef cafbge fdbac fegbdc | fgae cfgab fg bagce\",\n",
    "]"
   ]
  },
  {
   "cell_type": "code",
   "execution_count": 4,
   "metadata": {},
   "outputs": [
    {
     "data": {
      "text/plain": [
       "defaultdict(<function __main__.<lambda>()>,\n",
       "            {-1: 384, 7: 110, 4: 101, 8: 105, 1: 100})"
      ]
     },
     "execution_count": 4,
     "metadata": {},
     "output_type": "execute_result"
    }
   ],
   "source": [
    "len_to_digit = {\n",
    "    2: 1,\n",
    "    3: 7,\n",
    "    4: 4,\n",
    "    7: 8\n",
    "}\n",
    "counts = defaultdict(lambda : 0)\n",
    "\n",
    "for line in input_data:\n",
    "    a, b = line.split(' | ')\n",
    "    a_words = [''.join(sorted(w)) for w in a.split(' ')]\n",
    "    b_words = [''.join(sorted(w)) for w in b.split(' ')]\n",
    "    for word in b_words:\n",
    "        digit = len_to_digit.get(len(word), -1)\n",
    "        counts[digit] += 1\n",
    "counts"
   ]
  },
  {
   "cell_type": "markdown",
   "metadata": {},
   "source": [
    "#### Part 1 Answer\n",
    "**In the output values, how many times do digits 1, 4, 7, or 8 appear?**"
   ]
  },
  {
   "cell_type": "code",
   "execution_count": 5,
   "metadata": {},
   "outputs": [
    {
     "data": {
      "text/plain": [
       "416"
      ]
     },
     "execution_count": 5,
     "metadata": {},
     "output_type": "execute_result"
    }
   ],
   "source": [
    "110 + 101 + 105 + 100"
   ]
  },
  {
   "cell_type": "markdown",
   "metadata": {},
   "source": [
    "### Part 2"
   ]
  },
  {
   "cell_type": "code",
   "execution_count": 6,
   "metadata": {},
   "outputs": [],
   "source": [
    "def parse_line(line):\n",
    "    a, b = line.split(' | ')\n",
    "    a_words = [set(w) for w in a.split(' ')]\n",
    "    b_words = [set(w) for w in b.split(' ')]\n",
    "    return a_words, b_words"
   ]
  },
  {
   "cell_type": "code",
   "execution_count": 7,
   "metadata": {},
   "outputs": [
    {
     "data": {
      "text/plain": [
       "{1: {'f', 'g'},\n",
       " 7: {'c', 'f', 'g'},\n",
       " 4: {'a', 'e', 'f', 'g'},\n",
       " 8: {'a', 'b', 'c', 'd', 'e', 'f', 'g'},\n",
       " 6: {'a', 'b', 'c', 'd', 'e', 'g'},\n",
       " 3: {'a', 'b', 'c', 'f', 'g'},\n",
       " 0: {'b', 'c', 'd', 'e', 'f', 'g'},\n",
       " 9: {'a', 'b', 'c', 'e', 'f', 'g'},\n",
       " 5: {'a', 'b', 'c', 'e', 'g'},\n",
       " 2: {'a', 'b', 'c', 'd', 'f'}}"
      ]
     },
     "execution_count": 7,
     "metadata": {},
     "output_type": "execute_result"
    }
   ],
   "source": [
    "def solve_line(a_words):\n",
    "    unknown = a_words\n",
    "    known = {}\n",
    "    \n",
    "    for word in unknown:\n",
    "        if len(word) == 2:\n",
    "            known[1] = word\n",
    "            unknown.remove(word)\n",
    "\n",
    "    for word in unknown:\n",
    "        if len(word) == 3:\n",
    "            known[7] = word\n",
    "            unknown.remove(word)\n",
    "\n",
    "    for word in unknown:\n",
    "        if len(word) == 4:\n",
    "            known[4] = word\n",
    "            unknown.remove(word)\n",
    "\n",
    "    for word in unknown:\n",
    "        if len(word) == 7:\n",
    "            known[8] = word\n",
    "            unknown.remove(word)\n",
    "            \n",
    "    for word in unknown:\n",
    "        if len(word) == 6 and len(known[1].intersection(word)) == 1:\n",
    "            known[6] = word\n",
    "            unknown.remove(word)\n",
    "            \n",
    "    for word in unknown:\n",
    "        if len(word.intersection(known[6] - known[7])) == 2:\n",
    "            known[3] = word\n",
    "            unknown.remove(word)\n",
    "\n",
    "    middle = known[3].intersection(known[4]) - known[1]\n",
    "    \n",
    "    for word in unknown:\n",
    "        if known[8] - word == middle:\n",
    "            known[0] = word\n",
    "            unknown.remove(word)\n",
    "\n",
    "    for word in unknown:\n",
    "        if len(word) == 6:\n",
    "            known[9] = word\n",
    "            unknown.remove(word)\n",
    "\n",
    "    top_right = known[8] - known[6]\n",
    "    \n",
    "    for word in unknown:\n",
    "        if top_right.intersection(word):\n",
    "            known[2] = word \n",
    "        else:\n",
    "            known[5] = word\n",
    "    \n",
    "    if len(known) < 10:\n",
    "        print(\"uh oh\", known.keys(), top_right)\n",
    "    \n",
    "    return known\n",
    "\n",
    "solve_line(parse_line(test_data[-1])[0])"
   ]
  },
  {
   "cell_type": "code",
   "execution_count": 8,
   "metadata": {},
   "outputs": [],
   "source": [
    "def decode_line(known, b_words):\n",
    "    digits = []\n",
    "    for word in b_words:\n",
    "        for key, val in known.items():\n",
    "            if word == val:\n",
    "                digits.append(key)\n",
    "    output = int(''.join(map(str,digits)))\n",
    "    return output"
   ]
  },
  {
   "cell_type": "code",
   "execution_count": 9,
   "metadata": {},
   "outputs": [
    {
     "data": {
      "text/plain": [
       "[8394, 9781, 1197, 9361, 4873, 8418, 4548, 1625, 8717, 4315]"
      ]
     },
     "execution_count": 9,
     "metadata": {},
     "output_type": "execute_result"
    }
   ],
   "source": [
    "def find_outputs(lines):\n",
    "    outputs = []\n",
    "    for line in lines:\n",
    "        a_words, b_words = parse_line(line)\n",
    "        known = solve_line(a_words)\n",
    "        output = decode_line(known, b_words)\n",
    "        outputs.append(output)\n",
    "    return outputs\n",
    "\n",
    "find_outputs(test_data)"
   ]
  },
  {
   "cell_type": "markdown",
   "metadata": {},
   "source": [
    "#### Part 2 Answer\n",
    "For each entry, determine all of the wire/segment connections and decode the four-digit output values.  \n",
    "**What do you get if you add up all of the output values?**"
   ]
  },
  {
   "cell_type": "code",
   "execution_count": 10,
   "metadata": {},
   "outputs": [
    {
     "data": {
      "text/plain": [
       "1043697"
      ]
     },
     "execution_count": 10,
     "metadata": {},
     "output_type": "execute_result"
    }
   ],
   "source": [
    "sum(find_outputs(input_data))"
   ]
  }
 ],
 "metadata": {
  "kernelspec": {
   "display_name": "Python 3",
   "language": "python",
   "name": "python3"
  },
  "language_info": {
   "codemirror_mode": {
    "name": "ipython",
    "version": 3
   },
   "file_extension": ".py",
   "mimetype": "text/x-python",
   "name": "python",
   "nbconvert_exporter": "python",
   "pygments_lexer": "ipython3",
   "version": "3.8.5"
  }
 },
 "nbformat": 4,
 "nbformat_minor": 4
}
