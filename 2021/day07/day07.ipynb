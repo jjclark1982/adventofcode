{
 "cells": [
  {
   "cell_type": "markdown",
   "metadata": {},
   "source": [
    "# Advent of Code 2021\n",
    "## Day 7"
   ]
  },
  {
   "cell_type": "markdown",
   "metadata": {},
   "source": [
    "### Part 1"
   ]
  },
  {
   "cell_type": "code",
   "execution_count": 1,
   "metadata": {},
   "outputs": [],
   "source": [
    "import numpy as np"
   ]
  },
  {
   "cell_type": "code",
   "execution_count": 2,
   "metadata": {},
   "outputs": [],
   "source": [
    "import aocd\n",
    "input_data = aocd.get_data(day=7, year=2021).split('\\n')"
   ]
  },
  {
   "cell_type": "code",
   "execution_count": 3,
   "metadata": {},
   "outputs": [
    {
     "name": "stdout",
     "output_type": "stream",
     "text": [
      "[1101    1   29   67 1102    0    1   65 1008   65]\n"
     ]
    }
   ],
   "source": [
    "crabs = np.array(input_data[0].split(','), dtype=int)\n",
    "print(crabs[:10])"
   ]
  },
  {
   "cell_type": "code",
   "execution_count": 4,
   "metadata": {},
   "outputs": [
    {
     "data": {
      "text/plain": [
       "1000"
      ]
     },
     "execution_count": 4,
     "metadata": {},
     "output_type": "execute_result"
    }
   ],
   "source": [
    "len(crabs)"
   ]
  },
  {
   "cell_type": "code",
   "execution_count": 5,
   "metadata": {},
   "outputs": [
    {
     "data": {
      "text/plain": [
       "array([16,  1,  2,  0,  4,  2,  7,  1,  2, 14])"
      ]
     },
     "execution_count": 5,
     "metadata": {},
     "output_type": "execute_result"
    }
   ],
   "source": [
    "test_crabs = np.array([16,1,2,0,4,2,7,1,2,14])\n",
    "test_crabs"
   ]
  },
  {
   "cell_type": "code",
   "execution_count": 6,
   "metadata": {},
   "outputs": [
    {
     "data": {
      "text/plain": [
       "array([ 0,  1,  2,  3,  4,  5,  6,  7,  8,  9, 10, 11, 12, 13, 14, 15, 16])"
      ]
     },
     "execution_count": 6,
     "metadata": {},
     "output_type": "execute_result"
    }
   ],
   "source": [
    "np.arange(test_crabs.min(), test_crabs.max() + 1)"
   ]
  },
  {
   "cell_type": "code",
   "execution_count": 7,
   "metadata": {},
   "outputs": [
    {
     "data": {
      "text/plain": [
       "37"
      ]
     },
     "execution_count": 7,
     "metadata": {},
     "output_type": "execute_result"
    }
   ],
   "source": [
    "def cost_for_pos(pos, crabs):\n",
    "    return np.abs(crabs - pos).sum()\n",
    "    \n",
    "cost_for_pos(2, test_crabs)"
   ]
  },
  {
   "cell_type": "code",
   "execution_count": 8,
   "metadata": {},
   "outputs": [
    {
     "data": {
      "text/plain": [
       "37"
      ]
     },
     "execution_count": 8,
     "metadata": {},
     "output_type": "execute_result"
    }
   ],
   "source": [
    "def get_all_costs(crabs):\n",
    "    all_costs = []\n",
    "    for i in np.arange(crabs.min(), crabs.max() + 1):\n",
    "        all_costs.append(cost_for_pos(i, crabs))\n",
    "    return np.array(all_costs)\n",
    "get_all_costs(test_crabs).min()"
   ]
  },
  {
   "cell_type": "markdown",
   "metadata": {},
   "source": [
    "#### Part 1 Answer\n",
    "Determine the horizontal position that the crabs can align to using the least fuel possible.  \n",
    "**How much fuel must they spend to align to that position?**"
   ]
  },
  {
   "cell_type": "code",
   "execution_count": 9,
   "metadata": {},
   "outputs": [
    {
     "data": {
      "text/plain": [
       "354129"
      ]
     },
     "execution_count": 9,
     "metadata": {},
     "output_type": "execute_result"
    }
   ],
   "source": [
    "get_all_costs(crabs).min()"
   ]
  },
  {
   "cell_type": "markdown",
   "metadata": {},
   "source": [
    "### Part 2"
   ]
  },
  {
   "cell_type": "code",
   "execution_count": 10,
   "metadata": {},
   "outputs": [
    {
     "data": {
      "text/plain": [
       "[0, 1, 3, 6, 10, 15, 21, 28, 36, 45]"
      ]
     },
     "execution_count": 10,
     "metadata": {},
     "output_type": "execute_result"
    }
   ],
   "source": [
    "[np.sum(np.arange(i+1)) for i in range(10)]"
   ]
  },
  {
   "cell_type": "code",
   "execution_count": 11,
   "metadata": {},
   "outputs": [
    {
     "data": {
      "text/plain": [
       "array([ 0,  1,  3,  6, 10, 15, 21, 28, 36, 45])"
      ]
     },
     "execution_count": 11,
     "metadata": {},
     "output_type": "execute_result"
    }
   ],
   "source": [
    "def get_more_cost(n):\n",
    "    return n * (n + 1) // 2\n",
    "get_more_cost(np.arange(10))"
   ]
  },
  {
   "cell_type": "code",
   "execution_count": 12,
   "metadata": {},
   "outputs": [
    {
     "data": {
      "text/plain": [
       "206"
      ]
     },
     "execution_count": 12,
     "metadata": {},
     "output_type": "execute_result"
    }
   ],
   "source": [
    "def cost_for_pos_2(pos, crabs):\n",
    "    return (np.abs(crabs - pos) * (np.abs(crabs - pos) + 1) // 2).sum()\n",
    "cost_for_pos_2(2, test_crabs)"
   ]
  },
  {
   "cell_type": "code",
   "execution_count": 13,
   "metadata": {},
   "outputs": [
    {
     "data": {
      "text/plain": [
       "168"
      ]
     },
     "execution_count": 13,
     "metadata": {},
     "output_type": "execute_result"
    }
   ],
   "source": [
    "def get_all_costs_2(crabs):\n",
    "    all_costs = []\n",
    "    for i in np.arange(crabs.min(), crabs.max()+1):\n",
    "        all_costs.append(cost_for_pos_2(i, crabs))\n",
    "    return np.array(all_costs)\n",
    "get_all_costs_2(test_crabs).min()"
   ]
  },
  {
   "cell_type": "code",
   "execution_count": 14,
   "metadata": {},
   "outputs": [
    {
     "data": {
      "text/plain": [
       "5"
      ]
     },
     "execution_count": 14,
     "metadata": {},
     "output_type": "execute_result"
    }
   ],
   "source": [
    "get_all_costs_2(test_crabs).argmin()"
   ]
  },
  {
   "cell_type": "code",
   "execution_count": 22,
   "metadata": {},
   "outputs": [
    {
     "data": {
      "text/plain": [
       "494"
      ]
     },
     "execution_count": 22,
     "metadata": {},
     "output_type": "execute_result"
    }
   ],
   "source": [
    "get_all_costs_2(crabs).argmin()"
   ]
  },
  {
   "cell_type": "code",
   "execution_count": 23,
   "metadata": {},
   "outputs": [
    {
     "data": {
      "text/plain": [
       "494.601"
      ]
     },
     "execution_count": 23,
     "metadata": {},
     "output_type": "execute_result"
    }
   ],
   "source": [
    "np.mean(crabs)"
   ]
  },
  {
   "cell_type": "markdown",
   "metadata": {},
   "source": [
    "#### Part 2 Answer\n",
    "Determine the horizontal position that the crabs can align to using the least fuel possible so they can make you an escape route!  \n",
    "**How much fuel must they spend to align to that position?**"
   ]
  },
  {
   "cell_type": "code",
   "execution_count": 15,
   "metadata": {},
   "outputs": [
    {
     "data": {
      "text/plain": [
       "98905973"
      ]
     },
     "execution_count": 15,
     "metadata": {},
     "output_type": "execute_result"
    }
   ],
   "source": [
    "get_all_costs_2(crabs).min()"
   ]
  },
  {
   "cell_type": "markdown",
   "metadata": {},
   "source": [
    "-----"
   ]
  },
  {
   "cell_type": "markdown",
   "metadata": {},
   "source": [
    "### Visualization"
   ]
  },
  {
   "cell_type": "code",
   "execution_count": 16,
   "metadata": {},
   "outputs": [],
   "source": [
    "import matplotlib\n",
    "from matplotlib import pyplot as plt"
   ]
  },
  {
   "cell_type": "code",
   "execution_count": 17,
   "metadata": {},
   "outputs": [],
   "source": [
    "def plot_crabs(crabs):\n",
    "    all_costs_1 = get_all_costs(crabs)\n",
    "    crab_costs_1 = all_costs_1[crabs]\n",
    "    target1 = all_costs_1.argmin()\n",
    "\n",
    "    all_costs_2 = get_all_costs_2(crabs)\n",
    "    crab_costs_2 = all_costs_2[crabs]\n",
    "    target2 = all_costs_2.argmin()\n",
    "\n",
    "    norm = matplotlib.colors.Normalize(\n",
    "        vmin=crab_costs_1.min(),\n",
    "        vmax=crab_costs_2.max()\n",
    "    )\n",
    "    \n",
    "    fig, (ax1, ax2) = plt.subplots(2, 1)\n",
    "    fig.set_size_inches(12, 10)\n",
    "    \n",
    "    y = np.arange(len(crabs))\n",
    "    fig.suptitle(\"Crab Submarine Movement Proposal\", fontweight='bold')\n",
    "    \n",
    "    ax1.set_title('Linear Cost')\n",
    "    ax1.set_xlim([crabs.min(), crabs.max()])\n",
    "    ax1.get_yaxis().set_visible(False)\n",
    "    ax1.scatter(crabs, y, c=crab_costs_1, cmap='rainbow', norm=norm)\n",
    "    ax1.axvline(x=target1, color='r', linewidth=3)\n",
    "\n",
    "    ax2.set_title('Increasing Cost')\n",
    "    ax2.set_xlim([crabs.min(), crabs.max()])\n",
    "    ax2.get_yaxis().set_visible(False)\n",
    "    ax2.scatter(crabs, y, c=crab_costs_2, cmap='rainbow', norm=norm)\n",
    "    ax2.axvline(x=target2, color='r', linewidth=3)\n",
    "\n",
    "    return fig\n",
    "    \n",
    "plot_crabs(crabs).savefig('crabs.svg')\n",
    "plt.close()"
   ]
  },
  {
   "cell_type": "markdown",
   "metadata": {},
   "source": [
    "![crabs.svg](crabs.svg)"
   ]
  }
 ],
 "metadata": {
  "kernelspec": {
   "display_name": "Python 3",
   "language": "python",
   "name": "python3"
  },
  "language_info": {
   "codemirror_mode": {
    "name": "ipython",
    "version": 3
   },
   "file_extension": ".py",
   "mimetype": "text/x-python",
   "name": "python",
   "nbconvert_exporter": "python",
   "pygments_lexer": "ipython3",
   "version": "3.8.5"
  }
 },
 "nbformat": 4,
 "nbformat_minor": 4
}
