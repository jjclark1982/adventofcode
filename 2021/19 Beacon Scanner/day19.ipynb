{
 "cells": [
  {
   "cell_type": "markdown",
   "metadata": {},
   "source": [
    "# Advent of Code 2021\n",
    "## [Day 19: Beacon Scanner](https://adventofcode.com/2021/day/19)"
   ]
  },
  {
   "cell_type": "markdown",
   "metadata": {},
   "source": [
    "#### Load Data"
   ]
  },
  {
   "cell_type": "code",
   "execution_count": 1,
   "metadata": {},
   "outputs": [],
   "source": [
    "import numpy as np\n",
    "import re\n",
    "from scipy.special import binom\n",
    "from itertools import combinations, permutations, product"
   ]
  },
  {
   "cell_type": "code",
   "execution_count": 2,
   "metadata": {},
   "outputs": [],
   "source": [
    "def split_input_sections(input_lines):\n",
    "    current_section = []\n",
    "    sections = [current_section]\n",
    "    for line in input_lines:\n",
    "        line = line.strip()\n",
    "        if len(line) > 0:\n",
    "            current_section.append(line)\n",
    "        else:\n",
    "            current_section = []\n",
    "            sections.append(current_section)\n",
    "    return sections"
   ]
  },
  {
   "cell_type": "code",
   "execution_count": 3,
   "metadata": {},
   "outputs": [
    {
     "data": {
      "text/plain": [
       "['--- scanner 0 ---',\n",
       " '878,-830,-633',\n",
       " '-654,579,583',\n",
       " '-297,520,-671',\n",
       " '-288,418,-607']"
      ]
     },
     "execution_count": 3,
     "metadata": {},
     "output_type": "execute_result"
    }
   ],
   "source": [
    "import aocd\n",
    "input_data = aocd.get_data(year=2021, day=19).split('\\n')\n",
    "input_data[:5]"
   ]
  },
  {
   "cell_type": "code",
   "execution_count": 4,
   "metadata": {},
   "outputs": [
    {
     "data": {
      "text/plain": [
       "array([[ 878, -830, -633],\n",
       "       [-654,  579,  583],\n",
       "       [-297,  520, -671],\n",
       "       [-288,  418, -607],\n",
       "       [ 927, -707, -599]])"
      ]
     },
     "execution_count": 4,
     "metadata": {},
     "output_type": "execute_result"
    }
   ],
   "source": [
    "def parse_section(section):\n",
    "    nums = [line.split(',') for line in section[1:]]\n",
    "    return np.array(nums, dtype=int)\n",
    "def parse_data(input_data):\n",
    "    sections = split_input_sections(input_data)\n",
    "    return [parse_section(s) for s in sections]\n",
    "scanners = parse_data(input_data)\n",
    "scanners[0][:5]"
   ]
  },
  {
   "cell_type": "markdown",
   "metadata": {},
   "source": [
    "- want to find pairs of scanners with at least 12 beacons overlapping.\n",
    "\n",
    "- plotting all beacons as a sparse bitmap would take gigabytes\n",
    "\n",
    "- a rotation matrix could operate directly on (x,y,z) points\n",
    "\n",
    "- then we need to compare each pair of scanners\n",
    "    - for each orientation\n",
    "    - for each starting beacon\n",
    "    \n",
    "- or should we convert the list of beacons to a list of distances?"
   ]
  },
  {
   "cell_type": "code",
   "execution_count": 5,
   "metadata": {},
   "outputs": [
    {
     "data": {
      "text/plain": [
       "(25, 3)"
      ]
     },
     "execution_count": 5,
     "metadata": {},
     "output_type": "execute_result"
    }
   ],
   "source": [
    "scanners[0].shape"
   ]
  },
  {
   "cell_type": "code",
   "execution_count": 6,
   "metadata": {},
   "outputs": [
    {
     "data": {
      "text/plain": [
       "300.0"
      ]
     },
     "execution_count": 6,
     "metadata": {},
     "output_type": "execute_result"
    }
   ],
   "source": [
    "binom(25, 2)"
   ]
  },
  {
   "cell_type": "code",
   "execution_count": 7,
   "metadata": {},
   "outputs": [],
   "source": [
    "def get_dist(p1, p2):\n",
    "    (x1, y1, z1), (x2, y2, z2) = p1, p2\n",
    "    return (x2-x1)**2 + (y2-y1)**2 + (z2-z1)**2\n",
    "    \n",
    "def get_dists(scanner):\n",
    "    dists = set()\n",
    "    for pair in combinations(scanner, 2):\n",
    "        dists.add(get_dist(*pair))\n",
    "    return dists"
   ]
  },
  {
   "cell_type": "code",
   "execution_count": 8,
   "metadata": {},
   "outputs": [
    {
     "data": {
      "text/plain": [
       "{15038,\n",
       " 22914,\n",
       " 24974,\n",
       " 35174,\n",
       " 39986,\n",
       " 53434,\n",
       " 1548937,\n",
       " 1562285,\n",
       " 1710261,\n",
       " 1780411,\n",
       " 1832507,\n",
       " 1844869,\n",
       " 1847513,\n",
       " 1969821,\n",
       " 1996933}"
      ]
     },
     "execution_count": 8,
     "metadata": {},
     "output_type": "execute_result"
    }
   ],
   "source": [
    "get_dists(scanners[0]).intersection(get_dists(scanners[3]))"
   ]
  },
  {
   "cell_type": "markdown",
   "metadata": {},
   "source": [
    "^_^"
   ]
  },
  {
   "cell_type": "code",
   "execution_count": 9,
   "metadata": {},
   "outputs": [
    {
     "name": "stdout",
     "output_type": "stream",
     "text": [
      "[[300   0   0  15   0   1   0   4   0  66   0   0   0   1   0   0   0  66   0   3  15   0  15   0  15  16]\n",
      " [  0 300   0   0   0   1   0   0  66   0   0   0   0   0   1   0  15   0  15   0   0  66   0   1   0   0]\n",
      " [  0   0 300   0   0   0  66   0   0   0   0   0   0   0   0   0   0   0   0   0   0   0   0   0   0   0]\n",
      " [ 15   0   0 325   0   1   0   0   0  66   0  15   0   0   0  66   0   3   0  66   0   0   0   0  15   0]\n",
      " [  0   0   0   0 325   0   0  15   0   0   0   0  66  66   0   0   0   0   0   0   0   0   0  15   0   3]\n",
      " [  1   1   0   1   0 325   1   0   1   1   0   0   0   0  66   0   0   0   0   0   0   0   0   3   0   0]\n",
      " [  0   0  66   0   0   1 325   0   0   0   1  66   0   0   0  15   1   0   0   0   0  15   0   0   0   0]\n",
      " [  4   0   0   0  15   0   0 325   0  15  15   0   4  66  15   0   0  15   0   0  66   0   0  15  66  66]\n",
      " [  0  66   0   0   0   1   0   0 300   0   0   0   0   0   1   0   0   0  66   0   0   0   0   1   0   0]\n",
      " [ 66   0   0  66   0   1   0  15   0 300   0   0   0   3   0   0   0  15   0  15   3   0   0   0  66  66]\n",
      " [  0   0   0   0   0   0   1  15   0   0 325   1   0   3   0   0  66  15   0  15   3   1   1   0  66   0]\n",
      " [  0   0   0  15   0   0  66   0   0   0   1 325   0   0   0  66  16   0   0  66   0  66   0   0   0   0]\n",
      " [  0   0   0   0  66   0   0   4   0   0   0   0 300  15   0   0   0   0   0   0   0   0   0  66   1   0]\n",
      " [  1   0   0   0  66   0   0  66   0   3   3   0  15 325   0   0   0   0   0   0   0   0   0   3  15  15]\n",
      " [  0   1   0   0   0  66   0  15   1   0   0   0   0   0 325   0   0   0   0   0  66   0   0  15   0   3]\n",
      " [  0   0   0  66   0   0  15   0   0   0   0  66   0   0   0 325   0   0   0  15   0   0   0   0   0   0]\n",
      " [  0  15   0   0   0   0   1   0   0   0  66  16   0   0   0   0 325   3   0  66   0  67   0   0  15   0]\n",
      " [ 66   0   0   3   0   0   0  15   0  15  15   0   0   0   0   0   3 300   0  15  66   0  66   0  66   3]\n",
      " [  0  15   0   0   0   0   0   0  66   0   0   0   0   0   0   0   0   0 325   0   0   0   0   0   0   0]\n",
      " [  3   0   0  66   0   0   0   0   0  15  15  66   0   0   0  15  66  15   0 325   0  15   0   0  66   0]\n",
      " [ 15   0   0   0   0   0   0  66   0   3   3   0   0   0  66   0   0  66   0   0 325   0  15   3  15  15]\n",
      " [  0  66   0   0   0   0  15   0   0   0   1  66   0   0   0   0  67   0   0  15   0 325   0   0   0   0]\n",
      " [ 15   0   0   0   0   0   0   0   0   0   1   0   0   0   0   0   0  66   0   0  15   0 300   0   0   0]\n",
      " [  0   1   0   0  15   3   0  15   1   0   0   0  66   3  15   0   0   0   0   0   3   0   0 300   0   0]\n",
      " [ 15   0   0  15   0   0   0  66   0  66  66   0   1  15   0   0  15  66   0  66  15   0   0   0 325  15]\n",
      " [ 16   0   0   0   3   0   0  66   0  66   0   0   0  15   3   0   0   3   0   0  15   0   0   0  15   0]]\n"
     ]
    }
   ],
   "source": [
    "overlaps = np.zeros((len(scanners), len(scanners)), dtype=int)\n",
    "overlap_pairs = []\n",
    "\n",
    "for i in range(len(scanners)-1):\n",
    "    dists_i = get_dists(scanners[i])\n",
    "    overlaps[i,i] = binom(len(scanners[i]), 2)\n",
    "    for j in range(i+1, len(scanners)):\n",
    "        dists_j = get_dists(scanners[j])\n",
    "        overlap = dists_i.intersection(dists_j)\n",
    "        overlaps[i,j] = len(overlap)\n",
    "        overlaps[j,i] = len(overlap)\n",
    "        if len(overlap) >= binom(12,2):\n",
    "            overlap_pairs.append((i,j))\n",
    "            #print(f\"overlap between scanners {i} and {j}: {len(overlap)}\")\n",
    "\n",
    "\n",
    "np.set_printoptions(linewidth=110)\n",
    "print(overlaps)"
   ]
  },
  {
   "cell_type": "code",
   "execution_count": 10,
   "metadata": {},
   "outputs": [],
   "source": [
    "def check_overlap(i, j):\n",
    "    s1 = scanners[i]\n",
    "    s2 = scanners[j]\n",
    "    \n",
    "    s1_dists = {}\n",
    "    for pair in combinations(s1, 2):\n",
    "        s1_dists[get_dist(*pair)] = pair\n",
    "\n",
    "    s2_dists = {}\n",
    "    for pair in combinations(s2, 2):\n",
    "        s2_dists[get_dist(*pair)] = pair\n",
    "        \n",
    "    for d1 in s1_dists.keys():\n",
    "        if d1 in s2_dists:\n",
    "            #print(s1_dists[d1], s2_dists[d1])\n",
    "            pass\n",
    "\n",
    "check_overlap(*overlap_pairs[0])"
   ]
  },
  {
   "cell_type": "code",
   "execution_count": 11,
   "metadata": {},
   "outputs": [
    {
     "data": {
      "text/plain": [
       "array([ 878, -830, -633])"
      ]
     },
     "execution_count": 11,
     "metadata": {},
     "output_type": "execute_result"
    }
   ],
   "source": [
    "scanners[0][0]"
   ]
  },
  {
   "cell_type": "code",
   "execution_count": 12,
   "metadata": {},
   "outputs": [
    {
     "data": {
      "text/plain": [
       "array([ 878, -633, -830])"
      ]
     },
     "execution_count": 12,
     "metadata": {},
     "output_type": "execute_result"
    }
   ],
   "source": [
    "np.array([\n",
    "    [1, 0, 0],\n",
    "    [0, 0, 1],\n",
    "    [0, 1, 0]\n",
    "]) @ scanners[0][0]"
   ]
  },
  {
   "cell_type": "code",
   "execution_count": 13,
   "metadata": {},
   "outputs": [
    {
     "data": {
      "text/plain": [
       "6"
      ]
     },
     "execution_count": 13,
     "metadata": {},
     "output_type": "execute_result"
    }
   ],
   "source": [
    "rotations = np.array([np.array(x) for x in permutations(np.eye(3,3, dtype=int))])\n",
    "len(rotations)"
   ]
  },
  {
   "cell_type": "code",
   "execution_count": 14,
   "metadata": {},
   "outputs": [
    {
     "data": {
      "text/plain": [
       "[[1, 1, 1], [-1, 1, 1], [1, -1, 1], [1, 1, -1]]"
      ]
     },
     "execution_count": 14,
     "metadata": {},
     "output_type": "execute_result"
    }
   ],
   "source": [
    "reflections = [np.roll([-1,1,1], i) for i in range(3)]\n",
    "reflections = [[1, 1, 1], [-1, 1, 1], [1, -1, 1], [1, 1, -1]]\n",
    "reflections"
   ]
  },
  {
   "cell_type": "code",
   "execution_count": 15,
   "metadata": {},
   "outputs": [
    {
     "data": {
      "text/plain": [
       "24"
      ]
     },
     "execution_count": 15,
     "metadata": {},
     "output_type": "execute_result"
    }
   ],
   "source": [
    "transforms = [rot * ref for rot, ref in product(rotations, reflections)]\n",
    "len(transforms)"
   ]
  },
  {
   "cell_type": "code",
   "execution_count": 16,
   "metadata": {},
   "outputs": [
    {
     "data": {
      "text/plain": [
       "array([[ 878, -830, -633],\n",
       "       [-878, -830, -633],\n",
       "       [ 878,  830, -633],\n",
       "       [ 878, -830,  633],\n",
       "       [ 878, -633, -830],\n",
       "       [-878, -633, -830],\n",
       "       [ 878,  633, -830],\n",
       "       [ 878, -633,  830],\n",
       "       [-830,  878, -633],\n",
       "       [ 830,  878, -633],\n",
       "       [-830, -878, -633],\n",
       "       [-830,  878,  633],\n",
       "       [-633,  878, -830],\n",
       "       [ 633,  878, -830],\n",
       "       [-633, -878, -830],\n",
       "       [-633,  878,  830],\n",
       "       [-830, -633,  878],\n",
       "       [ 830, -633,  878],\n",
       "       [-830,  633,  878],\n",
       "       [-830, -633, -878],\n",
       "       [-633, -830,  878],\n",
       "       [ 633, -830,  878],\n",
       "       [-633,  830,  878],\n",
       "       [-633, -830, -878]])"
      ]
     },
     "execution_count": 16,
     "metadata": {},
     "output_type": "execute_result"
    }
   ],
   "source": [
    "scanners[0][0] @ transforms"
   ]
  },
  {
   "cell_type": "code",
   "execution_count": 17,
   "metadata": {},
   "outputs": [
    {
     "data": {
      "text/plain": [
       "array([[   1,    0,    0, -878],\n",
       "       [   0,    1,    0,  830],\n",
       "       [   0,    0,    1,  633],\n",
       "       [   0,    0,    0,    1]])"
      ]
     },
     "execution_count": 17,
     "metadata": {},
     "output_type": "execute_result"
    }
   ],
   "source": [
    "my_t = np.vstack([\n",
    "    np.hstack([transforms[0], -scanners[0][0].reshape(-1, 1)]),\n",
    "    [0, 0, 0, 1]\n",
    "])\n",
    "my_t"
   ]
  },
  {
   "cell_type": "code",
   "execution_count": 18,
   "metadata": {},
   "outputs": [
    {
     "data": {
      "text/plain": [
       "array([0, 0, 0, 1])"
      ]
     },
     "execution_count": 18,
     "metadata": {},
     "output_type": "execute_result"
    }
   ],
   "source": [
    "my_t @ np.hstack([scanners[0][0], 1])"
   ]
  },
  {
   "cell_type": "markdown",
   "metadata": {},
   "source": [
    "☞ Now, the goal is to find each scanner's transform relative to scanner 0.\n",
    "\n",
    "set scanners[0].tf to identity\n",
    "compute scanners[0].distances\n",
    "\n",
    "for each scanner without a tf:\n",
    "    select some scanner with a tf and at least binom(12) matching distances\n",
    "    \n",
    "\n",
    "set other scanners' tf to None\n",
    "set cursor to scanners[0]\n",
    "for each scanner adjacent to cursor, if it has tf None:\n"
   ]
  },
  {
   "cell_type": "code",
   "execution_count": 19,
   "metadata": {},
   "outputs": [
    {
     "data": {
      "text/plain": [
       "<Scanner  0: 25 beacons. Located.>"
      ]
     },
     "execution_count": 19,
     "metadata": {},
     "output_type": "execute_result"
    }
   ],
   "source": [
    "import functools\n",
    "\n",
    "def get_dist(p1, p2):\n",
    "    (x1, y1, z1), (x2, y2, z2) = p1, p2\n",
    "    return (x2-x1)**2 + (y2-y1)**2 + (z2-z1)**2\n",
    "    \n",
    "def get_dists(scanner):\n",
    "    dists = set()\n",
    "    for pair in combinations(scanner, 2):\n",
    "        dists.add(get_dist(*pair))\n",
    "    return dists\n",
    "\n",
    "class Scanner(object):\n",
    "    def __init__(self, input_section):\n",
    "        self.id = int(re.search(r'scanner (\\d+)', input_section[0])[1])\n",
    "        self.rot = None\n",
    "        self.loc = None\n",
    "        self.beacons = np.array([line.split(',') for line in input_section[1:]], dtype=int)    \n",
    "        self.dists = get_dists(self.beacons)\n",
    "        \n",
    "    @functools.cached_property\n",
    "    def dists(self):\n",
    "        return get_dists(self.beacons)\n",
    "        \n",
    "    def __getitem__(self, i) -> np.array:\n",
    "        return self.beacons[i]\n",
    "    \n",
    "    def __repr__(self) -> str:\n",
    "        if self.rot is None or self.loc is None:\n",
    "            tf = \"Not located\"\n",
    "        else:\n",
    "            tf = \"Located\"\n",
    "        return f\"<Scanner{self.id: 3d}: {len(self.beacons)} beacons. {tf}.>\"\n",
    "    \n",
    "    def __and__(self, other: \"Scanner\") -> set:\n",
    "        # usage: overlap_dists = scanner1 & scanner2\n",
    "        return self.dists.intersection(other.dists)\n",
    "    \n",
    "    def overlaps(self, other: \"Scanner\") -> bool:\n",
    "        return (len(self & other) >= 66)\n",
    "    \n",
    "    def transformed_beacons(self) -> np.array:\n",
    "        return self.beacons @ self.rot - self.loc\n",
    "\n",
    "scanners = [Scanner(s) for s in split_input_sections(input_data)]\n",
    "scanners[0].rot = transforms[0]\n",
    "scanners[0].loc = np.zeros(3, dtype=int)\n",
    "scanners[0]"
   ]
  },
  {
   "cell_type": "code",
   "execution_count": 20,
   "metadata": {},
   "outputs": [
    {
     "data": {
      "text/plain": [
       "True"
      ]
     },
     "execution_count": 20,
     "metadata": {},
     "output_type": "execute_result"
    }
   ],
   "source": [
    "scanners = [Scanner(s) for s in split_input_sections(input_data)]\n",
    "scanners[0].tf = np.eye(4,4)\n",
    "scanners[0].overlaps(scanners[9])"
   ]
  },
  {
   "cell_type": "code",
   "execution_count": 21,
   "metadata": {},
   "outputs": [
    {
     "ename": "ValueError",
     "evalue": "matmul: Input operand 1 does not have enough dimensions (has 0, gufunc core with signature (n?,k),(k,m?)->(n?,m?) requires 1)",
     "output_type": "error",
     "traceback": [
      "\u001b[0;31m---------------------------------------------------------------------------\u001b[0m",
      "\u001b[0;31mValueError\u001b[0m                                Traceback (most recent call last)",
      "\u001b[0;32m<ipython-input-21-ba7f4ce57071>\u001b[0m in \u001b[0;36m<module>\u001b[0;34m\u001b[0m\n\u001b[0;32m----> 1\u001b[0;31m \u001b[0mscanners\u001b[0m\u001b[0;34m[\u001b[0m\u001b[0;36m0\u001b[0m\u001b[0;34m]\u001b[0m\u001b[0;34m.\u001b[0m\u001b[0mtransformed_beacons\u001b[0m\u001b[0;34m(\u001b[0m\u001b[0;34m)\u001b[0m\u001b[0;34m\u001b[0m\u001b[0;34m\u001b[0m\u001b[0m\n\u001b[0m",
      "\u001b[0;32m<ipython-input-19-fecefb8ee1f5>\u001b[0m in \u001b[0;36mtransformed_beacons\u001b[0;34m(self)\u001b[0m\n\u001b[1;32m     41\u001b[0m \u001b[0;34m\u001b[0m\u001b[0m\n\u001b[1;32m     42\u001b[0m     \u001b[0;32mdef\u001b[0m \u001b[0mtransformed_beacons\u001b[0m\u001b[0;34m(\u001b[0m\u001b[0mself\u001b[0m\u001b[0;34m)\u001b[0m \u001b[0;34m->\u001b[0m \u001b[0mnp\u001b[0m\u001b[0;34m.\u001b[0m\u001b[0marray\u001b[0m\u001b[0;34m:\u001b[0m\u001b[0;34m\u001b[0m\u001b[0;34m\u001b[0m\u001b[0m\n\u001b[0;32m---> 43\u001b[0;31m         \u001b[0;32mreturn\u001b[0m \u001b[0mself\u001b[0m\u001b[0;34m.\u001b[0m\u001b[0mbeacons\u001b[0m \u001b[0;34m@\u001b[0m \u001b[0mself\u001b[0m\u001b[0;34m.\u001b[0m\u001b[0mrot\u001b[0m \u001b[0;34m-\u001b[0m \u001b[0mself\u001b[0m\u001b[0;34m.\u001b[0m\u001b[0mloc\u001b[0m\u001b[0;34m\u001b[0m\u001b[0;34m\u001b[0m\u001b[0m\n\u001b[0m\u001b[1;32m     44\u001b[0m \u001b[0;34m\u001b[0m\u001b[0m\n\u001b[1;32m     45\u001b[0m \u001b[0mscanners\u001b[0m \u001b[0;34m=\u001b[0m \u001b[0;34m[\u001b[0m\u001b[0mScanner\u001b[0m\u001b[0;34m(\u001b[0m\u001b[0ms\u001b[0m\u001b[0;34m)\u001b[0m \u001b[0;32mfor\u001b[0m \u001b[0ms\u001b[0m \u001b[0;32min\u001b[0m \u001b[0msplit_input_sections\u001b[0m\u001b[0;34m(\u001b[0m\u001b[0minput_data\u001b[0m\u001b[0;34m)\u001b[0m\u001b[0;34m]\u001b[0m\u001b[0;34m\u001b[0m\u001b[0;34m\u001b[0m\u001b[0m\n",
      "\u001b[0;31mValueError\u001b[0m: matmul: Input operand 1 does not have enough dimensions (has 0, gufunc core with signature (n?,k),(k,m?)->(n?,m?) requires 1)"
     ]
    }
   ],
   "source": [
    "scanners[0].transformed_beacons()"
   ]
  },
  {
   "cell_type": "code",
   "execution_count": null,
   "metadata": {},
   "outputs": [],
   "source": [
    "scanners[0][:]"
   ]
  },
  {
   "cell_type": "code",
   "execution_count": null,
   "metadata": {},
   "outputs": [],
   "source": []
  }
 ],
 "metadata": {
  "kernelspec": {
   "display_name": "Python 3",
   "language": "python",
   "name": "python3"
  },
  "language_info": {
   "codemirror_mode": {
    "name": "ipython",
    "version": 3
   },
   "file_extension": ".py",
   "mimetype": "text/x-python",
   "name": "python",
   "nbconvert_exporter": "python",
   "pygments_lexer": "ipython3",
   "version": "3.8.5"
  }
 },
 "nbformat": 4,
 "nbformat_minor": 4
}
