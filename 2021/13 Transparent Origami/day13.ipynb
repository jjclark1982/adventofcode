{
 "cells": [
  {
   "cell_type": "markdown",
   "metadata": {},
   "source": [
    "# Advent of Code 2021\n",
    "## [Day 13: Transparent Origami](https://adventofcode.com/2021/day/13)"
   ]
  },
  {
   "cell_type": "markdown",
   "metadata": {},
   "source": [
    "#### Load Data"
   ]
  },
  {
   "cell_type": "code",
   "execution_count": 1,
   "metadata": {},
   "outputs": [],
   "source": [
    "import numpy as np\n",
    "\n",
    "import html\n",
    "html_formatter = get_ipython().display_formatter.formatters['text/html']\n",
    "\n",
    "def ndarray_to_html(a):\n",
    "    return \"<pre>{}</pre>\".format(html.escape(str(a.astype(int))))\n",
    "\n",
    "html_formatter.for_type(np.ndarray, ndarray_to_html)"
   ]
  },
  {
   "cell_type": "code",
   "execution_count": 2,
   "metadata": {},
   "outputs": [
    {
     "data": {
      "text/plain": [
       "['1218,274',\n",
       " '736,761',\n",
       " '641,536',\n",
       " '152,142',\n",
       " '376,373',\n",
       " '',\n",
       " 'fold along x=655',\n",
       " 'fold along y=447',\n",
       " 'fold along x=327',\n",
       " 'fold along y=223']"
      ]
     },
     "execution_count": 2,
     "metadata": {},
     "output_type": "execute_result"
    }
   ],
   "source": [
    "import aocd\n",
    "input_data = aocd.get_data(day=13, year=2021).split('\\n')\n",
    "input_data[-18:-8]"
   ]
  },
  {
   "cell_type": "code",
   "execution_count": 3,
   "metadata": {},
   "outputs": [],
   "source": [
    "test_data = [\n",
    "    '6,10',\n",
    "    '0,14',\n",
    "    '9,10',\n",
    "    '0,3',\n",
    "    '10,4',\n",
    "    '4,11',\n",
    "    '6,0',\n",
    "    '6,12',\n",
    "    '4,1',\n",
    "    '0,13',\n",
    "    '10,12',\n",
    "    '3,4',\n",
    "    '3,0',\n",
    "    '8,4',\n",
    "    '1,10',\n",
    "    '2,14',\n",
    "    '8,10',\n",
    "    '9,0',\n",
    "    '',\n",
    "    'fold along y=7',\n",
    "    'fold along x=5'\n",
    "]"
   ]
  },
  {
   "cell_type": "code",
   "execution_count": 4,
   "metadata": {},
   "outputs": [
    {
     "data": {
      "text/plain": [
       "(array([[ 6, 10],\n",
       "        [ 0, 14],\n",
       "        [ 9, 10],\n",
       "        [ 0,  3],\n",
       "        [10,  4],\n",
       "        [ 4, 11],\n",
       "        [ 6,  0],\n",
       "        [ 6, 12],\n",
       "        [ 4,  1],\n",
       "        [ 0, 13],\n",
       "        [10, 12],\n",
       "        [ 3,  4],\n",
       "        [ 3,  0],\n",
       "        [ 8,  4],\n",
       "        [ 1, 10],\n",
       "        [ 2, 14],\n",
       "        [ 8, 10],\n",
       "        [ 9,  0]]),\n",
       " [('y', 7), ('x', 5)])"
      ]
     },
     "execution_count": 4,
     "metadata": {},
     "output_type": "execute_result"
    }
   ],
   "source": [
    "def parse_data(data):\n",
    "    a = np.zeros((2000,2000), dtype=bool)\n",
    "    coords = []\n",
    "    folds = []\n",
    "    \n",
    "    for line in data:\n",
    "        if line.startswith('fold along '):\n",
    "            axis, value = line[11:].split('=')\n",
    "            folds.append((axis, int(value)))\n",
    "        elif line:\n",
    "            x, y = map(int, line.split(','))\n",
    "            a[x, y] = True\n",
    "            coords.append((x, y))\n",
    "    return np.array(coords), folds\n",
    "\n",
    "coords, folds = parse_data(test_data)\n",
    "coords, folds"
   ]
  },
  {
   "cell_type": "markdown",
   "metadata": {},
   "source": [
    "### Part 1"
   ]
  },
  {
   "cell_type": "code",
   "execution_count": 5,
   "metadata": {},
   "outputs": [
    {
     "data": {
      "text/html": [
       "<pre>[[0 0 0 1 0 0 1 0 0 1 0]\n",
       " [0 0 0 0 1 0 0 0 0 0 0]\n",
       " [0 0 0 0 0 0 0 0 0 0 0]\n",
       " [1 0 0 0 0 0 0 0 0 0 0]\n",
       " [0 0 0 1 0 0 0 0 1 0 1]\n",
       " [0 0 0 0 0 0 0 0 0 0 0]\n",
       " [0 0 0 0 0 0 0 0 0 0 0]\n",
       " [0 0 0 0 0 0 0 0 0 0 0]\n",
       " [0 0 0 0 0 0 0 0 0 0 0]\n",
       " [0 0 0 0 0 0 0 0 0 0 0]\n",
       " [0 1 0 0 0 0 1 0 1 1 0]\n",
       " [0 0 0 0 1 0 0 0 0 0 0]\n",
       " [0 0 0 0 0 0 1 0 0 0 1]\n",
       " [1 0 0 0 0 0 0 0 0 0 0]\n",
       " [1 0 1 0 0 0 0 0 0 0 0]]</pre>"
      ],
      "text/plain": [
       "array([[False, False, False,  True, False, False,  True, False, False,\n",
       "         True, False],\n",
       "       [False, False, False, False,  True, False, False, False, False,\n",
       "        False, False],\n",
       "       [False, False, False, False, False, False, False, False, False,\n",
       "        False, False],\n",
       "       [ True, False, False, False, False, False, False, False, False,\n",
       "        False, False],\n",
       "       [False, False, False,  True, False, False, False, False,  True,\n",
       "        False,  True],\n",
       "       [False, False, False, False, False, False, False, False, False,\n",
       "        False, False],\n",
       "       [False, False, False, False, False, False, False, False, False,\n",
       "        False, False],\n",
       "       [False, False, False, False, False, False, False, False, False,\n",
       "        False, False],\n",
       "       [False, False, False, False, False, False, False, False, False,\n",
       "        False, False],\n",
       "       [False, False, False, False, False, False, False, False, False,\n",
       "        False, False],\n",
       "       [False,  True, False, False, False, False,  True, False,  True,\n",
       "         True, False],\n",
       "       [False, False, False, False,  True, False, False, False, False,\n",
       "        False, False],\n",
       "       [False, False, False, False, False, False,  True, False, False,\n",
       "        False,  True],\n",
       "       [ True, False, False, False, False, False, False, False, False,\n",
       "        False, False],\n",
       "       [ True, False,  True, False, False, False, False, False, False,\n",
       "        False, False]])"
      ]
     },
     "execution_count": 5,
     "metadata": {},
     "output_type": "execute_result"
    }
   ],
   "source": [
    "def coords_to_grid(coords):\n",
    "    X = coords.T[0]\n",
    "    x0 = X.min()\n",
    "    w = X.max() - X.min() + 1\n",
    "    Y = coords.T[1]\n",
    "    y0 = Y.min()\n",
    "    h = Y.max() - Y.min() + 1\n",
    "    grid = np.zeros((h, w), dtype=bool)\n",
    "    for (x, y) in coords:\n",
    "        grid[y - y0, x - x0] = True\n",
    "    return grid\n",
    "coords_to_grid(coords)"
   ]
  },
  {
   "cell_type": "code",
   "execution_count": 6,
   "metadata": {},
   "outputs": [
    {
     "data": {
      "text/html": [
       "<pre>[[ 4 10]\n",
       " [ 0 14]\n",
       " [ 1 10]\n",
       " [ 0  3]\n",
       " [ 0  4]\n",
       " [ 4 11]\n",
       " [ 4  0]\n",
       " [ 4 12]\n",
       " [ 4  1]\n",
       " [ 0 13]\n",
       " [ 0 12]\n",
       " [ 3  4]\n",
       " [ 3  0]\n",
       " [ 2  4]\n",
       " [ 1 10]\n",
       " [ 2 14]\n",
       " [ 2 10]\n",
       " [ 1  0]]</pre>"
      ],
      "text/plain": [
       "array([[ 4, 10],\n",
       "       [ 0, 14],\n",
       "       [ 1, 10],\n",
       "       [ 0,  3],\n",
       "       [ 0,  4],\n",
       "       [ 4, 11],\n",
       "       [ 4,  0],\n",
       "       [ 4, 12],\n",
       "       [ 4,  1],\n",
       "       [ 0, 13],\n",
       "       [ 0, 12],\n",
       "       [ 3,  4],\n",
       "       [ 3,  0],\n",
       "       [ 2,  4],\n",
       "       [ 1, 10],\n",
       "       [ 2, 14],\n",
       "       [ 2, 10],\n",
       "       [ 1,  0]])"
      ]
     },
     "execution_count": 6,
     "metadata": {},
     "output_type": "execute_result"
    }
   ],
   "source": [
    "def apply_fold(coords, fold):\n",
    "    axes = {\n",
    "        'x': 0,\n",
    "        'y': 1\n",
    "    }\n",
    "    axis = axes[fold[0]]\n",
    "    value = fold[1]\n",
    "    \n",
    "    coords_T = coords.T.copy()\n",
    "    \n",
    "    selected = coords_T[axis] > value\n",
    "    coords_T[axis][selected] = value - (coords_T[axis][selected] - value)\n",
    "    \n",
    "    return coords_T.T\n",
    "\n",
    "apply_fold(coords, folds[1])"
   ]
  },
  {
   "cell_type": "code",
   "execution_count": 7,
   "metadata": {},
   "outputs": [
    {
     "data": {
      "text/html": [
       "<pre>[[4 4]\n",
       " [0 0]\n",
       " [1 4]\n",
       " [0 3]\n",
       " [0 4]\n",
       " [4 3]\n",
       " [4 0]\n",
       " [4 2]\n",
       " [4 1]\n",
       " [0 1]\n",
       " [0 2]\n",
       " [3 4]\n",
       " [3 0]\n",
       " [2 4]\n",
       " [1 4]\n",
       " [2 0]\n",
       " [2 4]\n",
       " [1 0]]</pre>"
      ],
      "text/plain": [
       "array([[4, 4],\n",
       "       [0, 0],\n",
       "       [1, 4],\n",
       "       [0, 3],\n",
       "       [0, 4],\n",
       "       [4, 3],\n",
       "       [4, 0],\n",
       "       [4, 2],\n",
       "       [4, 1],\n",
       "       [0, 1],\n",
       "       [0, 2],\n",
       "       [3, 4],\n",
       "       [3, 0],\n",
       "       [2, 4],\n",
       "       [1, 4],\n",
       "       [2, 0],\n",
       "       [2, 4],\n",
       "       [1, 0]])"
      ]
     },
     "execution_count": 7,
     "metadata": {},
     "output_type": "execute_result"
    }
   ],
   "source": [
    "folded_coords = coords\n",
    "for fold in folds:\n",
    "    folded_coords = apply_fold(folded_coords, fold)\n",
    "folded_coords"
   ]
  },
  {
   "cell_type": "markdown",
   "metadata": {},
   "source": [
    "#### Part 1 Answer\n",
    "**How many dots are visible after completing just the first fold instruction on your transparent paper?**"
   ]
  },
  {
   "cell_type": "code",
   "execution_count": 8,
   "metadata": {},
   "outputs": [
    {
     "data": {
      "text/plain": [
       "850"
      ]
     },
     "execution_count": 8,
     "metadata": {},
     "output_type": "execute_result"
    }
   ],
   "source": [
    "coords, folds = parse_data(input_data)\n",
    "coords_to_grid(apply_fold(coords, folds[0])).sum()"
   ]
  },
  {
   "cell_type": "markdown",
   "metadata": {},
   "source": [
    "### Part 2"
   ]
  },
  {
   "cell_type": "markdown",
   "metadata": {},
   "source": [
    "#### Part 2 Answer\n",
    "Finish folding the transparent paper according to the instructions. The manual says the code is always **eight capital letters.**\n",
    "\n",
    "**What code do you use to activate the infrared thermal imaging camera system?**"
   ]
  },
  {
   "cell_type": "code",
   "execution_count": 9,
   "metadata": {},
   "outputs": [
    {
     "data": {
      "text/html": [
       "<pre>[[0 1 1 0 0 1 0 0 1 0 0 1 1 0 0 0 1 1 0 0 1 1 1 0 0 0 1 1 0 0 0 1 1 0 0 1\n",
       "  0 0 1]\n",
       " [1 0 0 1 0 1 0 0 1 0 1 0 0 1 0 1 0 0 1 0 1 0 0 1 0 1 0 0 1 0 1 0 0 1 0 1\n",
       "  0 0 1]\n",
       " [1 0 0 1 0 1 1 1 1 0 1 0 0 0 0 1 0 0 0 0 1 0 0 1 0 1 0 0 0 0 1 0 0 1 0 1\n",
       "  0 0 1]\n",
       " [1 1 1 1 0 1 0 0 1 0 1 0 1 1 0 1 0 0 0 0 1 1 1 0 0 1 0 1 1 0 1 1 1 1 0 1\n",
       "  0 0 1]\n",
       " [1 0 0 1 0 1 0 0 1 0 1 0 0 1 0 1 0 0 1 0 1 0 0 0 0 1 0 0 1 0 1 0 0 1 0 1\n",
       "  0 0 1]\n",
       " [1 0 0 1 0 1 0 0 1 0 0 1 1 1 0 0 1 1 0 0 1 0 0 0 0 0 1 1 1 0 1 0 0 1 0 0\n",
       "  1 1 0]]</pre>"
      ],
      "text/plain": [
       "array([[False,  True,  True, False, False,  True, False, False,  True,\n",
       "        False, False,  True,  True, False, False, False,  True,  True,\n",
       "        False, False,  True,  True,  True, False, False, False,  True,\n",
       "         True, False, False, False,  True,  True, False, False,  True,\n",
       "        False, False,  True],\n",
       "       [ True, False, False,  True, False,  True, False, False,  True,\n",
       "        False,  True, False, False,  True, False,  True, False, False,\n",
       "         True, False,  True, False, False,  True, False,  True, False,\n",
       "        False,  True, False,  True, False, False,  True, False,  True,\n",
       "        False, False,  True],\n",
       "       [ True, False, False,  True, False,  True,  True,  True,  True,\n",
       "        False,  True, False, False, False, False,  True, False, False,\n",
       "        False, False,  True, False, False,  True, False,  True, False,\n",
       "        False, False, False,  True, False, False,  True, False,  True,\n",
       "        False, False,  True],\n",
       "       [ True,  True,  True,  True, False,  True, False, False,  True,\n",
       "        False,  True, False,  True,  True, False,  True, False, False,\n",
       "        False, False,  True,  True,  True, False, False,  True, False,\n",
       "         True,  True, False,  True,  True,  True,  True, False,  True,\n",
       "        False, False,  True],\n",
       "       [ True, False, False,  True, False,  True, False, False,  True,\n",
       "        False,  True, False, False,  True, False,  True, False, False,\n",
       "         True, False,  True, False, False, False, False,  True, False,\n",
       "        False,  True, False,  True, False, False,  True, False,  True,\n",
       "        False, False,  True],\n",
       "       [ True, False, False,  True, False,  True, False, False,  True,\n",
       "        False, False,  True,  True,  True, False, False,  True,  True,\n",
       "        False, False,  True, False, False, False, False, False,  True,\n",
       "         True,  True, False,  True, False, False,  True, False, False,\n",
       "         True,  True, False]])"
      ]
     },
     "execution_count": 9,
     "metadata": {},
     "output_type": "execute_result"
    }
   ],
   "source": [
    "coords, folds = parse_data(input_data)\n",
    "folded_coords = coords\n",
    "for fold in folds:\n",
    "    folded_coords = apply_fold(folded_coords, fold)\n",
    "code = coords_to_grid(folded_coords)\n",
    "code"
   ]
  },
  {
   "cell_type": "code",
   "execution_count": 10,
   "metadata": {},
   "outputs": [],
   "source": [
    "import PIL.Image\n",
    "from io import BytesIO\n",
    "import IPython.display\n",
    "def int_array_to_image(a, fmt='png'):\n",
    "    a = 240 - (a/a.max() * 224).astype(np.uint8)\n",
    "    f = BytesIO()\n",
    "    PIL.Image.fromarray(a).save(f, fmt)\n",
    "    return IPython.display.Image(data=f.getvalue())\n",
    "def double_bitmap(a):\n",
    "    (h, w) = a.shape\n",
    "    return np.tile(a.reshape((-1, 1)), 2).reshape((h, w*2))\n",
    "def quad_bitmap(a):\n",
    "    return double_bitmap(double_bitmap(a).T).T\n"
   ]
  },
  {
   "cell_type": "code",
   "execution_count": 11,
   "metadata": {},
   "outputs": [
    {
     "data": {
      "image/png": "[encoded data removed]",
      "text/plain": [
       "<IPython.core.display.Image object>"
      ]
     },
     "execution_count": 11,
     "metadata": {},
     "output_type": "execute_result"
    }
   ],
   "source": [
    "int_array_to_image(quad_bitmap(quad_bitmap(code)))"
   ]
  }
 ],
 "metadata": {
  "kernelspec": {
   "display_name": "Python 3",
   "language": "python",
   "name": "python3"
  },
  "language_info": {
   "codemirror_mode": {
    "name": "ipython",
    "version": 3
   },
   "file_extension": ".py",
   "mimetype": "text/x-python",
   "name": "python",
   "nbconvert_exporter": "python",
   "pygments_lexer": "ipython3",
   "version": "3.8.5"
  }
 },
 "nbformat": 4,
 "nbformat_minor": 4
}
