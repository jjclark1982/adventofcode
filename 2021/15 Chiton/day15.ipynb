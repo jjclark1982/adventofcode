{
 "cells": [
  {
   "cell_type": "markdown",
   "metadata": {},
   "source": [
    "# Advent of Code 2021\n",
    "## [Day 15: Chiton](https://adventofcode.com/2021/day/15)"
   ]
  },
  {
   "cell_type": "markdown",
   "metadata": {},
   "source": [
    "#### Load Data"
   ]
  },
  {
   "cell_type": "code",
   "execution_count": 1,
   "metadata": {},
   "outputs": [],
   "source": [
    "import numpy as np"
   ]
  },
  {
   "cell_type": "code",
   "execution_count": 2,
   "metadata": {},
   "outputs": [],
   "source": [
    "def parse_line(line):\n",
    "    return np.array(list(line.strip()), dtype=int)\n",
    "def parse_input(lines):\n",
    "    return np.array([parse_line(line) for line in lines])"
   ]
  },
  {
   "cell_type": "code",
   "execution_count": 3,
   "metadata": {},
   "outputs": [
    {
     "data": {
      "text/plain": [
       "array([[1, 3, 7, ..., 2, 8, 2],\n",
       "       [1, 2, 1, ..., 9, 6, 1],\n",
       "       [6, 1, 5, ..., 2, 8, 4],\n",
       "       ...,\n",
       "       [6, 4, 4, ..., 2, 7, 9],\n",
       "       [9, 7, 2, ..., 7, 9, 4],\n",
       "       [9, 5, 2, ..., 6, 1, 9]])"
      ]
     },
     "execution_count": 3,
     "metadata": {},
     "output_type": "execute_result"
    }
   ],
   "source": [
    "import aocd\n",
    "input_data = parse_input(aocd.get_data(year=2021, day=15).split('\\n'))\n",
    "input_data"
   ]
  },
  {
   "cell_type": "code",
   "execution_count": 4,
   "metadata": {},
   "outputs": [
    {
     "data": {
      "text/plain": [
       "array([[1, 1, 6, 3, 7, 5, 1, 7, 4, 2],\n",
       "       [1, 3, 8, 1, 3, 7, 3, 6, 7, 2],\n",
       "       [2, 1, 3, 6, 5, 1, 1, 3, 2, 8],\n",
       "       [3, 6, 9, 4, 9, 3, 1, 5, 6, 9],\n",
       "       [7, 4, 6, 3, 4, 1, 7, 1, 1, 1],\n",
       "       [1, 3, 1, 9, 1, 2, 8, 1, 3, 7],\n",
       "       [1, 3, 5, 9, 9, 1, 2, 4, 2, 1],\n",
       "       [3, 1, 2, 5, 4, 2, 1, 6, 3, 9],\n",
       "       [1, 2, 9, 3, 1, 3, 8, 5, 2, 1],\n",
       "       [2, 3, 1, 1, 9, 4, 4, 5, 8, 1]])"
      ]
     },
     "execution_count": 4,
     "metadata": {},
     "output_type": "execute_result"
    }
   ],
   "source": [
    "test_data = parse_input([\n",
    "    '1163751742',\n",
    "    '1381373672',\n",
    "    '2136511328',\n",
    "    '3694931569',\n",
    "    '7463417111',\n",
    "    '1319128137',\n",
    "    '1359912421',\n",
    "    '3125421639',\n",
    "    '1293138521',\n",
    "    '2311944581'\n",
    "])\n",
    "test_data"
   ]
  },
  {
   "cell_type": "markdown",
   "metadata": {},
   "source": [
    "### Part 1"
   ]
  },
  {
   "cell_type": "code",
   "execution_count": 5,
   "metadata": {},
   "outputs": [],
   "source": [
    "from collections import deque"
   ]
  },
  {
   "cell_type": "code",
   "execution_count": 6,
   "metadata": {},
   "outputs": [
    {
     "name": "stdout",
     "output_type": "stream",
     "text": [
      "105\n"
     ]
    },
    {
     "data": {
      "text/plain": [
       "array([[ 0,  1,  7, 10, 17, 22, 23, 30, 34, 36],\n",
       "       [ 1,  4, 12, 11, 14, 21, 23, 29, 32, 34],\n",
       "       [ 3,  4,  7, 13, 18, 19, 20, 23, 25, 33],\n",
       "       [ 6, 10, 16, 17, 26, 22, 21, 26, 31, 38],\n",
       "       [13, 14, 20, 20, 24, 23, 28, 27, 28, 29],\n",
       "       [14, 17, 18, 27, 25, 25, 33, 28, 31, 36],\n",
       "       [15, 18, 23, 32, 34, 26, 28, 32, 33, 34],\n",
       "       [18, 19, 21, 26, 30, 28, 29, 35, 36, 43],\n",
       "       [19, 21, 30, 29, 30, 31, 37, 40, 38, 39],\n",
       "       [21, 24, 25, 26, 35, 35, 39, 44, 46, 40]])"
      ]
     },
     "execution_count": 6,
     "metadata": {},
     "output_type": "execute_result"
    }
   ],
   "source": [
    "directions = np.array([[ 1,  0], [ 0,  1], [-1,  0], [ 0, -1]])\n",
    "\n",
    "def safest_path(grid, start):\n",
    "    best_cost = np.zeros_like(grid, dtype=int)\n",
    "    best_cost += 99999\n",
    "    steps = 0\n",
    "    \n",
    "    to_visit = deque([(np.array(start), 0)])\n",
    "    while to_visit:\n",
    "        #print(to_visit)\n",
    "        visiting, path_cost = to_visit.popleft()\n",
    "        y, x = visiting\n",
    "\n",
    "        #print(f\"visiting {visiting} {path_cost} {best_cost[y, x]}\")\n",
    "        if path_cost > best_cost[y, x]:\n",
    "            continue\n",
    "\n",
    "        best_cost[y, x] = path_cost\n",
    "        #print(\"new good step:\", visiting, visit_cost)\n",
    "        steps += 1\n",
    "        for d in directions:\n",
    "            target = visiting + d\n",
    "            ty, tx = target\n",
    "            if tx < 0 or ty < 0 or tx >= grid.shape[0] or ty >= grid.shape[1]:\n",
    "                continue\n",
    "            next_cost = path_cost + grid[ty, tx]\n",
    "            #print(f\"checking {ty, tx}: cost {next_cost}\")\n",
    "            if next_cost >= best_cost[ty, tx]:\n",
    "                continue\n",
    "            #print(f\"{next_cost} < {best_cost[ty, tx]}\")\n",
    "            best_cost[ty, tx] = next_cost\n",
    "            to_visit.append((target, next_cost))\n",
    "    print(steps)\n",
    "    return best_cost\n",
    "\n",
    "safest_path(test_data, [0,0])"
   ]
  },
  {
   "cell_type": "markdown",
   "metadata": {},
   "source": [
    "### Part 1 Answer\n",
    "**What is the lowest total risk of any path from the top left to the bottom right?**"
   ]
  },
  {
   "cell_type": "code",
   "execution_count": 7,
   "metadata": {},
   "outputs": [
    {
     "name": "stdout",
     "output_type": "stream",
     "text": [
      "38125\n"
     ]
    },
    {
     "data": {
      "text/plain": [
       "array([[  0,   3,  10, ..., 336, 344, 346],\n",
       "       [  1,   3,   4, ..., 345, 350, 347],\n",
       "       [  7,   4,   9, ..., 336, 344, 348],\n",
       "       ...,\n",
       "       [410, 404, 400, ..., 571, 578, 587],\n",
       "       [415, 406, 399, ..., 577, 586, 590],\n",
       "       [415, 406, 401, ..., 582, 583, 592]])"
      ]
     },
     "execution_count": 7,
     "metadata": {},
     "output_type": "execute_result"
    }
   ],
   "source": [
    "safest_path(input_data, [0,0])"
   ]
  },
  {
   "cell_type": "markdown",
   "metadata": {},
   "source": [
    "### Part 2"
   ]
  },
  {
   "cell_type": "code",
   "execution_count": 9,
   "metadata": {},
   "outputs": [
    {
     "data": {
      "text/plain": [
       "array([2, 3, 4, 5, 6, 7, 8, 9, 1])"
      ]
     },
     "execution_count": 9,
     "metadata": {},
     "output_type": "execute_result"
    }
   ],
   "source": [
    "np.arange(1,10) % 9 + 1"
   ]
  },
  {
   "cell_type": "code",
   "execution_count": 10,
   "metadata": {},
   "outputs": [
    {
     "name": "stdout",
     "output_type": "stream",
     "text": [
      "[[1 1 6 ... 2 8 6]\n",
      " [1 3 8 ... 1 2 6]\n",
      " [2 1 3 ... 7 6 3]\n",
      " ...\n",
      " [7 5 6 ... 5 2 8]\n",
      " [5 6 4 ... 4 1 9]\n",
      " [6 7 5 ... 4 7 9]]\n"
     ]
    }
   ],
   "source": [
    "def expand_grid(grid):\n",
    "    result = grid.copy()\n",
    "    next_grid = grid.copy()\n",
    "    for _ in range(4):\n",
    "        next_grid = next_grid % 9 + 1\n",
    "        result = np.hstack([result, next_grid])\n",
    "    \n",
    "    grid = result\n",
    "    result = grid.copy()\n",
    "    next_grid = grid.copy()\n",
    "    for _ in range(4):\n",
    "        next_grid = next_grid % 9 + 1\n",
    "        result = np.vstack([result, next_grid])\n",
    "    \n",
    "    return result\n",
    "\n",
    "test_expand = expand_grid(test_data)\n",
    "print(test_expand)"
   ]
  },
  {
   "cell_type": "code",
   "execution_count": 11,
   "metadata": {},
   "outputs": [
    {
     "name": "stdout",
     "output_type": "stream",
     "text": [
      "3373\n"
     ]
    },
    {
     "data": {
      "text/plain": [
       "array([[  0,   1,   7, ..., 186, 194, 198],\n",
       "       [  1,   4,  12, ..., 184, 186, 192],\n",
       "       [  3,   4,   7, ..., 188, 190, 191],\n",
       "       ...,\n",
       "       [180, 185, 181, ..., 301, 298, 306],\n",
       "       [185, 191, 185, ..., 300, 299, 308],\n",
       "       [191, 197, 190, ..., 299, 306, 315]])"
      ]
     },
     "execution_count": 11,
     "metadata": {},
     "output_type": "execute_result"
    }
   ],
   "source": [
    "safest_path(test_expand, [0,0])"
   ]
  },
  {
   "cell_type": "markdown",
   "metadata": {},
   "source": [
    "#### Part 2 Answer\n",
    "Using the full map, **what is the lowest total risk of any path from the top left to the bottom right?**"
   ]
  },
  {
   "cell_type": "code",
   "execution_count": 12,
   "metadata": {},
   "outputs": [
    {
     "name": "stdout",
     "output_type": "stream",
     "text": [
      "3041989\n"
     ]
    },
    {
     "data": {
      "text/plain": [
       "array([[   0,    3,   10, ..., 1675, 1676, 1682],\n",
       "       [   1,    3,    4, ..., 1672, 1673, 1678],\n",
       "       [   7,    4,    9, ..., 1673, 1676, 1684],\n",
       "       ...,\n",
       "       [1763, 1762, 1758, ..., 2872, 2878, 2886],\n",
       "       [1767, 1764, 1764, ..., 2878, 2886, 2889],\n",
       "       [1771, 1773, 1770, ..., 2883, 2892, 2897]])"
      ]
     },
     "execution_count": 12,
     "metadata": {},
     "output_type": "execute_result"
    }
   ],
   "source": [
    "input_expand = expand_grid(input_data)\n",
    "safest_path(input_expand, [0,0])"
   ]
  }
 ],
 "metadata": {
  "kernelspec": {
   "display_name": "Python 3",
   "language": "python",
   "name": "python3"
  },
  "language_info": {
   "codemirror_mode": {
    "name": "ipython",
    "version": 3
   },
   "file_extension": ".py",
   "mimetype": "text/x-python",
   "name": "python",
   "nbconvert_exporter": "python",
   "pygments_lexer": "ipython3",
   "version": "3.8.5"
  }
 },
 "nbformat": 4,
 "nbformat_minor": 4
}
