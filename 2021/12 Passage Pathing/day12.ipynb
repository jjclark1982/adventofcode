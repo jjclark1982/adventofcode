{
 "cells": [
  {
   "cell_type": "markdown",
   "metadata": {},
   "source": [
    "# Advent of Code 2021\n",
    "## [Day 12: Passage Pathing](https://adventofcode.com/2021/day/12)"
   ]
  },
  {
   "cell_type": "markdown",
   "metadata": {},
   "source": [
    "#### Load Data"
   ]
  },
  {
   "cell_type": "code",
   "execution_count": 1,
   "metadata": {},
   "outputs": [],
   "source": [
    "test_data = [\"start-A\", \"start-b\", \"A-c\", \"A-b\", \"b-d\", \"A-end\", \"b-end\"]"
   ]
  },
  {
   "cell_type": "code",
   "execution_count": 2,
   "metadata": {},
   "outputs": [
    {
     "data": {
      "text/plain": [
       "['xx-end', 'EG-xx', 'iy-FP', 'iy-qc', 'AB-end']"
      ]
     },
     "execution_count": 2,
     "metadata": {},
     "output_type": "execute_result"
    }
   ],
   "source": [
    "import aocd\n",
    "input_data = aocd.get_data(day=12, year=2021).split('\\n')\n",
    "input_data[:5]"
   ]
  },
  {
   "cell_type": "markdown",
   "metadata": {},
   "source": [
    "### Part 1"
   ]
  },
  {
   "cell_type": "code",
   "execution_count": 3,
   "metadata": {},
   "outputs": [],
   "source": [
    "class Cave(object):\n",
    "    def __init__(self, name):\n",
    "        self.name = name\n",
    "        self.links = set()\n",
    "        self.visits = 0\n",
    "        \n",
    "    def __repr__(self):\n",
    "        return f\"{self.name}\"    \n",
    "\n",
    "    def __str__(self):\n",
    "        return f\"{self.name}: {self.links}\"\n",
    "\n",
    "    @property\n",
    "    def is_big(self):\n",
    "        return self.name == self.name.upper()\n",
    "    \n",
    "    @property\n",
    "    def is_visitable(self):\n",
    "        return self.is_big or self.visits < 1\n",
    "\n",
    "    @property\n",
    "    def is_visitable_2x(self):\n",
    "        if self.name in ['start', 'end']:\n",
    "            return False\n",
    "        return self.is_big or self.visits < 2"
   ]
  },
  {
   "cell_type": "code",
   "execution_count": 4,
   "metadata": {},
   "outputs": [
    {
     "name": "stdout",
     "output_type": "stream",
     "text": [
      "start: {b, A}\n",
      "A: {end, b, c, start}\n",
      "b: {d, end, start, A}\n",
      "c: {A}\n",
      "d: {b}\n",
      "end: {b, A}\n"
     ]
    }
   ],
   "source": [
    "def build_caves(input_data):\n",
    "    caves = {}\n",
    "    for edge in input_data:\n",
    "        name1, name2 = edge.split('-')\n",
    "        for name in [name1, name2]:\n",
    "            # instantiate new caves\n",
    "            if name not in caves:\n",
    "                caves[name] = Cave(name)\n",
    "        # add link\n",
    "        cave1 = caves[name1]\n",
    "        cave2 = caves[name2]\n",
    "        cave1.links.add(cave2)\n",
    "        cave2.links.add(cave1)\n",
    "    return caves\n",
    "\n",
    "caves = build_caves(test_data)\n",
    "for cave in caves:\n",
    "    print(caves[cave])"
   ]
  },
  {
   "cell_type": "code",
   "execution_count": 5,
   "metadata": {},
   "outputs": [
    {
     "data": {
      "text/plain": [
       "[[start, A, c, A, b, A, end],\n",
       " [start, A, c, A, b, end],\n",
       " [start, A, c, A, end],\n",
       " [start, A, b, A, c, A, end],\n",
       " [start, A, b, A, end],\n",
       " [start, A, b, end],\n",
       " [start, A, end],\n",
       " [start, b, A, c, A, end],\n",
       " [start, b, A, end],\n",
       " [start, b, end]]"
      ]
     },
     "execution_count": 5,
     "metadata": {},
     "output_type": "execute_result"
    }
   ],
   "source": [
    "def find_all_paths(cursor):\n",
    "    paths = []\n",
    "    cursor.visits += 1\n",
    "    if cursor.name == 'end':\n",
    "        cursor.visits -= 1\n",
    "        return [[cursor]]\n",
    "    \n",
    "    for node in cursor.links:\n",
    "        if node.is_visitable:\n",
    "            paths += [[cursor] + path for path in find_all_paths(node)]\n",
    "        \n",
    "    cursor.visits -= 1\n",
    "    return paths\n",
    "    \n",
    "find_all_paths(build_caves(test_data)['start'])"
   ]
  },
  {
   "cell_type": "markdown",
   "metadata": {},
   "source": [
    "#### Part 1 Answer\n",
    "**How many paths through this cave system are there that visit small caves at most once?**"
   ]
  },
  {
   "cell_type": "code",
   "execution_count": 6,
   "metadata": {},
   "outputs": [
    {
     "data": {
      "text/plain": [
       "4378"
      ]
     },
     "execution_count": 6,
     "metadata": {},
     "output_type": "execute_result"
    }
   ],
   "source": [
    "caves = build_caves(input_data)\n",
    "paths = find_all_paths(caves['start'])\n",
    "len(paths)"
   ]
  },
  {
   "cell_type": "markdown",
   "metadata": {},
   "source": [
    "### Part 2"
   ]
  },
  {
   "cell_type": "code",
   "execution_count": 7,
   "metadata": {},
   "outputs": [
    {
     "data": {
      "text/plain": [
       "36"
      ]
     },
     "execution_count": 7,
     "metadata": {},
     "output_type": "execute_result"
    }
   ],
   "source": [
    "def find_all_paths_2(cursor):\n",
    "    paths = []\n",
    "    cursor.visits += 1\n",
    "    if cursor.name == 'end':\n",
    "        cursor.visits -= 1\n",
    "        return [[cursor]]\n",
    "    \n",
    "    for node in cursor.links:\n",
    "        if node.is_visitable:\n",
    "            paths += [[cursor] + path for path in find_all_paths_2(node)]\n",
    "        elif node.is_visitable_2x:\n",
    "            paths += [[cursor] + path for path in find_all_paths(node)]\n",
    "        \n",
    "    cursor.visits -= 1\n",
    "    return paths\n",
    "    \n",
    "paths = find_all_paths_2(build_caves(test_data)['start'])\n",
    "len(paths)"
   ]
  },
  {
   "cell_type": "markdown",
   "metadata": {},
   "source": [
    "#### Part 2 Answer\n",
    "Given these new rules, **how many paths through this cave system are there?**"
   ]
  },
  {
   "cell_type": "code",
   "execution_count": 8,
   "metadata": {},
   "outputs": [
    {
     "data": {
      "text/plain": [
       "133621"
      ]
     },
     "execution_count": 8,
     "metadata": {},
     "output_type": "execute_result"
    }
   ],
   "source": [
    "paths = find_all_paths_2(build_caves(input_data)['start'])\n",
    "len(paths)"
   ]
  }
 ],
 "metadata": {
  "kernelspec": {
   "display_name": "Python 3",
   "language": "python",
   "name": "python3"
  },
  "language_info": {
   "codemirror_mode": {
    "name": "ipython",
    "version": 3
   },
   "file_extension": ".py",
   "mimetype": "text/x-python",
   "name": "python",
   "nbconvert_exporter": "python",
   "pygments_lexer": "ipython3",
   "version": "3.8.5"
  }
 },
 "nbformat": 4,
 "nbformat_minor": 4
}
