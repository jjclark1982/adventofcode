{
 "cells": [
  {
   "cell_type": "markdown",
   "metadata": {},
   "source": [
    "# Advent of Code 2021\n",
    "## Day 4"
   ]
  },
  {
   "cell_type": "code",
   "execution_count": 1,
   "metadata": {},
   "outputs": [],
   "source": [
    "from collections import namedtuple\n",
    "import numpy as np"
   ]
  },
  {
   "cell_type": "code",
   "execution_count": 2,
   "metadata": {},
   "outputs": [],
   "source": [
    "import aocd\n",
    "inputs = aocd.get_data(day=4, year=2021).split('\\n')"
   ]
  },
  {
   "cell_type": "code",
   "execution_count": 3,
   "metadata": {},
   "outputs": [
    {
     "data": {
      "text/plain": [
       "array([12, 28,  0, 63, 26, 38, 64, 17, 74, 67, 51, 44, 77, 32,  6, 10, 52,\n",
       "       47, 61, 46, 50, 29, 15,  1, 39, 37, 13, 66, 45,  8, 68, 96, 53, 40,\n",
       "       76, 72, 21, 93, 16, 83, 62, 48, 11,  9, 20, 36, 91, 19,  5, 42, 99,\n",
       "       84,  4, 95, 92, 89,  7, 71, 34, 35, 55, 22, 59, 18, 49, 14, 54, 85,\n",
       "       82, 58, 24, 73, 31, 97, 69, 43, 65, 27, 81, 56, 87, 70, 33, 88, 60,\n",
       "        2, 75, 90, 57, 94, 23, 30, 78, 80, 41,  3, 98, 25, 79, 86])"
      ]
     },
     "execution_count": 3,
     "metadata": {},
     "output_type": "execute_result"
    }
   ],
   "source": [
    "called_numbers = np.array(inputs[0].split(','), dtype=int)\n",
    "called_numbers"
   ]
  },
  {
   "cell_type": "code",
   "execution_count": 4,
   "metadata": {},
   "outputs": [
    {
     "data": {
      "text/plain": [
       "(100, 5, 5)"
      ]
     },
     "execution_count": 4,
     "metadata": {},
     "output_type": "execute_result"
    }
   ],
   "source": [
    "def load_boards():\n",
    "    boards = []\n",
    "    for i in range(2, len(inputs), 6):\n",
    "        rows = [row.strip().replace('  ', ' ').split(' ') for row in inputs[i:i+5]]\n",
    "        board = np.array(rows, dtype='int8')\n",
    "        boards.append(board)\n",
    "    boards = np.array(boards)\n",
    "    return boards\n",
    "boards = load_boards()\n",
    "boards.shape"
   ]
  },
  {
   "cell_type": "code",
   "execution_count": 5,
   "metadata": {},
   "outputs": [
    {
     "data": {
      "text/plain": [
       "array([[50, 79, 88, 34,  0],\n",
       "       [56, 46,  5, 17, 31],\n",
       "       [29,  6, 38, 78, 68],\n",
       "       [75, 57, 15, 44, 83],\n",
       "       [89, 45, 43, 85, 72]], dtype=int8)"
      ]
     },
     "execution_count": 5,
     "metadata": {},
     "output_type": "execute_result"
    }
   ],
   "source": [
    "boards[0]"
   ]
  },
  {
   "cell_type": "code",
   "execution_count": 6,
   "metadata": {},
   "outputs": [
    {
     "data": {
      "text/plain": [
       "BingoWin(board=array([[99, 19, 74,  0,  9],\n",
       "       [59, 92, 67, 82, 69],\n",
       "       [72, 46, 63, 51, 77],\n",
       "       [ 2, 45, 66, 28, 12],\n",
       "       [93, 38, 15, 64, 27]], dtype=int8), match=array([[False, False,  True,  True, False],\n",
       "       [False, False,  True, False, False],\n",
       "       [False,  True,  True,  True,  True],\n",
       "       [False, False,  True,  True,  True],\n",
       "       [False,  True,  True,  True, False]]), called_number=66)"
      ]
     },
     "execution_count": 6,
     "metadata": {},
     "output_type": "execute_result"
    }
   ],
   "source": [
    "BingoWin = namedtuple('BingoWin', ['board', 'match', 'called_number'])\n",
    "\n",
    "def is_winner(match):\n",
    "    # any row or column with 5 True values\n",
    "    return np.any([match.sum(axis=0) == 5, match.sum(axis=1) == 5])\n",
    "\n",
    "def run_bingo(boards):\n",
    "    winners = {}  # ordered dict of board index -> BingoWin\n",
    "    \n",
    "    matches = np.zeros_like(boards, dtype=bool)\n",
    "    for num in called_numbers:\n",
    "        # mark the called number on all cards\n",
    "        matches[boards == num] = True\n",
    "        \n",
    "        # check each card for a new win\n",
    "        for i in range(len(boards)):\n",
    "            if i not in winners:\n",
    "                board = boards[i]\n",
    "                match = matches[i]\n",
    "                if is_winner(match):\n",
    "                    winners[i] = BingoWin(board, match.copy(), num)\n",
    "    \n",
    "    return list(winners.values())\n",
    "\n",
    "winners = run_bingo(boards)\n",
    "winners[0]"
   ]
  },
  {
   "cell_type": "markdown",
   "metadata": {},
   "source": [
    "#### Part 1 Answer\n",
    "To guarantee victory against the giant squid, figure out which board will win first.  \n",
    "**What will your final score be if you choose that board?**"
   ]
  },
  {
   "cell_type": "code",
   "execution_count": 7,
   "metadata": {},
   "outputs": [
    {
     "data": {
      "text/plain": [
       "44088"
      ]
     },
     "execution_count": 7,
     "metadata": {},
     "output_type": "execute_result"
    }
   ],
   "source": [
    "def get_score(board, match, called_number):\n",
    "    sum_unmarked = board[~match].sum()\n",
    "    return sum_unmarked * called_number\n",
    "\n",
    "get_score(*winners[0])"
   ]
  },
  {
   "cell_type": "markdown",
   "metadata": {},
   "source": [
    "#### Part 2 Answer\n",
    "Figure out which board will win last.  \n",
    "**Once it wins, what would its final score be?**"
   ]
  },
  {
   "cell_type": "code",
   "execution_count": 8,
   "metadata": {},
   "outputs": [
    {
     "data": {
      "text/plain": [
       "23670"
      ]
     },
     "execution_count": 8,
     "metadata": {},
     "output_type": "execute_result"
    }
   ],
   "source": [
    "get_score(*winners[-1])"
   ]
  }
 ],
 "metadata": {
  "kernelspec": {
   "display_name": "Python 3",
   "language": "python",
   "name": "python3"
  },
  "language_info": {
   "codemirror_mode": {
    "name": "ipython",
    "version": 3
   },
   "file_extension": ".py",
   "mimetype": "text/x-python",
   "name": "python",
   "nbconvert_exporter": "python",
   "pygments_lexer": "ipython3",
   "version": "3.8.5"
  }
 },
 "nbformat": 4,
 "nbformat_minor": 4
}
