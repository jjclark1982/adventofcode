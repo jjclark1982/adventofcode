{
 "cells": [
  {
   "cell_type": "markdown",
   "metadata": {},
   "source": [
    "# Advent of Code 2021\n",
    "## [Day 22: Reactor Reboot](https://adventofcode.com/2021/day/21)"
   ]
  },
  {
   "cell_type": "markdown",
   "metadata": {},
   "source": [
    "#### Load Data"
   ]
  },
  {
   "cell_type": "code",
   "execution_count": 20,
   "metadata": {},
   "outputs": [],
   "source": [
    "import numpy as np"
   ]
  },
  {
   "cell_type": "code",
   "execution_count": 3,
   "metadata": {},
   "outputs": [],
   "source": [
    "import re"
   ]
  },
  {
   "cell_type": "code",
   "execution_count": 4,
   "metadata": {},
   "outputs": [
    {
     "data": {
      "text/plain": [
       "['on x=-48..0,y=-47..2,z=-6..48',\n",
       " 'on x=-37..11,y=-21..23,z=-28..19',\n",
       " 'on x=-16..36,y=-45..3,z=-41..7',\n",
       " 'on x=-4..40,y=-40..11,z=-35..9',\n",
       " 'on x=-28..22,y=-12..36,z=-33..20']"
      ]
     },
     "execution_count": 4,
     "metadata": {},
     "output_type": "execute_result"
    }
   ],
   "source": [
    "import aocd\n",
    "input_data = aocd.get_data(year=2021, day=22).split('\\n')\n",
    "input_data[:5]"
   ]
  },
  {
   "cell_type": "code",
   "execution_count": 17,
   "metadata": {},
   "outputs": [],
   "source": [
    "test_data = [\n",
    "    'on x=10..12,y=10..12,z=10..12',\n",
    "    'on x=11..13,y=11..13,z=11..13',\n",
    "    'off x=9..11,y=9..11,z=9..11',\n",
    "    'on x=10..10,y=10..10,z=10..10',\n",
    "]"
   ]
  },
  {
   "cell_type": "code",
   "execution_count": 64,
   "metadata": {},
   "outputs": [
    {
     "data": {
      "text/plain": [
       "(True, array([10, 12, 10, 12, 10, 12]))"
      ]
     },
     "execution_count": 64,
     "metadata": {},
     "output_type": "execute_result"
    }
   ],
   "source": [
    "def parse_line(line):\n",
    "    groups = re.match(r'(on|off) x=(.*)\\.\\.(.*),y=(.*)\\.\\.(.*),z=(.*)\\.\\.(.*)', line).groups()\n",
    "    coords = np.array(groups[1:], dtype=int)\n",
    "    cmd = (groups[0] == 'on')\n",
    "    return cmd, coords\n",
    "\n",
    "parse_line(test_data[0])"
   ]
  },
  {
   "cell_type": "markdown",
   "metadata": {},
   "source": [
    "### Part 1"
   ]
  },
  {
   "cell_type": "code",
   "execution_count": 26,
   "metadata": {},
   "outputs": [],
   "source": [
    "grid = np.zeros((20, 20, 20), dtype=bool)"
   ]
  },
  {
   "cell_type": "code",
   "execution_count": 46,
   "metadata": {},
   "outputs": [
    {
     "data": {
      "text/plain": [
       "array([[[ True]]])"
      ]
     },
     "execution_count": 46,
     "metadata": {},
     "output_type": "execute_result"
    }
   ],
   "source": [
    "grid[10:11,10:11,10:11]"
   ]
  },
  {
   "cell_type": "code",
   "execution_count": 31,
   "metadata": {},
   "outputs": [
    {
     "data": {
      "text/plain": [
       "27"
      ]
     },
     "execution_count": 31,
     "metadata": {},
     "output_type": "execute_result"
    }
   ],
   "source": [
    "grid[10:12+1,10:12+1,10:12+1] = 1\n",
    "grid.sum()"
   ]
  },
  {
   "cell_type": "code",
   "execution_count": 67,
   "metadata": {},
   "outputs": [
    {
     "name": "stdout",
     "output_type": "stream",
     "text": [
      "step 1: 27 added, 27 total\n",
      "step 2: 19 added, 46 total\n",
      "step 3: -8 added, 38 total\n",
      "step 4: 1 added, 39 total\n"
     ]
    },
    {
     "data": {
      "text/plain": [
       "39"
      ]
     },
     "execution_count": 67,
     "metadata": {},
     "output_type": "execute_result"
    }
   ],
   "source": [
    "def do_reboot(data, verbose=False):\n",
    "    grid = np.zeros((101, 101, 101), dtype=bool)\n",
    "    i = 0\n",
    "    for line in data:\n",
    "        cmd, coords = parse_line(line)\n",
    "        if np.any((coords < -50) | (coords > 50)):\n",
    "            continue\n",
    "        coords += 50\n",
    "        x1, x2, y1, y2, z1, z2 = coords\n",
    "        before = grid[x1:x2+1,y1:y2+1,z1:z2+1].sum()\n",
    "        grid[x1:x2+1,y1:y2+1,z1:z2+1] = cmd\n",
    "        i += 1\n",
    "        after = grid[x1:x2+1,y1:y2+1,z1:z2+1].sum()\n",
    "        if verbose:\n",
    "            print(f\"step {i}: {after-before} added, {grid.sum()} total\")\n",
    "    return grid\n",
    "\n",
    "result = do_reboot(test_data, verbose=True)\n",
    "result.sum()"
   ]
  },
  {
   "cell_type": "code",
   "execution_count": 68,
   "metadata": {},
   "outputs": [],
   "source": [
    "test_data_2 = [\n",
    "    'on x=-20..26,y=-36..17,z=-47..7','on x=-20..33,y=-21..23,z=-26..28','on x=-22..28,y=-29..23,z=-38..16','on x=-46..7,y=-6..46,z=-50..-1','on x=-49..1,y=-3..46,z=-24..28','on x=2..47,y=-22..22,z=-23..27','on x=-27..23,y=-28..26,z=-21..29','on x=-39..5,y=-6..47,z=-3..44','on x=-30..21,y=-8..43,z=-13..34','on x=-22..26,y=-27..20,z=-29..19','off x=-48..-32,y=26..41,z=-47..-37','on x=-12..35,y=6..50,z=-50..-2','off x=-48..-32,y=-32..-16,z=-15..-5','on x=-18..26,y=-33..15,z=-7..46','off x=-40..-22,y=-38..-28,z=23..41','on x=-16..35,y=-41..10,z=-47..6','off x=-32..-23,y=11..30,z=-14..3','on x=-49..-5,y=-3..45,z=-29..18','off x=18..30,y=-20..-8,z=-3..13','on x=-41..9,y=-7..43,z=-33..15','on x=-54112..-39298,y=-85059..-49293,z=-27449..7877','on x=967..23432,y=45373..81175,z=27513..53682',\n",
    "]"
   ]
  },
  {
   "cell_type": "code",
   "execution_count": 71,
   "metadata": {},
   "outputs": [
    {
     "data": {
      "text/plain": [
       "590784"
      ]
     },
     "execution_count": 71,
     "metadata": {},
     "output_type": "execute_result"
    }
   ],
   "source": [
    "result = do_reboot(test_data_2)\n",
    "result.sum()"
   ]
  },
  {
   "cell_type": "markdown",
   "metadata": {},
   "source": [
    "#### Part 1 Answer\n",
    "Execute the reboot steps. Afterward, considering only cubes in the region x=-50..50,y=-50..50,z=-50..50, **how many cubes are on?**"
   ]
  },
  {
   "cell_type": "code",
   "execution_count": 72,
   "metadata": {},
   "outputs": [
    {
     "data": {
      "text/plain": [
       "583636"
      ]
     },
     "execution_count": 72,
     "metadata": {},
     "output_type": "execute_result"
    }
   ],
   "source": [
    "result = do_reboot(input_data)\n",
    "result.sum()"
   ]
  },
  {
   "cell_type": "markdown",
   "metadata": {},
   "source": [
    "### Part 2"
   ]
  },
  {
   "cell_type": "code",
   "execution_count": 73,
   "metadata": {},
   "outputs": [],
   "source": [
    "test_data_3 = [\n",
    "    'on x=-5..47,y=-31..22,z=-19..33','on x=-44..5,y=-27..21,z=-14..35','on x=-49..-1,y=-11..42,z=-10..38','on x=-20..34,y=-40..6,z=-44..1','off x=26..39,y=40..50,z=-2..11','on x=-41..5,y=-41..6,z=-36..8','off x=-43..-33,y=-45..-28,z=7..25','on x=-33..15,y=-32..19,z=-34..11','off x=35..47,y=-46..-34,z=-11..5','on x=-14..36,y=-6..44,z=-16..29','on x=-57795..-6158,y=29564..72030,z=20435..90618','on x=36731..105352,y=-21140..28532,z=16094..90401','on x=30999..107136,y=-53464..15513,z=8553..71215','on x=13528..83982,y=-99403..-27377,z=-24141..23996','on x=-72682..-12347,y=18159..111354,z=7391..80950','on x=-1060..80757,y=-65301..-20884,z=-103788..-16709','on x=-83015..-9461,y=-72160..-8347,z=-81239..-26856','on x=-52752..22273,y=-49450..9096,z=54442..119054','on x=-29982..40483,y=-108474..-28371,z=-24328..38471','on x=-4958..62750,y=40422..118853,z=-7672..65583','on x=55694..108686,y=-43367..46958,z=-26781..48729','on x=-98497..-18186,y=-63569..3412,z=1232..88485','on x=-726..56291,y=-62629..13224,z=18033..85226','on x=-110886..-34664,y=-81338..-8658,z=8914..63723','on x=-55829..24974,y=-16897..54165,z=-121762..-28058','on x=-65152..-11147,y=22489..91432,z=-58782..1780','on x=-120100..-32970,y=-46592..27473,z=-11695..61039','on x=-18631..37533,y=-124565..-50804,z=-35667..28308','on x=-57817..18248,y=49321..117703,z=5745..55881','on x=14781..98692,y=-1341..70827,z=15753..70151','on x=-34419..55919,y=-19626..40991,z=39015..114138','on x=-60785..11593,y=-56135..2999,z=-95368..-26915','on x=-32178..58085,y=17647..101866,z=-91405..-8878','on x=-53655..12091,y=50097..105568,z=-75335..-4862','on x=-111166..-40997,y=-71714..2688,z=5609..50954','on x=-16602..70118,y=-98693..-44401,z=5197..76897','on x=16383..101554,y=4615..83635,z=-44907..18747','off x=-95822..-15171,y=-19987..48940,z=10804..104439','on x=-89813..-14614,y=16069..88491,z=-3297..45228','on x=41075..99376,y=-20427..49978,z=-52012..13762','on x=-21330..50085,y=-17944..62733,z=-112280..-30197','on x=-16478..35915,y=36008..118594,z=-7885..47086','off x=-98156..-27851,y=-49952..43171,z=-99005..-8456','off x=2032..69770,y=-71013..4824,z=7471..94418','on x=43670..120875,y=-42068..12382,z=-24787..38892','off x=37514..111226,y=-45862..25743,z=-16714..54663','off x=25699..97951,y=-30668..59918,z=-15349..69697','off x=-44271..17935,y=-9516..60759,z=49131..112598','on x=-61695..-5813,y=40978..94975,z=8655..80240','off x=-101086..-9439,y=-7088..67543,z=33935..83858','off x=18020..114017,y=-48931..32606,z=21474..89843','off x=-77139..10506,y=-89994..-18797,z=-80..59318','off x=8476..79288,y=-75520..11602,z=-96624..-24783','on x=-47488..-1262,y=24338..100707,z=16292..72967','off x=-84341..13987,y=2429..92914,z=-90671..-1318','off x=-37810..49457,y=-71013..-7894,z=-105357..-13188','off x=-27365..46395,y=31009..98017,z=15428..76570','off x=-70369..-16548,y=22648..78696,z=-1892..86821','on x=-53470..21291,y=-120233..-33476,z=-44150..38147','off x=-93533..-4276,y=-16170..68771,z=-104985..-24507',\n",
    "]"
   ]
  },
  {
   "cell_type": "code",
   "execution_count": 74,
   "metadata": {},
   "outputs": [],
   "source": [
    "from collections import defaultdict"
   ]
  },
  {
   "cell_type": "code",
   "execution_count": 81,
   "metadata": {},
   "outputs": [
    {
     "name": "stdout",
     "output_type": "stream",
     "text": [
      "on x=10..12,y=10..12,z=10..12\n",
      "on x=11..13,y=11..13,z=11..13\n",
      "off x=9..11,y=9..11,z=9..11\n",
      "on x=10..10,y=10..10,z=10..10\n"
     ]
    },
    {
     "data": {
      "text/plain": [
       "39"
      ]
     },
     "execution_count": 81,
     "metadata": {},
     "output_type": "execute_result"
    }
   ],
   "source": [
    "def do_reboot_sparse(data, verbose=False):\n",
    "    cubes = defaultdict(lambda: False)\n",
    "    for line in data:\n",
    "        if verbose:\n",
    "            print(line)\n",
    "        cmd, coords = parse_line(line)\n",
    "        coords += 50\n",
    "        x1, x2, y1, y2, z1, z2 = coords\n",
    "        for x in range(x1, x2+1):\n",
    "            for y in range(y1, y2+1):\n",
    "                for z in range(z1, z2+1):\n",
    "                    cube = f\"{x,y,z}\"\n",
    "                    cubes[cube] = cmd\n",
    "    return cubes\n",
    "\n",
    "result = do_reboot_sparse(test_data, verbose=True)\n",
    "sum(result.values())"
   ]
  },
  {
   "cell_type": "code",
   "execution_count": null,
   "metadata": {},
   "outputs": [],
   "source": [
    "result = do_reboot_sparse(test_data_3)\n",
    "sum(result.values())\n",
    "# this will be too slow"
   ]
  },
  {
   "cell_type": "code",
   "execution_count": 138,
   "metadata": {},
   "outputs": [
    {
     "data": {
      "text/plain": [
       "0"
      ]
     },
     "execution_count": 138,
     "metadata": {},
     "output_type": "execute_result"
    }
   ],
   "source": [
    "def overlap(min1, max1, min2, max2):\n",
    "    return max(0, min(max1, max2) - max(min1, min2))\n",
    "\n",
    "overlap(9, 10, 11, 13)"
   ]
  },
  {
   "cell_type": "code",
   "execution_count": 155,
   "metadata": {},
   "outputs": [
    {
     "data": {
      "text/plain": [
       "(11, 12)"
      ]
     },
     "execution_count": 155,
     "metadata": {},
     "output_type": "execute_result"
    }
   ],
   "source": [
    "def overlap_coords(min1, max1, min2, max2):\n",
    "    return max(min1, min2), min(max1, max2)\n",
    "\n",
    "overlap_coords(10, 12, 11, 13)"
   ]
  },
  {
   "cell_type": "code",
   "execution_count": 169,
   "metadata": {},
   "outputs": [
    {
     "data": {
      "text/plain": [
       "(<on  x=10..12,y=10..12,z=10..12>, <on  x=11..13,y=11..13,z=11..13>)"
      ]
     },
     "execution_count": 169,
     "metadata": {},
     "output_type": "execute_result"
    }
   ],
   "source": [
    "class Step(object):\n",
    "    def __init__(self, on, x1, x2, y1, y2, z1, z2):\n",
    "        self.on = on\n",
    "        self.x1 = x1\n",
    "        self.x2 = x2\n",
    "        self.y1 = y1\n",
    "        self.y2 = y2\n",
    "        self.z1 = z1\n",
    "        self.z2 = z2\n",
    "        \n",
    "    @property\n",
    "    def off(self):\n",
    "        return not self.on\n",
    "        \n",
    "    @classmethod\n",
    "    def parse(cls, line) -> \"Step\":\n",
    "        groups = re.match(r'(on|off) x=(.*)\\.\\.(.*),y=(.*)\\.\\.(.*),z=(.*)\\.\\.(.*)', line).groups()\n",
    "        on = (groups[0] == 'on')\n",
    "        coords = np.array(groups[1:], dtype=int)\n",
    "        return cls(on, *coords)\n",
    "        \n",
    "    def __repr__(self):\n",
    "        cmd = ['off', 'on '][int(self.on)]\n",
    "        return f\"<{cmd} x={self.x1}..{self.x2},y={self.y1}..{self.y2},z={self.z1}..{self.z2}>\"\n",
    "    \n",
    "    def size(self) -> int:\n",
    "        return (\n",
    "            (self.x2 - self.x1 + 1) *\n",
    "            (self.y2 - self.y1 + 1) *\n",
    "            (self.z2 - self.z1 + 1) \n",
    "        )\n",
    "    \n",
    "    def intersect(self, other: \"Step\") -> bool:\n",
    "        return (\n",
    "            (self.x1 <= other.x2 and self.x2 >= other.x1) and\n",
    "            (self.y1 <= other.y2 and self.y2 >= other.y1) and\n",
    "            (self.z1 <= other.z2 and self.z2 >= other.z1)\n",
    "        )\n",
    "    \n",
    "    def intersection_size(self, other: \"Step\") -> int:\n",
    "        w = overlap(self.x1, self.x2+1, other.x1, other.x2+1)\n",
    "        h = overlap(self.y1, self.y2+1, other.y1, other.y2+1)\n",
    "        d = overlap(self.z1, self.z2+1, other.z1, other.z2+1)\n",
    "        return w * h * d\n",
    "    \n",
    "    def intersection_cube(self, other: \"Step\") -> \"Step\":\n",
    "        # only run if self.intersection_size(other) > 0\n",
    "        x1, x2 = overlap_coords(self.x1, self.x2, other.x1, other.x2)\n",
    "        y1, y2 = overlap_coords(self.y1, self.y2, other.y1, other.y2)\n",
    "        z1, z2 = overlap_coords(self.z1, self.z2, other.z1, other.z2)\n",
    "        return Step(True, x1, x2, y1, y2, z1, z2)\n",
    "\n",
    "Step.parse(test_data[0]), Step.parse(test_data[1])"
   ]
  },
  {
   "cell_type": "code",
   "execution_count": 147,
   "metadata": {},
   "outputs": [
    {
     "data": {
      "text/plain": [
       "1"
      ]
     },
     "execution_count": 147,
     "metadata": {},
     "output_type": "execute_result"
    }
   ],
   "source": [
    "Step.parse(\"on x=0..0,y=0..0,z=0..0\").size()"
   ]
  },
  {
   "cell_type": "code",
   "execution_count": 112,
   "metadata": {},
   "outputs": [
    {
     "data": {
      "text/plain": [
       "8"
      ]
     },
     "execution_count": 112,
     "metadata": {},
     "output_type": "execute_result"
    }
   ],
   "source": [
    "Step(test_data[0]).intersection_size(Step(test_data[1]))"
   ]
  },
  {
   "cell_type": "code",
   "execution_count": 170,
   "metadata": {},
   "outputs": [
    {
     "data": {
      "text/plain": [
       "[<on  x=10..12,y=10..12,z=10..12>,\n",
       " <off x=11..12,y=11..12,z=11..12>,\n",
       " <on  x=11..13,y=11..13,z=11..13>,\n",
       " <on  x=10..11,y=10..11,z=10..11>,\n",
       " <on  x=11..11,y=11..11,z=11..11>,\n",
       " <off x=9..11,y=9..11,z=9..11>,\n",
       " <off x=10..10,y=10..10,z=10..10>,\n",
       " <on  x=10..10,y=10..10,z=10..10>]"
      ]
     },
     "execution_count": 170,
     "metadata": {},
     "output_type": "execute_result"
    }
   ],
   "source": [
    "def do_reboot_analytical(data, verbose=False):\n",
    "    steps = [Step.parse(line) for line in data]\n",
    "    cuboids = []\n",
    "    for i in range(len(steps)):\n",
    "        step = steps[i]\n",
    "        for j in range(i):\n",
    "            prev_step = steps[j]\n",
    "            #print(f\"comparing {step} vs {prev_step}\")\n",
    "            intersection = None\n",
    "            if step.intersection_size(prev_step) > 0:\n",
    "                intersection = step.intersection_cube(prev_step)\n",
    "            if intersection:\n",
    "                if step.on and prev_step.on:\n",
    "                    intersection.on = False\n",
    "                    cuboids.append(intersection)\n",
    "                if step.off and prev_step.on:\n",
    "                    intersection.on = True\n",
    "                    cuboids.append(intersection)\n",
    "                if step.off and prev_step.off:\n",
    "                    intersection.on = True\n",
    "                    cuboids.append(intersection)\n",
    "        cuboids.append(step)\n",
    "    return cuboids\n",
    "\n",
    "cuboids = do_reboot_analytical(test_data)\n",
    "cuboids"
   ]
  },
  {
   "cell_type": "code",
   "execution_count": 171,
   "metadata": {},
   "outputs": [
    {
     "data": {
      "text/plain": [
       "28"
      ]
     },
     "execution_count": 171,
     "metadata": {},
     "output_type": "execute_result"
    }
   ],
   "source": [
    "def sum_cuboids(cuboids):\n",
    "    cubes_on = 0\n",
    "    for cuboid in cuboids:\n",
    "        if cuboid.on:\n",
    "            cubes_on += cuboid.size()\n",
    "        else:\n",
    "            cubes_on -= cuboid.size()\n",
    "    return cubes_on\n",
    "\n",
    "sum_cuboids(cuboids)"
   ]
  },
  {
   "cell_type": "code",
   "execution_count": 173,
   "metadata": {},
   "outputs": [
    {
     "data": {
      "text/plain": [
       "8000000000000000"
      ]
     },
     "execution_count": 173,
     "metadata": {},
     "output_type": "execute_result"
    }
   ],
   "source": [
    "200000 ** 3"
   ]
  },
  {
   "cell_type": "code",
   "execution_count": null,
   "metadata": {},
   "outputs": [],
   "source": []
  }
 ],
 "metadata": {
  "kernelspec": {
   "display_name": "Python 3",
   "language": "python",
   "name": "python3"
  },
  "language_info": {
   "codemirror_mode": {
    "name": "ipython",
    "version": 3
   },
   "file_extension": ".py",
   "mimetype": "text/x-python",
   "name": "python",
   "nbconvert_exporter": "python",
   "pygments_lexer": "ipython3",
   "version": "3.8.5"
  }
 },
 "nbformat": 4,
 "nbformat_minor": 4
}
