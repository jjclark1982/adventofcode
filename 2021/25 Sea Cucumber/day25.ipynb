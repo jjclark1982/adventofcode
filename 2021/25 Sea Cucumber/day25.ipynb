{
 "cells": [
  {
   "cell_type": "markdown",
   "metadata": {},
   "source": [
    "# Advent of Code 2021\n",
    "## [Day 25: Sea Cucumber](https://adventofcode.com/2021/day/25)"
   ]
  },
  {
   "cell_type": "markdown",
   "metadata": {},
   "source": [
    "#### Load Data"
   ]
  },
  {
   "cell_type": "code",
   "execution_count": 1,
   "metadata": {},
   "outputs": [],
   "source": [
    "import numpy as np"
   ]
  },
  {
   "cell_type": "code",
   "execution_count": 8,
   "metadata": {},
   "outputs": [],
   "source": [
    "with open(\"input.txt\") as f:\n",
    "    input_data = f.read().strip().split(\"\\n\")\n"
   ]
  },
  {
   "cell_type": "code",
   "execution_count": 10,
   "metadata": {},
   "outputs": [
    {
     "data": {
      "text/plain": [
       "array([['>', '.', '>', ..., '.', '>', '.'],\n",
       "       ['.', '.', '.', ..., '.', '.', '>'],\n",
       "       ['.', '.', '.', ..., '.', 'v', '.'],\n",
       "       ...,\n",
       "       ['.', '.', 'v', ..., '>', 'v', '>'],\n",
       "       ['.', '.', '.', ..., 'v', '>', '>'],\n",
       "       ['.', '>', '.', ..., '>', '.', '>']], dtype='<U1')"
      ]
     },
     "execution_count": 10,
     "metadata": {},
     "output_type": "execute_result"
    }
   ],
   "source": [
    "def parse_data(data):\n",
    "    grid = np.array([np.array(list(line)) for line in data])\n",
    "    return grid\n",
    "\n",
    "parse_data(input_data)"
   ]
  },
  {
   "cell_type": "code",
   "execution_count": 54,
   "metadata": {},
   "outputs": [],
   "source": [
    "test_data = [\n",
    "    'v...>>.vv>',\n",
    "    '.vv>>.vv..',\n",
    "    '>>.>v>...v',\n",
    "    '>>v>>.>.v.',\n",
    "    'v>v.vv.v..',\n",
    "    '>.>>..v...',\n",
    "    '.vv..>.>v.',\n",
    "    'v.v..>>v.v',\n",
    "    '....v..v.>',\n",
    "]"
   ]
  },
  {
   "cell_type": "markdown",
   "metadata": {},
   "source": [
    "### Part 1"
   ]
  },
  {
   "cell_type": "code",
   "execution_count": 55,
   "metadata": {},
   "outputs": [
    {
     "data": {
      "text/plain": [
       "array([['v', '.', '.', '.', '>', '>', '.', 'v', 'v', '>'],\n",
       "       ['.', 'v', 'v', '>', '>', '.', 'v', 'v', '.', '.'],\n",
       "       ['>', '>', '.', '>', 'v', '>', '.', '.', '.', 'v'],\n",
       "       ['>', '>', 'v', '>', '>', '.', '>', '.', 'v', '.'],\n",
       "       ['v', '>', 'v', '.', 'v', 'v', '.', 'v', '.', '.'],\n",
       "       ['>', '.', '>', '>', '.', '.', 'v', '.', '.', '.'],\n",
       "       ['.', 'v', 'v', '.', '.', '>', '.', '>', 'v', '.'],\n",
       "       ['v', '.', 'v', '.', '.', '>', '>', 'v', '.', 'v'],\n",
       "       ['.', '.', '.', '.', 'v', '.', '.', 'v', '.', '>']], dtype='<U1')"
      ]
     },
     "execution_count": 55,
     "metadata": {},
     "output_type": "execute_result"
    }
   ],
   "source": [
    "grid = parse_data(test_data)\n",
    "grid"
   ]
  },
  {
   "cell_type": "code",
   "execution_count": 35,
   "metadata": {},
   "outputs": [
    {
     "data": {
      "text/plain": [
       "array([[0, 0, 0, 0, 0, 1, 0, 0, 0, 0],\n",
       "       [0, 0, 0, 0, 1, 0, 0, 0, 0, 0],\n",
       "       [0, 1, 0, 0, 0, 1, 0, 0, 0, 0],\n",
       "       [0, 0, 0, 0, 1, 0, 1, 0, 0, 0],\n",
       "       [0, 0, 0, 0, 0, 0, 0, 0, 0, 0],\n",
       "       [1, 0, 0, 1, 0, 0, 0, 0, 0, 0],\n",
       "       [0, 0, 0, 0, 0, 1, 0, 0, 0, 0],\n",
       "       [0, 0, 0, 0, 0, 0, 0, 0, 0, 0],\n",
       "       [0, 0, 0, 0, 0, 0, 0, 0, 0, 1]])"
      ]
     },
     "execution_count": 35,
     "metadata": {},
     "output_type": "execute_result"
    }
   ],
   "source": [
    "to_move_east = (grid == '>') & (np.roll(grid, -1, axis=1) == '.')\n",
    "to_move_east.astype(int)"
   ]
  },
  {
   "cell_type": "code",
   "execution_count": 34,
   "metadata": {},
   "outputs": [],
   "source": [
    "to_move_south = (grid == 'v') & (np.roll(grid, -1, axis=0) == '.')"
   ]
  },
  {
   "cell_type": "code",
   "execution_count": 56,
   "metadata": {},
   "outputs": [
    {
     "data": {
      "text/plain": [
       "array([['.', '.', '.', '.', '>', '.', '>', 'v', '.', '>'],\n",
       "       ['v', '.', 'v', '>', '.', '>', 'v', '.', 'v', '.'],\n",
       "       ['>', 'v', '>', '>', '.', '.', '>', 'v', '.', '.'],\n",
       "       ['>', '>', 'v', '>', 'v', '>', '.', '>', '.', 'v'],\n",
       "       ['.', '>', 'v', '.', 'v', '.', '.', '.', 'v', '.'],\n",
       "       ['v', '>', '>', '.', '>', 'v', 'v', 'v', '.', '.'],\n",
       "       ['.', '.', 'v', '.', '.', '.', '>', '>', '.', '.'],\n",
       "       ['v', 'v', '.', '.', '.', '>', '>', 'v', 'v', '.'],\n",
       "       ['>', '.', 'v', '.', 'v', '.', '.', 'v', '.', 'v']], dtype='<U1')"
      ]
     },
     "execution_count": 56,
     "metadata": {},
     "output_type": "execute_result"
    }
   ],
   "source": [
    "def step(grid):\n",
    "    grid = grid.copy()\n",
    "    to_move_east = (grid == '>') & (np.roll(grid, -1, axis=1) == '.')\n",
    "    grid[to_move_east] = '.'\n",
    "    grid[np.roll(to_move_east, 1, axis=1)] = '>'\n",
    "    \n",
    "    to_move_south = (grid == 'v') & (np.roll(grid, -1, axis=0) == '.')\n",
    "    grid[to_move_south] = '.'\n",
    "    grid[np.roll(to_move_south, 1, axis=0)] = 'v'\n",
    "    \n",
    "    return grid\n",
    "\n",
    "step(grid)"
   ]
  },
  {
   "cell_type": "code",
   "execution_count": 58,
   "metadata": {},
   "outputs": [
    {
     "data": {
      "text/plain": [
       "(58,\n",
       " array([['.', '.', '>', '>', 'v', '>', 'v', 'v', '.', '.'],\n",
       "        ['.', '.', 'v', '.', '>', '>', 'v', 'v', '.', '.'],\n",
       "        ['.', '.', '>', '>', 'v', '>', '>', 'v', 'v', '.'],\n",
       "        ['.', '.', '>', '>', '>', '>', '>', 'v', 'v', '.'],\n",
       "        ['v', '.', '.', '.', '.', '.', '.', '>', 'v', 'v'],\n",
       "        ['v', '>', 'v', '.', '.', '.', '.', '>', '>', 'v'],\n",
       "        ['v', 'v', 'v', '.', '.', '.', '.', '.', '>', '>'],\n",
       "        ['>', 'v', 'v', '.', '.', '.', '.', '.', '.', '>'],\n",
       "        ['.', '>', 'v', '.', 'v', 'v', '.', 'v', '.', '.']], dtype='<U1'))"
      ]
     },
     "execution_count": 58,
     "metadata": {},
     "output_type": "execute_result"
    }
   ],
   "source": [
    "def move_until_stop(grid):\n",
    "    prev_grid = np.array([])\n",
    "    num_steps = 0\n",
    "    while not np.array_equal(prev_grid, grid):\n",
    "        prev_grid = grid\n",
    "        num_steps += 1\n",
    "        grid = step(prev_grid)\n",
    "    return num_steps, grid\n",
    "\n",
    "move_until_stop(parse_data(test_data))"
   ]
  },
  {
   "cell_type": "markdown",
   "metadata": {},
   "source": [
    "#### Part 1 Answer\n",
    "Find somewhere safe to land your submarine.  \n",
    "**What is the first step on which no sea cucumbers move?**"
   ]
  },
  {
   "cell_type": "code",
   "execution_count": 59,
   "metadata": {},
   "outputs": [
    {
     "data": {
      "text/plain": [
       "(334,\n",
       " array([['.', '.', '.', ..., '.', '.', '.'],\n",
       "        ['.', '.', '.', ..., '.', '.', '.'],\n",
       "        ['.', '.', '.', ..., '.', '.', '.'],\n",
       "        ...,\n",
       "        ['.', '.', '.', ..., '.', '.', '.'],\n",
       "        ['.', '.', '.', ..., '.', '.', '.'],\n",
       "        ['.', '.', '.', ..., '.', '.', '.']], dtype='<U1'))"
      ]
     },
     "execution_count": 59,
     "metadata": {},
     "output_type": "execute_result"
    }
   ],
   "source": [
    "move_until_stop(parse_data(input_data))"
   ]
  }
 ],
 "metadata": {
  "kernelspec": {
   "display_name": "Python 3",
   "language": "python",
   "name": "python3"
  },
  "language_info": {
   "codemirror_mode": {
    "name": "ipython",
    "version": 3
   },
   "file_extension": ".py",
   "mimetype": "text/x-python",
   "name": "python",
   "nbconvert_exporter": "python",
   "pygments_lexer": "ipython3",
   "version": "3.8.5"
  }
 },
 "nbformat": 4,
 "nbformat_minor": 4
}
