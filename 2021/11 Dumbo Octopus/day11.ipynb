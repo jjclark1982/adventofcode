{
 "cells": [
  {
   "cell_type": "markdown",
   "metadata": {},
   "source": [
    "# Advent of Code 2021\n",
    "## [Day 11: Dumbo Octopus](https://adventofcode.com/2021/day/11)"
   ]
  },
  {
   "cell_type": "markdown",
   "metadata": {},
   "source": [
    "### Part 1"
   ]
  },
  {
   "cell_type": "code",
   "execution_count": 1,
   "metadata": {},
   "outputs": [],
   "source": [
    "import numpy as np\n",
    "import html\n",
    "html_formatter = get_ipython().display_formatter.formatters['text/html']\n",
    "\n",
    "def ndarray_to_html(a):\n",
    "    if a.dtype == np.dtype('bool'):\n",
    "        a = a.astype(int)\n",
    "    return \"<pre>{}</pre>\".format(html.escape(str(a)))\n",
    "\n",
    "html_formatter.for_type(np.ndarray, ndarray_to_html)\n",
    "pass"
   ]
  },
  {
   "cell_type": "code",
   "execution_count": 2,
   "metadata": {},
   "outputs": [
    {
     "data": {
      "text/html": [
       "<pre>[[8 5 7 7 2 4 5 5 4 7]\n",
       " [1 6 5 4 3 3 3 6 5 3]\n",
       " [5 3 6 5 6 3 3 7 8 5]\n",
       " [1 3 3 3 2 4 3 2 2 6]\n",
       " [4 2 7 2 3 8 5 1 6 5]\n",
       " [5 6 8 8 3 2 8 4 3 2]\n",
       " [3 1 7 5 6 3 4 2 5 4]\n",
       " [6 7 7 5 1 4 2 2 2 7]\n",
       " [6 1 5 2 7 2 1 4 1 5]\n",
       " [2 6 7 8 2 2 7 3 2 5]]</pre>"
      ],
      "text/plain": [
       "array([[8, 5, 7, 7, 2, 4, 5, 5, 4, 7],\n",
       "       [1, 6, 5, 4, 3, 3, 3, 6, 5, 3],\n",
       "       [5, 3, 6, 5, 6, 3, 3, 7, 8, 5],\n",
       "       [1, 3, 3, 3, 2, 4, 3, 2, 2, 6],\n",
       "       [4, 2, 7, 2, 3, 8, 5, 1, 6, 5],\n",
       "       [5, 6, 8, 8, 3, 2, 8, 4, 3, 2],\n",
       "       [3, 1, 7, 5, 6, 3, 4, 2, 5, 4],\n",
       "       [6, 7, 7, 5, 1, 4, 2, 2, 2, 7],\n",
       "       [6, 1, 5, 2, 7, 2, 1, 4, 1, 5],\n",
       "       [2, 6, 7, 8, 2, 2, 7, 3, 2, 5]])"
      ]
     },
     "execution_count": 2,
     "metadata": {},
     "output_type": "execute_result"
    }
   ],
   "source": [
    "with open(\"input.txt\") as f:\n",
    "    input_data = np.array([\n",
    "        list(line.strip()) for line in f.readlines()\n",
    "    ], dtype=int)\n",
    "input_data"
   ]
  },
  {
   "cell_type": "code",
   "execution_count": 3,
   "metadata": {},
   "outputs": [
    {
     "data": {
      "text/html": [
       "<pre>[[5 4 8 3 1 4 3 2 2 3]\n",
       " [2 7 4 5 8 5 4 7 1 1]\n",
       " [5 2 6 4 5 5 6 1 7 3]\n",
       " [6 1 4 1 3 3 6 1 4 6]\n",
       " [6 3 5 7 3 8 5 4 7 8]\n",
       " [4 1 6 7 5 2 4 6 4 5]\n",
       " [2 1 7 6 8 4 1 7 2 1]\n",
       " [6 8 8 2 8 8 1 1 3 4]\n",
       " [4 8 4 6 8 4 8 5 5 4]\n",
       " [5 2 8 3 7 5 1 5 2 6]]</pre>"
      ],
      "text/plain": [
       "array([[5, 4, 8, 3, 1, 4, 3, 2, 2, 3],\n",
       "       [2, 7, 4, 5, 8, 5, 4, 7, 1, 1],\n",
       "       [5, 2, 6, 4, 5, 5, 6, 1, 7, 3],\n",
       "       [6, 1, 4, 1, 3, 3, 6, 1, 4, 6],\n",
       "       [6, 3, 5, 7, 3, 8, 5, 4, 7, 8],\n",
       "       [4, 1, 6, 7, 5, 2, 4, 6, 4, 5],\n",
       "       [2, 1, 7, 6, 8, 4, 1, 7, 2, 1],\n",
       "       [6, 8, 8, 2, 8, 8, 1, 1, 3, 4],\n",
       "       [4, 8, 4, 6, 8, 4, 8, 5, 5, 4],\n",
       "       [5, 2, 8, 3, 7, 5, 1, 5, 2, 6]])"
      ]
     },
     "execution_count": 3,
     "metadata": {},
     "output_type": "execute_result"
    }
   ],
   "source": [
    "test_data = np.array([list(line) for line in [\n",
    "    '5483143223',\n",
    "    '2745854711',\n",
    "    '5264556173',\n",
    "    '6141336146',\n",
    "    '6357385478',\n",
    "    '4167524645',\n",
    "    '2176841721',\n",
    "    '6882881134',\n",
    "    '4846848554',\n",
    "    '5283751526'\n",
    "]], dtype=int)\n",
    "test_data"
   ]
  },
  {
   "cell_type": "code",
   "execution_count": 4,
   "metadata": {},
   "outputs": [
    {
     "data": {
      "text/html": [
       "<pre>[[1 1 1]\n",
       " [1 0 1]\n",
       " [1 1 1]]</pre>"
      ],
      "text/plain": [
       "array([[ True,  True,  True],\n",
       "       [ True, False,  True],\n",
       "       [ True,  True,  True]])"
      ]
     },
     "execution_count": 4,
     "metadata": {},
     "output_type": "execute_result"
    }
   ],
   "source": [
    "flash = np.array([\n",
    "    [1,1,1],\n",
    "    [1,0,1],\n",
    "    [1,1,1]\n",
    "], dtype=bool)\n",
    "flash"
   ]
  },
  {
   "cell_type": "code",
   "execution_count": 5,
   "metadata": {},
   "outputs": [
    {
     "data": {
      "text/plain": [
       "(array([[8, 8, 0, 7, 4, 7, 6, 5, 5, 5],\n",
       "        [5, 0, 8, 9, 0, 8, 7, 0, 5, 4],\n",
       "        [8, 5, 9, 7, 8, 8, 9, 6, 0, 8],\n",
       "        [8, 4, 8, 5, 7, 6, 9, 6, 0, 0],\n",
       "        [8, 7, 0, 0, 9, 0, 8, 8, 0, 0],\n",
       "        [6, 6, 0, 0, 0, 8, 8, 9, 8, 9],\n",
       "        [6, 8, 0, 0, 0, 0, 5, 9, 4, 3],\n",
       "        [0, 0, 0, 0, 0, 0, 7, 4, 5, 6],\n",
       "        [9, 0, 0, 0, 0, 0, 0, 8, 7, 6],\n",
       "        [8, 7, 0, 0, 0, 0, 6, 8, 4, 8]]),\n",
       " 35)"
      ]
     },
     "execution_count": 5,
     "metadata": {},
     "output_type": "execute_result"
    }
   ],
   "source": [
    "def step(energy):\n",
    "    energy = np.pad(energy, 1, constant_values=-127)\n",
    "    energy += 1\n",
    "    has_flashed = np.zeros_like(energy, dtype=bool)\n",
    "    flashes = (energy > 9) & ~has_flashed\n",
    "    while flashes.sum() > 0:\n",
    "        has_flashed = has_flashed | flashes\n",
    "        for i, j in np.array(np.where(flashes)).T:\n",
    "            energy[i-1:i+2, j-1:j+2] += flash\n",
    "        flashes = (energy > 9) & ~has_flashed\n",
    "    energy[has_flashed] = 0\n",
    "    num_flashes = has_flashed.sum()\n",
    "    \n",
    "    return energy[1:-1, 1:-1], num_flashes\n",
    "step(test_data+1)"
   ]
  },
  {
   "cell_type": "code",
   "execution_count": 6,
   "metadata": {},
   "outputs": [
    {
     "data": {
      "text/plain": [
       "(array([[0, 3, 9, 7, 6, 6, 6, 8, 6, 6],\n",
       "        [0, 7, 4, 9, 7, 6, 6, 9, 1, 8],\n",
       "        [0, 0, 5, 3, 9, 7, 6, 9, 3, 3],\n",
       "        [0, 0, 0, 4, 2, 9, 7, 8, 2, 2],\n",
       "        [0, 0, 0, 4, 2, 2, 9, 8, 9, 2],\n",
       "        [0, 0, 5, 3, 2, 2, 2, 8, 7, 7],\n",
       "        [0, 5, 3, 2, 2, 2, 2, 9, 6, 6],\n",
       "        [9, 3, 2, 2, 2, 2, 8, 9, 6, 6],\n",
       "        [7, 9, 2, 2, 2, 8, 6, 8, 6, 6],\n",
       "        [6, 7, 8, 9, 9, 9, 8, 7, 6, 6]]),\n",
       " 1656)"
      ]
     },
     "execution_count": 6,
     "metadata": {},
     "output_type": "execute_result"
    }
   ],
   "source": [
    "def iterate_steps(energy, num_steps):\n",
    "    total_flashes = 0\n",
    "    for _ in range(num_steps):\n",
    "        energy, new_flashes = step(energy)\n",
    "        total_flashes += new_flashes\n",
    "    return energy, total_flashes\n",
    "iterate_steps(test_data, 100)"
   ]
  },
  {
   "cell_type": "markdown",
   "metadata": {},
   "source": [
    "#### Part 1 Answer\n",
    "Given the starting energy levels of the dumbo octopuses in your cavern, simulate 100 steps.  \n",
    "**How many total flashes are there after 100 steps?**"
   ]
  },
  {
   "cell_type": "code",
   "execution_count": 7,
   "metadata": {},
   "outputs": [
    {
     "data": {
      "text/plain": [
       "(array([[1, 7, 9, 8, 9, 7, 7, 7, 8, 0],\n",
       "        [8, 1, 4, 4, 4, 0, 0, 0, 0, 0],\n",
       "        [1, 1, 7, 7, 0, 0, 0, 0, 0, 0],\n",
       "        [1, 1, 3, 0, 0, 0, 0, 0, 0, 0],\n",
       "        [1, 1, 4, 0, 0, 0, 0, 0, 0, 5],\n",
       "        [1, 2, 5, 0, 0, 0, 0, 0, 5, 3],\n",
       "        [1, 3, 0, 0, 0, 0, 0, 5, 3, 2],\n",
       "        [6, 8, 0, 0, 0, 0, 5, 3, 2, 2],\n",
       "        [4, 5, 7, 0, 0, 5, 3, 2, 2, 8],\n",
       "        [4, 4, 5, 7, 4, 3, 2, 2, 8, 6]]),\n",
       " 1702)"
      ]
     },
     "execution_count": 7,
     "metadata": {},
     "output_type": "execute_result"
    }
   ],
   "source": [
    "iterate_steps(input_data, 100)"
   ]
  },
  {
   "cell_type": "markdown",
   "metadata": {},
   "source": [
    "### Part 2"
   ]
  },
  {
   "cell_type": "code",
   "execution_count": 8,
   "metadata": {},
   "outputs": [
    {
     "data": {
      "text/plain": [
       "(array([[0, 0, 0, 0, 0, 0, 0, 0, 0, 0],\n",
       "        [0, 0, 0, 0, 0, 0, 0, 0, 0, 0],\n",
       "        [0, 0, 0, 0, 0, 0, 0, 0, 0, 0],\n",
       "        [0, 0, 0, 0, 0, 0, 0, 0, 0, 0],\n",
       "        [0, 0, 0, 0, 0, 0, 0, 0, 0, 0],\n",
       "        [0, 0, 0, 0, 0, 0, 0, 0, 0, 0],\n",
       "        [0, 0, 0, 0, 0, 0, 0, 0, 0, 0],\n",
       "        [0, 0, 0, 0, 0, 0, 0, 0, 0, 0],\n",
       "        [0, 0, 0, 0, 0, 0, 0, 0, 0, 0],\n",
       "        [0, 0, 0, 0, 0, 0, 0, 0, 0, 0]]),\n",
       " 195)"
      ]
     },
     "execution_count": 8,
     "metadata": {},
     "output_type": "execute_result"
    }
   ],
   "source": [
    "def find_simultanous(energy, num_steps):\n",
    "    total_flashes = 0\n",
    "    for i in range(num_steps):\n",
    "        energy, new_flashes = step(energy)\n",
    "        total_flashes += new_flashes\n",
    "        if np.count_nonzero(energy) == 0:\n",
    "            return energy, i+1\n",
    "    return energy, total_flashes\n",
    "find_simultanous(test_data, 1000)"
   ]
  },
  {
   "cell_type": "markdown",
   "metadata": {},
   "source": [
    "#### Part 2 Answer\n",
    "If you can calculate the exact moments when the octopuses will all flash simultaneously, you should be able to navigate through the cavern.  \n",
    "**What is the first step during which all octopuses flash?**"
   ]
  },
  {
   "cell_type": "code",
   "execution_count": 9,
   "metadata": {},
   "outputs": [
    {
     "data": {
      "text/plain": [
       "(array([[0, 0, 0, 0, 0, 0, 0, 0, 0, 0],\n",
       "        [0, 0, 0, 0, 0, 0, 0, 0, 0, 0],\n",
       "        [0, 0, 0, 0, 0, 0, 0, 0, 0, 0],\n",
       "        [0, 0, 0, 0, 0, 0, 0, 0, 0, 0],\n",
       "        [0, 0, 0, 0, 0, 0, 0, 0, 0, 0],\n",
       "        [0, 0, 0, 0, 0, 0, 0, 0, 0, 0],\n",
       "        [0, 0, 0, 0, 0, 0, 0, 0, 0, 0],\n",
       "        [0, 0, 0, 0, 0, 0, 0, 0, 0, 0],\n",
       "        [0, 0, 0, 0, 0, 0, 0, 0, 0, 0],\n",
       "        [0, 0, 0, 0, 0, 0, 0, 0, 0, 0]]),\n",
       " 251)"
      ]
     },
     "execution_count": 9,
     "metadata": {},
     "output_type": "execute_result"
    }
   ],
   "source": [
    "find_simultanous(input_data, 1000)"
   ]
  }
 ],
 "metadata": {
  "kernelspec": {
   "display_name": "Python 3",
   "language": "python",
   "name": "python3"
  },
  "language_info": {
   "codemirror_mode": {
    "name": "ipython",
    "version": 3
   },
   "file_extension": ".py",
   "mimetype": "text/x-python",
   "name": "python",
   "nbconvert_exporter": "python",
   "pygments_lexer": "ipython3",
   "version": "3.8.5"
  }
 },
 "nbformat": 4,
 "nbformat_minor": 4
}
