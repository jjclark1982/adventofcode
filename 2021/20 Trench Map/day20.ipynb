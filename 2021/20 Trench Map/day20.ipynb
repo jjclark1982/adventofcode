{
 "cells": [
  {
   "cell_type": "markdown",
   "metadata": {},
   "source": [
    "# Advent of Code 2021\n",
    "## [Day 20: Trench Map](https://adventofcode.com/2021/day/20)"
   ]
  },
  {
   "cell_type": "code",
   "execution_count": 1,
   "metadata": {},
   "outputs": [
    {
     "data": {
      "text/html": [
       "<tt style=\"display:flex;flex-wrap:wrap;align-items:center\">[<span style=\"margin-left:0.2em\"><tt>&#x27;Text&#x27;</tt></span>, <span style=\"margin-left:0.2em\"><pre>array([[1, 2],\n",
       "       [3, 4]])</pre></span>, <span style=\"margin-left:0.2em\"><img src=\"data:image/png;base64,iVBORw0KGgoAAAANSUhEUgAAACgAAAAoCAAAAACpleexAAAATklEQVR4nM3OsQ2AMBAEwTEV0H+VLoGAACFsngT5Nt5gWseubvvw/DQ26GrnaiO1M8HIuzPFyNyZZGTsTDPydCYauTtTjVzOZCOnc6HxAF+xCjf4dwqbAAAAAElFTkSuQmCC\n",
       "\"></span>, <span style=\"margin-left:0.2em\"><tt style=\"display:flex;flex-wrap:wrap;align-items:center\">[<span style=\"margin-left:0.2em\"><tt style=\"display:flex;flex-wrap:wrap;align-items:center\">(<span style=\"margin-left:0.2em\"><tt>1</tt></span>, <span style=\"margin-left:0.2em\"><img src=\"data:image/png;base64,iVBORw0KGgoAAAANSUhEUgAAACgAAAAoCAAAAACpleexAAAAeklEQVR4nM2TUQrAIAxD49gBcv9T5gj70LLqFHTQufzYqpCHsQkAhFtEX8dg/4OLp2+IzMvSK9R6+mKyQni+oUKt5xk9B8sq1LwKsX6XNdDPmiHW84xEnakXQ63XsjaWtobr/zIzrRhqvfYfhfFM29luRmMxsVNvZLwABrYTRg7jeKYAAAAASUVORK5CYII=\n",
       "\"></span>)</tt></span>, <span style=\"margin-left:0.2em\"><tt style=\"display:flex;flex-wrap:wrap;align-items:center\">(<span style=\"margin-left:0.2em\"><tt>2</tt></span>, <span style=\"margin-left:0.2em\"><img src=\"data:image/png;base64,iVBORw0KGgoAAAANSUhEUgAAACgAAAAoCAAAAACpleexAAAAcUlEQVR4nM2USwrAIAxEn6UHmPufMkfoopVGUVBaP7OJCYEZnmIAMF7p6X0FOGjU/4unuUZTrZsXgxWGImU5xrqdo8/kz3ldyZFCpjiL0hDrfo41if04RvleQ6y/vcc51v1/j0g55vMdOOYSdzZj+V1fKOAZWeEQ12oAAAAASUVORK5CYII=\n",
       "\"></span>)</tt></span>, <span style=\"margin-left:0.2em\"><tt style=\"display:flex;flex-wrap:wrap;align-items:center\">(<span style=\"margin-left:0.2em\"><tt>3</tt></span>, <span style=\"margin-left:0.2em\"><img src=\"data:image/png;base64,iVBORw0KGgoAAAANSUhEUgAAACgAAAAoCAAAAACpleexAAAAd0lEQVR4nM2UUQrAMAhDX8cO4P1P6RH2MWXOdtCPFZsfYxCUpLQpINzInNAfTOL/weZEwz3eO2TJ6unBMwtqVZJW6aMO7hG2yrrzEd45O69+j8rjnVeStkPWaoJY1cSrb8wQei+rs4bvv9H1ah/FmsgJ2prV04MXjZ4c7YaMR/UAAAAASUVORK5CYII=\n",
       "\"></span>)</tt></span>]</tt></span>]</tt>"
      ],
      "text/plain": [
       "['Text',\n",
       " array([[1, 2],\n",
       "        [3, 4]]),\n",
       " array([[1., 0., 0., 0., 0., 0., 0., 0., 0., 0.],\n",
       "        [0., 1., 0., 0., 0., 0., 0., 0., 0., 0.],\n",
       "        [0., 0., 1., 0., 0., 0., 0., 0., 0., 0.],\n",
       "        [0., 0., 0., 1., 0., 0., 0., 0., 0., 0.],\n",
       "        [0., 0., 0., 0., 1., 0., 0., 0., 0., 0.],\n",
       "        [0., 0., 0., 0., 0., 1., 0., 0., 0., 0.],\n",
       "        [0., 0., 0., 0., 0., 0., 1., 0., 0., 0.],\n",
       "        [0., 0., 0., 0., 0., 0., 0., 1., 0., 0.],\n",
       "        [0., 0., 0., 0., 0., 0., 0., 0., 1., 0.],\n",
       "        [0., 0., 0., 0., 0., 0., 0., 0., 0., 1.]]),\n",
       " [(1,\n",
       "   array([[0, 1, 1, 1, 0, 0, 0, 0, 0, 0],\n",
       "          [0, 1, 1, 0, 1, 0, 0, 1, 1, 1],\n",
       "          [0, 0, 1, 0, 0, 0, 0, 1, 1, 1],\n",
       "          [1, 1, 1, 0, 0, 1, 0, 0, 0, 1],\n",
       "          [1, 1, 1, 0, 1, 0, 0, 1, 1, 0],\n",
       "          [0, 1, 1, 0, 1, 0, 0, 0, 0, 0],\n",
       "          [1, 0, 0, 1, 0, 0, 1, 1, 0, 0],\n",
       "          [0, 0, 1, 1, 1, 1, 1, 0, 0, 0],\n",
       "          [0, 1, 0, 0, 0, 0, 1, 0, 1, 0],\n",
       "          [0, 1, 1, 1, 1, 0, 1, 0, 0, 0]])),\n",
       "  (2,\n",
       "   array([[0, 1, 1, 1, 0, 1, 0, 1, 0, 0],\n",
       "          [1, 1, 1, 0, 0, 1, 0, 1, 0, 0],\n",
       "          [1, 1, 1, 1, 1, 0, 1, 0, 1, 1],\n",
       "          [1, 0, 1, 1, 0, 1, 0, 1, 0, 1],\n",
       "          [0, 1, 0, 1, 0, 0, 1, 1, 1, 0],\n",
       "          [0, 0, 0, 1, 0, 0, 1, 1, 0, 1],\n",
       "          [0, 1, 0, 1, 1, 1, 0, 1, 1, 0],\n",
       "          [0, 0, 1, 1, 0, 0, 0, 1, 1, 0],\n",
       "          [1, 1, 0, 1, 0, 0, 1, 1, 0, 1],\n",
       "          [1, 0, 0, 1, 0, 0, 0, 1, 1, 0]])),\n",
       "  (3,\n",
       "   array([[1, 0, 0, 1, 0, 0, 1, 1, 0, 0],\n",
       "          [0, 0, 1, 0, 0, 0, 1, 1, 1, 0],\n",
       "          [0, 0, 1, 0, 1, 1, 0, 0, 0, 1],\n",
       "          [1, 0, 0, 0, 1, 0, 1, 1, 0, 0],\n",
       "          [1, 0, 0, 0, 1, 1, 1, 1, 1, 1],\n",
       "          [0, 1, 0, 1, 0, 1, 1, 0, 1, 0],\n",
       "          [1, 0, 1, 1, 0, 0, 1, 0, 0, 1],\n",
       "          [1, 1, 1, 1, 1, 0, 1, 1, 0, 1],\n",
       "          [0, 0, 1, 0, 0, 1, 1, 0, 1, 0],\n",
       "          [1, 0, 0, 1, 0, 0, 0, 0, 1, 1]]))]]"
      ]
     },
     "execution_count": 1,
     "metadata": {},
     "output_type": "execute_result"
    }
   ],
   "source": [
    "import numpy as np \n",
    "import PIL.Image\n",
    "from io import BytesIO\n",
    "import IPython.display\n",
    "\n",
    "import html\n",
    "html_formatter = get_ipython().display_formatter.formatters['text/html']\n",
    "\n",
    "def bool_array_to_image(a, fmt='png'):\n",
    "    a = (a.astype(np.uint8) * 240)\n",
    "    f = BytesIO()\n",
    "    PIL.Image.fromarray(a).save(f, fmt)\n",
    "    return IPython.display.Image(data=f.getvalue())\n",
    "\n",
    "def double_bitmap(a):\n",
    "    (h, w) = a.shape\n",
    "    return np.tile(a.reshape((-1, 1)), 2).reshape((h, w*2))\n",
    "\n",
    "def quad_bitmap(a):\n",
    "    return double_bitmap(double_bitmap(a).T).T\n",
    "\n",
    "def ndarray_to_html(a):\n",
    "    if len(a.shape) == 2 and a.max() <= 1 and a.min() >= 0:\n",
    "        while a.size < 1024:\n",
    "            a = quad_bitmap(a)\n",
    "        \n",
    "        for bundle in bool_array_to_image(a)._repr_mimebundle_():\n",
    "            for mimetype, b64value in bundle.items():\n",
    "                if mimetype.startswith('image/'):\n",
    "                    src = f'data:{mimetype};base64,{b64value}'\n",
    "                    return f'<img src=\"{src}\">'\n",
    "    else:\n",
    "        return \"<pre>{}</pre>\".format(html.escape(repr(a)))\n",
    "\n",
    "html_formatter.for_type(np.ndarray, ndarray_to_html)\n",
    "\n",
    "def item_to_html(item):\n",
    "    formatter = html_formatter.for_type(type(item))\n",
    "    if callable(formatter):\n",
    "        item = formatter(item)\n",
    "\n",
    "    if callable(getattr(item, '_repr_mimebundle_', None)):\n",
    "        for bundle in item._repr_mimebundle_():\n",
    "            for mimetype, b64value in bundle.items():\n",
    "                if mimetype.startswith('image/'):\n",
    "                    src = f'data:{mimetype};base64,{b64value}'\n",
    "                    return f'<img src={src}>'\n",
    "    \n",
    "    if not formatter:\n",
    "        item = '<tt>{}</tt>'.format(html.escape(repr(item)))\n",
    "    return f'<span style=\"margin-left:0.2em\">{item}</span>'\n",
    "\n",
    "def list_to_html(l):\n",
    "    items = [item_to_html(item) for item in l]\n",
    "    return '<tt style=\"display:flex;flex-wrap:wrap;align-items:center\">[{}]</tt>'.format(', '.join(items))\n",
    "\n",
    "html_formatter.for_type(list, list_to_html)\n",
    "\n",
    "def tuple_to_html(l):\n",
    "    items = (item_to_html(item) for item in l)\n",
    "    return '<tt style=\"display:flex;flex-wrap:wrap;align-items:center\">({})</tt>'.format(', '.join(items))\n",
    "\n",
    "html_formatter.for_type(tuple, tuple_to_html)\n",
    "\n",
    "[\"Text\", np.array([[1,2],[3,4]]), np.eye(10), [(i, np.random.randint(0,2,(10,10))) for i in range(1,4)]]"
   ]
  },
  {
   "cell_type": "code",
   "execution_count": 2,
   "metadata": {},
   "outputs": [],
   "source": [
    "import numpy as np\n",
    "import re"
   ]
  },
  {
   "cell_type": "code",
   "execution_count": 3,
   "metadata": {},
   "outputs": [],
   "source": [
    "def split_input_sections(input_lines):\n",
    "    current_section = []\n",
    "    sections = [current_section]\n",
    "    for line in input_lines:\n",
    "        line = line.strip()\n",
    "        if len(line) > 0:\n",
    "            current_section.append(line)\n",
    "        else:\n",
    "            current_section = []\n",
    "            sections.append(current_section)\n",
    "    return sections\n",
    "\n",
    "def parse_aoc_line(line):\n",
    "    if re.match(r'^[.#]+$', line):\n",
    "        return np.array(list(line)) == '#'\n",
    "    elif re.match(r'^[01]+$', line):\n",
    "        return np.array(list(line)) == '1'\n",
    "    elif len(line) > 4 and re.match(r'^[\\d]+$', line):\n",
    "        return np.array(list(line), dtype=int)\n",
    "    elif re.match(r'^[,\\s\\d-]*$', line):\n",
    "        return np.array(re.split('[,\\s]+', line), dtype=int)\n",
    "    else:\n",
    "        return line\n",
    "\n",
    "def parse_aoc_lines(lines):\n",
    "    if callable(getattr(lines, 'split', None)) and '\\n' in lines:\n",
    "        lines = lines.split('\\n')\n",
    "    \n",
    "    arrays = [parse_aoc_line(line) for line in lines]\n",
    "\n",
    "    if len(arrays) == 1:\n",
    "        return arrays[0]\n",
    "    else:\n",
    "        return np.array(arrays)"
   ]
  },
  {
   "cell_type": "code",
   "execution_count": 4,
   "metadata": {},
   "outputs": [
    {
     "data": {
      "text/html": [
       "<img src=\"data:image/png;base64,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\n",
       "\">"
      ],
      "text/plain": [
       "array([[ True, False,  True, ...,  True, False,  True],\n",
       "       [ True, False,  True, ...,  True,  True,  True],\n",
       "       [False, False, False, ...,  True,  True,  True],\n",
       "       ...,\n",
       "       [ True, False, False, ...,  True, False, False],\n",
       "       [False,  True, False, ...,  True, False,  True],\n",
       "       [False, False,  True, ...,  True, False, False]])"
      ]
     },
     "execution_count": 4,
     "metadata": {},
     "output_type": "execute_result"
    }
   ],
   "source": [
    "import aocd\n",
    "input_data = aocd.get_data(year=2021, day=20).split('\\n')\n",
    "algorithm, input_image = [parse_aoc_lines(s) for s in split_input_sections(input_data)]\n",
    "input_image"
   ]
  },
  {
   "cell_type": "code",
   "execution_count": 5,
   "metadata": {},
   "outputs": [
    {
     "data": {
      "text/plain": [
       "'#.#.....##...##..#.#......#.#...#.#.#...###.##......###.##.##..##.#...#.....###.#.....#.#.#...#.#..###.###..###..#..##..###..##..##.##.#..###########.##....#.#......#...#.###..###...#.####..########.#####.#.#..##.##.##..###.##.####.#..##.##..#...#####..#.#.##.##...##..#..##.....###.#.#....####.##.#...##.########.#.##.#.....###....#..###.####....############.#.##...#.####...#...##.#.#..#..#......#..##...#.########.#.#...#####..#..######.#.#.....#####...##.###.#.#.##.........#.#.##..##.#..#..##..##.###.##.##.'"
      ]
     },
     "execution_count": 5,
     "metadata": {},
     "output_type": "execute_result"
    }
   ],
   "source": [
    "input_data[0]"
   ]
  },
  {
   "cell_type": "code",
   "execution_count": 6,
   "metadata": {},
   "outputs": [
    {
     "data": {
      "text/plain": [
       "512"
      ]
     },
     "execution_count": 6,
     "metadata": {},
     "output_type": "execute_result"
    }
   ],
   "source": [
    "len(algorithm)"
   ]
  },
  {
   "cell_type": "code",
   "execution_count": 7,
   "metadata": {},
   "outputs": [
    {
     "data": {
      "text/html": [
       "<img src=\"data:image/png;base64,iVBORw0KGgoAAAANSUhEUgAAACgAAAAoCAAAAACpleexAAAARElEQVR4nGP8wAABAgyoAF2ciYFIMDIVsuCSEKC51cNKIeMHNAEBND5Mfih4ZiDDEV3gA5QWoLnVw0ohznCkvdXDSiEAA78GP8asaeoAAAAASUVORK5CYII=\n",
       "\">"
      ],
      "text/plain": [
       "array([[ True, False, False,  True, False],\n",
       "       [ True, False, False, False, False],\n",
       "       [ True,  True, False, False,  True],\n",
       "       [False, False,  True, False, False],\n",
       "       [False, False,  True,  True,  True]])"
      ]
     },
     "execution_count": 7,
     "metadata": {},
     "output_type": "execute_result"
    }
   ],
   "source": [
    "test_algorithm = parse_aoc_line('..#.#..#####.#.#.#.###.##.....###.##.#..###.####..#####..#....#..#..##..###..######.###...####..#..#####..##..#.#####...##.#.#..#.##..#.#......#.###.######.###.####...#.##.##..#..#..#####.....#.#....###..#.##......#.....#..#..#..##..#...##.######.####.####.#.#...#.......#..#.#.#...####.##.#......#..#...##.#.##..#...##.#.##..###.#......#.#.......#.#.#.####.###.##...#.....####.#..#..#.##.#....##..#.####....##...##..#...#......#.#.......#.......##..####..#...#.#.#...##..#.#..###..#####........#..####......#..#')\n",
    "test_image = parse_aoc_lines([\n",
    "    '#..#.',\n",
    "    '#....',\n",
    "    '##..#',\n",
    "    '..#..',\n",
    "    '..###',\n",
    "])\n",
    "test_image"
   ]
  },
  {
   "cell_type": "markdown",
   "metadata": {},
   "source": [
    "### Part 1"
   ]
  },
  {
   "cell_type": "code",
   "execution_count": 8,
   "metadata": {},
   "outputs": [],
   "source": [
    "padded_image = np.pad(input_image, 1, constant_values=0)"
   ]
  },
  {
   "cell_type": "code",
   "execution_count": 9,
   "metadata": {},
   "outputs": [
    {
     "data": {
      "text/html": [
       "<img src=\"data:image/png;base64,iVBORw0KGgoAAAANSUhEUgAAADAAAAAwCAAAAAByaaZbAAAAKklEQVR4nGNgGAWjYBTAACO6wAc0vgAan4lUG0Y1jGoY1TCqYVTDUNQAANuKAUDczu3cAAAAAElFTkSuQmCC\n",
       "\">"
      ],
      "text/plain": [
       "array([[False, False, False],\n",
       "       [False,  True, False],\n",
       "       [False,  True, False]])"
      ]
     },
     "execution_count": 9,
     "metadata": {},
     "output_type": "execute_result"
    }
   ],
   "source": [
    "i, j = 0, 0\n",
    "padded_image[i:i+3,j:j+3]"
   ]
  },
  {
   "cell_type": "code",
   "execution_count": 10,
   "metadata": {},
   "outputs": [],
   "source": [
    "region = padded_image[i:i+3,j:j+3]"
   ]
  },
  {
   "cell_type": "code",
   "execution_count": 11,
   "metadata": {},
   "outputs": [
    {
     "data": {
      "text/html": [
       "<pre>array([0, 0, 0, 0, 1, 0, 0, 1, 0])</pre>"
      ],
      "text/plain": [
       "array([0, 0, 0, 0, 1, 0, 0, 1, 0])"
      ]
     },
     "execution_count": 11,
     "metadata": {},
     "output_type": "execute_result"
    }
   ],
   "source": [
    "region.ravel().astype(int)"
   ]
  },
  {
   "cell_type": "code",
   "execution_count": 12,
   "metadata": {},
   "outputs": [
    {
     "data": {
      "text/plain": [
       "18"
      ]
     },
     "execution_count": 12,
     "metadata": {},
     "output_type": "execute_result"
    }
   ],
   "source": [
    "def bits_to_int(region):\n",
    "    return int(''.join(str(int(x)) for x in region), base=2)\n",
    "def bits_to_int(region):\n",
    "    return np.packbits(np.concatenate([[0]*(16-len(region)), region]))[::-1].copy().view('int16')[0]\n",
    "    \n",
    "bits_to_int(region.ravel())"
   ]
  },
  {
   "cell_type": "code",
   "execution_count": 13,
   "metadata": {},
   "outputs": [
    {
     "data": {
      "text/plain": [
       "False"
      ]
     },
     "execution_count": 13,
     "metadata": {},
     "output_type": "execute_result"
    }
   ],
   "source": [
    "algorithm[18]"
   ]
  },
  {
   "cell_type": "code",
   "execution_count": 14,
   "metadata": {},
   "outputs": [
    {
     "data": {
      "text/html": [
       "<img src=\"data:image/png;base64,iVBORw0KGgoAAAANSUhEUgAAACgAAAAoCAAAAACpleexAAAARElEQVR4nGP8wAABAgyoAF2ciYFIMDIVsuCSEKC51cNKIeMHNAEBND5Mfih4ZiDDEV3gA5QWoLnVw0ohznCkvdXDSiEAA78GP8asaeoAAAAASUVORK5CYII=\n",
       "\">"
      ],
      "text/plain": [
       "array([[ True, False, False,  True, False],\n",
       "       [ True, False, False, False, False],\n",
       "       [ True,  True, False, False,  True],\n",
       "       [False, False,  True, False, False],\n",
       "       [False, False,  True,  True,  True]])"
      ]
     },
     "execution_count": 14,
     "metadata": {},
     "output_type": "execute_result"
    }
   ],
   "source": [
    "test_image"
   ]
  },
  {
   "cell_type": "code",
   "execution_count": 15,
   "metadata": {},
   "outputs": [
    {
     "data": {
      "text/html": [
       "<tt style=\"display:flex;flex-wrap:wrap;align-items:center\">(<span style=\"margin-left:0.2em\"><tt>43</tt></span>, <span style=\"margin-left:0.2em\"><tt>43</tt></span>)</tt>"
      ],
      "text/plain": [
       "(43, 43)"
      ]
     },
     "execution_count": 15,
     "metadata": {},
     "output_type": "execute_result"
    }
   ],
   "source": [
    "def enhance_image(input_image, algorithm=algorithm):\n",
    "    padded_image = np.pad(input_image, 20, constant_values=0)\n",
    "    output_image = np.zeros_like(padded_image)\n",
    "    # print(input_image.shape, padded_image.shape, output_image.shape)\n",
    "    for i in range(1, padded_image.shape[0]-1):\n",
    "        for j in range(1, padded_image.shape[1]-1):\n",
    "            region = padded_image[i-1:i+2, j-1:j+2]\n",
    "            index = bits_to_int(region.ravel())\n",
    "            # print(i, j, region.ravel().astype(int), index, algorithm[index].astype(int))\n",
    "            output_image[i,j] = algorithm[index]\n",
    "    return output_image[1:-1,1:-1]\n",
    "\n",
    "enhance_image(test_image, test_algorithm).shape"
   ]
  },
  {
   "cell_type": "code",
   "execution_count": 16,
   "metadata": {},
   "outputs": [
    {
     "data": {
      "text/plain": [
       "35"
      ]
     },
     "execution_count": 16,
     "metadata": {},
     "output_type": "execute_result"
    }
   ],
   "source": [
    "enhance_image(enhance_image(test_image, test_algorithm), test_algorithm).sum()"
   ]
  },
  {
   "cell_type": "code",
   "execution_count": 17,
   "metadata": {},
   "outputs": [
    {
     "data": {
      "text/html": [
       "<img src=\"data:image/png;base64,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\n",
       "\">"
      ],
      "text/plain": [
       "array([[False, False, False, ..., False, False, False],\n",
       "       [False, False, False, ..., False, False, False],\n",
       "       [False, False, False, ..., False, False, False],\n",
       "       ...,\n",
       "       [False, False, False, ..., False, False, False],\n",
       "       [False, False, False, ..., False, False, False],\n",
       "       [False, False, False, ..., False, False, False]])"
      ]
     },
     "execution_count": 17,
     "metadata": {},
     "output_type": "execute_result"
    }
   ],
   "source": [
    "enhance_image(enhance_image(input_image))[20:-20,20:-20]"
   ]
  },
  {
   "cell_type": "code",
   "execution_count": 18,
   "metadata": {},
   "outputs": [
    {
     "data": {
      "text/html": [
       "<img src=\"data:image/png;base64,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\n",
       "\">"
      ],
      "text/plain": [
       "array([[ True,  True,  True, ...,  True,  True,  True],\n",
       "       [ True,  True,  True, ...,  True,  True,  True],\n",
       "       [ True,  True,  True, ...,  True,  True,  True],\n",
       "       ...,\n",
       "       [ True,  True,  True, ...,  True,  True,  True],\n",
       "       [ True,  True,  True, ...,  True,  True,  True],\n",
       "       [ True,  True,  True, ...,  True,  True,  True]])"
      ]
     },
     "execution_count": 18,
     "metadata": {},
     "output_type": "execute_result"
    }
   ],
   "source": [
    "output_image = enhance_image(enhance_image(input_image))\n",
    "output_image"
   ]
  },
  {
   "cell_type": "markdown",
   "metadata": {},
   "source": [
    "#### Part 1 Answer\n",
    "Start with the original input image and apply the image enhancement algorithm twice, being careful to account for the infinite size of the images.  \n",
    "**How many pixels are lit in the resulting image?**"
   ]
  },
  {
   "cell_type": "code",
   "execution_count": 19,
   "metadata": {},
   "outputs": [
    {
     "data": {
      "text/plain": [
       "17742"
      ]
     },
     "execution_count": 19,
     "metadata": {},
     "output_type": "execute_result"
    }
   ],
   "source": [
    "output_image.sum()"
   ]
  },
  {
   "cell_type": "markdown",
   "metadata": {},
   "source": [
    "### Part 2"
   ]
  },
  {
   "cell_type": "code",
   "execution_count": 20,
   "metadata": {},
   "outputs": [
    {
     "data": {
      "text/html": [
       "<img src=\"data:image/png;base64,iVBORw0KGgoAAAANSUhEUgAAACQAAAAkCAAAAADEa8dEAAAAZUlEQVR4nMWSQQpAIQhEX9EBvP8pPUKbBPs/pIWkm0YZmIfZCEoBAXpkssozNZ/ttZ+9ZjoxsPr8uCvTMGE86nql5O/GdyDrNR59z7Tdkx4MUsQEMVcVE/xvyXQlE+x7kvS4K9METAISNmnfZ54AAAAASUVORK5CYII=\n",
       "\">"
      ],
      "text/plain": [
       "array([[False, False, False, False, False, False, False,  True, False],\n",
       "       [False,  True, False, False,  True, False,  True, False, False],\n",
       "       [ True, False,  True, False, False, False,  True,  True,  True],\n",
       "       [ True, False, False, False,  True,  True, False,  True, False],\n",
       "       [ True, False, False, False, False, False,  True, False,  True],\n",
       "       [False,  True, False,  True,  True,  True,  True,  True, False],\n",
       "       [False, False,  True, False,  True,  True,  True,  True,  True],\n",
       "       [False, False, False,  True,  True, False,  True,  True, False],\n",
       "       [False, False, False, False,  True,  True,  True, False, False]])"
      ]
     },
     "execution_count": 20,
     "metadata": {},
     "output_type": "execute_result"
    }
   ],
   "source": [
    "def enhance2(input_image, alg=algorithm):\n",
    "    return enhance_image(enhance_image(input_image, alg), alg)[36:-36,36:-36]\n",
    "\n",
    "enhance2(test_image, test_algorithm)"
   ]
  },
  {
   "cell_type": "code",
   "execution_count": 21,
   "metadata": {},
   "outputs": [
    {
     "data": {
      "text/html": [
       "<img src=\"data:image/png;base64,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\n",
       "\">"
      ],
      "text/plain": [
       "array([[False, False, False, ..., False,  True, False],\n",
       "       [False, False, False, ...,  True, False, False],\n",
       "       [False, False, False, ..., False,  True,  True],\n",
       "       ...,\n",
       "       [False, False, False, ..., False, False, False],\n",
       "       [False, False, False, ..., False, False, False],\n",
       "       [False, False, False, ..., False, False, False]])"
      ]
     },
     "execution_count": 21,
     "metadata": {},
     "output_type": "execute_result"
    }
   ],
   "source": [
    "def enhance50(input_image, alg=algorithm):\n",
    "    result = input_image\n",
    "    for _ in range(25):\n",
    "        result = enhance2(result, alg)\n",
    "    return result\n",
    "test_result = enhance50(test_image, test_algorithm)\n",
    "test_result"
   ]
  },
  {
   "cell_type": "code",
   "execution_count": 22,
   "metadata": {},
   "outputs": [
    {
     "data": {
      "text/plain": [
       "3351"
      ]
     },
     "execution_count": 22,
     "metadata": {},
     "output_type": "execute_result"
    }
   ],
   "source": [
    "test_result.sum()"
   ]
  },
  {
   "cell_type": "code",
   "execution_count": 23,
   "metadata": {},
   "outputs": [
    {
     "data": {
      "text/html": [
       "<img src=\"data:image/png;base64,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\n",
       "\">"
      ],
      "text/plain": [
       "array([[ True,  True,  True, ...,  True,  True,  True],\n",
       "       [ True,  True, False, ..., False, False, False],\n",
       "       [False,  True,  True, ...,  True,  True,  True],\n",
       "       ...,\n",
       "       [False, False, False, ...,  True,  True, False],\n",
       "       [False, False, False, ..., False, False,  True],\n",
       "       [False, False, False, ...,  True, False, False]])"
      ]
     },
     "execution_count": 23,
     "metadata": {},
     "output_type": "execute_result"
    }
   ],
   "source": [
    "output_image = enhance50(input_image, algorithm)\n",
    "output_image"
   ]
  },
  {
   "cell_type": "markdown",
   "metadata": {},
   "source": [
    "#### Part 2 Answer\n",
    "Start again with the original input image and apply the image enhancement algorithm 50 times.  \n",
    "**How many pixels are lit in the resulting image?**"
   ]
  },
  {
   "cell_type": "code",
   "execution_count": 24,
   "metadata": {},
   "outputs": [
    {
     "data": {
      "text/plain": [
       "19766"
      ]
     },
     "execution_count": 24,
     "metadata": {},
     "output_type": "execute_result"
    }
   ],
   "source": [
    "output_image.sum()"
   ]
  }
 ],
 "metadata": {
  "kernelspec": {
   "display_name": "Python 3",
   "language": "python",
   "name": "python3"
  },
  "language_info": {
   "codemirror_mode": {
    "name": "ipython",
    "version": 3
   },
   "file_extension": ".py",
   "mimetype": "text/x-python",
   "name": "python",
   "nbconvert_exporter": "python",
   "pygments_lexer": "ipython3",
   "version": "3.8.5"
  }
 },
 "nbformat": 4,
 "nbformat_minor": 4
}
