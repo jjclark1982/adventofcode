{
 "cells": [
  {
   "cell_type": "markdown",
   "metadata": {},
   "source": [
    "# Advent of Code 2021\n",
    "## [Day 9: Smoke Basin](https://adventofcode.com/2021/day/9) "
   ]
  },
  {
   "cell_type": "markdown",
   "metadata": {},
   "source": [
    "#### Load Data"
   ]
  },
  {
   "cell_type": "code",
   "execution_count": 1,
   "metadata": {},
   "outputs": [],
   "source": [
    "import numpy as np\n",
    "from collections import deque"
   ]
  },
  {
   "cell_type": "code",
   "execution_count": 2,
   "metadata": {},
   "outputs": [],
   "source": [
    "import html\n",
    "html_formatter = get_ipython().display_formatter.formatters['text/html']\n",
    "\n",
    "def ndarray_to_html(a):\n",
    "    return \"<pre>{}</pre>\".format(html.escape(str(a)))\n",
    "\n",
    "html_formatter.for_type(np.ndarray, ndarray_to_html)\n",
    "pass"
   ]
  },
  {
   "cell_type": "code",
   "execution_count": 3,
   "metadata": {},
   "outputs": [
    {
     "data": {
      "text/html": [
       "<pre>[[9 9 8 ... 4 3 2]\n",
       " [9 8 7 ... 2 1 0]\n",
       " [9 9 9 ... 3 2 3]\n",
       " ...\n",
       " [4 5 6 ... 5 6 7]\n",
       " [3 5 6 ... 6 8 8]\n",
       " [4 6 7 ... 7 8 9]]</pre>"
      ],
      "text/plain": [
       "array([[9, 9, 8, ..., 4, 3, 2],\n",
       "       [9, 8, 7, ..., 2, 1, 0],\n",
       "       [9, 9, 9, ..., 3, 2, 3],\n",
       "       ...,\n",
       "       [4, 5, 6, ..., 5, 6, 7],\n",
       "       [3, 5, 6, ..., 6, 8, 8],\n",
       "       [4, 6, 7, ..., 7, 8, 9]])"
      ]
     },
     "execution_count": 3,
     "metadata": {},
     "output_type": "execute_result"
    }
   ],
   "source": [
    "import aocd\n",
    "input_data = aocd.get_data(day=9, year=2021).split('\\n')\n",
    "height = np.array([list(line) for line in input_data], dtype=int)\n",
    "height"
   ]
  },
  {
   "cell_type": "code",
   "execution_count": 4,
   "metadata": {},
   "outputs": [
    {
     "data": {
      "text/html": [
       "<pre>[[2 1 9 9 9 4 3 2 1 0]\n",
       " [3 9 8 7 8 9 4 9 2 1]\n",
       " [9 8 5 6 7 8 9 8 9 2]\n",
       " [8 7 6 7 8 9 6 7 8 9]\n",
       " [9 8 9 9 9 6 5 6 7 8]]</pre>"
      ],
      "text/plain": [
       "array([[2, 1, 9, 9, 9, 4, 3, 2, 1, 0],\n",
       "       [3, 9, 8, 7, 8, 9, 4, 9, 2, 1],\n",
       "       [9, 8, 5, 6, 7, 8, 9, 8, 9, 2],\n",
       "       [8, 7, 6, 7, 8, 9, 6, 7, 8, 9],\n",
       "       [9, 8, 9, 9, 9, 6, 5, 6, 7, 8]])"
      ]
     },
     "execution_count": 4,
     "metadata": {},
     "output_type": "execute_result"
    }
   ],
   "source": [
    "test_data = [\n",
    "    '2199943210',\n",
    "    '3987894921',\n",
    "    '9856789892',\n",
    "    '8767896789',\n",
    "    '9899965678'\n",
    "]\n",
    "test_height = np.array([list(line) for line in test_data], dtype=int)\n",
    "test_height"
   ]
  },
  {
   "cell_type": "markdown",
   "metadata": {},
   "source": [
    "### Part 1"
   ]
  },
  {
   "cell_type": "markdown",
   "metadata": {},
   "source": [
    "Pad the height map with `10` values so that each low point has a higher value on each side."
   ]
  },
  {
   "cell_type": "code",
   "execution_count": 5,
   "metadata": {},
   "outputs": [
    {
     "data": {
      "text/html": [
       "<pre>[[10 10 10 10 10 10 10 10 10 10 10 10]\n",
       " [10  2  1  9  9  9  4  3  2  1  0 10]\n",
       " [10  3  9  8  7  8  9  4  9  2  1 10]\n",
       " [10  9  8  5  6  7  8  9  8  9  2 10]\n",
       " [10  8  7  6  7  8  9  6  7  8  9 10]\n",
       " [10  9  8  9  9  9  6  5  6  7  8 10]\n",
       " [10 10 10 10 10 10 10 10 10 10 10 10]]</pre>"
      ],
      "text/plain": [
       "array([[10, 10, 10, 10, 10, 10, 10, 10, 10, 10, 10, 10],\n",
       "       [10,  2,  1,  9,  9,  9,  4,  3,  2,  1,  0, 10],\n",
       "       [10,  3,  9,  8,  7,  8,  9,  4,  9,  2,  1, 10],\n",
       "       [10,  9,  8,  5,  6,  7,  8,  9,  8,  9,  2, 10],\n",
       "       [10,  8,  7,  6,  7,  8,  9,  6,  7,  8,  9, 10],\n",
       "       [10,  9,  8,  9,  9,  9,  6,  5,  6,  7,  8, 10],\n",
       "       [10, 10, 10, 10, 10, 10, 10, 10, 10, 10, 10, 10]])"
      ]
     },
     "execution_count": 5,
     "metadata": {},
     "output_type": "execute_result"
    }
   ],
   "source": [
    "pad_height = np.pad(test_height, 1, constant_values=10)\n",
    "pad_height"
   ]
  },
  {
   "cell_type": "markdown",
   "metadata": {},
   "source": [
    "Now, low points (along the horizontal axis) are where we have a negative diff followed by a positive diff.  "
   ]
  },
  {
   "cell_type": "code",
   "execution_count": 6,
   "metadata": {},
   "outputs": [
    {
     "data": {
      "text/html": [
       "<pre>[[ 0  0  0  0  0  0  0  0  0  0  0]\n",
       " [-8 -1  8  0  0 -5 -1 -1 -1 -1 10]\n",
       " [-7  6 -1 -1  1  1 -5  5 -7 -1  9]\n",
       " [-1 -1 -3  1  1  1  1 -1  1 -7  8]\n",
       " [-2 -1 -1  1  1  1 -3  1  1  1  1]\n",
       " [-1 -1  1  0  0 -3 -1  1  1  1  2]\n",
       " [ 0  0  0  0  0  0  0  0  0  0  0]]</pre>"
      ],
      "text/plain": [
       "array([[ 0,  0,  0,  0,  0,  0,  0,  0,  0,  0,  0],\n",
       "       [-8, -1,  8,  0,  0, -5, -1, -1, -1, -1, 10],\n",
       "       [-7,  6, -1, -1,  1,  1, -5,  5, -7, -1,  9],\n",
       "       [-1, -1, -3,  1,  1,  1,  1, -1,  1, -7,  8],\n",
       "       [-2, -1, -1,  1,  1,  1, -3,  1,  1,  1,  1],\n",
       "       [-1, -1,  1,  0,  0, -3, -1,  1,  1,  1,  2],\n",
       "       [ 0,  0,  0,  0,  0,  0,  0,  0,  0,  0,  0]])"
      ]
     },
     "execution_count": 6,
     "metadata": {},
     "output_type": "execute_result"
    }
   ],
   "source": [
    "np.diff(pad_height, axis=1)"
   ]
  },
  {
   "cell_type": "markdown",
   "metadata": {},
   "source": [
    "By clipping values to [-1, 1], these points show up as `2` in the second diff."
   ]
  },
  {
   "cell_type": "code",
   "execution_count": 7,
   "metadata": {},
   "outputs": [
    {
     "data": {
      "text/html": [
       "<pre>[[ 0  2  2  0  0  0  2  2  2  2  2  0]\n",
       " [ 0  0 -2  0  0  0 -2  0 -2  0  0  0]\n",
       " [ 0 -2  0  2  2  2  2 -2  0 -2  0  0]\n",
       " [ 0  2  2  0  0  0 -2  0  0  0 -2  0]\n",
       " [ 0  0  0  0  0  0  2  2  2  2  2  0]]</pre>"
      ],
      "text/plain": [
       "array([[ 0,  2,  2,  0,  0,  0,  2,  2,  2,  2,  2,  0],\n",
       "       [ 0,  0, -2,  0,  0,  0, -2,  0, -2,  0,  0,  0],\n",
       "       [ 0, -2,  0,  2,  2,  2,  2, -2,  0, -2,  0,  0],\n",
       "       [ 0,  2,  2,  0,  0,  0, -2,  0,  0,  0, -2,  0],\n",
       "       [ 0,  0,  0,  0,  0,  0,  2,  2,  2,  2,  2,  0]])"
      ]
     },
     "execution_count": 7,
     "metadata": {},
     "output_type": "execute_result"
    }
   ],
   "source": [
    "np.diff(np.diff(pad_height, axis=0).clip(-1, 1), axis=0)"
   ]
  },
  {
   "cell_type": "code",
   "execution_count": 8,
   "metadata": {},
   "outputs": [
    {
     "data": {
      "text/html": [
       "<pre>[[1 1 0 0 0 1 1 1 1 1]\n",
       " [0 0 0 0 0 0 0 0 0 0]\n",
       " [0 0 1 1 1 1 0 0 0 0]\n",
       " [1 1 0 0 0 0 0 0 0 0]\n",
       " [0 0 0 0 0 1 1 1 1 1]]</pre>"
      ],
      "text/plain": [
       "array([[1, 1, 0, 0, 0, 1, 1, 1, 1, 1],\n",
       "       [0, 0, 0, 0, 0, 0, 0, 0, 0, 0],\n",
       "       [0, 0, 1, 1, 1, 1, 0, 0, 0, 0],\n",
       "       [1, 1, 0, 0, 0, 0, 0, 0, 0, 0],\n",
       "       [0, 0, 0, 0, 0, 1, 1, 1, 1, 1]])"
      ]
     },
     "execution_count": 8,
     "metadata": {},
     "output_type": "execute_result"
    }
   ],
   "source": [
    "horiz_low_points = (np.diff(np.diff(pad_height, axis=0).clip(-1, 1), axis=0) == 2)[:,1:-1]\n",
    "horiz_low_points.astype(int)"
   ]
  },
  {
   "cell_type": "markdown",
   "metadata": {},
   "source": [
    "Doing the same for `axis=1` gives us the vertical low points."
   ]
  },
  {
   "cell_type": "code",
   "execution_count": 9,
   "metadata": {},
   "outputs": [
    {
     "data": {
      "text/html": [
       "<pre>[[0 1 0 0 0 0 0 0 0 1]\n",
       " [1 0 0 1 0 0 1 0 0 1]\n",
       " [0 0 1 0 0 0 0 1 0 1]\n",
       " [0 0 1 0 0 0 1 0 0 0]\n",
       " [0 1 0 0 0 0 1 0 0 0]]</pre>"
      ],
      "text/plain": [
       "array([[0, 1, 0, 0, 0, 0, 0, 0, 0, 1],\n",
       "       [1, 0, 0, 1, 0, 0, 1, 0, 0, 1],\n",
       "       [0, 0, 1, 0, 0, 0, 0, 1, 0, 1],\n",
       "       [0, 0, 1, 0, 0, 0, 1, 0, 0, 0],\n",
       "       [0, 1, 0, 0, 0, 0, 1, 0, 0, 0]])"
      ]
     },
     "execution_count": 9,
     "metadata": {},
     "output_type": "execute_result"
    }
   ],
   "source": [
    "vert_low_points = (np.diff(np.diff(pad_height, axis=1).clip(-1, 1), axis=1) == 2)[1:-1,:]\n",
    "vert_low_points.astype(int)"
   ]
  },
  {
   "cell_type": "markdown",
   "metadata": {},
   "source": [
    "Points that are true in both these arrays are the answers:"
   ]
  },
  {
   "cell_type": "code",
   "execution_count": 10,
   "metadata": {},
   "outputs": [
    {
     "data": {
      "text/html": [
       "<pre>[[0 1 0 0 0 0 0 0 0 1]\n",
       " [0 0 0 0 0 0 0 0 0 0]\n",
       " [0 0 1 0 0 0 0 0 0 0]\n",
       " [0 0 0 0 0 0 0 0 0 0]\n",
       " [0 0 0 0 0 0 1 0 0 0]]</pre>"
      ],
      "text/plain": [
       "array([[0, 1, 0, 0, 0, 0, 0, 0, 0, 1],\n",
       "       [0, 0, 0, 0, 0, 0, 0, 0, 0, 0],\n",
       "       [0, 0, 1, 0, 0, 0, 0, 0, 0, 0],\n",
       "       [0, 0, 0, 0, 0, 0, 0, 0, 0, 0],\n",
       "       [0, 0, 0, 0, 0, 0, 1, 0, 0, 0]])"
      ]
     },
     "execution_count": 10,
     "metadata": {},
     "output_type": "execute_result"
    }
   ],
   "source": [
    "(horiz_low_points & vert_low_points).astype(int)"
   ]
  },
  {
   "cell_type": "markdown",
   "metadata": {},
   "source": [
    "Find the values at those locations. Note that this uses \"boolean mask\" array indexing."
   ]
  },
  {
   "cell_type": "code",
   "execution_count": 11,
   "metadata": {},
   "outputs": [
    {
     "data": {
      "text/html": [
       "<pre>[1 0 5 5]</pre>"
      ],
      "text/plain": [
       "array([1, 0, 5, 5])"
      ]
     },
     "execution_count": 11,
     "metadata": {},
     "output_type": "execute_result"
    }
   ],
   "source": [
    "test_height[horiz_low_points & vert_low_points]"
   ]
  },
  {
   "cell_type": "code",
   "execution_count": 12,
   "metadata": {},
   "outputs": [
    {
     "data": {
      "text/plain": [
       "15"
      ]
     },
     "execution_count": 12,
     "metadata": {},
     "output_type": "execute_result"
    }
   ],
   "source": [
    "def get_low_points(height):\n",
    "    pad_height = np.pad(height, 1, constant_values=10)\n",
    "    \n",
    "    h_low_mask = (np.diff(np.diff(pad_height, axis=1).clip(-1, 1), axis=1) == 2)[1:-1,:]\n",
    "    v_low_mask = (np.diff(np.diff(pad_height, axis=0).clip(-1, 1), axis=0) == 2)[:,1:-1]\n",
    "    \n",
    "    low_mask = h_low_mask & v_low_mask\n",
    "    \n",
    "    return low_mask\n",
    "\n",
    "def get_risk_levels(height):\n",
    "    low_points = height[get_low_points(height)]\n",
    "    risk = low_points + 1\n",
    "    return risk\n",
    "\n",
    "get_risk_levels(test_height).sum()"
   ]
  },
  {
   "cell_type": "markdown",
   "metadata": {},
   "source": [
    "#### Part 1 Answer\n",
    "Find all of the low points on your heightmap.  \n",
    "**What is the sum of the risk levels of all low points on your heightmap?**"
   ]
  },
  {
   "cell_type": "code",
   "execution_count": 13,
   "metadata": {},
   "outputs": [
    {
     "data": {
      "text/plain": [
       "475"
      ]
     },
     "execution_count": 13,
     "metadata": {},
     "output_type": "execute_result"
    }
   ],
   "source": [
    "get_risk_levels(height).sum()"
   ]
  },
  {
   "cell_type": "markdown",
   "metadata": {},
   "source": [
    "### Part 2"
   ]
  },
  {
   "cell_type": "code",
   "execution_count": 14,
   "metadata": {},
   "outputs": [
    {
     "data": {
      "text/html": [
       "<pre>[[0 1]\n",
       " [0 9]\n",
       " [2 2]\n",
       " [4 6]]</pre>"
      ],
      "text/plain": [
       "array([[0, 1],\n",
       "       [0, 9],\n",
       "       [2, 2],\n",
       "       [4, 6]])"
      ]
     },
     "execution_count": 14,
     "metadata": {},
     "output_type": "execute_result"
    }
   ],
   "source": [
    "def get_low_point_coords(height):\n",
    "    return np.array(np.where(get_low_points(height))).T\n",
    "\n",
    "get_low_point_coords(test_height)[:5]"
   ]
  },
  {
   "cell_type": "code",
   "execution_count": 15,
   "metadata": {},
   "outputs": [
    {
     "name": "stdout",
     "output_type": "stream",
     "text": [
      "[[0 0 0 0 0 0 0 0 0 0]\n",
      " [0 0 1 1 1 0 0 0 0 0]\n",
      " [0 1 1 1 1 1 0 0 0 0]\n",
      " [1 1 1 1 1 0 0 0 0 0]\n",
      " [0 1 0 0 0 0 0 0 0 0]]\n"
     ]
    }
   ],
   "source": [
    "directions = [[-1,  0], [ 1,  0], [ 0, -1], [ 0,  1]]\n",
    "\n",
    "def flood_basin(height, start):\n",
    "    visited = np.zeros_like(height, dtype=bool)\n",
    "    to_visit = deque([np.array(start)])\n",
    "    while to_visit:\n",
    "        visiting = to_visit.popleft()\n",
    "        y, x = visiting\n",
    "        # print(\"visiting:\", y, x, height.shape)\n",
    "        if x < 0 or x >= height.shape[1]:\n",
    "            continue\n",
    "        if y < 0 or y >= height.shape[0]:\n",
    "            continue\n",
    "        if visited[y, x]:\n",
    "            continue\n",
    "        if height[y, x] == 9:\n",
    "            continue\n",
    "        visited[y, x] = True\n",
    "        for d in directions:\n",
    "            to_visit.append(visiting + d)\n",
    "    return visited\n",
    "\n",
    "print(flood_basin(test_height, [2, 2]).astype(int))"
   ]
  },
  {
   "cell_type": "code",
   "execution_count": 16,
   "metadata": {},
   "outputs": [
    {
     "data": {
      "text/plain": [
       "14"
      ]
     },
     "execution_count": 16,
     "metadata": {},
     "output_type": "execute_result"
    }
   ],
   "source": [
    "np.count_nonzero(flood_basin(test_height, [2, 2]))"
   ]
  },
  {
   "cell_type": "code",
   "execution_count": 17,
   "metadata": {},
   "outputs": [
    {
     "data": {
      "text/plain": [
       "[3, 9, 14, 9]"
      ]
     },
     "execution_count": 17,
     "metadata": {},
     "output_type": "execute_result"
    }
   ],
   "source": [
    "def get_basin_sizes(height):\n",
    "    low_points = np.array(np.where(get_low_points(height))).T\n",
    "    basin_sizes = []\n",
    "    for point in low_points:\n",
    "        basin_size = flood_basin(height, point).sum()\n",
    "        basin_sizes.append(basin_size)\n",
    "    return basin_sizes\n",
    "\n",
    "get_basin_sizes(test_height)"
   ]
  },
  {
   "cell_type": "code",
   "execution_count": 18,
   "metadata": {},
   "outputs": [
    {
     "data": {
      "text/plain": [
       "1134"
      ]
     },
     "execution_count": 18,
     "metadata": {},
     "output_type": "execute_result"
    }
   ],
   "source": [
    "np.product(sorted(get_basin_sizes(test_height))[-3:])"
   ]
  },
  {
   "cell_type": "markdown",
   "metadata": {},
   "source": [
    "#### Part 2 Answer\n",
    "**What do you get if you multiply together the sizes of the three largest basins?**"
   ]
  },
  {
   "cell_type": "code",
   "execution_count": 19,
   "metadata": {},
   "outputs": [
    {
     "data": {
      "text/plain": [
       "1092012"
      ]
     },
     "execution_count": 19,
     "metadata": {},
     "output_type": "execute_result"
    }
   ],
   "source": [
    "np.product(sorted(get_basin_sizes(height))[-3:])"
   ]
  }
 ],
 "metadata": {
  "kernelspec": {
   "display_name": "Python 3",
   "language": "python",
   "name": "python3"
  },
  "language_info": {
   "codemirror_mode": {
    "name": "ipython",
    "version": 3
   },
   "file_extension": ".py",
   "mimetype": "text/x-python",
   "name": "python",
   "nbconvert_exporter": "python",
   "pygments_lexer": "ipython3",
   "version": "3.8.5"
  }
 },
 "nbformat": 4,
 "nbformat_minor": 4
}
