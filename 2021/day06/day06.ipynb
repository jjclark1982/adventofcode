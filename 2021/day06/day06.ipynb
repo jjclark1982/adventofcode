{
 "cells": [
  {
   "cell_type": "markdown",
   "metadata": {},
   "source": [
    "# Advent of Code 2021\n",
    "## Day 6"
   ]
  },
  {
   "cell_type": "markdown",
   "metadata": {},
   "source": [
    "### Part 1"
   ]
  },
  {
   "cell_type": "code",
   "execution_count": 1,
   "metadata": {},
   "outputs": [],
   "source": [
    "import numpy as np"
   ]
  },
  {
   "cell_type": "code",
   "execution_count": 2,
   "metadata": {},
   "outputs": [],
   "source": [
    "import aocd\n",
    "inputs = aocd.get_data(day=6, year=2021).split('\\n')"
   ]
  },
  {
   "cell_type": "code",
   "execution_count": 3,
   "metadata": {},
   "outputs": [
    {
     "name": "stdout",
     "output_type": "stream",
     "text": [
      "[2 3 1 3 4 4 1 5 2 3 1 1 4 5 5 3 5 5 4 1 2 1 1 1 1 1 1 4 1 1 1 4 1 3 1 4 1\n",
      " 1 4 1 3 4 5 1 1 5 3 4 3 4 1 5 1 3 1 1 1 3 5 3 2 3 1 5 2 2 1 1 4 1 1 2 2 2\n",
      " 2 3 2 1 2 5 4 1 1 1 5 5 3 1 3 2 2 2 5 1 5 2 4 1 1 3 3 5 2 3 1 2 1 5 1 4 3\n",
      " 5 2 1 5 3 4 4 5 3 1 2 4 3 4 1 3 1 1 2 5 4 3 5 3 2 1 4 1 4 4 2 3 1 1 2 1 1\n",
      " 3 3 3 1 1 2 2 1 1 1 5 1 5 1 4 5 1 5 2 4 3 1 1 3 2 2 1 4 3 1 1 1 3 3 3 4 5\n",
      " 2 3 3 1 3 1 4 1 1 1 2 5 1 4 1 2 4 5 4 1 5 1 5 5 1 5 5 2 5 5 1 4 5 1 1 3 2\n",
      " 5 5 5 4 3 2 5 4 1 1 2 4 4 1 1 1 3 2 1 1 2 1 2 2 3 4 5 4 1 4 5 1 1 5 5 1 4\n",
      " 1 4 4 1 5 3 1 4 3 5 3 1 3 1 4 2 4 5 1 4 1 2 4 1 2 5 1 1 5 1 1 3 1 1 2 3 4\n",
      " 2 4 3 1]\n"
     ]
    }
   ],
   "source": [
    "fishes = np.array(inputs[0].split(','), dtype=int)\n",
    "print(fishes)"
   ]
  },
  {
   "cell_type": "code",
   "execution_count": 4,
   "metadata": {},
   "outputs": [
    {
     "data": {
      "text/plain": [
       "[array([3, 4, 3, 1, 2]),\n",
       " array([2, 3, 2, 0, 1]),\n",
       " array([1, 2, 1, 6, 0, 8]),\n",
       " array([0, 1, 0, 5, 6, 7, 8]),\n",
       " array([6, 0, 6, 4, 5, 6, 7, 8, 8]),\n",
       " array([5, 6, 5, 3, 4, 5, 6, 7, 7, 8]),\n",
       " array([4, 5, 4, 2, 3, 4, 5, 6, 6, 7]),\n",
       " array([3, 4, 3, 1, 2, 3, 4, 5, 5, 6]),\n",
       " array([2, 3, 2, 0, 1, 2, 3, 4, 4, 5]),\n",
       " array([1, 2, 1, 6, 0, 1, 2, 3, 3, 4, 8]),\n",
       " array([0, 1, 0, 5, 6, 0, 1, 2, 2, 3, 7, 8]),\n",
       " array([6, 0, 6, 4, 5, 6, 0, 1, 1, 2, 6, 7, 8, 8, 8]),\n",
       " array([5, 6, 5, 3, 4, 5, 6, 0, 0, 1, 5, 6, 7, 7, 7, 8, 8]),\n",
       " array([4, 5, 4, 2, 3, 4, 5, 6, 6, 0, 4, 5, 6, 6, 6, 7, 7, 8, 8]),\n",
       " array([3, 4, 3, 1, 2, 3, 4, 5, 5, 6, 3, 4, 5, 5, 5, 6, 6, 7, 7, 8]),\n",
       " array([2, 3, 2, 0, 1, 2, 3, 4, 4, 5, 2, 3, 4, 4, 4, 5, 5, 6, 6, 7]),\n",
       " array([1, 2, 1, 6, 0, 1, 2, 3, 3, 4, 1, 2, 3, 3, 3, 4, 4, 5, 5, 6, 8]),\n",
       " array([0, 1, 0, 5, 6, 0, 1, 2, 2, 3, 0, 1, 2, 2, 2, 3, 3, 4, 4, 5, 7, 8]),\n",
       " array([6, 0, 6, 4, 5, 6, 0, 1, 1, 2, 6, 0, 1, 1, 1, 2, 2, 3, 3, 4, 6, 7,\n",
       "        8, 8, 8, 8])]"
      ]
     },
     "execution_count": 4,
     "metadata": {},
     "output_type": "execute_result"
    }
   ],
   "source": [
    "def simulate_fishes(initial_fishes, num_days):\n",
    "    fishes_history = [initial_fishes]\n",
    "    for i in range(num_days):\n",
    "        current_fishes = fishes_history[i]\n",
    "        next_fishes = current_fishes - 1\n",
    "        spawns = next_fishes < 0\n",
    "        num_spawns = spawns.sum()\n",
    "        next_fishes[spawns] = 6\n",
    "        new_fishes = np.repeat([8], num_spawns)\n",
    "        next_fishes = np.concatenate([next_fishes, new_fishes])\n",
    "        fishes_history.append(next_fishes)\n",
    "    return fishes_history\n",
    "\n",
    "simulate_fishes(np.array([3,4,3,1,2]), 18)"
   ]
  },
  {
   "cell_type": "code",
   "execution_count": 5,
   "metadata": {},
   "outputs": [
    {
     "data": {
      "text/plain": [
       "array([6, 0, 5, ..., 8, 8, 8])"
      ]
     },
     "execution_count": 5,
     "metadata": {},
     "output_type": "execute_result"
    }
   ],
   "source": [
    "fishes_history = simulate_fishes(fishes, 80)\n",
    "fishes_history[80]"
   ]
  },
  {
   "cell_type": "markdown",
   "metadata": {},
   "source": [
    "#### Part 1 Answer\n",
    "Find a way to simulate lanternfish.  \n",
    "**How many lanternfish would there be after 80 days?**"
   ]
  },
  {
   "cell_type": "code",
   "execution_count": 6,
   "metadata": {},
   "outputs": [
    {
     "data": {
      "text/plain": [
       "358214"
      ]
     },
     "execution_count": 6,
     "metadata": {},
     "output_type": "execute_result"
    }
   ],
   "source": [
    "len(fishes_history[80])"
   ]
  },
  {
   "cell_type": "markdown",
   "metadata": {},
   "source": [
    "### Part 2"
   ]
  },
  {
   "cell_type": "code",
   "execution_count": 7,
   "metadata": {},
   "outputs": [
    {
     "data": {
      "text/plain": [
       "(36, 4)"
      ]
     },
     "execution_count": 7,
     "metadata": {},
     "output_type": "execute_result"
    }
   ],
   "source": [
    "256 // 7, 256 % 7"
   ]
  },
  {
   "cell_type": "code",
   "execution_count": 8,
   "metadata": {},
   "outputs": [
    {
     "data": {
      "text/plain": [
       "68719476736"
      ]
     },
     "execution_count": 8,
     "metadata": {},
     "output_type": "execute_result"
    }
   ],
   "source": [
    "2 ** 36"
   ]
  },
  {
   "cell_type": "markdown",
   "metadata": {},
   "source": [
    "The list would be billions of items long.\n",
    "\n",
    "☞ Use a histogram instead of a long list."
   ]
  },
  {
   "cell_type": "code",
   "execution_count": 9,
   "metadata": {},
   "outputs": [
    {
     "data": {
      "text/plain": [
       "[0, 107, 45, 49, 49, 50, 0, 0, 0]"
      ]
     },
     "execution_count": 9,
     "metadata": {},
     "output_type": "execute_result"
    }
   ],
   "source": [
    "def count_fishes_of_age(fishes):\n",
    "    fishes_of_age = []\n",
    "    for i in range(9):\n",
    "        fishes_of_age.append(np.count_nonzero(fishes == i))\n",
    "    return fishes_of_age\n",
    "    \n",
    "count_fishes_of_age(fishes)"
   ]
  },
  {
   "cell_type": "code",
   "execution_count": 10,
   "metadata": {},
   "outputs": [
    {
     "data": {
      "text/plain": [
       "[23483, 45967, 30452, 48818, 43197, 46006, 61930, 21980, 36381]"
      ]
     },
     "execution_count": 10,
     "metadata": {},
     "output_type": "execute_result"
    }
   ],
   "source": [
    "count_fishes_of_age(fishes_history[80])"
   ]
  },
  {
   "cell_type": "code",
   "execution_count": 11,
   "metadata": {},
   "outputs": [
    {
     "data": {
      "text/plain": [
       "26984457539"
      ]
     },
     "execution_count": 11,
     "metadata": {},
     "output_type": "execute_result"
    }
   ],
   "source": [
    "def simulate_fishes_by_age(initial_fishes, num_days):\n",
    "    fishes_of_age = count_fishes_of_age(initial_fishes)\n",
    "    history = [fishes_of_age]\n",
    "    for i in range(num_days):\n",
    "        fishes_today = history[i]\n",
    "        num_spawns = fishes_today[0]\n",
    "        fishes_tomorrow = fishes_today[1:] + [num_spawns]\n",
    "        fishes_tomorrow[6] += num_spawns\n",
    "        history.append(fishes_tomorrow)\n",
    "    return history\n",
    "\n",
    "example_history = simulate_fishes_by_age(np.array([3,4,3,1,2]), 256)\n",
    "sum(example_history[256])"
   ]
  },
  {
   "cell_type": "markdown",
   "metadata": {},
   "source": [
    "#### Part 2 Answer\n",
    "**How many lanternfish would there be after 256 days?**"
   ]
  },
  {
   "cell_type": "code",
   "execution_count": 12,
   "metadata": {},
   "outputs": [
    {
     "data": {
      "text/plain": [
       "1622533344325"
      ]
     },
     "execution_count": 12,
     "metadata": {},
     "output_type": "execute_result"
    }
   ],
   "source": [
    "fishes_history = simulate_fishes_by_age(fishes, 256)\n",
    "sum(fishes_history[256])"
   ]
  }
 ],
 "metadata": {
  "kernelspec": {
   "display_name": "Python 3",
   "language": "python",
   "name": "python3"
  },
  "language_info": {
   "codemirror_mode": {
    "name": "ipython",
    "version": 3
   },
   "file_extension": ".py",
   "mimetype": "text/x-python",
   "name": "python",
   "nbconvert_exporter": "python",
   "pygments_lexer": "ipython3",
   "version": "3.8.5"
  }
 },
 "nbformat": 4,
 "nbformat_minor": 4
}
