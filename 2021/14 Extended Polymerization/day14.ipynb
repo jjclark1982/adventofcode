{
 "cells": [
  {
   "cell_type": "markdown",
   "metadata": {},
   "source": [
    "# Advent of Code 2021\n",
    "## [Day 14: Extended Polymerization](https://adventofcode.com/2021/day/14)"
   ]
  },
  {
   "cell_type": "markdown",
   "metadata": {},
   "source": [
    "#### Load Data"
   ]
  },
  {
   "cell_type": "code",
   "execution_count": 1,
   "metadata": {},
   "outputs": [],
   "source": [
    "import numpy as np\n",
    "from collections import defaultdict"
   ]
  },
  {
   "cell_type": "code",
   "execution_count": 2,
   "metadata": {},
   "outputs": [],
   "source": [
    "import aocd\n",
    "input_data = aocd.get_data(year=2021, day=14).split('\\n')"
   ]
  },
  {
   "cell_type": "code",
   "execution_count": 3,
   "metadata": {},
   "outputs": [],
   "source": [
    "test_data = [\n",
    "    'NNCB',\n",
    "    '',\n",
    "    'CH -> B',\n",
    "    'HH -> N',\n",
    "    'CB -> H',\n",
    "    'NH -> C',\n",
    "    'HB -> C',\n",
    "    'HC -> B',\n",
    "    'HN -> C',\n",
    "    'NN -> C',\n",
    "    'BH -> H',\n",
    "    'NC -> B',\n",
    "    'NB -> B',\n",
    "    'BN -> B',\n",
    "    'BB -> N',\n",
    "    'BC -> B',\n",
    "    'CC -> N',\n",
    "    'CN -> C'\n",
    "]\n",
    "test_template = test_data[0]\n",
    "test_rules = test_data[2:]"
   ]
  },
  {
   "cell_type": "code",
   "execution_count": 4,
   "metadata": {},
   "outputs": [
    {
     "data": {
      "text/plain": [
       "('NNCB',\n",
       " {'CH': 'B',\n",
       "  'HH': 'N',\n",
       "  'CB': 'H',\n",
       "  'NH': 'C',\n",
       "  'HB': 'C',\n",
       "  'HC': 'B',\n",
       "  'HN': 'C',\n",
       "  'NN': 'C',\n",
       "  'BH': 'H',\n",
       "  'NC': 'B',\n",
       "  'NB': 'B',\n",
       "  'BN': 'B',\n",
       "  'BB': 'N',\n",
       "  'BC': 'B',\n",
       "  'CC': 'N',\n",
       "  'CN': 'C'})"
      ]
     },
     "execution_count": 4,
     "metadata": {},
     "output_type": "execute_result"
    }
   ],
   "source": [
    "def parse_data(data):\n",
    "    template = data[0]\n",
    "    rules = dict(line.split(' -> ') for line in data[2:])\n",
    "    return template, rules\n",
    "\n",
    "template, rules = parse_data(test_data)\n",
    "template, rules"
   ]
  },
  {
   "cell_type": "code",
   "execution_count": 5,
   "metadata": {},
   "outputs": [
    {
     "data": {
      "text/plain": [
       "'NCNBCHB'"
      ]
     },
     "execution_count": 5,
     "metadata": {},
     "output_type": "execute_result"
    }
   ],
   "source": [
    "def apply_rules(template, rules):\n",
    "    result = template[0]\n",
    "    for i in range(len(template)-1):\n",
    "        pair = template[i:i+2]\n",
    "        if pair in rules:\n",
    "            result += rules[pair]\n",
    "        result += pair[1]\n",
    "    return result\n",
    "\n",
    "apply_rules(*parse_data(test_data))"
   ]
  },
  {
   "cell_type": "code",
   "execution_count": 6,
   "metadata": {},
   "outputs": [],
   "source": [
    "def iterate_rules(template, rules, n):\n",
    "    result = template\n",
    "    for i in range(n):\n",
    "        result = apply_rules(result, rules)\n",
    "        # print(i+1, result)\n",
    "    return result\n",
    "result = iterate_rules(*parse_data(test_data), 10)\n",
    "result = np.array(list(result))"
   ]
  },
  {
   "cell_type": "code",
   "execution_count": 7,
   "metadata": {},
   "outputs": [
    {
     "name": "stdout",
     "output_type": "stream",
     "text": [
      "B: 1749\n",
      "C: 298\n",
      "H: 161\n",
      "N: 865\n"
     ]
    }
   ],
   "source": [
    "for element in np.unique(result):\n",
    "    print(f\"{element}: {np.sum(result == element)}\")"
   ]
  },
  {
   "cell_type": "code",
   "execution_count": 8,
   "metadata": {},
   "outputs": [
    {
     "data": {
      "text/plain": [
       "1588"
      ]
     },
     "execution_count": 8,
     "metadata": {},
     "output_type": "execute_result"
    }
   ],
   "source": [
    "1749 - 161"
   ]
  },
  {
   "cell_type": "code",
   "execution_count": 9,
   "metadata": {},
   "outputs": [
    {
     "data": {
      "text/plain": [
       "1588"
      ]
     },
     "execution_count": 9,
     "metadata": {},
     "output_type": "execute_result"
    }
   ],
   "source": [
    "element_counts = [np.sum(result == element) for element in np.unique(result)]\n",
    "np.ptp(element_counts)"
   ]
  },
  {
   "cell_type": "markdown",
   "metadata": {},
   "source": [
    "#### Part 1 Answer\n",
    "Apply 10 steps of pair insertion to the polymer template and find the most and least common elements in the result. \n",
    "**What do you get if you take the quantity of the most common element and subtract the quantity of the least common element?**"
   ]
  },
  {
   "cell_type": "code",
   "execution_count": 10,
   "metadata": {},
   "outputs": [
    {
     "name": "stdout",
     "output_type": "stream",
     "text": [
      "B: 1811\n",
      "C: 906\n",
      "F: 1991\n",
      "H: 1597\n",
      "K: 946\n",
      "N: 1239\n",
      "O: 4461\n",
      "P: 2617\n",
      "S: 1645\n",
      "V: 2244\n"
     ]
    }
   ],
   "source": [
    "result = iterate_rules(*parse_data(input_data), 10)\n",
    "result = np.array(list(result))\n",
    "\n",
    "for element in np.unique(result):\n",
    "    print(f\"{element}: {np.sum(result == element)}\")"
   ]
  },
  {
   "cell_type": "code",
   "execution_count": 11,
   "metadata": {},
   "outputs": [
    {
     "data": {
      "text/plain": [
       "3555"
      ]
     },
     "execution_count": 11,
     "metadata": {},
     "output_type": "execute_result"
    }
   ],
   "source": [
    "element_counts = [np.sum(result == element) for element in np.unique(result)]\n",
    "np.ptp(element_counts)"
   ]
  },
  {
   "cell_type": "markdown",
   "metadata": {},
   "source": [
    "### Part 2"
   ]
  },
  {
   "cell_type": "markdown",
   "metadata": {},
   "source": [
    "The above algorithm will not scale to 40 iterations."
   ]
  },
  {
   "cell_type": "code",
   "execution_count": 12,
   "metadata": {},
   "outputs": [],
   "source": [
    "# iterate_rules(*parse_data(test_data), 40)"
   ]
  },
  {
   "cell_type": "code",
   "execution_count": 13,
   "metadata": {},
   "outputs": [
    {
     "data": {
      "text/plain": [
       "defaultdict(<function __main__.get_bigrams.<locals>.<lambda>()>,\n",
       "            {'NN': 1, 'NC': 1, 'CB': 1, 'B$': 1})"
      ]
     },
     "execution_count": 13,
     "metadata": {},
     "output_type": "execute_result"
    }
   ],
   "source": [
    "def get_bigrams(template):\n",
    "    template = template + '$'\n",
    "    bigrams = defaultdict(lambda: 0)\n",
    "    for i in range(len(template)-1):\n",
    "        pair = str(template[i:i+2])\n",
    "        bigrams[pair] += 1\n",
    "    return bigrams\n",
    "\n",
    "template, rules = parse_data(test_data)\n",
    "bigrams = get_bigrams(template)\n",
    "bigrams"
   ]
  },
  {
   "cell_type": "code",
   "execution_count": 14,
   "metadata": {},
   "outputs": [
    {
     "data": {
      "text/plain": [
       "defaultdict(<function __main__.get_bigrams.<locals>.<lambda>()>,\n",
       "            {'NN': 0,\n",
       "             'NC': 1,\n",
       "             'CB': 0,\n",
       "             'B$': 1,\n",
       "             'CH': 1,\n",
       "             'BH': 0,\n",
       "             'HH': 0,\n",
       "             'HN': 0,\n",
       "             'NH': 0,\n",
       "             'HB': 1,\n",
       "             'HC': 0,\n",
       "             'BC': 1,\n",
       "             'CN': 1,\n",
       "             'NB': 1,\n",
       "             'BB': 0,\n",
       "             'BN': 0,\n",
       "             'CC': 0})"
      ]
     },
     "execution_count": 14,
     "metadata": {},
     "output_type": "execute_result"
    }
   ],
   "source": [
    "def apply_rules_to_bigrams(bigrams, rules):\n",
    "    next_step = bigrams.copy()\n",
    "    for target, insertion in rules.items():\n",
    "        num_matches = bigrams[target]\n",
    "        next_step[target] -= num_matches\n",
    "        result1 = target[0] + insertion\n",
    "        next_step[result1] += num_matches\n",
    "        result2 = insertion + target[1]\n",
    "        next_step[result2] += num_matches\n",
    "        # print(target, insertion, result1, result2, num_matches)\n",
    "    return next_step\n",
    "        \n",
    "apply_rules_to_bigrams(bigrams, rules)"
   ]
  },
  {
   "cell_type": "code",
   "execution_count": 15,
   "metadata": {},
   "outputs": [
    {
     "data": {
      "text/plain": [
       "defaultdict(<function __main__.get_bigrams.<locals>.<lambda>()>,\n",
       "            {'NN': 0,\n",
       "             'NC': 42,\n",
       "             'CB': 115,\n",
       "             'B$': 1,\n",
       "             'CH': 21,\n",
       "             'BH': 81,\n",
       "             'HH': 32,\n",
       "             'HN': 27,\n",
       "             'NH': 27,\n",
       "             'HB': 26,\n",
       "             'HC': 76,\n",
       "             'BC': 120,\n",
       "             'CN': 102,\n",
       "             'NB': 796,\n",
       "             'BB': 812,\n",
       "             'BN': 735,\n",
       "             'CC': 60})"
      ]
     },
     "execution_count": 15,
     "metadata": {},
     "output_type": "execute_result"
    }
   ],
   "source": [
    "def iterate_rules_b(template, rules, n):\n",
    "    bigrams = get_bigrams(template)\n",
    "    for i in range(n):\n",
    "        bigrams = apply_rules_to_bigrams(bigrams, rules)\n",
    "    return bigrams\n",
    "result = iterate_rules_b(*parse_data(test_data), 10)\n",
    "result"
   ]
  },
  {
   "cell_type": "code",
   "execution_count": 16,
   "metadata": {},
   "outputs": [
    {
     "data": {
      "text/plain": [
       "defaultdict(<function __main__.count_elements.<locals>.<lambda>()>,\n",
       "            {'N': 865, 'C': 298, 'B': 1749, 'H': 161})"
      ]
     },
     "execution_count": 16,
     "metadata": {},
     "output_type": "execute_result"
    }
   ],
   "source": [
    "def count_elements(bigrams):\n",
    "    elements = defaultdict(lambda: 0)\n",
    "    for key, val in bigrams.items():\n",
    "        elements[key[0]] += val\n",
    "    return elements\n",
    "\n",
    "count_elements(result)"
   ]
  },
  {
   "cell_type": "code",
   "execution_count": 17,
   "metadata": {},
   "outputs": [
    {
     "data": {
      "text/plain": [
       "1588"
      ]
     },
     "execution_count": 17,
     "metadata": {},
     "output_type": "execute_result"
    }
   ],
   "source": [
    "np.ptp([val for key, val in count_elements(result).items()])"
   ]
  },
  {
   "cell_type": "markdown",
   "metadata": {},
   "source": [
    "#### Part 2 Answer\n",
    "Apply 40 steps of pair insertion to the polymer template and find the most and least common elements in the result.  \n",
    "**What do you get if you take the quantity of the most common element and subtract the quantity of the least common element?**"
   ]
  },
  {
   "cell_type": "code",
   "execution_count": 18,
   "metadata": {},
   "outputs": [
    {
     "data": {
      "text/plain": [
       "4439442043739"
      ]
     },
     "execution_count": 18,
     "metadata": {},
     "output_type": "execute_result"
    }
   ],
   "source": [
    "result = iterate_rules_b(*parse_data(input_data), 40)\n",
    "np.ptp([val for key, val in count_elements(result).items()])"
   ]
  }
 ],
 "metadata": {
  "kernelspec": {
   "display_name": "Python 3",
   "language": "python",
   "name": "python3"
  },
  "language_info": {
   "codemirror_mode": {
    "name": "ipython",
    "version": 3
   },
   "file_extension": ".py",
   "mimetype": "text/x-python",
   "name": "python",
   "nbconvert_exporter": "python",
   "pygments_lexer": "ipython3",
   "version": "3.8.5"
  }
 },
 "nbformat": 4,
 "nbformat_minor": 4
}
