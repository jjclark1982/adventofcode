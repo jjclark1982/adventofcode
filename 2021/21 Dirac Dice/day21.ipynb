{
 "cells": [
  {
   "cell_type": "markdown",
   "metadata": {},
   "source": [
    "# Advent of Code 2021\n",
    "## [Day 21: Dirac Dice](https://adventofcode.com/2021/day/21)"
   ]
  },
  {
   "cell_type": "code",
   "execution_count": 1,
   "metadata": {},
   "outputs": [
    {
     "data": {
      "text/plain": [
       "['Player 1 starting position: 5', 'Player 2 starting position: 10']"
      ]
     },
     "execution_count": 1,
     "metadata": {},
     "output_type": "execute_result"
    }
   ],
   "source": [
    "import aocd\n",
    "input_data = aocd.get_data(year=2021, day=21).split('\\n')\n",
    "input_data"
   ]
  },
  {
   "cell_type": "code",
   "execution_count": 2,
   "metadata": {},
   "outputs": [],
   "source": [
    "positions = (5, 10)"
   ]
  },
  {
   "cell_type": "code",
   "execution_count": 3,
   "metadata": {},
   "outputs": [],
   "source": [
    "import numpy as np"
   ]
  },
  {
   "cell_type": "code",
   "execution_count": 4,
   "metadata": {},
   "outputs": [],
   "source": [
    "rng = np.random.default_rng()"
   ]
  },
  {
   "cell_type": "code",
   "execution_count": 5,
   "metadata": {},
   "outputs": [],
   "source": [
    "def roll_dice(n=3):\n",
    "    np.floor(rng.random(n) * 6) + 1"
   ]
  },
  {
   "cell_type": "code",
   "execution_count": 6,
   "metadata": {},
   "outputs": [
    {
     "data": {
      "text/plain": [
       "[1, 2, 3]"
      ]
     },
     "execution_count": 6,
     "metadata": {},
     "output_type": "execute_result"
    }
   ],
   "source": [
    "def roll_deterministic():\n",
    "    state = 0\n",
    "    while True:\n",
    "        yield state + 1\n",
    "        state = (state + 1) % 100\n",
    "        \n",
    "die = roll_deterministic()\n",
    "[next(die) for _ in range(3)]"
   ]
  },
  {
   "cell_type": "code",
   "execution_count": 7,
   "metadata": {},
   "outputs": [
    {
     "data": {
      "text/plain": [
       "([1000, 745], 993)"
      ]
     },
     "execution_count": 7,
     "metadata": {},
     "output_type": "execute_result"
    }
   ],
   "source": [
    "def play_game(p1, p2, verbose=False):\n",
    "    spaces = [p1, p2]\n",
    "    scores = [0, 0]\n",
    "    num_turns = 0\n",
    "    die = roll_deterministic()\n",
    "    while scores[0] < 1000 and scores[1] < 1000:\n",
    "        for p in [0, 1]:\n",
    "            num_turns += 1\n",
    "            rolls = [next(die), next(die), next(die)]\n",
    "            spaces[p] += sum(rolls)\n",
    "            spaces[p] = ((spaces[p]-1) % 10) + 1\n",
    "            scores[p] += spaces[p]\n",
    "            if verbose:\n",
    "                print(f\"Player {p+1} rolls {rolls} and moves to space {spaces[p]} for a total score of {scores[p]}\")\n",
    "            if scores[0] >= 1000:\n",
    "                break\n",
    "    return scores, num_turns*3\n",
    "play_game(4, 8)"
   ]
  },
  {
   "cell_type": "code",
   "execution_count": 8,
   "metadata": {},
   "outputs": [
    {
     "data": {
      "text/plain": [
       "739785"
      ]
     },
     "execution_count": 8,
     "metadata": {},
     "output_type": "execute_result"
    }
   ],
   "source": [
    "745 * 993"
   ]
  },
  {
   "cell_type": "markdown",
   "metadata": {},
   "source": [
    "#### Part 1 Answer\n",
    "Play a practice game using the deterministic 100-sided die. The moment either player wins, **what do you get if you multiply the score of the losing player by the number of times the die was rolled during the game?**"
   ]
  },
  {
   "cell_type": "code",
   "execution_count": 9,
   "metadata": {},
   "outputs": [
    {
     "data": {
      "text/plain": [
       "([770, 1005], 924)"
      ]
     },
     "execution_count": 9,
     "metadata": {},
     "output_type": "execute_result"
    }
   ],
   "source": [
    "play_game(5, 10)"
   ]
  },
  {
   "cell_type": "code",
   "execution_count": 10,
   "metadata": {},
   "outputs": [
    {
     "data": {
      "text/plain": [
       "711480"
      ]
     },
     "execution_count": 10,
     "metadata": {},
     "output_type": "execute_result"
    }
   ],
   "source": [
    "770 * 924"
   ]
  },
  {
   "cell_type": "markdown",
   "metadata": {},
   "source": [
    "### Part 2"
   ]
  },
  {
   "cell_type": "markdown",
   "metadata": {},
   "source": [
    "Does the answer fit in a 64 bit int?"
   ]
  },
  {
   "cell_type": "code",
   "execution_count": 11,
   "metadata": {},
   "outputs": [
    {
     "data": {
      "text/plain": [
       "444356092776315"
      ]
     },
     "execution_count": 11,
     "metadata": {},
     "output_type": "execute_result"
    }
   ],
   "source": [
    "444356092776315"
   ]
  },
  {
   "cell_type": "code",
   "execution_count": 12,
   "metadata": {},
   "outputs": [],
   "source": [
    "import numpy as np\n",
    "import functools"
   ]
  },
  {
   "cell_type": "code",
   "execution_count": 18,
   "metadata": {},
   "outputs": [
    {
     "data": {
      "text/plain": [
       "array([444356092776315, 341960390180808])"
      ]
     },
     "execution_count": 18,
     "metadata": {},
     "output_type": "execute_result"
    }
   ],
   "source": [
    "@functools.lru_cache(maxsize=None)\n",
    "def play_rest_of_game(spaces, scores, p, rolls_this_turn=0):\n",
    "    if scores[0] >= 21:\n",
    "        return np.array([1, 0])\n",
    "    if scores[1] >= 21:\n",
    "        return np.array([0, 1])\n",
    "    possible_results = []\n",
    "    for copy in [1,2,3]:\n",
    "        next_spaces = list(spaces)\n",
    "        next_spaces[p] = ((spaces[p] + copy - 1) % 10) + 1\n",
    "        next_spaces = tuple(next_spaces)\n",
    "        next_scores = scores\n",
    "        if rolls_this_turn < 2:\n",
    "            possible_results.append(play_rest_of_game(next_spaces, next_scores, p, rolls_this_turn+1))\n",
    "        else:\n",
    "            next_scores = list(next_scores)\n",
    "            next_scores[p] += next_spaces[p]\n",
    "            next_scores = tuple(next_scores)\n",
    "            possible_results.append(play_rest_of_game(next_spaces, next_scores, 1-p, 0))\n",
    "    return sum(possible_results)\n",
    "    \n",
    "play_rest_of_game((4, 8), (0, 0), 0)"
   ]
  },
  {
   "cell_type": "markdown",
   "metadata": {},
   "source": [
    "#### Part 2 Answer\n",
    "Using your given starting positions, determine every possible outcome.  \n",
    "**Find the player that wins in more universes; in how many universes does that player win?**"
   ]
  },
  {
   "cell_type": "code",
   "execution_count": 14,
   "metadata": {},
   "outputs": [
    {
     "data": {
      "text/plain": [
       "array([265845890886828, 261020999052381])"
      ]
     },
     "execution_count": 14,
     "metadata": {},
     "output_type": "execute_result"
    }
   ],
   "source": [
    "play_rest_of_game(positions, (0, 0), 0)"
   ]
  },
  {
   "cell_type": "code",
   "execution_count": 15,
   "metadata": {},
   "outputs": [
    {
     "data": {
      "text/plain": [
       "265845890886828"
      ]
     },
     "execution_count": 15,
     "metadata": {},
     "output_type": "execute_result"
    }
   ],
   "source": [
    "np.array([265845890886828, 261020999052381]).max()"
   ]
  }
 ],
 "metadata": {
  "kernelspec": {
   "display_name": "Python 3",
   "language": "python",
   "name": "python3"
  },
  "language_info": {
   "codemirror_mode": {
    "name": "ipython",
    "version": 3
   },
   "file_extension": ".py",
   "mimetype": "text/x-python",
   "name": "python",
   "nbconvert_exporter": "python",
   "pygments_lexer": "ipython3",
   "version": "3.8.5"
  }
 },
 "nbformat": 4,
 "nbformat_minor": 4
}
