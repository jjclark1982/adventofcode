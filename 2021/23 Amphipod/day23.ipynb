{
 "cells": [
  {
   "cell_type": "markdown",
   "metadata": {},
   "source": [
    "# Advent of Code 2021\n",
    "## [Day 23: Amphipod](https://adventofcode.com/2021/day/23)"
   ]
  },
  {
   "cell_type": "code",
   "execution_count": 3,
   "metadata": {},
   "outputs": [],
   "source": [
    "import numpy as np"
   ]
  },
  {
   "cell_type": "code",
   "execution_count": 81,
   "metadata": {},
   "outputs": [],
   "source": [
    "import heapq"
   ]
  },
  {
   "cell_type": "code",
   "execution_count": 8,
   "metadata": {},
   "outputs": [],
   "source": [
    "import html\n",
    "html_formatter = get_ipython().display_formatter.formatters['text/html']\n",
    "\n",
    "def ndarray_to_html(a):\n",
    "    if a.dtype == '<U1':\n",
    "        s = '\\n'.join([''.join(line) for line in a])\n",
    "    else:\n",
    "        s = str(a)\n",
    "    return \"<pre>{}</pre>\".format(html.escape(s))\n",
    "\n",
    "html_formatter.for_type(np.ndarray, ndarray_to_html)\n",
    "pass"
   ]
  },
  {
   "cell_type": "code",
   "execution_count": 4,
   "metadata": {},
   "outputs": [
    {
     "data": {
      "text/plain": [
       "['#############',\n",
       " '#...........#',\n",
       " '###D#D#A#A###',\n",
       " '  #C#C#B#B#',\n",
       " '  #########']"
      ]
     },
     "execution_count": 4,
     "metadata": {},
     "output_type": "execute_result"
    }
   ],
   "source": [
    "import aocd\n",
    "input_data = aocd.get_data(year=2021, day=23).split('\\n')\n",
    "input_data"
   ]
  },
  {
   "cell_type": "code",
   "execution_count": 5,
   "metadata": {},
   "outputs": [],
   "source": [
    "test_data = [\n",
    "    '#############',\n",
    "    '#...........#',\n",
    "    '###B#C#B#D###',\n",
    "    '  #A#D#C#A#',\n",
    "    '  #########',\n",
    "]"
   ]
  },
  {
   "cell_type": "code",
   "execution_count": 9,
   "metadata": {},
   "outputs": [
    {
     "data": {
      "text/html": [
       "<pre>#############\n",
       "#...........#\n",
       "###B#C#B#D###\n",
       "  #A#D#C#A#  \n",
       "  #########  </pre>"
      ],
      "text/plain": [
       "array([['#', '#', '#', '#', '#', '#', '#', '#', '#', '#', '#', '#', '#'],\n",
       "       ['#', '.', '.', '.', '.', '.', '.', '.', '.', '.', '.', '.', '#'],\n",
       "       ['#', '#', '#', 'B', '#', 'C', '#', 'B', '#', 'D', '#', '#', '#'],\n",
       "       [' ', ' ', '#', 'A', '#', 'D', '#', 'C', '#', 'A', '#', ' ', ' '],\n",
       "       [' ', ' ', '#', '#', '#', '#', '#', '#', '#', '#', '#', ' ', ' ']],\n",
       "      dtype='<U1')"
      ]
     },
     "execution_count": 9,
     "metadata": {},
     "output_type": "execute_result"
    }
   ],
   "source": [
    "def parse_burrow(data):\n",
    "    max_len = max(len(line) for line in data)\n",
    "    data[3] = data[3].ljust(max_len)\n",
    "    data[4] = data[4].ljust(max_len)\n",
    "    burrow = np.array([list(line) for line in data])\n",
    "    return burrow\n",
    "\n",
    "burrow = parse_burrow(test_data)\n",
    "burrow"
   ]
  },
  {
   "cell_type": "code",
   "execution_count": 32,
   "metadata": {},
   "outputs": [
    {
     "data": {
      "text/plain": [
       "('D', 1000)"
      ]
     },
     "execution_count": 32,
     "metadata": {},
     "output_type": "execute_result"
    }
   ],
   "source": [
    "step_cost = {\n",
    "    'A': 1,\n",
    "    'B': 10,\n",
    "    'C': 100,\n",
    "    'D': 1000\n",
    "}\n",
    "burrow[3,5], step_cost[burrow[3,5]]"
   ]
  },
  {
   "cell_type": "code",
   "execution_count": 84,
   "metadata": {},
   "outputs": [],
   "source": [
    "home_column = {\n",
    "    'A': 3,\n",
    "    'B': 5,\n",
    "    'C': 7,\n",
    "    'D': 9\n",
    "}"
   ]
  },
  {
   "cell_type": "code",
   "execution_count": 59,
   "metadata": {},
   "outputs": [
    {
     "data": {
      "text/plain": [
       "60"
      ]
     },
     "execution_count": 59,
     "metadata": {},
     "output_type": "execute_result"
    }
   ],
   "source": [
    "def move_cost(src, dst, species):\n",
    "    # if the move is legal, cost is manhattan distance\n",
    "    y1, x1 = src\n",
    "    y2, x2 = dst\n",
    "    if x1 == x2:\n",
    "        steps = abs(y1 - y2)\n",
    "    else:\n",
    "        steps = abs(y1 - 1) + abs(x2 - x1) + abs(y2 - 1)\n",
    "    return step_cost[species] * steps\n",
    "move_cost((3,5), (3,3), 'B')"
   ]
  },
  {
   "cell_type": "code",
   "execution_count": 61,
   "metadata": {},
   "outputs": [
    {
     "data": {
      "text/plain": [
       "4"
      ]
     },
     "execution_count": 61,
     "metadata": {},
     "output_type": "execute_result"
    }
   ],
   "source": [
    "move_cost((1,1), (3,3), 'A')"
   ]
  },
  {
   "cell_type": "markdown",
   "metadata": {},
   "source": [
    "general strategy is to move \"D\" blockers out, then move \"D\"s in.\n",
    "\n",
    "then proceed to earlier letters.\n",
    "\n",
    "don't need any state other than the board.\n",
    "\n",
    "could use a recursive goal-driven approach:\n",
    "- select a D\n",
    "- find path to its home\n",
    "- move to hall\n",
    "    - for each blocker along the path:\n",
    "        - recursively move it toward its home\n",
    "- move within hall, if permitted\n",
    "- move to home\n",
    "    - for each blocker along the path:\n",
    "        - recursively move it toward its home\n"
   ]
  },
  {
   "cell_type": "markdown",
   "metadata": {},
   "source": [
    "could search all state space:\n",
    "\n",
    "recursive function to find lowest cost to win from current state\n",
    "\n",
    "enumerate all legal moves from current state and their costs\n",
    "\n",
    "boom"
   ]
  },
  {
   "cell_type": "code",
   "execution_count": 192,
   "metadata": {},
   "outputs": [],
   "source": [
    "from functools import cached_property, total_ordering\n",
    "from collections import deque"
   ]
  },
  {
   "cell_type": "code",
   "execution_count": null,
   "metadata": {},
   "outputs": [],
   "source": [
    "class Burrow(object):\n",
    "    def __init__(self, data, cost=0):\n",
    "        self.cost = cost\n",
    "        if isinstance(data, list):\n",
    "            self.grid = parse_burrow(data)\n",
    "        elif isinstance(data, Burrow):\n",
    "            self.grid = data.grid.copy()\n",
    "            \n",
    "    def __str__(self):\n",
    "        return '\\n'.join([''.join(line) for line in self.grid])\n",
    "    \n",
    "    def __repr__(self):\n",
    "        return str(self) + f\" unsolved: {self.num_unsolved}, cost: {self.cost}\"\n",
    "    \n",
    "    def __hash__(self):\n",
    "        return hash(str(self))\n",
    "    \n",
    "    def __eq__(self, other: \"Burrow\"):\n",
    "        return np.array_equal(self.grid, other.grid)\n",
    "    \n",
    "    def __getitem__(self, idx):\n",
    "        return self.grid[tuple(idx)]\n",
    "\n",
    "    def __setitem__(self, idx, value):\n",
    "        self.grid[tuple(idx)] = value\n",
    "        \n",
    "    def score(self):\n",
    "        return self.num_unsolved * 100000 + self.cost\n",
    "    \n",
    "    def __lt__(self, rhs: \"Burrow\"):\n",
    "        return self.score() < rhs.score()\n",
    "\n",
    "    @cached_property\n",
    "    def num_unsolved(self):\n",
    "        total_count = 0\n",
    "        for species, home_col in home_column.items():\n",
    "            mismatch = False\n",
    "            for tile in reversed(self.grid[2:-1,home_col]):\n",
    "                if (tile != species) or mismatch:\n",
    "                    mismatch = True\n",
    "                    total_count += 1\n",
    "        return total_count\n",
    "    \n",
    "    def is_solved(self):\n",
    "        return self.num_unsolved == 0\n",
    "    \n",
    "    def legal_moves(self):\n",
    "        moves = []\n",
    "        for loc in self.amphipod_locations():\n",
    "            moves += self.legal_moves_from(loc)\n",
    "        return moves\n",
    "    \n",
    "    def legal_moves_from(self, src):\n",
    "        species = self[src]\n",
    "        s_row, s_col = src\n",
    "        legal_moves = []\n",
    "        for dst, cost in self.possible_moves_from(src).items():\n",
    "            d_row, d_col = dst\n",
    "            if d_row == 1 and d_col in [3,5,7,9]:\n",
    "                continue\n",
    "            if d_row == 1 and s_row == 1:\n",
    "                continue\n",
    "            if d_col == s_col:\n",
    "                continue\n",
    "            new_burrow = Burrow(self, self.cost + cost)\n",
    "            new_burrow[dst] = species\n",
    "            new_burrow[src] = '.'\n",
    "            if new_burrow.num_unsolved > self.num_unsolved:\n",
    "                continue\n",
    "            legal_moves.append(new_burrow)\n",
    "        return legal_moves\n",
    "    \n",
    "    def possible_moves_from(self, src):\n",
    "        species = self[src]\n",
    "        directions = np.array([[1,0],[-1,0],[0,-1],[0,1]])\n",
    "        seen = {tuple(src): 0}\n",
    "        to_check = deque([(np.array(src), 0)])\n",
    "        while to_check:\n",
    "            checking, cost = to_check.popleft()\n",
    "            for d in directions:\n",
    "                dst = checking + d\n",
    "                if self[dst] != '.':\n",
    "                    continue\n",
    "                if tuple(dst) not in seen:\n",
    "                    seen[tuple(dst)] = cost + step_cost[species]\n",
    "                    to_check.append((dst, cost + step_cost[species]))\n",
    "        del seen[tuple(src)]\n",
    "        return seen\n",
    "\n",
    "    def amphipod_locations(self):\n",
    "        return np.array(np.where(self.grid >= 'A')).T\n",
    "\n",
    "b = Burrow(test_data)\n",
    "#b.legal_moves_from(np.array([2,3]))\n",
    "#for loc in b.amphipod_locations():\n",
    "#    print(loc, len(b.legal_moves_from(loc)))\n",
    "print(len(b.legal_moves()))\n",
    "b"
   ]
  },
  {
   "cell_type": "code",
   "execution_count": 205,
   "metadata": {},
   "outputs": [
    {
     "data": {
      "text/plain": [
       "#############\n",
       "#...........#\n",
       "###B#C#B#D###\n",
       "  #A#D#C#A#  \n",
       "  #########   cost: 0"
      ]
     },
     "execution_count": 205,
     "metadata": {},
     "output_type": "execute_result"
    }
   ],
   "source": [
    "b"
   ]
  },
  {
   "cell_type": "code",
   "execution_count": 163,
   "metadata": {},
   "outputs": [
    {
     "data": {
      "text/plain": [
       "#############\n",
       "#...........#\n",
       "###D#D#A#A###\n",
       "  #C#C#B#B#  \n",
       "  #########   cost: 0"
      ]
     },
     "execution_count": 163,
     "metadata": {},
     "output_type": "execute_result"
    }
   ],
   "source": [
    "c = Burrow(input_data)\n",
    "c"
   ]
  },
  {
   "cell_type": "code",
   "execution_count": 164,
   "metadata": {},
   "outputs": [
    {
     "data": {
      "text/plain": [
       "[#############\n",
       " #...........#\n",
       " ###B#C#B#D###\n",
       "   #A#D#C#A#  \n",
       "   #########   cost: 0,\n",
       " #############\n",
       " #...........#\n",
       " ###D#D#A#A###\n",
       "   #C#C#B#B#  \n",
       "   #########   cost: 0]"
      ]
     },
     "execution_count": 164,
     "metadata": {},
     "output_type": "execute_result"
    }
   ],
   "source": [
    "sorted([b, c], key=lambda x: x.num_unsolved)"
   ]
  },
  {
   "cell_type": "code",
   "execution_count": 169,
   "metadata": {},
   "outputs": [
    {
     "data": {
      "text/plain": [
       "{#############\n",
       " #...........#\n",
       " ###B#C#B#D###\n",
       "   #A#D#C#A#  \n",
       "   #########   cost: 0: 0,\n",
       " #############\n",
       " #...........#\n",
       " ###D#D#A#A###\n",
       "   #C#C#B#B#  \n",
       "   #########   cost: 0: 0}"
      ]
     },
     "execution_count": 169,
     "metadata": {},
     "output_type": "execute_result"
    }
   ],
   "source": [
    "{b: b.cost,c: c.cost}"
   ]
  },
  {
   "cell_type": "code",
   "execution_count": 153,
   "metadata": {},
   "outputs": [
    {
     "data": {
      "text/plain": [
       "[#############\n",
       " #..B........#\n",
       " ###.#C#B#D###\n",
       "   #A#D#C#A#  \n",
       "   #########   cost: 10,\n",
       " #############\n",
       " #....C......#\n",
       " ###B#.#B#D###\n",
       "   #A#D#C#A#  \n",
       "   #########   cost: 100,\n",
       " #############\n",
       " #......B....#\n",
       " ###B#C#.#D###\n",
       "   #A#D#C#A#  \n",
       "   #########   cost: 10,\n",
       " #############\n",
       " #........D..#\n",
       " ###B#C#B#.###\n",
       "   #A#D#C#A#  \n",
       "   #########   cost: 1000]"
      ]
     },
     "execution_count": 153,
     "metadata": {},
     "output_type": "execute_result"
    }
   ],
   "source": [
    "b.legal_moves()"
   ]
  },
  {
   "cell_type": "code",
   "execution_count": 93,
   "metadata": {},
   "outputs": [
    {
     "data": {
      "text/plain": [
       "['A', 'B']"
      ]
     },
     "execution_count": 93,
     "metadata": {},
     "output_type": "execute_result"
    }
   ],
   "source": [
    "[tile for tile in reversed(b.grid[2:-1,3])]"
   ]
  },
  {
   "cell_type": "code",
   "execution_count": 76,
   "metadata": {},
   "outputs": [
    {
     "data": {
      "text/plain": [
       "(2, 3)"
      ]
     },
     "execution_count": 76,
     "metadata": {},
     "output_type": "execute_result"
    }
   ],
   "source": [
    "src = tuple(np.array(np.where(b.grid >= 'A')).T[0])\n",
    "src"
   ]
  },
  {
   "cell_type": "code",
   "execution_count": 77,
   "metadata": {},
   "outputs": [
    {
     "data": {
      "text/plain": [
       "'B'"
      ]
     },
     "execution_count": 77,
     "metadata": {},
     "output_type": "execute_result"
    }
   ],
   "source": [
    "b.grid[src]"
   ]
  },
  {
   "cell_type": "code",
   "execution_count": 156,
   "metadata": {},
   "outputs": [
    {
     "data": {
      "text/plain": [
       "True"
      ]
     },
     "execution_count": 156,
     "metadata": {},
     "output_type": "execute_result"
    }
   ],
   "source": [
    "solved_data = [\n",
    "    '#############',\n",
    "    '#...........#',\n",
    "    '###A#B#C#D###',\n",
    "    '  #A#B#C#D#',\n",
    "    '  #########',\n",
    "]\n",
    "Burrow(solved_data).is_solved()"
   ]
  },
  {
   "cell_type": "code",
   "execution_count": 158,
   "metadata": {},
   "outputs": [],
   "source": [
    "from heapq import heapify, heappush, heappop"
   ]
  },
  {
   "cell_type": "code",
   "execution_count": 278,
   "metadata": {},
   "outputs": [
    {
     "name": "stdout",
     "output_type": "stream",
     "text": [
      "iteration 0: to check: 1\n",
      "found solution with cost 16491\n",
      "iteration 5000: to check: 2365\n",
      "iteration 10000: to check: 4063\n",
      "iteration 15000: to check: 4990\n",
      "iteration 20000: to check: 1450\n",
      "iteration 25000: to check: 2958\n",
      "iteration 30000: to check: 3568\n",
      "iteration 35000: to check: 2633\n",
      "iteration 40000: to check: 1366\n",
      "iteration 45000: to check: 1121\n",
      "iteration 50000: to check: 1242\n",
      "iteration 55000: to check: 2601\n",
      "iteration 60000: to check: 1348\n",
      "iteration 65000: to check: 1767\n",
      "iteration 70000: to check: 2247\n",
      "iteration 75000: to check: 2206\n",
      "iteration 80000: to check: 5094\n",
      "iteration 85000: to check: 6641\n",
      "iteration 90000: to check: 9596\n",
      "iteration 95000: to check: 10443\n",
      "iteration 100000: to check: 11966\n",
      "iteration 105000: to check: 13202\n",
      "iteration 110000: to check: 12197\n",
      "iteration 115000: to check: 8114\n",
      "iteration 120000: to check: 11641\n",
      "iteration 125000: to check: 12646\n",
      "iteration 130000: to check: 12229\n",
      "iteration 135000: to check: 8021\n",
      "iteration 140000: to check: 8634\n",
      "iteration 145000: to check: 8982\n",
      "iteration 150000: to check: 7874\n",
      "iteration 155000: to check: 10551\n",
      "iteration 160000: to check: 8052\n",
      "iteration 165000: to check: 8127\n",
      "iteration 170000: to check: 8312\n",
      "iteration 175000: to check: 9704\n",
      "iteration 180000: to check: 9177\n",
      "iteration 185000: to check: 9706\n",
      "iteration 190000: to check: 10167\n",
      "iteration 195000: to check: 11143\n",
      "iteration 200000: to check: 12914\n",
      "iteration 205000: to check: 14646\n",
      "iteration 210000: to check: 16220\n",
      "iteration 215000: to check: 17161\n",
      "iteration 220000: to check: 17651\n",
      "iteration 225000: to check: 18034\n",
      "iteration 230000: to check: 19252\n",
      "iteration 235000: to check: 20691\n",
      "iteration 240000: to check: 21878\n",
      "iteration 245000: to check: 22860\n",
      "iteration 250000: to check: 24455\n",
      "iteration 255000: to check: 25762\n",
      "iteration 260000: to check: 26490\n",
      "iteration 265000: to check: 26486\n",
      "iteration 270000: to check: 28238\n",
      "iteration 275000: to check: 29304\n",
      "iteration 280000: to check: 29504\n",
      "iteration 285000: to check: 30505\n",
      "iteration 290000: to check: 30733\n",
      "iteration 295000: to check: 30651\n",
      "iteration 300000: to check: 30389\n",
      "iteration 305000: to check: 29896\n",
      "iteration 310000: to check: 29084\n",
      "iteration 315000: to check: 27888\n",
      "iteration 320000: to check: 26114\n",
      "iteration 325000: to check: 25965\n",
      "iteration 330000: to check: 24916\n",
      "iteration 335000: to check: 23830\n",
      "iteration 340000: to check: 23259\n",
      "iteration 345000: to check: 22115\n",
      "iteration 350000: to check: 20141\n",
      "iteration 355000: to check: 17327\n",
      "iteration 360000: to check: 14314\n",
      "iteration 365000: to check: 11648\n",
      "iteration 370000: to check: 6648\n",
      "iteration 375000: to check: 1648\n",
      "iteration 380000: to check: 1760\n",
      "iteration 385000: to check: 2629\n",
      "iteration 390000: to check: 4024\n",
      "iteration 395000: to check: 4449\n",
      "iteration 400000: to check: 4303\n",
      "iteration 405000: to check: 7066\n",
      "iteration 410000: to check: 7003\n",
      "iteration 415000: to check: 8261\n",
      "iteration 420000: to check: 7884\n",
      "iteration 425000: to check: 7721\n",
      "iteration 430000: to check: 10109\n",
      "iteration 435000: to check: 11647\n",
      "iteration 440000: to check: 11165\n",
      "iteration 445000: to check: 10180\n",
      "iteration 450000: to check: 8403\n",
      "iteration 455000: to check: 7472\n",
      "iteration 460000: to check: 3744\n",
      "iteration 465000: to check: 2905\n",
      "iteration 470000: to check: 6809\n",
      "iteration 475000: to check: 9109\n",
      "iteration 480000: to check: 10278\n",
      "iteration 485000: to check: 10046\n",
      "iteration 490000: to check: 6778\n",
      "iteration 495000: to check: 6513\n",
      "iteration 500000: to check: 6816\n",
      "iteration 505000: to check: 7716\n",
      "iteration 510000: to check: 12503\n",
      "iteration 515000: to check: 14752\n",
      "iteration 520000: to check: 20889\n",
      "iteration 525000: to check: 21891\n",
      "iteration 530000: to check: 23114\n",
      "iteration 535000: to check: 20058\n",
      "iteration 540000: to check: 15205\n",
      "iteration 545000: to check: 12458\n",
      "iteration 550000: to check: 15233\n",
      "iteration 555000: to check: 15122\n",
      "iteration 560000: to check: 13523\n",
      "iteration 565000: to check: 14743\n",
      "iteration 570000: to check: 13661\n",
      "iteration 575000: to check: 13525\n",
      "iteration 580000: to check: 12234\n",
      "iteration 585000: to check: 13846\n",
      "iteration 590000: to check: 14951\n",
      "iteration 595000: to check: 17903\n",
      "iteration 600000: to check: 20578\n",
      "iteration 605000: to check: 22426\n",
      "iteration 610000: to check: 23502\n",
      "iteration 615000: to check: 26776\n",
      "iteration 620000: to check: 28632\n",
      "iteration 625000: to check: 29636\n",
      "iteration 630000: to check: 29812\n",
      "iteration 635000: to check: 29998\n",
      "iteration 640000: to check: 30326\n",
      "iteration 645000: to check: 29728\n",
      "iteration 650000: to check: 30050\n",
      "iteration 655000: to check: 29608\n",
      "iteration 660000: to check: 29683\n",
      "iteration 665000: to check: 31473\n",
      "iteration 670000: to check: 31833\n",
      "iteration 675000: to check: 36437\n",
      "iteration 680000: to check: 36313\n",
      "iteration 685000: to check: 31941\n",
      "iteration 690000: to check: 33691\n",
      "iteration 695000: to check: 32998\n",
      "iteration 700000: to check: 31790\n",
      "iteration 705000: to check: 31800\n",
      "iteration 710000: to check: 31597\n",
      "iteration 715000: to check: 31614\n",
      "iteration 720000: to check: 31742\n",
      "iteration 725000: to check: 32461\n",
      "iteration 730000: to check: 34168\n",
      "iteration 735000: to check: 38133\n",
      "iteration 740000: to check: 40385\n",
      "iteration 745000: to check: 43295\n",
      "iteration 750000: to check: 45942\n",
      "iteration 755000: to check: 47498\n",
      "iteration 760000: to check: 49397\n",
      "iteration 765000: to check: 51872\n",
      "iteration 770000: to check: 54986\n",
      "iteration 775000: to check: 58782\n",
      "iteration 780000: to check: 59612\n",
      "iteration 785000: to check: 59595\n",
      "iteration 790000: to check: 59979\n",
      "iteration 795000: to check: 60602\n",
      "iteration 800000: to check: 60889\n",
      "iteration 805000: to check: 60300\n",
      "iteration 810000: to check: 59768\n",
      "iteration 815000: to check: 59420\n",
      "iteration 820000: to check: 57979\n",
      "iteration 825000: to check: 57086\n",
      "iteration 830000: to check: 56747\n",
      "iteration 835000: to check: 55829\n",
      "iteration 840000: to check: 56717\n",
      "iteration 845000: to check: 56558\n",
      "iteration 850000: to check: 53571\n",
      "iteration 855000: to check: 53142\n",
      "iteration 860000: to check: 53230\n",
      "iteration 865000: to check: 53858\n",
      "iteration 870000: to check: 52141\n",
      "iteration 875000: to check: 50958\n",
      "iteration 880000: to check: 50046\n",
      "iteration 885000: to check: 49233\n",
      "iteration 890000: to check: 49693\n",
      "iteration 895000: to check: 48348\n",
      "iteration 900000: to check: 46317\n",
      "iteration 905000: to check: 44160\n",
      "iteration 910000: to check: 42787\n",
      "iteration 915000: to check: 40846\n",
      "iteration 920000: to check: 40250\n",
      "iteration 925000: to check: 38384\n",
      "iteration 930000: to check: 35654\n",
      "iteration 935000: to check: 31744\n",
      "iteration 940000: to check: 32424\n",
      "iteration 945000: to check: 32469\n",
      "iteration 950000: to check: 31988\n",
      "iteration 955000: to check: 29868\n",
      "iteration 960000: to check: 28346\n",
      "iteration 965000: to check: 26745\n",
      "iteration 970000: to check: 22377\n",
      "iteration 975000: to check: 17377\n",
      "iteration 980000: to check: 12377\n",
      "iteration 985000: to check: 7377\n",
      "iteration 990000: to check: 2377\n",
      "iteration 995000: to check: 2163\n",
      "iteration 1000000: to check: 3442\n",
      "iteration 1005000: to check: 4649\n",
      "iteration 1010000: to check: 5090\n",
      "iteration 1015000: to check: 5487\n",
      "iteration 1020000: to check: 4138\n",
      "iteration 1025000: to check: 2124\n",
      "iteration 1030000: to check: 1661\n",
      "iteration 1035000: to check: 2041\n",
      "iteration 1040000: to check: 2218\n",
      "iteration 1045000: to check: 2414\n",
      "iteration 1050000: to check: 4081\n",
      "iteration 1055000: to check: 4044\n",
      "iteration 1060000: to check: 3721\n",
      "iteration 1065000: to check: 2941\n",
      "iteration 1070000: to check: 2723\n",
      "iteration 1075000: to check: 2188\n",
      "iteration 1080000: to check: 1888\n",
      "iteration 1085000: to check: 3459\n",
      "iteration 1090000: to check: 5406\n",
      "iteration 1095000: to check: 5761\n",
      "iteration 1100000: to check: 7755\n",
      "iteration 1105000: to check: 6549\n",
      "iteration 1110000: to check: 6258\n",
      "iteration 1115000: to check: 4891\n",
      "iteration 1120000: to check: 3418\n",
      "iteration 1125000: to check: 1544\n",
      "iteration 1130000: to check: 2591\n",
      "iteration 1135000: to check: 3963\n",
      "iteration 1140000: to check: 3539\n",
      "iteration 1145000: to check: 2523\n",
      "iteration 1150000: to check: 2737\n",
      "iteration 1155000: to check: 2419\n",
      "iteration 1160000: to check: 3739\n",
      "iteration 1165000: to check: 4340\n",
      "iteration 1170000: to check: 4116\n",
      "iteration 1175000: to check: 3986\n",
      "iteration 1180000: to check: 2693\n",
      "iteration 1185000: to check: 2374\n",
      "iteration 1190000: to check: 3197\n",
      "iteration 1195000: to check: 3361\n",
      "iteration 1200000: to check: 4254\n",
      "iteration 1205000: to check: 6168\n",
      "iteration 1210000: to check: 6757\n",
      "iteration 1215000: to check: 6112\n",
      "iteration 1220000: to check: 3606\n",
      "iteration 1225000: to check: 2636\n",
      "iteration 1230000: to check: 3868\n",
      "iteration 1235000: to check: 5055\n",
      "iteration 1240000: to check: 5696\n",
      "iteration 1245000: to check: 5528\n",
      "iteration 1250000: to check: 3364\n",
      "iteration 1255000: to check: 3628\n",
      "iteration 1260000: to check: 4106\n",
      "iteration 1265000: to check: 4507\n",
      "iteration 1270000: to check: 6338\n",
      "iteration 1275000: to check: 7412\n",
      "iteration 1280000: to check: 7294\n",
      "iteration 1285000: to check: 6540\n",
      "iteration 1290000: to check: 5909\n",
      "iteration 1295000: to check: 6347\n",
      "iteration 1300000: to check: 5814\n",
      "iteration 1305000: to check: 4057\n",
      "iteration 1310000: to check: 5821\n",
      "iteration 1315000: to check: 6720\n",
      "iteration 1320000: to check: 5789\n",
      "iteration 1325000: to check: 4425\n",
      "iteration 1330000: to check: 4428\n",
      "iteration 1335000: to check: 6738\n",
      "iteration 1340000: to check: 8553\n",
      "iteration 1345000: to check: 9299\n",
      "iteration 1350000: to check: 10046\n",
      "iteration 1355000: to check: 10797\n",
      "iteration 1360000: to check: 9429\n",
      "iteration 1365000: to check: 9154\n",
      "iteration 1370000: to check: 7498\n",
      "iteration 1375000: to check: 6196\n",
      "iteration 1380000: to check: 4937\n",
      "iteration 1385000: to check: 5138\n",
      "iteration 1390000: to check: 5302\n",
      "iteration 1395000: to check: 6268\n",
      "iteration 1400000: to check: 6296\n",
      "iteration 1405000: to check: 5453\n",
      "iteration 1410000: to check: 5689\n",
      "iteration 1415000: to check: 6631\n",
      "iteration 1420000: to check: 6705\n",
      "iteration 1425000: to check: 6057\n",
      "iteration 1430000: to check: 6161\n",
      "iteration 1435000: to check: 7684\n",
      "iteration 1440000: to check: 9164\n",
      "iteration 1445000: to check: 12203\n",
      "iteration 1450000: to check: 12699\n",
      "iteration 1455000: to check: 13250\n",
      "iteration 1460000: to check: 13511\n",
      "iteration 1465000: to check: 13184\n",
      "iteration 1470000: to check: 12772\n",
      "iteration 1475000: to check: 13635\n",
      "iteration 1480000: to check: 15293\n",
      "iteration 1485000: to check: 18026\n",
      "iteration 1490000: to check: 19490\n",
      "iteration 1495000: to check: 23181\n",
      "iteration 1500000: to check: 27426\n",
      "iteration 1505000: to check: 30600\n",
      "iteration 1510000: to check: 35208\n",
      "iteration 1515000: to check: 36258\n",
      "iteration 1520000: to check: 35489\n",
      "iteration 1525000: to check: 30649\n",
      "iteration 1530000: to check: 27469\n",
      "iteration 1535000: to check: 27523\n",
      "iteration 1540000: to check: 27256\n",
      "iteration 1545000: to check: 27785\n",
      "iteration 1550000: to check: 27742\n",
      "iteration 1555000: to check: 28565\n",
      "iteration 1560000: to check: 32881\n",
      "iteration 1565000: to check: 32240\n",
      "iteration 1570000: to check: 33366\n",
      "iteration 1575000: to check: 34581\n",
      "iteration 1580000: to check: 34876\n",
      "iteration 1585000: to check: 39384\n",
      "iteration 1590000: to check: 40758\n",
      "iteration 1595000: to check: 41644\n",
      "iteration 1600000: to check: 42195\n",
      "iteration 1605000: to check: 43974\n",
      "iteration 1610000: to check: 44319\n",
      "iteration 1615000: to check: 44090\n",
      "iteration 1620000: to check: 43417\n",
      "iteration 1625000: to check: 43228\n",
      "iteration 1630000: to check: 46667\n",
      "iteration 1635000: to check: 49791\n",
      "iteration 1640000: to check: 47158\n",
      "iteration 1645000: to check: 45107\n",
      "iteration 1650000: to check: 44058\n",
      "iteration 1655000: to check: 44649\n",
      "iteration 1660000: to check: 44854\n",
      "iteration 1665000: to check: 48325\n",
      "iteration 1670000: to check: 51017\n",
      "iteration 1675000: to check: 48351\n",
      "iteration 1680000: to check: 48491\n",
      "iteration 1685000: to check: 48611\n",
      "iteration 1690000: to check: 48575\n"
     ]
    },
    {
     "ename": "KeyboardInterrupt",
     "evalue": "",
     "output_type": "error",
     "traceback": [
      "\u001b[0;31m---------------------------------------------------------------------------\u001b[0m",
      "\u001b[0;31mKeyboardInterrupt\u001b[0m                         Traceback (most recent call last)",
      "\u001b[0;32m<timed eval>\u001b[0m in \u001b[0;36m<module>\u001b[0;34m\u001b[0m\n",
      "\u001b[0;32m<ipython-input-278-d28f0bbf4593>\u001b[0m in \u001b[0;36mfind_best_solution\u001b[0;34m(b)\u001b[0m\n\u001b[1;32m     14\u001b[0m         \u001b[0;32mif\u001b[0m \u001b[0mseen_states\u001b[0m\u001b[0;34m[\u001b[0m\u001b[0mchecking\u001b[0m\u001b[0;34m]\u001b[0m \u001b[0;34m<\u001b[0m \u001b[0mchecking\u001b[0m\u001b[0;34m.\u001b[0m\u001b[0mcost\u001b[0m\u001b[0;34m:\u001b[0m\u001b[0;34m\u001b[0m\u001b[0;34m\u001b[0m\u001b[0m\n\u001b[1;32m     15\u001b[0m             \u001b[0;32mcontinue\u001b[0m\u001b[0;34m\u001b[0m\u001b[0;34m\u001b[0m\u001b[0m\n\u001b[0;32m---> 16\u001b[0;31m         \u001b[0;32mfor\u001b[0m \u001b[0mmove\u001b[0m \u001b[0;32min\u001b[0m \u001b[0mchecking\u001b[0m\u001b[0;34m.\u001b[0m\u001b[0mlegal_moves\u001b[0m\u001b[0;34m(\u001b[0m\u001b[0;34m)\u001b[0m\u001b[0;34m:\u001b[0m\u001b[0;34m\u001b[0m\u001b[0;34m\u001b[0m\u001b[0m\n\u001b[0m\u001b[1;32m     17\u001b[0m             \u001b[0;32mif\u001b[0m \u001b[0mmove\u001b[0m\u001b[0;34m.\u001b[0m\u001b[0mis_solved\u001b[0m\u001b[0;34m(\u001b[0m\u001b[0;34m)\u001b[0m\u001b[0;34m:\u001b[0m\u001b[0;34m\u001b[0m\u001b[0;34m\u001b[0m\u001b[0m\n\u001b[1;32m     18\u001b[0m                 \u001b[0;32mif\u001b[0m \u001b[0mmove\u001b[0m\u001b[0;34m.\u001b[0m\u001b[0mcost\u001b[0m \u001b[0;34m<\u001b[0m \u001b[0mbest_cost\u001b[0m\u001b[0;34m:\u001b[0m\u001b[0;34m\u001b[0m\u001b[0;34m\u001b[0m\u001b[0m\n",
      "\u001b[0;32m<ipython-input-239-25526671d06b>\u001b[0m in \u001b[0;36mlegal_moves\u001b[0;34m(self)\u001b[0m\n\u001b[1;32m     48\u001b[0m         \u001b[0mmoves\u001b[0m \u001b[0;34m=\u001b[0m \u001b[0;34m[\u001b[0m\u001b[0;34m]\u001b[0m\u001b[0;34m\u001b[0m\u001b[0;34m\u001b[0m\u001b[0m\n\u001b[1;32m     49\u001b[0m         \u001b[0;32mfor\u001b[0m \u001b[0mloc\u001b[0m \u001b[0;32min\u001b[0m \u001b[0mself\u001b[0m\u001b[0;34m.\u001b[0m\u001b[0mamphipod_locations\u001b[0m\u001b[0;34m(\u001b[0m\u001b[0;34m)\u001b[0m\u001b[0;34m:\u001b[0m\u001b[0;34m\u001b[0m\u001b[0;34m\u001b[0m\u001b[0m\n\u001b[0;32m---> 50\u001b[0;31m             \u001b[0mmoves\u001b[0m \u001b[0;34m+=\u001b[0m \u001b[0mself\u001b[0m\u001b[0;34m.\u001b[0m\u001b[0mlegal_moves_from\u001b[0m\u001b[0;34m(\u001b[0m\u001b[0mloc\u001b[0m\u001b[0;34m)\u001b[0m\u001b[0;34m\u001b[0m\u001b[0;34m\u001b[0m\u001b[0m\n\u001b[0m\u001b[1;32m     51\u001b[0m         \u001b[0;32mreturn\u001b[0m \u001b[0msorted\u001b[0m\u001b[0;34m(\u001b[0m\u001b[0mmoves\u001b[0m\u001b[0;34m)\u001b[0m\u001b[0;34m\u001b[0m\u001b[0;34m\u001b[0m\u001b[0m\n\u001b[1;32m     52\u001b[0m \u001b[0;34m\u001b[0m\u001b[0m\n",
      "\u001b[0;32m<ipython-input-239-25526671d06b>\u001b[0m in \u001b[0;36mlegal_moves_from\u001b[0;34m(self, src)\u001b[0m\n\u001b[1;32m     55\u001b[0m         \u001b[0ms_row\u001b[0m\u001b[0;34m,\u001b[0m \u001b[0ms_col\u001b[0m \u001b[0;34m=\u001b[0m \u001b[0msrc\u001b[0m\u001b[0;34m\u001b[0m\u001b[0;34m\u001b[0m\u001b[0m\n\u001b[1;32m     56\u001b[0m         \u001b[0mlegal_moves\u001b[0m \u001b[0;34m=\u001b[0m \u001b[0;34m[\u001b[0m\u001b[0;34m]\u001b[0m\u001b[0;34m\u001b[0m\u001b[0;34m\u001b[0m\u001b[0m\n\u001b[0;32m---> 57\u001b[0;31m         \u001b[0;32mfor\u001b[0m \u001b[0mdst\u001b[0m\u001b[0;34m,\u001b[0m \u001b[0mcost\u001b[0m \u001b[0;32min\u001b[0m \u001b[0mself\u001b[0m\u001b[0;34m.\u001b[0m\u001b[0mpossible_moves_from\u001b[0m\u001b[0;34m(\u001b[0m\u001b[0msrc\u001b[0m\u001b[0;34m)\u001b[0m\u001b[0;34m.\u001b[0m\u001b[0mitems\u001b[0m\u001b[0;34m(\u001b[0m\u001b[0;34m)\u001b[0m\u001b[0;34m:\u001b[0m\u001b[0;34m\u001b[0m\u001b[0;34m\u001b[0m\u001b[0m\n\u001b[0m\u001b[1;32m     58\u001b[0m             \u001b[0md_row\u001b[0m\u001b[0;34m,\u001b[0m \u001b[0md_col\u001b[0m \u001b[0;34m=\u001b[0m \u001b[0mdst\u001b[0m\u001b[0;34m\u001b[0m\u001b[0;34m\u001b[0m\u001b[0m\n\u001b[1;32m     59\u001b[0m             \u001b[0;32mif\u001b[0m \u001b[0md_row\u001b[0m \u001b[0;34m==\u001b[0m \u001b[0;36m1\u001b[0m \u001b[0;32mand\u001b[0m \u001b[0md_col\u001b[0m \u001b[0;32min\u001b[0m \u001b[0;34m[\u001b[0m\u001b[0;36m3\u001b[0m\u001b[0;34m,\u001b[0m\u001b[0;36m5\u001b[0m\u001b[0;34m,\u001b[0m\u001b[0;36m7\u001b[0m\u001b[0;34m,\u001b[0m\u001b[0;36m9\u001b[0m\u001b[0;34m]\u001b[0m\u001b[0;34m:\u001b[0m\u001b[0;34m\u001b[0m\u001b[0;34m\u001b[0m\u001b[0m\n",
      "\u001b[0;32m<ipython-input-239-25526671d06b>\u001b[0m in \u001b[0;36mpossible_moves_from\u001b[0;34m(self, src)\u001b[0m\n\u001b[1;32m     80\u001b[0m             \u001b[0;32mfor\u001b[0m \u001b[0md\u001b[0m \u001b[0;32min\u001b[0m \u001b[0mdirections\u001b[0m\u001b[0;34m:\u001b[0m\u001b[0;34m\u001b[0m\u001b[0;34m\u001b[0m\u001b[0m\n\u001b[1;32m     81\u001b[0m                 \u001b[0mdst\u001b[0m \u001b[0;34m=\u001b[0m \u001b[0mchecking\u001b[0m \u001b[0;34m+\u001b[0m \u001b[0md\u001b[0m\u001b[0;34m\u001b[0m\u001b[0;34m\u001b[0m\u001b[0m\n\u001b[0;32m---> 82\u001b[0;31m                 \u001b[0;32mif\u001b[0m \u001b[0mself\u001b[0m\u001b[0;34m[\u001b[0m\u001b[0mdst\u001b[0m\u001b[0;34m]\u001b[0m \u001b[0;34m!=\u001b[0m \u001b[0;34m'.'\u001b[0m\u001b[0;34m:\u001b[0m\u001b[0;34m\u001b[0m\u001b[0;34m\u001b[0m\u001b[0m\n\u001b[0m\u001b[1;32m     83\u001b[0m                     \u001b[0;32mcontinue\u001b[0m\u001b[0;34m\u001b[0m\u001b[0;34m\u001b[0m\u001b[0m\n\u001b[1;32m     84\u001b[0m                 \u001b[0;32mif\u001b[0m \u001b[0mtuple\u001b[0m\u001b[0;34m(\u001b[0m\u001b[0mdst\u001b[0m\u001b[0;34m)\u001b[0m \u001b[0;32mnot\u001b[0m \u001b[0;32min\u001b[0m \u001b[0mseen\u001b[0m\u001b[0;34m:\u001b[0m\u001b[0;34m\u001b[0m\u001b[0;34m\u001b[0m\u001b[0m\n",
      "\u001b[0;32m<ipython-input-239-25526671d06b>\u001b[0m in \u001b[0;36m__getitem__\u001b[0;34m(self, idx)\u001b[0m\n\u001b[1;32m     20\u001b[0m \u001b[0;34m\u001b[0m\u001b[0m\n\u001b[1;32m     21\u001b[0m     \u001b[0;32mdef\u001b[0m \u001b[0m__getitem__\u001b[0m\u001b[0;34m(\u001b[0m\u001b[0mself\u001b[0m\u001b[0;34m,\u001b[0m \u001b[0midx\u001b[0m\u001b[0;34m)\u001b[0m\u001b[0;34m:\u001b[0m\u001b[0;34m\u001b[0m\u001b[0;34m\u001b[0m\u001b[0m\n\u001b[0;32m---> 22\u001b[0;31m         \u001b[0;32mreturn\u001b[0m \u001b[0mself\u001b[0m\u001b[0;34m.\u001b[0m\u001b[0mgrid\u001b[0m\u001b[0;34m[\u001b[0m\u001b[0mtuple\u001b[0m\u001b[0;34m(\u001b[0m\u001b[0midx\u001b[0m\u001b[0;34m)\u001b[0m\u001b[0;34m]\u001b[0m\u001b[0;34m\u001b[0m\u001b[0;34m\u001b[0m\u001b[0m\n\u001b[0m\u001b[1;32m     23\u001b[0m \u001b[0;34m\u001b[0m\u001b[0m\n\u001b[1;32m     24\u001b[0m     \u001b[0;32mdef\u001b[0m \u001b[0m__setitem__\u001b[0m\u001b[0;34m(\u001b[0m\u001b[0mself\u001b[0m\u001b[0;34m,\u001b[0m \u001b[0midx\u001b[0m\u001b[0;34m,\u001b[0m \u001b[0mvalue\u001b[0m\u001b[0;34m)\u001b[0m\u001b[0;34m:\u001b[0m\u001b[0;34m\u001b[0m\u001b[0;34m\u001b[0m\u001b[0m\n",
      "\u001b[0;31mKeyboardInterrupt\u001b[0m: "
     ]
    }
   ],
   "source": [
    "def find_best_solution(b: burrow):\n",
    "    to_check = [b]\n",
    "    heapify(to_check)\n",
    "    seen_states = {b: b.cost}\n",
    "    best_cost = 9999999\n",
    "    i = 0\n",
    "    while to_check:\n",
    "        if i % 5000 == 0:\n",
    "            print(f\"iteration {i}: to check: {len(to_check)}\")\n",
    "        i += 1\n",
    "        checking = heappop(to_check)\n",
    "        if checking.cost > best_cost:\n",
    "            continue\n",
    "        if seen_states[checking] < checking.cost:\n",
    "            continue\n",
    "        for move in checking.legal_moves():\n",
    "            if move.is_solved():\n",
    "                if move.cost < best_cost:\n",
    "                    best_cost = move.cost\n",
    "                    print(f\"found solution with cost {move.cost}\")\n",
    "            if move in seen_states and seen_states[move] <= move.cost:\n",
    "                continue\n",
    "            seen_states[move] = move.cost\n",
    "            heappush(to_check, move)\n",
    "    return best_cost\n",
    "\n",
    "b = Burrow(input_data)\n",
    "%time find_best_solution(b)"
   ]
  },
  {
   "cell_type": "markdown",
   "metadata": {},
   "source": [
    "#### Part 1 Answer\n",
    "**What is the least energy required to organize the amphipods?**"
   ]
  },
  {
   "cell_type": "code",
   "execution_count": null,
   "metadata": {},
   "outputs": [],
   "source": [
    "16491 # not the right answer"
   ]
  }
 ],
 "metadata": {
  "kernelspec": {
   "display_name": "Python 3",
   "language": "python",
   "name": "python3"
  },
  "language_info": {
   "codemirror_mode": {
    "name": "ipython",
    "version": 3
   },
   "file_extension": ".py",
   "mimetype": "text/x-python",
   "name": "python",
   "nbconvert_exporter": "python",
   "pygments_lexer": "ipython3",
   "version": "3.8.5"
  }
 },
 "nbformat": 4,
 "nbformat_minor": 4
}
