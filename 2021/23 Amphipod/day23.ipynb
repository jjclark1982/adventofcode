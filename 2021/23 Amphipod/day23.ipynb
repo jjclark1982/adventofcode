{
 "cells": [
  {
   "cell_type": "markdown",
   "metadata": {},
   "source": [
    "# Advent of Code 2021\n",
    "## [Day 23: Amphipod](https://adventofcode.com/2021/day/23)"
   ]
  },
  {
   "cell_type": "code",
   "execution_count": 3,
   "metadata": {},
   "outputs": [],
   "source": [
    "import numpy as np"
   ]
  },
  {
   "cell_type": "code",
   "execution_count": 81,
   "metadata": {},
   "outputs": [],
   "source": [
    "import heapq"
   ]
  },
  {
   "cell_type": "code",
   "execution_count": 8,
   "metadata": {},
   "outputs": [],
   "source": [
    "import html\n",
    "html_formatter = get_ipython().display_formatter.formatters['text/html']\n",
    "\n",
    "def ndarray_to_html(a):\n",
    "    if a.dtype == '<U1':\n",
    "        s = '\\n'.join([''.join(line) for line in a])\n",
    "    else:\n",
    "        s = str(a)\n",
    "    return \"<pre>{}</pre>\".format(html.escape(s))\n",
    "\n",
    "html_formatter.for_type(np.ndarray, ndarray_to_html)\n",
    "pass"
   ]
  },
  {
   "cell_type": "code",
   "execution_count": 4,
   "metadata": {},
   "outputs": [
    {
     "data": {
      "text/plain": [
       "['#############',\n",
       " '#...........#',\n",
       " '###D#D#A#A###',\n",
       " '  #C#C#B#B#',\n",
       " '  #########']"
      ]
     },
     "execution_count": 4,
     "metadata": {},
     "output_type": "execute_result"
    }
   ],
   "source": [
    "import aocd\n",
    "input_data = aocd.get_data(year=2021, day=23).split('\\n')\n",
    "input_data"
   ]
  },
  {
   "cell_type": "code",
   "execution_count": 5,
   "metadata": {},
   "outputs": [],
   "source": [
    "test_data = [\n",
    "    '#############',\n",
    "    '#...........#',\n",
    "    '###B#C#B#D###',\n",
    "    '  #A#D#C#A#',\n",
    "    '  #########',\n",
    "]"
   ]
  },
  {
   "cell_type": "code",
   "execution_count": 9,
   "metadata": {},
   "outputs": [
    {
     "data": {
      "text/html": [
       "<pre>#############\n",
       "#...........#\n",
       "###B#C#B#D###\n",
       "  #A#D#C#A#  \n",
       "  #########  </pre>"
      ],
      "text/plain": [
       "array([['#', '#', '#', '#', '#', '#', '#', '#', '#', '#', '#', '#', '#'],\n",
       "       ['#', '.', '.', '.', '.', '.', '.', '.', '.', '.', '.', '.', '#'],\n",
       "       ['#', '#', '#', 'B', '#', 'C', '#', 'B', '#', 'D', '#', '#', '#'],\n",
       "       [' ', ' ', '#', 'A', '#', 'D', '#', 'C', '#', 'A', '#', ' ', ' '],\n",
       "       [' ', ' ', '#', '#', '#', '#', '#', '#', '#', '#', '#', ' ', ' ']],\n",
       "      dtype='<U1')"
      ]
     },
     "execution_count": 9,
     "metadata": {},
     "output_type": "execute_result"
    }
   ],
   "source": [
    "def parse_burrow(data):\n",
    "    max_len = max(len(line) for line in data)\n",
    "    data[3] = data[3].ljust(max_len)\n",
    "    data[4] = data[4].ljust(max_len)\n",
    "    burrow = np.array([list(line) for line in data])\n",
    "    return burrow\n",
    "\n",
    "burrow = parse_burrow(test_data)\n",
    "burrow"
   ]
  },
  {
   "cell_type": "code",
   "execution_count": 32,
   "metadata": {},
   "outputs": [
    {
     "data": {
      "text/plain": [
       "('D', 1000)"
      ]
     },
     "execution_count": 32,
     "metadata": {},
     "output_type": "execute_result"
    }
   ],
   "source": [
    "step_cost = {\n",
    "    'A': 1,\n",
    "    'B': 10,\n",
    "    'C': 100,\n",
    "    'D': 1000\n",
    "}\n",
    "burrow[3,5], step_cost[burrow[3,5]]"
   ]
  },
  {
   "cell_type": "code",
   "execution_count": 84,
   "metadata": {},
   "outputs": [],
   "source": [
    "home_column = {\n",
    "    'A': 3,\n",
    "    'B': 5,\n",
    "    'C': 7,\n",
    "    'D': 9\n",
    "}"
   ]
  },
  {
   "cell_type": "code",
   "execution_count": 59,
   "metadata": {},
   "outputs": [
    {
     "data": {
      "text/plain": [
       "60"
      ]
     },
     "execution_count": 59,
     "metadata": {},
     "output_type": "execute_result"
    }
   ],
   "source": [
    "def move_cost(src, dst, species):\n",
    "    # if the move is legal, cost is manhattan distance\n",
    "    y1, x1 = src\n",
    "    y2, x2 = dst\n",
    "    if x1 == x2:\n",
    "        steps = abs(y1 - y2)\n",
    "    else:\n",
    "        steps = abs(y1 - 1) + abs(x2 - x1) + abs(y2 - 1)\n",
    "    return step_cost[species] * steps\n",
    "move_cost((3,5), (3,3), 'B')"
   ]
  },
  {
   "cell_type": "code",
   "execution_count": 61,
   "metadata": {},
   "outputs": [
    {
     "data": {
      "text/plain": [
       "4"
      ]
     },
     "execution_count": 61,
     "metadata": {},
     "output_type": "execute_result"
    }
   ],
   "source": [
    "move_cost((1,1), (3,3), 'A')"
   ]
  },
  {
   "cell_type": "markdown",
   "metadata": {},
   "source": [
    "general strategy is to move \"D\" blockers out, then move \"D\"s in.\n",
    "\n",
    "then proceed to earlier letters.\n",
    "\n",
    "don't need any state other than the board.\n",
    "\n",
    "could use a recursive goal-driven approach:\n",
    "- select a D\n",
    "- find path to its home\n",
    "- move to hall\n",
    "    - for each blocker along the path:\n",
    "        - recursively move it toward its home\n",
    "- move within hall, if permitted\n",
    "- move to home\n",
    "    - for each blocker along the path:\n",
    "        - recursively move it toward its home\n"
   ]
  },
  {
   "cell_type": "markdown",
   "metadata": {},
   "source": [
    "could search all state space:\n",
    "\n",
    "recursive function to find lowest cost to win from current state\n",
    "\n",
    "enumerate all legal moves from current state and their costs\n",
    "\n",
    "boom"
   ]
  },
  {
   "cell_type": "code",
   "execution_count": 192,
   "metadata": {},
   "outputs": [],
   "source": [
    "from functools import cached_property, total_ordering\n",
    "from collections import deque"
   ]
  },
  {
   "cell_type": "code",
   "execution_count": null,
   "metadata": {},
   "outputs": [],
   "source": [
    "class Burrow(object):\n",
    "    def __init__(self, data, cost=0):\n",
    "        self.cost = cost\n",
    "        if isinstance(data, list):\n",
    "            self.grid = parse_burrow(data)\n",
    "        elif isinstance(data, Burrow):\n",
    "            self.grid = data.grid.copy()\n",
    "            \n",
    "    def __str__(self):\n",
    "        return '\\n'.join([''.join(line) for line in self.grid])\n",
    "    \n",
    "    def __repr__(self):\n",
    "        return str(self) + f\" unsolved: {self.num_unsolved}, cost: {self.cost}\"\n",
    "    \n",
    "    def __hash__(self):\n",
    "        return hash(str(self))\n",
    "    \n",
    "    def __eq__(self, other: \"Burrow\"):\n",
    "        return np.array_equal(self.grid, other.grid)\n",
    "    \n",
    "    def __getitem__(self, idx):\n",
    "        return self.grid[tuple(idx)]\n",
    "\n",
    "    def __setitem__(self, idx, value):\n",
    "        self.grid[tuple(idx)] = value\n",
    "        \n",
    "    def score(self):\n",
    "        return self.num_unsolved * 100000 + self.cost\n",
    "    \n",
    "    def __lt__(self, rhs: \"Burrow\"):\n",
    "        return self.score() < rhs.score()\n",
    "\n",
    "    @cached_property\n",
    "    def num_unsolved(self):\n",
    "        total_count = 0\n",
    "        for species, home_col in home_column.items():\n",
    "            mismatch = False\n",
    "            for tile in reversed(self.grid[2:-1,home_col]):\n",
    "                if (tile != species) or mismatch:\n",
    "                    mismatch = True\n",
    "                    total_count += 1\n",
    "        return total_count\n",
    "    \n",
    "    def is_solved(self):\n",
    "        return self.num_unsolved == 0\n",
    "    \n",
    "    def legal_moves(self):\n",
    "        moves = []\n",
    "        for loc in self.amphipod_locations():\n",
    "            moves += self.legal_moves_from(loc)\n",
    "        return moves\n",
    "    \n",
    "    def legal_moves_from(self, src):\n",
    "        species = self[src]\n",
    "        s_row, s_col = src\n",
    "        legal_moves = []\n",
    "        for dst, cost in self.possible_moves_from(src).items():\n",
    "            d_row, d_col = dst\n",
    "            if d_row == 1 and d_col in [3,5,7,9]:\n",
    "                continue\n",
    "            if d_row == 1 and s_row == 1:\n",
    "                continue\n",
    "            if d_col == s_col:\n",
    "                continue\n",
    "            new_burrow = Burrow(self, self.cost + cost)\n",
    "            new_burrow[dst] = species\n",
    "            new_burrow[src] = '.'\n",
    "            if new_burrow.num_unsolved > self.num_unsolved:\n",
    "                continue\n",
    "            legal_moves.append(new_burrow)\n",
    "        return legal_moves\n",
    "    \n",
    "    def possible_moves_from(self, src):\n",
    "        species = self[src]\n",
    "        directions = np.array([[1,0],[-1,0],[0,-1],[0,1]])\n",
    "        seen = {tuple(src): 0}\n",
    "        to_check = deque([(np.array(src), 0)])\n",
    "        while to_check:\n",
    "            checking, cost = to_check.popleft()\n",
    "            for d in directions:\n",
    "                dst = checking + d\n",
    "                if self[dst] != '.':\n",
    "                    continue\n",
    "                if tuple(dst) not in seen:\n",
    "                    seen[tuple(dst)] = cost + step_cost[species]\n",
    "                    to_check.append((dst, cost + step_cost[species]))\n",
    "        del seen[tuple(src)]\n",
    "        return seen\n",
    "\n",
    "    def amphipod_locations(self):\n",
    "        return np.array(np.where(self.grid >= 'A')).T\n",
    "\n",
    "b = Burrow(test_data)\n",
    "#b.legal_moves_from(np.array([2,3]))\n",
    "#for loc in b.amphipod_locations():\n",
    "#    print(loc, len(b.legal_moves_from(loc)))\n",
    "print(len(b.legal_moves()))\n",
    "b"
   ]
  },
  {
   "cell_type": "code",
   "execution_count": 205,
   "metadata": {},
   "outputs": [
    {
     "data": {
      "text/plain": [
       "#############\n",
       "#...........#\n",
       "###B#C#B#D###\n",
       "  #A#D#C#A#  \n",
       "  #########   cost: 0"
      ]
     },
     "execution_count": 205,
     "metadata": {},
     "output_type": "execute_result"
    }
   ],
   "source": [
    "b"
   ]
  },
  {
   "cell_type": "code",
   "execution_count": 163,
   "metadata": {},
   "outputs": [
    {
     "data": {
      "text/plain": [
       "#############\n",
       "#...........#\n",
       "###D#D#A#A###\n",
       "  #C#C#B#B#  \n",
       "  #########   cost: 0"
      ]
     },
     "execution_count": 163,
     "metadata": {},
     "output_type": "execute_result"
    }
   ],
   "source": [
    "c = Burrow(input_data)\n",
    "c"
   ]
  },
  {
   "cell_type": "code",
   "execution_count": 164,
   "metadata": {},
   "outputs": [
    {
     "data": {
      "text/plain": [
       "[#############\n",
       " #...........#\n",
       " ###B#C#B#D###\n",
       "   #A#D#C#A#  \n",
       "   #########   cost: 0,\n",
       " #############\n",
       " #...........#\n",
       " ###D#D#A#A###\n",
       "   #C#C#B#B#  \n",
       "   #########   cost: 0]"
      ]
     },
     "execution_count": 164,
     "metadata": {},
     "output_type": "execute_result"
    }
   ],
   "source": [
    "sorted([b, c], key=lambda x: x.num_unsolved)"
   ]
  },
  {
   "cell_type": "code",
   "execution_count": 169,
   "metadata": {},
   "outputs": [
    {
     "data": {
      "text/plain": [
       "{#############\n",
       " #...........#\n",
       " ###B#C#B#D###\n",
       "   #A#D#C#A#  \n",
       "   #########   cost: 0: 0,\n",
       " #############\n",
       " #...........#\n",
       " ###D#D#A#A###\n",
       "   #C#C#B#B#  \n",
       "   #########   cost: 0: 0}"
      ]
     },
     "execution_count": 169,
     "metadata": {},
     "output_type": "execute_result"
    }
   ],
   "source": [
    "{b: b.cost,c: c.cost}"
   ]
  },
  {
   "cell_type": "code",
   "execution_count": 153,
   "metadata": {},
   "outputs": [
    {
     "data": {
      "text/plain": [
       "[#############\n",
       " #..B........#\n",
       " ###.#C#B#D###\n",
       "   #A#D#C#A#  \n",
       "   #########   cost: 10,\n",
       " #############\n",
       " #....C......#\n",
       " ###B#.#B#D###\n",
       "   #A#D#C#A#  \n",
       "   #########   cost: 100,\n",
       " #############\n",
       " #......B....#\n",
       " ###B#C#.#D###\n",
       "   #A#D#C#A#  \n",
       "   #########   cost: 10,\n",
       " #############\n",
       " #........D..#\n",
       " ###B#C#B#.###\n",
       "   #A#D#C#A#  \n",
       "   #########   cost: 1000]"
      ]
     },
     "execution_count": 153,
     "metadata": {},
     "output_type": "execute_result"
    }
   ],
   "source": [
    "b.legal_moves()"
   ]
  },
  {
   "cell_type": "code",
   "execution_count": 93,
   "metadata": {},
   "outputs": [
    {
     "data": {
      "text/plain": [
       "['A', 'B']"
      ]
     },
     "execution_count": 93,
     "metadata": {},
     "output_type": "execute_result"
    }
   ],
   "source": [
    "[tile for tile in reversed(b.grid[2:-1,3])]"
   ]
  },
  {
   "cell_type": "code",
   "execution_count": 76,
   "metadata": {},
   "outputs": [
    {
     "data": {
      "text/plain": [
       "(2, 3)"
      ]
     },
     "execution_count": 76,
     "metadata": {},
     "output_type": "execute_result"
    }
   ],
   "source": [
    "src = tuple(np.array(np.where(b.grid >= 'A')).T[0])\n",
    "src"
   ]
  },
  {
   "cell_type": "code",
   "execution_count": 77,
   "metadata": {},
   "outputs": [
    {
     "data": {
      "text/plain": [
       "'B'"
      ]
     },
     "execution_count": 77,
     "metadata": {},
     "output_type": "execute_result"
    }
   ],
   "source": [
    "b.grid[src]"
   ]
  },
  {
   "cell_type": "code",
   "execution_count": 156,
   "metadata": {},
   "outputs": [
    {
     "data": {
      "text/plain": [
       "True"
      ]
     },
     "execution_count": 156,
     "metadata": {},
     "output_type": "execute_result"
    }
   ],
   "source": [
    "solved_data = [\n",
    "    '#############',\n",
    "    '#...........#',\n",
    "    '###A#B#C#D###',\n",
    "    '  #A#B#C#D#',\n",
    "    '  #########',\n",
    "]\n",
    "Burrow(solved_data).is_solved()"
   ]
  },
  {
   "cell_type": "code",
   "execution_count": 158,
   "metadata": {},
   "outputs": [],
   "source": [
    "from heapq import heapify, heappush, heappop\n"
   ]
  },
  {
   "cell_type": "code",
   "execution_count": 276,
   "metadata": {},
   "outputs": [
    {
     "name": "stdout",
     "output_type": "stream",
     "text": [
      "found solution with cost 12581\n",
      "found solution with cost 12561\n",
      "iteration 5000: to check: 782\n",
      "iteration 10000: to check: 521\n",
      "iteration 15000: to check: 2385\n",
      "iteration 20000: to check: 1659\n",
      "iteration 25000: to check: 3476\n",
      "iteration 30000: to check: 4734\n",
      "iteration 35000: to check: 5258\n",
      "iteration 40000: to check: 4497\n",
      "iteration 45000: to check: 1503\n",
      "iteration 50000: to check: 1294\n",
      "iteration 55000: to check: 138\n",
      "found solution with cost 12521\n",
      "iteration 60000: to check: 909\n",
      "iteration 65000: to check: 430\n",
      "iteration 70000: to check: 246\n",
      "iteration 75000: to check: 2960\n",
      "iteration 80000: to check: 2683\n",
      "iteration 85000: to check: 3146\n",
      "iteration 90000: to check: 4239\n",
      "iteration 95000: to check: 8765\n",
      "iteration 100000: to check: 8787\n",
      "iteration 105000: to check: 8926\n",
      "iteration 110000: to check: 8716\n",
      "iteration 115000: to check: 10284\n",
      "iteration 120000: to check: 10940\n",
      "iteration 125000: to check: 11973\n",
      "iteration 130000: to check: 12089\n",
      "iteration 135000: to check: 10720\n",
      "iteration 140000: to check: 8550\n",
      "iteration 145000: to check: 8137\n",
      "iteration 150000: to check: 6201\n",
      "iteration 155000: to check: 2224\n",
      "iteration 160000: to check: 2464\n",
      "iteration 165000: to check: 2063\n",
      "iteration 170000: to check: 2159\n",
      "iteration 175000: to check: 2976\n",
      "iteration 180000: to check: 5316\n",
      "iteration 185000: to check: 4538\n",
      "iteration 190000: to check: 7111\n",
      "iteration 195000: to check: 7978\n",
      "iteration 200000: to check: 6422\n",
      "iteration 205000: to check: 2418\n",
      "iteration 210000: to check: 4256\n",
      "iteration 215000: to check: 6241\n",
      "iteration 220000: to check: 4481\n",
      "iteration 225000: to check: 2819\n",
      "iteration 230000: to check: 3024\n",
      "iteration 235000: to check: 3105\n",
      "iteration 240000: to check: 3644\n",
      "iteration 245000: to check: 3943\n",
      "iteration 250000: to check: 5437\n",
      "iteration 255000: to check: 8476\n",
      "iteration 260000: to check: 10049\n",
      "iteration 265000: to check: 12695\n",
      "iteration 270000: to check: 12220\n",
      "iteration 275000: to check: 13033\n",
      "iteration 280000: to check: 13050\n",
      "iteration 285000: to check: 17484\n",
      "iteration 290000: to check: 24231\n",
      "iteration 295000: to check: 28848\n",
      "iteration 300000: to check: 27917\n",
      "iteration 305000: to check: 26745\n",
      "iteration 310000: to check: 21745\n",
      "iteration 315000: to check: 16745\n",
      "iteration 320000: to check: 14557\n",
      "iteration 325000: to check: 16136\n",
      "iteration 330000: to check: 19723\n",
      "iteration 335000: to check: 18401\n",
      "iteration 340000: to check: 13690\n",
      "iteration 345000: to check: 15870\n",
      "iteration 350000: to check: 14798\n",
      "iteration 355000: to check: 16166\n",
      "iteration 360000: to check: 14066\n",
      "iteration 365000: to check: 16459\n",
      "iteration 370000: to check: 17523\n",
      "iteration 375000: to check: 14361\n",
      "iteration 380000: to check: 14417\n",
      "iteration 385000: to check: 14747\n",
      "iteration 390000: to check: 15618\n",
      "iteration 395000: to check: 18695\n",
      "iteration 400000: to check: 17618\n",
      "iteration 405000: to check: 19243\n",
      "iteration 410000: to check: 18525\n",
      "iteration 415000: to check: 18817\n",
      "iteration 420000: to check: 20546\n",
      "iteration 425000: to check: 19692\n",
      "iteration 430000: to check: 20183\n",
      "iteration 435000: to check: 20092\n",
      "iteration 440000: to check: 24715\n",
      "iteration 445000: to check: 32706\n",
      "iteration 450000: to check: 39136\n",
      "iteration 455000: to check: 39014\n",
      "iteration 460000: to check: 41006\n",
      "iteration 465000: to check: 39104\n",
      "iteration 470000: to check: 40212\n",
      "iteration 475000: to check: 40662\n",
      "iteration 480000: to check: 43161\n",
      "iteration 485000: to check: 46650\n",
      "iteration 490000: to check: 48809\n",
      "iteration 495000: to check: 50378\n",
      "iteration 500000: to check: 49265\n",
      "iteration 505000: to check: 50048\n",
      "iteration 510000: to check: 52002\n",
      "iteration 515000: to check: 53495\n",
      "iteration 520000: to check: 54904\n",
      "iteration 525000: to check: 55016\n",
      "iteration 530000: to check: 56817\n",
      "iteration 535000: to check: 57842\n",
      "iteration 540000: to check: 59344\n",
      "iteration 545000: to check: 61443\n",
      "iteration 550000: to check: 62589\n",
      "iteration 555000: to check: 63497\n",
      "iteration 560000: to check: 64918\n",
      "iteration 565000: to check: 65038\n",
      "iteration 570000: to check: 66489\n",
      "iteration 575000: to check: 68123\n",
      "iteration 580000: to check: 69236\n",
      "iteration 585000: to check: 70150\n",
      "iteration 590000: to check: 69571\n",
      "iteration 595000: to check: 68816\n",
      "iteration 600000: to check: 68701\n",
      "iteration 605000: to check: 67437\n",
      "iteration 610000: to check: 66897\n",
      "iteration 615000: to check: 67543\n",
      "iteration 620000: to check: 67776\n",
      "iteration 625000: to check: 67738\n",
      "iteration 630000: to check: 68216\n",
      "iteration 635000: to check: 67207\n",
      "iteration 640000: to check: 67174\n",
      "iteration 645000: to check: 66994\n",
      "iteration 650000: to check: 66253\n",
      "iteration 655000: to check: 66277\n",
      "iteration 660000: to check: 64954\n",
      "iteration 665000: to check: 63202\n",
      "iteration 670000: to check: 61671\n",
      "iteration 675000: to check: 61939\n",
      "iteration 680000: to check: 61235\n",
      "iteration 685000: to check: 60167\n",
      "iteration 690000: to check: 58537\n",
      "iteration 695000: to check: 55749\n",
      "iteration 700000: to check: 53450\n",
      "iteration 705000: to check: 50203\n",
      "iteration 710000: to check: 47119\n",
      "iteration 715000: to check: 43669\n",
      "iteration 720000: to check: 40470\n",
      "iteration 725000: to check: 36814\n",
      "iteration 730000: to check: 34021\n",
      "iteration 735000: to check: 31604\n",
      "iteration 740000: to check: 26604\n",
      "iteration 745000: to check: 21604\n",
      "iteration 750000: to check: 16604\n",
      "iteration 755000: to check: 11604\n",
      "iteration 760000: to check: 6604\n",
      "iteration 765000: to check: 1604\n",
      "CPU times: user 12min 45s, sys: 18.3 s, total: 13min 3s\n",
      "Wall time: 12min 57s\n"
     ]
    },
    {
     "data": {
      "text/plain": [
       "12521"
      ]
     },
     "execution_count": 276,
     "metadata": {},
     "output_type": "execute_result"
    }
   ],
   "source": [
    "def find_best_solution(b: burrow):\n",
    "    to_check = [b]\n",
    "    heapify(to_check)\n",
    "    seen_states = {b: b.cost}\n",
    "    best_cost = 9999999\n",
    "    i = 0\n",
    "    while to_check:\n",
    "        i += 1\n",
    "        if i % 5000 == 0:\n",
    "            print(f\"iteration {i}: to check: {len(to_check)}\")\n",
    "        checking = heappop(to_check)\n",
    "        if checking.cost > best_cost:\n",
    "            continue\n",
    "        if seen_states[checking] < checking.cost:\n",
    "            continue\n",
    "        for move in checking.legal_moves():\n",
    "            if move.is_solved():\n",
    "                if move.cost < best_cost:\n",
    "                    best_cost = move.cost\n",
    "                    print(f\"found solution with cost {move.cost}\")\n",
    "            if move in seen_states and seen_states[move] <= move.cost:\n",
    "                continue\n",
    "            seen_states[move] = move.cost\n",
    "            heappush(to_check, move)\n",
    "    return best_cost\n",
    "\n",
    "%time find_best_solution(b)"
   ]
  },
  {
   "cell_type": "markdown",
   "metadata": {},
   "source": [
    "#### Part 1 Answer\n",
    "**What is the least energy required to organize the amphipods?**"
   ]
  },
  {
   "cell_type": "code",
   "execution_count": null,
   "metadata": {},
   "outputs": [],
   "source": [
    "12521 # not the right answer"
   ]
  }
 ],
 "metadata": {
  "kernelspec": {
   "display_name": "Python 3",
   "language": "python",
   "name": "python3"
  },
  "language_info": {
   "codemirror_mode": {
    "name": "ipython",
    "version": 3
   },
   "file_extension": ".py",
   "mimetype": "text/x-python",
   "name": "python",
   "nbconvert_exporter": "python",
   "pygments_lexer": "ipython3",
   "version": "3.8.5"
  }
 },
 "nbformat": 4,
 "nbformat_minor": 4
}
