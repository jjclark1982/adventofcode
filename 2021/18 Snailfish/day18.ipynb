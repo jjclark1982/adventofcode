{
 "cells": [
  {
   "cell_type": "markdown",
   "metadata": {},
   "source": [
    "# Advent of Code 2021\n",
    "## [Day 18: Snailfish](https://adventofcode.com/2021/day/18)"
   ]
  },
  {
   "cell_type": "markdown",
   "metadata": {},
   "source": [
    "#### Load Data"
   ]
  },
  {
   "cell_type": "code",
   "execution_count": 1,
   "metadata": {},
   "outputs": [],
   "source": [
    "import json\n",
    "import math\n",
    "#from collections import deque\n",
    "from textwrap import indent\n",
    "#import weakref\n",
    "#import treelib"
   ]
  },
  {
   "cell_type": "code",
   "execution_count": 2,
   "metadata": {},
   "outputs": [
    {
     "data": {
      "text/plain": [
       "[[[8, 8], 5],\n",
       " [[[[9, 0], 1], 4], [[3, 6], [0, 5]]],\n",
       " [[9, [0, [4, 5]]], [1, [[6, 8], 4]]],\n",
       " [[8, 7], [[[8, 5], [2, 0]], [[6, 3], [5, 0]]]],\n",
       " [[[1, 8], 2], [[[9, 1], [2, 0]], [1, [9, 4]]]]]"
      ]
     },
     "execution_count": 2,
     "metadata": {},
     "output_type": "execute_result"
    }
   ],
   "source": [
    "import aocd\n",
    "input_data = [json.loads(s) for s in aocd.get_data(year=2021, day=18).split('\\n')]\n",
    "input_data[:5]"
   ]
  },
  {
   "cell_type": "markdown",
   "metadata": {},
   "source": [
    "### Part 1"
   ]
  },
  {
   "cell_type": "code",
   "execution_count": 3,
   "metadata": {},
   "outputs": [],
   "source": [
    "class SnailfishNumber(object):\n",
    "    parent = None\n",
    "    value = None\n",
    "    lhs = None\n",
    "    rhs = None\n",
    "    \n",
    "    def __init__(self, value):\n",
    "        if value is None:\n",
    "            return\n",
    "        if type(value) is str:\n",
    "            value = json.loads(value)\n",
    "        if type(value) is int:\n",
    "            self.__class__ = RegularNum\n",
    "            self.__init__(value)\n",
    "        elif type(value) is list:\n",
    "            self.__class__ = PairNum\n",
    "            self.__init__(value[0], value[1])\n",
    "        elif issubclass(type(value.__class__), type(SnailfishNumber)):\n",
    "            # make a deep copy\n",
    "            self.__class__ = value.__class__\n",
    "            self.value = value.value\n",
    "            self.lhs = SnailfishNumber(value.lhs)\n",
    "            if self.lhs:\n",
    "                self.lhs.parent = self\n",
    "            self.rhs = SnailfishNumber(value.rhs)\n",
    "            if self.rhs:\n",
    "                self.rhs.parent = self\n",
    "        else:\n",
    "            raise TypeError()\n",
    "            \n",
    "    def depth(self):\n",
    "        if self.parent is None:\n",
    "            return 0\n",
    "        return 1 + self.parent.depth()\n",
    "\n",
    "    def __add__(self, rhs: \"SnailfishNumber\"):\n",
    "        joined = PairNum(self, rhs)\n",
    "        joined.reduce()\n",
    "        return joined\n",
    "    \n",
    "# SnailfishNumber([[[[1,2],[3,4]],[[5,6],[7,8]]],9])"
   ]
  },
  {
   "cell_type": "code",
   "execution_count": 4,
   "metadata": {},
   "outputs": [
    {
     "data": {
      "text/plain": [
       "9"
      ]
     },
     "execution_count": 4,
     "metadata": {},
     "output_type": "execute_result"
    }
   ],
   "source": [
    "class RegularNum(SnailfishNumber):\n",
    "    def __init__(self, value):\n",
    "        self.value = value\n",
    "        \n",
    "    def __repr__(self):\n",
    "        return f\"{self.value}\"\n",
    "    \n",
    "    def __add__(self, other):\n",
    "        if isinstance(other, RegularNum):\n",
    "            other = other.value\n",
    "        return RegularNum(self.value + other)\n",
    "\n",
    "    def __iadd__(self, other):\n",
    "        if isinstance(other, RegularNum):\n",
    "            other = other.value\n",
    "        self.value += other\n",
    "        return self\n",
    "    \n",
    "    def height(self):\n",
    "        return 0\n",
    "\n",
    "    def magnitude(self):\n",
    "        return self.value\n",
    "    \n",
    "    def leftmost_leaf(self):\n",
    "        return self\n",
    "    \n",
    "    def rightmost_leaf(self):\n",
    "        return self\n",
    "    \n",
    "r = RegularNum(2)\n",
    "r += RegularNum(3)\n",
    "r += 4\n",
    "r"
   ]
  },
  {
   "cell_type": "code",
   "execution_count": 5,
   "metadata": {},
   "outputs": [
    {
     "data": {
      "text/plain": [
       "[8,7]"
      ]
     },
     "execution_count": 5,
     "metadata": {},
     "output_type": "execute_result"
    }
   ],
   "source": [
    "class PairNum(SnailfishNumber):\n",
    "    def __init__(self, lhs, rhs):\n",
    "        self.lhs = SnailfishNumber(lhs)\n",
    "        self.lhs.parent = self\n",
    "        self.rhs = SnailfishNumber(rhs)\n",
    "        self.rhs.parent = self\n",
    "        \n",
    "    def __repr__(self):\n",
    "        # repr is one-line and can be parsed\n",
    "        return f\"[{repr(self.lhs)},{repr(self.rhs)}]\"\n",
    "        \n",
    "    def __str__(self):\n",
    "        # draw a multi-line tree structure\n",
    "        lhs = indent(str(self.lhs), '│  ')\n",
    "        lhs = '├──' + lhs[3:]\n",
    "        rhs = indent(str(self.rhs), '   ')\n",
    "        rhs = '└──' + rhs[3:]\n",
    "        return f\"┬{lhs[1:]}\\n{rhs}\"\n",
    "    \n",
    "    def height(self):\n",
    "        if type(self.lhs) is int and type(self.rhs) is int:\n",
    "            return 1\n",
    "        return 1 + max(self.lhs.height(), self.rhs.height())\n",
    "\n",
    "    def magnitude(self):\n",
    "        return 3*self.lhs.magnitude() + 2*self.rhs.magnitude()\n",
    "        \n",
    "    def leftmost_leaf(self):\n",
    "        return self.lhs.leftmost_leaf()\n",
    "\n",
    "    def rightmost_leaf(self):\n",
    "        return self.rhs.rightmost_leaf()\n",
    "\n",
    "    def is_simple_pair(self):\n",
    "        return self.height() == 1\n",
    "\n",
    "PairNum(8,7)"
   ]
  },
  {
   "cell_type": "code",
   "execution_count": 6,
   "metadata": {},
   "outputs": [
    {
     "name": "stdout",
     "output_type": "stream",
     "text": [
      "┬──┬──┬──┬──1\n",
      "│  │  │  └──2\n",
      "│  │  └──┬──3\n",
      "│  │     └──4\n",
      "│  └──┬──┬──5\n",
      "│     │  └──6\n",
      "│     └──┬──7\n",
      "│        └──8\n",
      "└──9\n"
     ]
    },
    {
     "data": {
      "text/plain": [
       "[[[[1,2],[3,4]],[[5,6],[7,8]]],9]"
      ]
     },
     "execution_count": 6,
     "metadata": {},
     "output_type": "execute_result"
    }
   ],
   "source": [
    "s = SnailfishNumber([[[[1,2],[3,4]],[[5,6],[7,8]]],9])\n",
    "print(s)\n",
    "s"
   ]
  },
  {
   "cell_type": "markdown",
   "metadata": {},
   "source": [
    "#### RegularNum.split method"
   ]
  },
  {
   "cell_type": "code",
   "execution_count": 7,
   "metadata": {},
   "outputs": [
    {
     "data": {
      "text/plain": [
       "[7,8]"
      ]
     },
     "execution_count": 7,
     "metadata": {},
     "output_type": "execute_result"
    }
   ],
   "source": [
    "def split(self):\n",
    "    lhs = RegularNum(math.floor(self.value / 2))\n",
    "    rhs = RegularNum(math.ceil(self.value / 2))\n",
    "    lhs.parent = self\n",
    "    rhs.parent = self\n",
    "\n",
    "    self.value = None\n",
    "    self.__class__ = PairNum\n",
    "    self.__init__(lhs, rhs)\n",
    "        \n",
    "RegularNum.split = split\n",
    "        \n",
    "r = RegularNum(15)\n",
    "r.split()\n",
    "r"
   ]
  },
  {
   "cell_type": "code",
   "execution_count": 8,
   "metadata": {},
   "outputs": [
    {
     "data": {
      "text/plain": [
       "15"
      ]
     },
     "execution_count": 8,
     "metadata": {},
     "output_type": "execute_result"
    }
   ],
   "source": [
    "def find_split_leaf(self: RegularNum):\n",
    "    if self.value >= 10:\n",
    "        return self\n",
    "    \n",
    "RegularNum.find_split = find_split_leaf\n",
    "\n",
    "def find_split_pair(self: PairNum):\n",
    "    return self.lhs.find_split() or self.rhs.find_split()\n",
    "\n",
    "PairNum.find_split = find_split_pair\n",
    "\n",
    "s = SnailfishNumber([[[[0,7],4],[15,[0,13]]],[1,1]])\n",
    "s.find_split()"
   ]
  },
  {
   "cell_type": "code",
   "execution_count": 9,
   "metadata": {},
   "outputs": [
    {
     "data": {
      "text/plain": [
       "[[[[0,7],4],[[7,8],[0,13]]],[1,1]]"
      ]
     },
     "execution_count": 9,
     "metadata": {},
     "output_type": "execute_result"
    }
   ],
   "source": [
    "s.find_split().split()\n",
    "s"
   ]
  },
  {
   "cell_type": "markdown",
   "metadata": {},
   "source": [
    "#### PairNum.explode method"
   ]
  },
  {
   "cell_type": "code",
   "execution_count": 10,
   "metadata": {},
   "outputs": [
    {
     "data": {
      "text/plain": [
       "([3,4], 5)"
      ]
     },
     "execution_count": 10,
     "metadata": {},
     "output_type": "execute_result"
    }
   ],
   "source": [
    "def find_leaf_to_right(self):\n",
    "    cursor = self\n",
    "    while cursor.parent is not None:\n",
    "        if cursor.parent.lhs is cursor:\n",
    "            return cursor.parent.rhs.leftmost_leaf()\n",
    "        cursor = cursor.parent\n",
    "\n",
    "SnailfishNumber.find_leaf_to_right = find_leaf_to_right\n",
    "\n",
    "def find_leaf_to_left(self):\n",
    "    cursor = self\n",
    "    while cursor.parent is not None:\n",
    "        if cursor.parent.rhs is cursor:\n",
    "            return cursor.parent.lhs.rightmost_leaf()\n",
    "        cursor = cursor.parent\n",
    "\n",
    "SnailfishNumber.find_leaf_to_left = find_leaf_to_left\n",
    "\n",
    "s = SnailfishNumber([[[[1,2],[3,4]],[[5,6],[7,8]]],9])\n",
    "s.lhs.lhs.rhs, s.lhs.lhs.rhs.find_leaf_to_right()"
   ]
  },
  {
   "cell_type": "code",
   "execution_count": 11,
   "metadata": {},
   "outputs": [
    {
     "data": {
      "text/plain": [
       "[0,[5,4]]"
      ]
     },
     "execution_count": 11,
     "metadata": {},
     "output_type": "execute_result"
    }
   ],
   "source": [
    "def explode(self):\n",
    "    lhs, rhs = self.lhs, self.rhs\n",
    "    \n",
    "    leftie = self.find_leaf_to_left()\n",
    "    if leftie:\n",
    "        leftie += self.lhs\n",
    "\n",
    "    rightie = self.find_leaf_to_right()\n",
    "    if rightie:\n",
    "        rightie += self.rhs\n",
    "\n",
    "    self.lhs = None\n",
    "    self.rhs = None\n",
    "    self.__class__ = RegularNum\n",
    "    self.__init__(0)\n",
    "\n",
    "PairNum.explode = explode\n",
    "s = SnailfishNumber([[1,2],[3,4]])\n",
    "s.lhs.explode()\n",
    "s"
   ]
  },
  {
   "cell_type": "code",
   "execution_count": 12,
   "metadata": {},
   "outputs": [
    {
     "data": {
      "text/plain": [
       "[9,8]"
      ]
     },
     "execution_count": 12,
     "metadata": {},
     "output_type": "execute_result"
    }
   ],
   "source": [
    "def find_explode(self):\n",
    "    if not isinstance(self, PairNum):\n",
    "        return None\n",
    "    if self.is_simple_pair() and self.depth() >= 4:\n",
    "        return self\n",
    "    found = self.lhs.find_explode() or self.rhs.find_explode()\n",
    "    return found\n",
    "\n",
    "SnailfishNumber.find_explode = find_explode\n",
    "\n",
    "s = SnailfishNumber([5,[[[[[9,8],1],2],3],4]])\n",
    "s.find_explode()"
   ]
  },
  {
   "cell_type": "code",
   "execution_count": 13,
   "metadata": {},
   "outputs": [
    {
     "data": {
      "text/plain": [
       "[14,[[[[0,9],2],3],4]]"
      ]
     },
     "execution_count": 13,
     "metadata": {},
     "output_type": "execute_result"
    }
   ],
   "source": [
    "s.find_explode().explode()\n",
    "s"
   ]
  },
  {
   "cell_type": "code",
   "execution_count": 14,
   "metadata": {},
   "outputs": [
    {
     "data": {
      "text/plain": [
       "[4,3]"
      ]
     },
     "execution_count": 14,
     "metadata": {},
     "output_type": "execute_result"
    }
   ],
   "source": [
    "s = SnailfishNumber([[[[[4,3],4],4],[7,[[8,4],9]]],[1,1]])\n",
    "s.find_explode()"
   ]
  },
  {
   "cell_type": "markdown",
   "metadata": {},
   "source": [
    "#### Reduce Operation"
   ]
  },
  {
   "cell_type": "code",
   "execution_count": 15,
   "metadata": {},
   "outputs": [
    {
     "name": "stdout",
     "output_type": "stream",
     "text": [
      "after addition: [[[[[4,3],4],4],[7,[[8,4],9]]],[1,1]]\n",
      "after explode:  [[[[0,7],4],[7,[[8,4],9]]],[1,1]]\n",
      "after explode:  [[[[0,7],4],[15,[0,13]]],[1,1]]\n",
      "after split:    [[[[0,7],4],[[7,8],[0,13]]],[1,1]]\n",
      "after split:    [[[[0,7],4],[[7,8],[0,[6,7]]]],[1,1]]\n",
      "after explode:  [[[[0,7],4],[[7,8],[6,0]]],[8,1]]\n"
     ]
    }
   ],
   "source": [
    "def reduce(self, verbose=False):\n",
    "    \"\"\"reduce it\"\"\"\n",
    "    if verbose:\n",
    "        print(f\"after addition: {repr(self)}\")\n",
    "    done = False\n",
    "    while not done:\n",
    "        done = True\n",
    "        to_explode = self.find_explode()\n",
    "        if to_explode:\n",
    "            done = False\n",
    "            to_explode.explode()\n",
    "            if verbose:\n",
    "                print(f\"after explode:  {repr(self)}\")\n",
    "            continue\n",
    "        to_split = self.find_split()\n",
    "        if to_split:\n",
    "            done = False\n",
    "            to_split.split()\n",
    "            if verbose:\n",
    "                print(f\"after split:    {repr(self)}\")\n",
    "\n",
    "SnailfishNumber.reduce = reduce\n",
    "\n",
    "s = SnailfishNumber([[[[[4,3],4],4],[7,[[8,4],9]]],[1,1]])\n",
    "s.reduce(verbose=True)"
   ]
  },
  {
   "cell_type": "code",
   "execution_count": 16,
   "metadata": {},
   "outputs": [
    {
     "name": "stdout",
     "output_type": "stream",
     "text": [
      "┬──┬──┬──┬──┬──4\n",
      "│  │  │  │  └──3\n",
      "│  │  │  └──4\n",
      "│  │  └──4\n",
      "│  └──┬──7\n",
      "│     └──┬──┬──8\n",
      "│        │  └──4\n",
      "│        └──9\n",
      "└──┬──1\n",
      "   └──1\n",
      "┬──┬──┬──┬──0\n",
      "│  │  │  └──7\n",
      "│  │  └──4\n",
      "│  └──┬──┬──7\n",
      "│     │  └──8\n",
      "│     └──┬──6\n",
      "│        └──0\n",
      "└──┬──8\n",
      "   └──1\n"
     ]
    }
   ],
   "source": [
    "s = SnailfishNumber([[[[[4,3],4],4],[7,[[8,4],9]]],[1,1]])\n",
    "print(s)\n",
    "s.reduce()\n",
    "print(s)"
   ]
  },
  {
   "cell_type": "markdown",
   "metadata": {},
   "source": [
    "#### SnailfishNum Add operator"
   ]
  },
  {
   "cell_type": "code",
   "execution_count": 17,
   "metadata": {},
   "outputs": [
    {
     "data": {
      "text/plain": [
       "[[[[0,7],4],[[7,8],[6,0]]],[8,1]]"
      ]
     },
     "execution_count": 17,
     "metadata": {},
     "output_type": "execute_result"
    }
   ],
   "source": [
    "s1 = SnailfishNumber([[[[4,3],4],4],[7,[[8,4],9]]])\n",
    "s2 = SnailfishNumber([1,1])\n",
    "s1 + s2"
   ]
  },
  {
   "cell_type": "markdown",
   "metadata": {},
   "source": [
    "#### Sum of lists"
   ]
  },
  {
   "cell_type": "code",
   "execution_count": 18,
   "metadata": {},
   "outputs": [],
   "source": [
    "test_data = [\n",
    "    [1,1],\n",
    "    [2,2],\n",
    "    [3,3],\n",
    "    [4,4],\n",
    "    [5,5],\n",
    "    [6,6]\n",
    "]"
   ]
  },
  {
   "cell_type": "code",
   "execution_count": 19,
   "metadata": {},
   "outputs": [
    {
     "data": {
      "text/plain": [
       "[[[[5,0],[7,4]],[5,5]],[6,6]]"
      ]
     },
     "execution_count": 19,
     "metadata": {},
     "output_type": "execute_result"
    }
   ],
   "source": [
    "def homework(input_data, verbose=False):\n",
    "    result = SnailfishNumber(input_data[0])\n",
    "    for n in input_data[1:]:\n",
    "        num = SnailfishNumber(n)\n",
    "        if verbose:\n",
    "            print(\" \", repr(result))\n",
    "            print(\"+\", repr(num))\n",
    "        result = result + num\n",
    "        if verbose:\n",
    "            print(\"=\", repr(result))\n",
    "            print()\n",
    "    return result\n",
    "homework(test_data, verbose=False)"
   ]
  },
  {
   "cell_type": "code",
   "execution_count": 20,
   "metadata": {},
   "outputs": [
    {
     "data": {
      "text/plain": [
       "[[[[8,7],[7,7]],[[8,6],[7,7]]],[[[0,7],[6,6]],[8,7]]]"
      ]
     },
     "execution_count": 20,
     "metadata": {},
     "output_type": "execute_result"
    }
   ],
   "source": [
    "test_data = [\n",
    "    [[[0,[4,5]],[0,0]],[[[4,5],[2,6]],[9,5]]],\n",
    "    [7,[[[3,7],[4,3]],[[6,3],[8,8]]]],\n",
    "    [[2,[[0,8],[3,4]]],[[[6,7],1],[7,[1,6]]]],\n",
    "    [[[[2,4],7],[6,[0,5]]],[[[6,8],[2,8]],[[2,1],[4,5]]]],\n",
    "    [7,[5,[[3,8],[1,4]]]],\n",
    "    [[2,[2,2]],[8,[8,1]]],\n",
    "    [2,9],\n",
    "    [1,[[[9,3],9],[[9,0],[0,7]]]],\n",
    "    [[[5,[7,4]],7],1],\n",
    "    [[[[4,2],2],6],[8,7]]\n",
    "]\n",
    "homework(test_data)"
   ]
  },
  {
   "cell_type": "code",
   "execution_count": 21,
   "metadata": {},
   "outputs": [
    {
     "data": {
      "text/plain": [
       "[[[[4,0],[5,4]],[[7,7],[6,0]]],[[8,[7,7]],[[7,9],[5,0]]]]"
      ]
     },
     "execution_count": 21,
     "metadata": {},
     "output_type": "execute_result"
    }
   ],
   "source": [
    "SnailfishNumber(test_data[0]) + SnailfishNumber(test_data[1])"
   ]
  },
  {
   "cell_type": "markdown",
   "metadata": {},
   "source": [
    "#### Part 1 Answer\n",
    "Add up all of the snailfish numbers from the homework assignment in the order they appear.  \n",
    "**What is the magnitude of the final sum?**"
   ]
  },
  {
   "cell_type": "code",
   "execution_count": 22,
   "metadata": {},
   "outputs": [
    {
     "data": {
      "text/plain": [
       "3725"
      ]
     },
     "execution_count": 22,
     "metadata": {},
     "output_type": "execute_result"
    }
   ],
   "source": [
    "homework(input_data).magnitude()"
   ]
  },
  {
   "cell_type": "markdown",
   "metadata": {},
   "source": [
    "### Part 2"
   ]
  },
  {
   "cell_type": "code",
   "execution_count": 23,
   "metadata": {},
   "outputs": [],
   "source": [
    "test_data = [\n",
    "    [[[0,[5,8]],[[1,7],[9,6]]],[[4,[1,2]],[[1,4],2]]],\n",
    "    [[[5,[2,8]],4],[5,[[9,9],0]]],\n",
    "    [6,[[[6,2],[5,6]],[[7,6],[4,7]]]],\n",
    "    [[[6,[0,7]],[0,9]],[4,[9,[9,0]]]],\n",
    "    [[[7,[6,4]],[3,[1,3]]],[[[5,5],1],9]],\n",
    "    [[6,[[7,3],[3,2]]],[[[3,8],[5,7]],4]],\n",
    "    [[[[5,4],[7,7]],8],[[8,3],8]],\n",
    "    [[9,3],[[9,9],[6,[4,9]]]],\n",
    "    [[2,[[7,7],7]],[[5,8],[[9,3],[0,2]]]],\n",
    "    [[[[5,2],5],[8,[3,7]]],[[5,[7,5]],[4,4]]]    \n",
    "]"
   ]
  },
  {
   "cell_type": "code",
   "execution_count": 24,
   "metadata": {},
   "outputs": [
    {
     "data": {
      "text/plain": [
       "3993"
      ]
     },
     "execution_count": 24,
     "metadata": {},
     "output_type": "execute_result"
    }
   ],
   "source": [
    "def largest_mag(input_data):\n",
    "    largest_seen = 0\n",
    "    for i in range(len(input_data)):\n",
    "        for j in range(len(input_data)):\n",
    "            if i == j:\n",
    "                continue\n",
    "            num_i = SnailfishNumber(input_data[i])\n",
    "            num_j = SnailfishNumber(input_data[j])\n",
    "            mag = (num_i + num_j).magnitude()\n",
    "            if mag > largest_seen:\n",
    "                largest_seen = mag\n",
    "    return largest_seen\n",
    "largest_mag(test_data)"
   ]
  },
  {
   "cell_type": "markdown",
   "metadata": {},
   "source": [
    "#### Part 2 Answer\n",
    "**What is the largest magnitude of any sum of two different snailfish numbers from the homework assignment?**"
   ]
  },
  {
   "cell_type": "code",
   "execution_count": 25,
   "metadata": {},
   "outputs": [
    {
     "data": {
      "text/plain": [
       "4832"
      ]
     },
     "execution_count": 25,
     "metadata": {},
     "output_type": "execute_result"
    }
   ],
   "source": [
    "largest_mag(input_data)"
   ]
  }
 ],
 "metadata": {
  "kernelspec": {
   "display_name": "Python 3",
   "language": "python",
   "name": "python3"
  },
  "language_info": {
   "codemirror_mode": {
    "name": "ipython",
    "version": 3
   },
   "file_extension": ".py",
   "mimetype": "text/x-python",
   "name": "python",
   "nbconvert_exporter": "python",
   "pygments_lexer": "ipython3",
   "version": "3.8.5"
  }
 },
 "nbformat": 4,
 "nbformat_minor": 4
}
