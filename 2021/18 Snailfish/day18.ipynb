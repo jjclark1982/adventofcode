{
 "cells": [
  {
   "cell_type": "markdown",
   "metadata": {},
   "source": [
    "# Advent of Code 2021\n",
    "## [Day 18: Snailfish](https://adventofcode.com/2021/day/18)"
   ]
  },
  {
   "cell_type": "markdown",
   "metadata": {},
   "source": [
    "#### Load Data"
   ]
  },
  {
   "cell_type": "code",
   "execution_count": 1,
   "metadata": {},
   "outputs": [],
   "source": [
    "import json\n",
    "import math\n",
    "from collections import deque"
   ]
  },
  {
   "cell_type": "code",
   "execution_count": 2,
   "metadata": {},
   "outputs": [
    {
     "data": {
      "text/plain": [
       "[[[8, 8], 5],\n",
       " [[[[9, 0], 1], 4], [[3, 6], [0, 5]]],\n",
       " [[9, [0, [4, 5]]], [1, [[6, 8], 4]]],\n",
       " [[8, 7], [[[8, 5], [2, 0]], [[6, 3], [5, 0]]]],\n",
       " [[[1, 8], 2], [[[9, 1], [2, 0]], [1, [9, 4]]]]]"
      ]
     },
     "execution_count": 2,
     "metadata": {},
     "output_type": "execute_result"
    }
   ],
   "source": [
    "import aocd\n",
    "input_data = [json.loads(s) for s in aocd.get_data(year=2021, day=18).split('\\n')]\n",
    "input_data[:5]"
   ]
  },
  {
   "cell_type": "code",
   "execution_count": 3,
   "metadata": {},
   "outputs": [],
   "source": [
    "test_data = [\n",
    "    [1,2],\n",
    "    [[1,2],3],\n",
    "    [9,[8,7]],\n",
    "    [[1,9],[8,5]],\n",
    "    [[[[1,2],[3,4]],[[5,6],[7,8]]],9],\n",
    "    [[[9,[3,8]],[[0,9],6]],[[[3,7],[4,9]],3]],\n",
    "    [[[[1,3],[5,3]],[[1,3],[8,7]]],[[[4,9],[6,9]],[[8,2],[7,3]]]]\n",
    "]"
   ]
  },
  {
   "cell_type": "markdown",
   "metadata": {},
   "source": [
    "### Part 1"
   ]
  },
  {
   "cell_type": "code",
   "execution_count": 4,
   "metadata": {},
   "outputs": [
    {
     "data": {
      "text/plain": [
       "13"
      ]
     },
     "execution_count": 4,
     "metadata": {},
     "output_type": "execute_result"
    }
   ],
   "source": [
    "class RegularNum(object):\n",
    "    def __init__(self, value):\n",
    "        self.value = value\n",
    "        \n",
    "    def __repr__(self):\n",
    "        return f\"{self.value}\"\n",
    "    \n",
    "    def __add__(self, other):\n",
    "        if isinstance(other, RegularNum):\n",
    "            return RegularNum(self.value + other.value)\n",
    "        else:\n",
    "            return RegularNum(self.value + other)\n",
    "\n",
    "    def __iadd__(self, other):\n",
    "        if isinstance(other, RegularNum):\n",
    "            self.value += other.value\n",
    "        else:\n",
    "            self.value += other\n",
    "        return self\n",
    "\n",
    "    def split(self):\n",
    "        if self.value < 10:\n",
    "            return self\n",
    "        else:\n",
    "            lhs = RegularNum(math.floor(self.value / 2))\n",
    "            rhs = RegularNum(math.ceil(self.value / 2))\n",
    "            return SnailNum(lhs, rhs)\n",
    "        \n",
    "    def magnitude(self):\n",
    "        return self.value\n",
    "    \n",
    "r = RegularNum(12)\n",
    "r += 1\n",
    "r"
   ]
  },
  {
   "cell_type": "code",
   "execution_count": 5,
   "metadata": {},
   "outputs": [
    {
     "data": {
      "text/plain": [
       "[9,[8,7]]"
      ]
     },
     "execution_count": 5,
     "metadata": {},
     "output_type": "execute_result"
    }
   ],
   "source": [
    "class SnailNum(object):\n",
    "    def __init__(self, lhs, rhs):\n",
    "        self.lhs = lhs\n",
    "        self.rhs = rhs\n",
    "        \n",
    "    def __repr__(self):\n",
    "        return f\"[{self.lhs},{self.rhs}]\"\n",
    "        \n",
    "    def reduce(self):\n",
    "        pass\n",
    "    \n",
    "    def explode(self):\n",
    "        pass\n",
    "    \n",
    "    @classmethod\n",
    "    def parse(cls, value):\n",
    "        if isinstance(value, list):\n",
    "            lhs = cls.parse(value[0])\n",
    "            rhs = cls.parse(value[1])\n",
    "            return cls(lhs, rhs)\n",
    "        else:\n",
    "            return RegularNum(value)\n",
    "        \n",
    "    def magnitude(self):\n",
    "        return 3*self.lhs.magnitude() + 2*self.rhs.magnitude()\n",
    "        \n",
    "            \n",
    "SnailNum.parse([9,[8,7]])"
   ]
  },
  {
   "cell_type": "code",
   "execution_count": 6,
   "metadata": {},
   "outputs": [
    {
     "data": {
      "text/plain": [
       "[[[[[[9,8],1],2],3],4], [[[[9,8],1],2],3], [[[9,8],1],2], [[9,8],1], [9,8]]"
      ]
     },
     "execution_count": 6,
     "metadata": {},
     "output_type": "execute_result"
    }
   ],
   "source": [
    "def find_explode(num, depth=0):\n",
    "    \"\"\"\n",
    "    If any pair is nested inside four pairs, the leftmost such pair explodes.\n",
    "    \"\"\"\n",
    "    if not isinstance(num, SnailNum):\n",
    "        return None\n",
    "    if depth >= 4:\n",
    "        return [num]\n",
    "    if isinstance(num, SnailNum):\n",
    "        found = find_explode(num.lhs, depth+1) or find_explode(num.rhs, depth+1)\n",
    "        if found:\n",
    "            return [num]+found\n",
    "    \n",
    "s = SnailNum.parse([[[[[9,8],1],2],3],4])\n",
    "path = find_explode(s)\n",
    "path"
   ]
  },
  {
   "cell_type": "code",
   "execution_count": 7,
   "metadata": {},
   "outputs": [
    {
     "data": {
      "text/plain": [
       "1"
      ]
     },
     "execution_count": 7,
     "metadata": {},
     "output_type": "execute_result"
    }
   ],
   "source": [
    "def get_leftmost_leaf(node):\n",
    "    if isinstance(node, SnailNum):\n",
    "        return get_leftmost_leaf(node.lhs)\n",
    "    else:\n",
    "        return node\n",
    "    \n",
    "def find_leaf_to_right(path):\n",
    "    path = list(path)\n",
    "    prev = path.pop()\n",
    "    while path:\n",
    "        cursor = path.pop()\n",
    "        if cursor.lhs is prev:\n",
    "            return get_leftmost_leaf(cursor.rhs)\n",
    "        prev = cursor\n",
    "    \n",
    "def get_rightmost_leaf(node):\n",
    "    if isinstance(node, SnailNum):\n",
    "        return get_rightmost_leaf(node.rhs)\n",
    "    else:\n",
    "        return node\n",
    "\n",
    "def find_leaf_to_left(path):\n",
    "    path = list(path)\n",
    "    prev = path.pop()\n",
    "    while path:\n",
    "        cursor = path.pop()\n",
    "        if cursor.rhs is prev:\n",
    "            return get_rightmost_leaf(cursor.lhs)\n",
    "        prev = cursor\n",
    "\n",
    "find_leaf_to_right(path)"
   ]
  },
  {
   "cell_type": "code",
   "execution_count": 8,
   "metadata": {},
   "outputs": [
    {
     "data": {
      "text/plain": [
       "[[3,[2,[8,0]]],[9,[5,[7,0]]]]"
      ]
     },
     "execution_count": 8,
     "metadata": {},
     "output_type": "execute_result"
    }
   ],
   "source": [
    "def do_explode(num):\n",
    "    path_to_explosion = find_explode(num)\n",
    "    if path_to_explosion:\n",
    "        node_to_explode = path_to_explosion[-1]\n",
    "        leftie = find_leaf_to_left(path_to_explosion)\n",
    "        if leftie:\n",
    "            leftie += node_to_explode.lhs\n",
    "        rightie = find_leaf_to_right(path_to_explosion)\n",
    "        if rightie:\n",
    "            rightie += node_to_explode.rhs\n",
    "        parent = path_to_explosion[-2]\n",
    "        if parent.lhs is node_to_explode:\n",
    "            parent.lhs = RegularNum(0)\n",
    "        else:\n",
    "            parent.rhs = RegularNum(0)\n",
    "        return True\n",
    "    return False\n",
    "            \n",
    "s = SnailNum.parse([[3,[2,[8,0]]],[9,[5,[4,[3,2]]]]])\n",
    "do_explode(s)\n",
    "s"
   ]
  },
  {
   "cell_type": "code",
   "execution_count": 9,
   "metadata": {},
   "outputs": [
    {
     "data": {
      "text/plain": [
       "[[[[[0,7],4],[15,[0,13]]],[1,1]], [[[0,7],4],[15,[0,13]]], [15,[0,13]], 15]"
      ]
     },
     "execution_count": 9,
     "metadata": {},
     "output_type": "execute_result"
    }
   ],
   "source": [
    "def find_split(num):\n",
    "    \"\"\"\n",
    "    If any regular number is 10 or greater, the leftmost such regular number splits.\n",
    "    \"\"\"\n",
    "    if isinstance(num, RegularNum) and num.value >= 10:\n",
    "        return [num]\n",
    "    if isinstance(num, SnailNum):\n",
    "        found = find_split(num.lhs) or find_split(num.rhs)\n",
    "        if found:\n",
    "            return [num]+found\n",
    "    \n",
    "s = SnailNum.parse([[[[0,7],4],[15,[0,13]]],[1,1]])\n",
    "find_split(s)"
   ]
  },
  {
   "cell_type": "code",
   "execution_count": 10,
   "metadata": {},
   "outputs": [
    {
     "data": {
      "text/plain": [
       "[[[[0,7],4],[[7,8],[0,13]]],[1,1]]"
      ]
     },
     "execution_count": 10,
     "metadata": {},
     "output_type": "execute_result"
    }
   ],
   "source": [
    "def do_split(num):\n",
    "    \"\"\"Modify num with a split operation if possible\"\"\"\n",
    "    path_to_split = find_split(num)\n",
    "    if path_to_split:\n",
    "        node_to_split = path_to_split[-1]\n",
    "        parent = path_to_split[-2]\n",
    "        if parent.lhs is node_to_split:\n",
    "            parent.lhs = node_to_split.split()\n",
    "        else:\n",
    "            parent.rhs = node_to_split.split()\n",
    "        return True\n",
    "    return False\n",
    "            \n",
    "s = SnailNum.parse([[[[0,7],4],[15,[0,13]]],[1,1]])\n",
    "do_split(s)\n",
    "s"
   ]
  },
  {
   "cell_type": "code",
   "execution_count": 11,
   "metadata": {},
   "outputs": [
    {
     "data": {
      "text/plain": [
       "[[[[0,7],4],[[7,8],[6,0]]],[8,1]]"
      ]
     },
     "execution_count": 11,
     "metadata": {},
     "output_type": "execute_result"
    }
   ],
   "source": [
    "def reduce(num):\n",
    "    any_action = True\n",
    "    while any_action:\n",
    "        any_action = do_explode(num) or do_split(num)\n",
    "    return num\n",
    "\n",
    "s = SnailNum.parse([[[[[4,3],4],4],[7,[[8,4],9]]],[1,1]])\n",
    "reduce(s)"
   ]
  },
  {
   "cell_type": "code",
   "execution_count": 12,
   "metadata": {},
   "outputs": [
    {
     "data": {
      "text/plain": [
       "[[[[0,7],4],[[7,8],[6,0]]],[8,1]]"
      ]
     },
     "execution_count": 12,
     "metadata": {},
     "output_type": "execute_result"
    }
   ],
   "source": [
    "def addition(n1, n2):\n",
    "    result = SnailNum(n1, n2)\n",
    "    reduce(result)\n",
    "    return result\n",
    "\n",
    "s1 = SnailNum.parse([[[[4,3],4],4],[7,[[8,4],9]]])\n",
    "s2 = SnailNum.parse([1,1])\n",
    "addition(s1, s2)"
   ]
  },
  {
   "cell_type": "code",
   "execution_count": 13,
   "metadata": {},
   "outputs": [],
   "source": [
    "test_data = [\n",
    "    [[[0,[5,8]],[[1,7],[9,6]]],[[4,[1,2]],[[1,4],2]]],\n",
    "    [[[5,[2,8]],4],[5,[[9,9],0]]],\n",
    "    [6,[[[6,2],[5,6]],[[7,6],[4,7]]]],\n",
    "    [[[6,[0,7]],[0,9]],[4,[9,[9,0]]]],\n",
    "    [[[7,[6,4]],[3,[1,3]]],[[[5,5],1],9]],\n",
    "    [[6,[[7,3],[3,2]]],[[[3,8],[5,7]],4]],\n",
    "    [[[[5,4],[7,7]],8],[[8,3],8]],\n",
    "    [[9,3],[[9,9],[6,[4,9]]]],\n",
    "    [[2,[[7,7],7]],[[5,8],[[9,3],[0,2]]]],\n",
    "    [[[[5,2],5],[8,[3,7]]],[[5,[7,5]],[4,4]]]\n",
    "]"
   ]
  },
  {
   "cell_type": "code",
   "execution_count": 14,
   "metadata": {},
   "outputs": [
    {
     "data": {
      "text/plain": [
       "4140"
      ]
     },
     "execution_count": 14,
     "metadata": {},
     "output_type": "execute_result"
    }
   ],
   "source": [
    "def homework(input_data):\n",
    "    result = SnailNum.parse(input_data[0])\n",
    "    for n in input_data[1:]:\n",
    "        num = SnailNum.parse(n)\n",
    "        result = addition(result, num)\n",
    "    return result\n",
    "homework(test_data).magnitude()"
   ]
  },
  {
   "cell_type": "markdown",
   "metadata": {},
   "source": [
    "#### Part 1 Answer\n",
    "Add up all of the snailfish numbers from the homework assignment in the order they appear.  \n",
    "**What is the magnitude of the final sum?**"
   ]
  },
  {
   "cell_type": "code",
   "execution_count": 15,
   "metadata": {},
   "outputs": [
    {
     "data": {
      "text/plain": [
       "3725"
      ]
     },
     "execution_count": 15,
     "metadata": {},
     "output_type": "execute_result"
    }
   ],
   "source": [
    "homework(input_data).magnitude()"
   ]
  },
  {
   "cell_type": "markdown",
   "metadata": {},
   "source": [
    "### Part 2"
   ]
  },
  {
   "cell_type": "code",
   "execution_count": 16,
   "metadata": {},
   "outputs": [
    {
     "data": {
      "text/plain": [
       "3993"
      ]
     },
     "execution_count": 16,
     "metadata": {},
     "output_type": "execute_result"
    }
   ],
   "source": [
    "def largest_mag(input_data):\n",
    "    largest_seen = 0\n",
    "    for i in range(len(input_data)):\n",
    "        for j in range(len(input_data)):\n",
    "            if i == j:\n",
    "                continue\n",
    "            num_i = SnailNum.parse(input_data[i])\n",
    "            num_j = SnailNum.parse(input_data[j])\n",
    "            mag = addition(num_i, num_j).magnitude()\n",
    "            if mag > largest_seen:\n",
    "                largest_seen = mag\n",
    "    return largest_seen\n",
    "largest_mag(test_data)"
   ]
  },
  {
   "cell_type": "markdown",
   "metadata": {},
   "source": [
    "#### Part 2 Answer\n",
    "**What is the largest magnitude of any sum of two different snailfish numbers from the homework assignment?**"
   ]
  },
  {
   "cell_type": "code",
   "execution_count": 17,
   "metadata": {},
   "outputs": [
    {
     "data": {
      "text/plain": [
       "4832"
      ]
     },
     "execution_count": 17,
     "metadata": {},
     "output_type": "execute_result"
    }
   ],
   "source": [
    "largest_mag(input_data)"
   ]
  }
 ],
 "metadata": {
  "kernelspec": {
   "display_name": "Python 3",
   "language": "python",
   "name": "python3"
  },
  "language_info": {
   "codemirror_mode": {
    "name": "ipython",
    "version": 3
   },
   "file_extension": ".py",
   "mimetype": "text/x-python",
   "name": "python",
   "nbconvert_exporter": "python",
   "pygments_lexer": "ipython3",
   "version": "3.8.5"
  }
 },
 "nbformat": 4,
 "nbformat_minor": 4
}
