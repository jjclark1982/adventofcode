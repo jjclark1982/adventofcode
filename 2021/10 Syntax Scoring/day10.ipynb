{
 "cells": [
  {
   "cell_type": "markdown",
   "metadata": {},
   "source": [
    "# Advent of Code 2021\n",
    "## [Day 10: Syntax Scoring](https://adventofcode.com/2021/day/10) "
   ]
  },
  {
   "cell_type": "code",
   "execution_count": 1,
   "metadata": {},
   "outputs": [],
   "source": [
    "import numpy as np\n",
    "from collections import deque\n",
    "import html\n",
    "html_formatter = get_ipython().display_formatter.formatters['text/html']\n",
    "\n",
    "def ndarray_to_html(a):\n",
    "    return \"<pre>{}</pre>\".format(html.escape(str(a)))\n",
    "\n",
    "html_formatter.for_type(np.ndarray, ndarray_to_html)\n",
    "pass"
   ]
  },
  {
   "cell_type": "code",
   "execution_count": 2,
   "metadata": {},
   "outputs": [
    {
     "data": {
      "text/plain": [
       "['(<[<[((<[<([<<[]()>{{}()}>({<>[]}<[][]>)])<<[{{}[]}[{}<>]]([()<>][()()])>>>]((<{{([]{})<[]<>>}(<[',\n",
       " '<[{({[[<{[{{{<<><>><{}>}<([]()){()[]}>}({(()()){{}<>}})}{([<()()>[<><>]><<{}[]>({}<>)>)}]{{[((<>()){<>[]',\n",
       " '[[{[[(<((<[<<{{}()}<()[]>>(<<>{}>{{}()})>]<<[[{}()](()<>)][<<>{}><[]()>]>{((<>()){{}()))}>>[{[<[<>{}',\n",
       " '{{((({({(<[({<<>()>([]<>)}({()[]}(<>{}))}[({{}{}}([]()))<({}[])[[]()]>]](<{([]<>)(<><>)}{[[]]',\n",
       " '[[({[{(((<(<{({}[])}((()<>)([]<>))>({{[]<>}{{}[]}}{[<>[]][()()]})){(<{{}[]}{{}[]}><([][])[<>{}]>)}><<{{{()}[']"
      ]
     },
     "execution_count": 2,
     "metadata": {},
     "output_type": "execute_result"
    }
   ],
   "source": [
    "import aocd\n",
    "input_data = aocd.get_data(day=10, year=2021).split('\\n')\n",
    "input_data[:5]"
   ]
  },
  {
   "cell_type": "code",
   "execution_count": 3,
   "metadata": {},
   "outputs": [],
   "source": [
    "test_input = [\n",
    "    \"[({(<(())[]>[[{[]{<()<>>\",\n",
    "    \"[(()[<>])]({[<{<<[]>>(\",\n",
    "    \"{([(<{}[<>[]}>{[]{[(<()>\",\n",
    "    \"(((({<>}<{<{<>}{[]{[]{}\",\n",
    "    \"[[<[([]))<([[{}[[()]]]\",\n",
    "    \"[{[{({}]{}}([{[{{{}}([]\",\n",
    "    \"{<[[]]>}<{[{[{[]{()[[[]\",\n",
    "    \"[<(<(<(<{}))><([]([]()\",\n",
    "    \"<{([([[(<>()){}]>(<<{{\",\n",
    "    \"<{([{{}}[<[[[<>{}]]]>[]]\"\n",
    "]"
   ]
  },
  {
   "cell_type": "markdown",
   "metadata": {},
   "source": [
    "### Part 1"
   ]
  },
  {
   "cell_type": "code",
   "execution_count": 4,
   "metadata": {},
   "outputs": [
    {
     "name": "stdout",
     "output_type": "stream",
     "text": [
      "[({(<(())[]>[[{[]{<()<>> (0, 'incomplete')\n",
      "[(()[<>])]({[<{<<[]>>( (0, 'incomplete')\n",
      "{([(<{}[<>[]}>{[]{[(<()> (1197, 'invalid')\n",
      "(((({<>}<{<{<>}{[]{[]{} (0, 'incomplete')\n",
      "[[<[([]))<([[{}[[()]]] (3, 'invalid')\n",
      "[{[{({}]{}}([{[{{{}}([] (57, 'invalid')\n",
      "{<[[]]>}<{[{[{[]{()[[[] (0, 'incomplete')\n",
      "[<(<(<(<{}))><([]([]() (3, 'invalid')\n",
      "<{([([[(<>()){}]>(<<{{ (25137, 'invalid')\n",
      "<{([{{}}[<[[[<>{}]]]>[]] (0, 'incomplete')\n"
     ]
    }
   ],
   "source": [
    "def validate_line(line):\n",
    "    openers = '([{<'\n",
    "    closers = {\n",
    "        \">\": \"<\",\n",
    "        \"}\": \"{\",\n",
    "        \")\": \"(\",\n",
    "        \"]\": \"[\"\n",
    "    }\n",
    "    error_scores = {\n",
    "        \")\": 3,\n",
    "        \"}\": 1197,\n",
    "        \"]\": 57,\n",
    "        \">\": 25137,\n",
    "    }\n",
    "    stack = []\n",
    "    for char in line:\n",
    "        if char in openers:\n",
    "            stack.append(char)\n",
    "        if char in closers:\n",
    "            if stack.pop() != closers[char]:\n",
    "                return error_scores[char], \"invalid\"\n",
    "    if len(stack) > 0:\n",
    "        return 0, \"incomplete\"\n",
    "    else:\n",
    "        return 0, \"valid\"\n",
    "\n",
    "for line in test_input:\n",
    "    print(line, validate_line(line))"
   ]
  },
  {
   "cell_type": "code",
   "execution_count": 5,
   "metadata": {},
   "outputs": [
    {
     "data": {
      "text/plain": [
       "26397"
      ]
     },
     "execution_count": 5,
     "metadata": {},
     "output_type": "execute_result"
    }
   ],
   "source": [
    "total_score = 0\n",
    "for line in test_input:\n",
    "    total_score += validate_line(line)[0]\n",
    "total_score"
   ]
  },
  {
   "cell_type": "markdown",
   "metadata": {},
   "source": [
    "#### Part 1 Answer\n",
    "Find the first illegal character in each corrupted line of the navigation subsystem.  \n",
    "**What is the total syntax error score for those errors?**"
   ]
  },
  {
   "cell_type": "code",
   "execution_count": 6,
   "metadata": {},
   "outputs": [
    {
     "data": {
      "text/plain": [
       "168417"
      ]
     },
     "execution_count": 6,
     "metadata": {},
     "output_type": "execute_result"
    }
   ],
   "source": [
    "sum(validate_line(line)[0] for line in input_data)"
   ]
  },
  {
   "cell_type": "markdown",
   "metadata": {},
   "source": [
    "### Part 2"
   ]
  },
  {
   "cell_type": "code",
   "execution_count": 7,
   "metadata": {},
   "outputs": [
    {
     "name": "stdout",
     "output_type": "stream",
     "text": [
      "[({(<(())[]>[[{[]{<()<>> (288957, 'completed')\n",
      "[(()[<>])]({[<{<<[]>>( (5566, 'completed')\n",
      "{([(<{}[<>[]}>{[]{[(<()> (1197, 'invalid')\n",
      "(((({<>}<{<{<>}{[]{[]{} (1480781, 'completed')\n",
      "[[<[([]))<([[{}[[()]]] (3, 'invalid')\n",
      "[{[{({}]{}}([{[{{{}}([] (57, 'invalid')\n",
      "{<[[]]>}<{[{[{[]{()[[[] (995444, 'completed')\n",
      "[<(<(<(<{}))><([]([]() (3, 'invalid')\n",
      "<{([([[(<>()){}]>(<<{{ (25137, 'invalid')\n",
      "<{([{{}}[<[[[<>{}]]]>[]] (294, 'completed')\n"
     ]
    }
   ],
   "source": [
    "def complete_line(line):\n",
    "    openers = {\n",
    "        \"<\": \">\",\n",
    "        \"{\": \"}\",\n",
    "        \"(\": \")\",\n",
    "        \"[\": \"]\",\n",
    "    }\n",
    "    closers = {\n",
    "        \">\": \"<\",\n",
    "        \"}\": \"{\",\n",
    "        \")\": \"(\",\n",
    "        \"]\": \"[\",\n",
    "    }\n",
    "    error_scores = {\n",
    "        \")\": 3,\n",
    "        \"}\": 1197,\n",
    "        \"]\": 57,\n",
    "        \">\": 25137,\n",
    "    }\n",
    "    complete_scores = {\n",
    "        \")\": 1,\n",
    "        \"]\": 2,\n",
    "        \"}\": 3,\n",
    "        \">\": 4,\n",
    "    }\n",
    "    stack = []\n",
    "    score = 0\n",
    "    for char in line:\n",
    "        if char in openers:\n",
    "            stack.append(char)\n",
    "        if char in closers:\n",
    "            if stack.pop() != closers[char]:\n",
    "                return error_scores[char], \"invalid\"\n",
    "    while stack:\n",
    "        score *= 5\n",
    "        score += complete_scores[openers[stack.pop()]]\n",
    "    return score, 'completed'\n",
    "\n",
    "for line in test_input:\n",
    "    print(line, complete_line(line))"
   ]
  },
  {
   "cell_type": "code",
   "execution_count": 8,
   "metadata": {},
   "outputs": [
    {
     "data": {
      "text/plain": [
       "[288957, 5566, 1480781, 995444, 294]"
      ]
     },
     "execution_count": 8,
     "metadata": {},
     "output_type": "execute_result"
    }
   ],
   "source": [
    "scores = [score for score, result in map(complete_line, test_input) if result == 'completed']\n",
    "scores"
   ]
  },
  {
   "cell_type": "code",
   "execution_count": 9,
   "metadata": {},
   "outputs": [
    {
     "data": {
      "text/plain": [
       "288957.0"
      ]
     },
     "execution_count": 9,
     "metadata": {},
     "output_type": "execute_result"
    }
   ],
   "source": [
    "np.median(scores)"
   ]
  },
  {
   "cell_type": "markdown",
   "metadata": {},
   "source": [
    "#### Part 2 Answer\n",
    "Find the completion string for each incomplete line, score the completion strings, and sort the scores.  \n",
    "**What is the middle score?**"
   ]
  },
  {
   "cell_type": "code",
   "execution_count": 10,
   "metadata": {},
   "outputs": [
    {
     "data": {
      "text/plain": [
       "2802519786.0"
      ]
     },
     "execution_count": 10,
     "metadata": {},
     "output_type": "execute_result"
    }
   ],
   "source": [
    "scores = [score for score, result in map(complete_line, input_data) if result == 'completed']\n",
    "np.median(scores)"
   ]
  }
 ],
 "metadata": {
  "kernelspec": {
   "display_name": "Python 3",
   "language": "python",
   "name": "python3"
  },
  "language_info": {
   "codemirror_mode": {
    "name": "ipython",
    "version": 3
   },
   "file_extension": ".py",
   "mimetype": "text/x-python",
   "name": "python",
   "nbconvert_exporter": "python",
   "pygments_lexer": "ipython3",
   "version": "3.8.5"
  }
 },
 "nbformat": 4,
 "nbformat_minor": 4
}
