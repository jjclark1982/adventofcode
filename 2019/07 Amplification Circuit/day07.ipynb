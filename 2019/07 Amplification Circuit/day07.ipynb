{
 "cells": [
  {
   "cell_type": "markdown",
   "metadata": {},
   "source": [
    "# Advent of Code 2019\n",
    "## [Day 7: Amplification Circuit](https://adventofcode.com/2019/day/7)"
   ]
  },
  {
   "cell_type": "code",
   "execution_count": null,
   "metadata": {},
   "outputs": [],
   "source": [
    "from pathlib import Path\n",
    "import sys\n",
    "if str(Path('../..').resolve()) not in sys.path:\n",
    "    sys.path.insert(0, str(Path('../..').resolve()))\n",
    "\n",
    "from intcode import Intcode, Operation, ParameterMode"
   ]
  },
  {
   "cell_type": "code",
   "execution_count": 2,
   "metadata": {},
   "outputs": [],
   "source": [
    "import numpy as np\n",
    "from collections import deque"
   ]
  },
  {
   "cell_type": "code",
   "execution_count": 3,
   "metadata": {},
   "outputs": [
    {
     "data": {
      "text/plain": [
       "[3, 8, 1001, 8, 10]"
      ]
     },
     "execution_count": 3,
     "metadata": {},
     "output_type": "execute_result"
    }
   ],
   "source": [
    "with open(\"input.txt\") as f:\n",
    "    input_program = [*map(int, f.read().split(\",\"))]\n",
    "input_program[:5]"
   ]
  },
  {
   "cell_type": "code",
   "execution_count": 4,
   "metadata": {},
   "outputs": [
    {
     "data": {
      "text/plain": [
       "<Intcode pc:0/519 in:0 out:[]>"
      ]
     },
     "execution_count": 4,
     "metadata": {},
     "output_type": "execute_result"
    }
   ],
   "source": [
    "Intcode(input_program)"
   ]
  },
  {
   "cell_type": "code",
   "execution_count": 5,
   "metadata": {},
   "outputs": [
    {
     "data": {
      "text/plain": [
       "'Intcode'"
      ]
     },
     "execution_count": 5,
     "metadata": {},
     "output_type": "execute_result"
    }
   ],
   "source": [
    "Intcode.__name__"
   ]
  },
  {
   "cell_type": "code",
   "execution_count": 6,
   "metadata": {},
   "outputs": [
    {
     "data": {
      "text/plain": [
       "<Intcode pc:0/519 in:0 out:[]>"
      ]
     },
     "execution_count": 6,
     "metadata": {},
     "output_type": "execute_result"
    }
   ],
   "source": [
    "m = Intcode(input_program)\n",
    "m"
   ]
  },
  {
   "cell_type": "code",
   "execution_count": 7,
   "metadata": {},
   "outputs": [
    {
     "name": "stdout",
     "output_type": "stream",
     "text": [
      ">   0: Input                *8\n",
      "    2: Add                  *8   10   *8\n",
      "    6: JumpIfTrue            1   *0\n",
      "    9: 0\n",
      "   10: 21\n",
      "   11: 42\n",
      "   12: 63\n",
      "   13: 76\n",
      "   14: Add                 114 *195 *276\n",
      "   18: 57\n",
      "   19: 38\n",
      "   20: Halt              \n",
      "   21: Input                *9\n",
      "   23: Add                   2   *9   *9\n",
      "   27: Multiply              5   *9   *9\n",
      "   31: Add                  *9    3   *9\n",
      "   35: Multiply             *9    5   *9\n",
      "   39: Output               *9\n",
      "   41: Halt              \n",
      "   42: Input                *9\n",
      "   44: Add                   4   *9   *9\n",
      "   48: Multiply              5   *9   *9\n",
      "   52: Add                  *9    5   *9\n",
      "   56: Multiply              2   *9   *9\n",
      "   60: Output               *9\n",
      "   62: Halt              \n",
      "   63: Input                *9\n",
      "   65: Add                  *9    3   *9\n",
      "   69: Multiply             *9    5   *9\n",
      "   73: Output               *9\n",
      "   75: Halt              \n",
      "   76: Input                *9\n",
      "   78: Multiply             *9    2   *9\n",
      "   82: Add                   5   *9   *9\n",
      "   86: Multiply              3   *9   *9\n",
      "   90: Add                   2   *9   *9\n",
      "   94: Multiply             *9    3   *9\n",
      "   98: Output               *9\n",
      "  100: Halt              \n",
      "  101: Input                *9\n",
      "  103: Add                   3   *9   *9\n",
      "  107: Multiply              2   *9   *9\n",
      "  111: Output               *9\n",
      "  113: Halt              \n",
      "  114: Input                *9\n",
      "  116: Add                  *9    2   *9\n",
      "  120: Output               *9\n",
      "  122: Input                *9\n",
      "  124: Multiply              2   *9   *9\n",
      "  128: Output               *9\n",
      "  130: Input                *9\n",
      "  132: Add                   2   *9   *9\n",
      "  136: Output               *9\n",
      "  138: Input                *9\n",
      "  140: Multiply              2   *9   *9\n",
      "  144: Output               *9\n",
      "  146: Input                *9\n",
      "  148: Add                   1   *9   *9\n",
      "  152: Output               *9\n",
      "  154: Input                *9\n",
      "  156: Add                  *9    2   *9\n",
      "  160: Output               *9\n",
      "  162: Input                *9\n",
      "  164: Add                  *9    1   *9\n",
      "  168: Output               *9\n",
      "  170: Input                *9\n",
      "  172: Add                  *9    2   *9\n",
      "  176: Output               *9\n",
      "  178: Input                *9\n",
      "  180: Add                  *9    2   *9\n",
      "  184: Output               *9\n",
      "  186: Input                *9\n",
      "  188: Add                  *9    1   *9\n",
      "  192: Output               *9\n",
      "  194: Halt              \n",
      "  195: Input                *9\n",
      "  197: Multiply              2   *9   *9\n",
      "  201: Output               *9\n",
      "  203: Input                *9\n",
      "  205: Add                  *9    2   *9\n",
      "  209: Output               *9\n",
      "  211: Input                *9\n",
      "  213: Multiply              2   *9   *9\n",
      "  217: Output               *9\n",
      "  219: Input                *9\n",
      "  221: Multiply             *9    2   *9\n",
      "  225: Output               *9\n",
      "  227: Input                *9\n",
      "  229: Add                  *9    1   *9\n",
      "  233: Output               *9\n",
      "  235: Input                *9\n",
      "  237: Multiply              2   *9   *9\n",
      "  241: Output               *9\n",
      "  243: Input                *9\n",
      "  245: Multiply             *9    2   *9\n",
      "  249: Output               *9\n",
      "  251: Input                *9\n",
      "  253: Multiply              2   *9   *9\n",
      "  257: Output               *9\n",
      "  259: Input                *9\n",
      "  261: Multiply             *9    2   *9\n",
      "  265: Output               *9\n",
      "  267: Input                *9\n",
      "  269: Multiply              2   *9   *9\n",
      "  273: Output               *9\n",
      "  275: Halt              \n",
      "  276: Input                *9\n",
      "  278: Multiply              2   *9   *9\n",
      "  282: Output               *9\n",
      "  284: Input                *9\n",
      "  286: Multiply              2   *9   *9\n",
      "  290: Output               *9\n",
      "  292: Input                *9\n",
      "  294: Multiply             *9    2   *9\n",
      "  298: Output               *9\n",
      "  300: Input                *9\n",
      "  302: Add                  *9    2   *9\n",
      "  306: Output               *9\n",
      "  308: Input                *9\n",
      "  310: Multiply             *9    2   *9\n",
      "  314: Output               *9\n",
      "  316: Input                *9\n",
      "  318: Add                  *9    1   *9\n",
      "  322: Output               *9\n",
      "  324: Input                *9\n",
      "  326: Multiply             *9    2   *9\n",
      "  330: Output               *9\n",
      "  332: Input                *9\n",
      "  334: Multiply             *9    2   *9\n",
      "  338: Output               *9\n",
      "  340: Input                *9\n",
      "  342: Add                   2   *9   *9\n",
      "  346: Output               *9\n",
      "  348: Input                *9\n",
      "  350: Add                  *9    2   *9\n",
      "  354: Output               *9\n",
      "  356: Halt              \n",
      "  357: Input                *9\n",
      "  359: Add                  *9    1   *9\n",
      "  363: Output               *9\n",
      "  365: Input                *9\n",
      "  367: Add                   2   *9   *9\n",
      "  371: Output               *9\n",
      "  373: Input                *9\n",
      "  375: Multiply              2   *9   *9\n",
      "  379: Output               *9\n",
      "  381: Input                *9\n",
      "  383: Add                  *9    2   *9\n",
      "  387: Output               *9\n",
      "  389: Input                *9\n",
      "  391: Add                  *9    1   *9\n",
      "  395: Output               *9\n",
      "  397: Input                *9\n",
      "  399: Multiply              2   *9   *9\n",
      "  403: Output               *9\n",
      "  405: Input                *9\n",
      "  407: Add                  *9    2   *9\n",
      "  411: Output               *9\n",
      "  413: Input                *9\n",
      "  415: Add                  *9    2   *9\n",
      "  419: Output               *9\n",
      "  421: Input                *9\n",
      "  423: Multiply              2   *9   *9\n",
      "  427: Output               *9\n",
      "  429: Input                *9\n",
      "  431: Add                  *9    2   *9\n",
      "  435: Output               *9\n",
      "  437: Halt              \n",
      "  438: Input                *9\n",
      "  440: Multiply              2   *9   *9\n",
      "  444: Output               *9\n",
      "  446: Input                *9\n",
      "  448: Add                   1   *9   *9\n",
      "  452: Output               *9\n",
      "  454: Input                *9\n",
      "  456: Multiply             *9    2   *9\n",
      "  460: Output               *9\n",
      "  462: Input                *9\n",
      "  464: Multiply             *9    2   *9\n",
      "  468: Output               *9\n",
      "  470: Input                *9\n",
      "  472: Multiply             *9    2   *9\n",
      "  476: Output               *9\n",
      "  478: Input                *9\n",
      "  480: Add                   2   *9   *9\n",
      "  484: Output               *9\n",
      "  486: Input                *9\n",
      "  488: Add                  *9    2   *9\n",
      "  492: Output               *9\n",
      "  494: Input                *9\n",
      "  496: Add                   2   *9   *9\n",
      "  500: Output               *9\n",
      "  502: Input                *9\n",
      "  504: Multiply             *9    2   *9\n",
      "  508: Output               *9\n",
      "  510: Input                *9\n",
      "  512: Add                   2   *9   *9\n",
      "  516: Output               *9\n",
      "  518: Halt              \n"
     ]
    }
   ],
   "source": [
    "print(m)"
   ]
  },
  {
   "cell_type": "code",
   "execution_count": 8,
   "metadata": {},
   "outputs": [],
   "source": [
    "o = Operation(2)"
   ]
  },
  {
   "cell_type": "code",
   "execution_count": 11,
   "metadata": {},
   "outputs": [
    {
     "data": {
      "text/plain": [
       "[3, 8, 1001, 8, 10]"
      ]
     },
     "execution_count": 11,
     "metadata": {},
     "output_type": "execute_result"
    }
   ],
   "source": [
    "m.memory[:5]"
   ]
  },
  {
   "cell_type": "markdown",
   "metadata": {},
   "source": [
    "---"
   ]
  },
  {
   "cell_type": "code",
   "execution_count": 12,
   "metadata": {},
   "outputs": [
    {
     "ename": "IndexError",
     "evalue": "pop from an empty deque",
     "output_type": "error",
     "traceback": [
      "\u001b[0;31m---------------------------------------------------------------------------\u001b[0m",
      "\u001b[0;31mIndexError\u001b[0m                                Traceback (most recent call last)",
      "\u001b[0;32m<ipython-input-12-7ad4d2626ecf>\u001b[0m in \u001b[0;36m<module>\u001b[0;34m\u001b[0m\n\u001b[0;32m----> 1\u001b[0;31m \u001b[0mm\u001b[0m\u001b[0;34m.\u001b[0m\u001b[0mstep\u001b[0m\u001b[0;34m(\u001b[0m\u001b[0;34m)\u001b[0m\u001b[0;34m\u001b[0m\u001b[0;34m\u001b[0m\u001b[0m\n\u001b[0m",
      "\u001b[0;32m~/Projects/adventofcode/intcode/intcode.py\u001b[0m in \u001b[0;36mstep\u001b[0;34m(self, verbose)\u001b[0m\n\u001b[1;32m     81\u001b[0m             \u001b[0mprint\u001b[0m\u001b[0;34m(\u001b[0m\u001b[0;34mf\"{self.pc: 6d}: {instr}\"\u001b[0m\u001b[0;34m)\u001b[0m\u001b[0;34m\u001b[0m\u001b[0;34m\u001b[0m\u001b[0m\n\u001b[1;32m     82\u001b[0m         \u001b[0mself\u001b[0m\u001b[0;34m.\u001b[0m\u001b[0mpc\u001b[0m \u001b[0;34m+=\u001b[0m \u001b[0minstr\u001b[0m\u001b[0;34m.\u001b[0m\u001b[0mwidth\u001b[0m\u001b[0;34m\u001b[0m\u001b[0;34m\u001b[0m\u001b[0m\n\u001b[0;32m---> 83\u001b[0;31m         \u001b[0mself\u001b[0m\u001b[0;34m.\u001b[0m\u001b[0mrun_instruction\u001b[0m\u001b[0;34m(\u001b[0m\u001b[0minstr\u001b[0m\u001b[0;34m)\u001b[0m\u001b[0;34m\u001b[0m\u001b[0;34m\u001b[0m\u001b[0m\n\u001b[0m\u001b[1;32m     84\u001b[0m         \u001b[0mself\u001b[0m\u001b[0;34m.\u001b[0m\u001b[0mcycles\u001b[0m \u001b[0;34m+=\u001b[0m \u001b[0;36m1\u001b[0m\u001b[0;34m\u001b[0m\u001b[0;34m\u001b[0m\u001b[0m\n\u001b[1;32m     85\u001b[0m \u001b[0;34m\u001b[0m\u001b[0m\n",
      "\u001b[0;32m~/Projects/adventofcode/intcode/intcode.py\u001b[0m in \u001b[0;36mrun_instruction\u001b[0;34m(self, instr)\u001b[0m\n\u001b[1;32m     74\u001b[0m \u001b[0;34m\u001b[0m\u001b[0m\n\u001b[1;32m     75\u001b[0m     \u001b[0;32mdef\u001b[0m \u001b[0mrun_instruction\u001b[0m\u001b[0;34m(\u001b[0m\u001b[0mself\u001b[0m\u001b[0;34m,\u001b[0m \u001b[0minstr\u001b[0m\u001b[0;34m:\u001b[0m \u001b[0;34m\"Instruction\"\u001b[0m\u001b[0;34m)\u001b[0m\u001b[0;34m:\u001b[0m\u001b[0;34m\u001b[0m\u001b[0;34m\u001b[0m\u001b[0m\n\u001b[0;32m---> 76\u001b[0;31m         \u001b[0minstr\u001b[0m\u001b[0;34m.\u001b[0m\u001b[0mrun\u001b[0m\u001b[0;34m(\u001b[0m\u001b[0mself\u001b[0m\u001b[0;34m)\u001b[0m\u001b[0;34m\u001b[0m\u001b[0;34m\u001b[0m\u001b[0m\n\u001b[0m\u001b[1;32m     77\u001b[0m \u001b[0;34m\u001b[0m\u001b[0m\n\u001b[1;32m     78\u001b[0m     \u001b[0;32mdef\u001b[0m \u001b[0mstep\u001b[0m\u001b[0;34m(\u001b[0m\u001b[0mself\u001b[0m\u001b[0;34m,\u001b[0m \u001b[0mverbose\u001b[0m\u001b[0;34m=\u001b[0m\u001b[0;32mFalse\u001b[0m\u001b[0;34m)\u001b[0m\u001b[0;34m:\u001b[0m\u001b[0;34m\u001b[0m\u001b[0;34m\u001b[0m\u001b[0m\n",
      "\u001b[0;32m~/Projects/adventofcode/intcode/intcode.py\u001b[0m in \u001b[0;36mrun\u001b[0;34m(self, machine)\u001b[0m\n\u001b[1;32m    277\u001b[0m \u001b[0;34m\u001b[0m\u001b[0m\n\u001b[1;32m    278\u001b[0m     \u001b[0;32mdef\u001b[0m \u001b[0mrun\u001b[0m\u001b[0;34m(\u001b[0m\u001b[0mself\u001b[0m\u001b[0;34m,\u001b[0m \u001b[0mmachine\u001b[0m\u001b[0;34m:\u001b[0m \u001b[0mIntcode\u001b[0m\u001b[0;34m)\u001b[0m\u001b[0;34m:\u001b[0m\u001b[0;34m\u001b[0m\u001b[0;34m\u001b[0m\u001b[0m\n\u001b[0;32m--> 279\u001b[0;31m         \u001b[0mself\u001b[0m\u001b[0;34m.\u001b[0m\u001b[0moperation\u001b[0m\u001b[0;34m.\u001b[0m\u001b[0moperate\u001b[0m\u001b[0;34m(\u001b[0m\u001b[0mmachine\u001b[0m\u001b[0;34m,\u001b[0m \u001b[0;34m*\u001b[0m\u001b[0mself\u001b[0m\u001b[0;34m.\u001b[0m\u001b[0mparams\u001b[0m\u001b[0;34m)\u001b[0m\u001b[0;34m\u001b[0m\u001b[0;34m\u001b[0m\u001b[0m\n\u001b[0m\u001b[1;32m    280\u001b[0m \u001b[0;34m\u001b[0m\u001b[0m\n\u001b[1;32m    281\u001b[0m     \u001b[0;34m@\u001b[0m\u001b[0mstaticmethod\u001b[0m\u001b[0;34m\u001b[0m\u001b[0;34m\u001b[0m\u001b[0m\n",
      "\u001b[0;32m~/Projects/adventofcode/intcode/intcode.py\u001b[0m in \u001b[0;36moperate\u001b[0;34m(self, state, result)\u001b[0m\n\u001b[1;32m    180\u001b[0m \u001b[0;34m\u001b[0m\u001b[0m\n\u001b[1;32m    181\u001b[0m     \u001b[0;32mdef\u001b[0m \u001b[0moperate\u001b[0m\u001b[0;34m(\u001b[0m\u001b[0mself\u001b[0m\u001b[0;34m,\u001b[0m \u001b[0mstate\u001b[0m\u001b[0;34m:\u001b[0m \u001b[0mIntcode\u001b[0m\u001b[0;34m,\u001b[0m \u001b[0mresult\u001b[0m\u001b[0;34m:\u001b[0m \u001b[0mParameter\u001b[0m\u001b[0;34m)\u001b[0m\u001b[0;34m:\u001b[0m\u001b[0;34m\u001b[0m\u001b[0;34m\u001b[0m\u001b[0m\n\u001b[0;32m--> 182\u001b[0;31m         \u001b[0mstate\u001b[0m\u001b[0;34m[\u001b[0m\u001b[0mresult\u001b[0m\u001b[0;34m]\u001b[0m \u001b[0;34m=\u001b[0m \u001b[0mstate\u001b[0m\u001b[0;34m.\u001b[0m\u001b[0minput\u001b[0m\u001b[0;34m.\u001b[0m\u001b[0mpopleft\u001b[0m\u001b[0;34m(\u001b[0m\u001b[0;34m)\u001b[0m\u001b[0;34m\u001b[0m\u001b[0;34m\u001b[0m\u001b[0m\n\u001b[0m\u001b[1;32m    183\u001b[0m \u001b[0;34m\u001b[0m\u001b[0m\n\u001b[1;32m    184\u001b[0m \u001b[0;34m\u001b[0m\u001b[0m\n",
      "\u001b[0;31mIndexError\u001b[0m: pop from an empty deque"
     ]
    }
   ],
   "source": [
    "for phase_setting in [0, 1, 2, 3, 4]:\n",
    "    for input_signal in range(1000):\n",
    "        "
   ]
  },
  {
   "cell_type": "code",
   "execution_count": null,
   "metadata": {},
   "outputs": [],
   "source": []
  }
 ],
 "metadata": {
  "kernelspec": {
   "display_name": "Python 3",
   "language": "python",
   "name": "python3"
  },
  "language_info": {
   "codemirror_mode": {
    "name": "ipython",
    "version": 3
   },
   "file_extension": ".py",
   "mimetype": "text/x-python",
   "name": "python",
   "nbconvert_exporter": "python",
   "pygments_lexer": "ipython3",
   "version": "3.8.5"
  }
 },
 "nbformat": 4,
 "nbformat_minor": 4
}
