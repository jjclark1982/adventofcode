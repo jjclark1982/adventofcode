{
 "cells": [
  {
   "cell_type": "markdown",
   "metadata": {},
   "source": [
    "# Advent of Code 2019\n",
    "## [Day 7: Amplification Circuit](https://adventofcode.com/2019/day/7)"
   ]
  },
  {
   "cell_type": "code",
   "execution_count": 1,
   "metadata": {},
   "outputs": [],
   "source": [
    "from pathlib import Path\n",
    "import sys\n",
    "if str(Path('../..').resolve()) not in sys.path:\n",
    "    sys.path.insert(0, str(Path('../..').resolve()))\n",
    "\n",
    "from intcode import Intcode"
   ]
  },
  {
   "cell_type": "code",
   "execution_count": 2,
   "metadata": {},
   "outputs": [],
   "source": [
    "from itertools import permutations\n",
    "from queue import SimpleQueue\n",
    "from threading import Thread"
   ]
  },
  {
   "cell_type": "code",
   "execution_count": 3,
   "metadata": {},
   "outputs": [
    {
     "data": {
      "text/plain": [
       "[3, 8, 1001, 8, 10, 8, 105, 1, 0, 0]"
      ]
     },
     "execution_count": 3,
     "metadata": {},
     "output_type": "execute_result"
    }
   ],
   "source": [
    "with open(\"input.txt\") as f:\n",
    "    amp_program = [*map(int, f.read().split(\",\"))]\n",
    "amp_program[:10]"
   ]
  },
  {
   "cell_type": "code",
   "execution_count": 4,
   "metadata": {},
   "outputs": [
    {
     "data": {
      "text/plain": [
       "<Intcode pc:114/519 cycles:8 state:Halted>"
      ]
     },
     "execution_count": 4,
     "metadata": {},
     "output_type": "execute_result"
    }
   ],
   "source": [
    "cpu = Intcode(amp_program, input=[4,0])\n",
    "cpu.run()"
   ]
  },
  {
   "cell_type": "code",
   "execution_count": 5,
   "metadata": {},
   "outputs": [
    {
     "data": {
      "text/plain": [
       "[6]"
      ]
     },
     "execution_count": 5,
     "metadata": {},
     "output_type": "execute_result"
    }
   ],
   "source": [
    "cpu.output_values()"
   ]
  },
  {
   "cell_type": "markdown",
   "metadata": {},
   "source": [
    "### Part 1"
   ]
  },
  {
   "cell_type": "code",
   "execution_count": 6,
   "metadata": {},
   "outputs": [
    {
     "data": {
      "text/plain": [
       "126648"
      ]
     },
     "execution_count": 6,
     "metadata": {},
     "output_type": "execute_result"
    }
   ],
   "source": [
    "def amp_series(phase_settings):\n",
    "    pipes = []\n",
    "    for phase_setting in phase_settings:\n",
    "        q = SimpleQueue()\n",
    "        q.put(phase_setting)\n",
    "        pipes.append(q)\n",
    "    pipes.append(SimpleQueue())\n",
    "    pipes[0].put(0)\n",
    "    \n",
    "    cpus = []\n",
    "    for i in range(len(phase_settings)):\n",
    "        cpu = Intcode(amp_program, input=pipes[i], output=pipes[i+1])\n",
    "        cpus.append(cpu)\n",
    "        \n",
    "    for cpu in cpus:\n",
    "        cpu.run()\n",
    "        \n",
    "    return pipes[-1].get()\n",
    "        \n",
    "amp_series(range(5))"
   ]
  },
  {
   "cell_type": "markdown",
   "metadata": {},
   "source": [
    "#### Part 1 Answer\n",
    "Try every combination of phase settings on the amplifiers.  \n",
    "**What is the highest signal that can be sent to the thrusters?**"
   ]
  },
  {
   "cell_type": "code",
   "execution_count": 7,
   "metadata": {},
   "outputs": [
    {
     "data": {
      "text/plain": [
       "(255590, (4, 1, 2, 3, 0))"
      ]
     },
     "execution_count": 7,
     "metadata": {},
     "output_type": "execute_result"
    }
   ],
   "source": [
    "def max_settings():\n",
    "    highest = 0\n",
    "    highest_settings = ()\n",
    "    for settings in permutations(range(5)):\n",
    "        result = amp_series(settings)\n",
    "        if result > highest:\n",
    "            highest = result\n",
    "            highest_settings = settings\n",
    "    return highest, highest_settings\n",
    "\n",
    "max_settings()"
   ]
  },
  {
   "cell_type": "markdown",
   "metadata": {},
   "source": [
    "---"
   ]
  },
  {
   "cell_type": "markdown",
   "metadata": {},
   "source": [
    "### Part 2"
   ]
  },
  {
   "cell_type": "code",
   "execution_count": 8,
   "metadata": {},
   "outputs": [
    {
     "data": {
      "text/plain": [
       "[5, 6, 7, 8, 9]"
      ]
     },
     "execution_count": 8,
     "metadata": {},
     "output_type": "execute_result"
    }
   ],
   "source": [
    "[*range(5,10)]"
   ]
  },
  {
   "cell_type": "code",
   "execution_count": 9,
   "metadata": {},
   "outputs": [
    {
     "data": {
      "text/plain": [
       "<Intcode pc:0/519 cycles:0 state:Paused>"
      ]
     },
     "execution_count": 9,
     "metadata": {},
     "output_type": "execute_result"
    }
   ],
   "source": [
    "cpu = Intcode(amp_program)\n",
    "cpu.input.put(0)\n",
    "cpu.input.put(0)\n",
    "cpu"
   ]
  },
  {
   "cell_type": "code",
   "execution_count": 10,
   "metadata": {},
   "outputs": [
    {
     "data": {
      "text/plain": [
       "<bound method Intcode.run of <Intcode pc:0/519 cycles:0 state:Paused>>"
      ]
     },
     "execution_count": 10,
     "metadata": {},
     "output_type": "execute_result"
    }
   ],
   "source": [
    "cpu.run"
   ]
  },
  {
   "cell_type": "code",
   "execution_count": 11,
   "metadata": {},
   "outputs": [],
   "source": [
    "t = Thread(name=\"cpu1\", target=cpu.run)"
   ]
  },
  {
   "cell_type": "code",
   "execution_count": 12,
   "metadata": {},
   "outputs": [],
   "source": [
    "t.start()"
   ]
  },
  {
   "cell_type": "code",
   "execution_count": 13,
   "metadata": {},
   "outputs": [
    {
     "data": {
      "text/plain": [
       "[65]"
      ]
     },
     "execution_count": 13,
     "metadata": {},
     "output_type": "execute_result"
    }
   ],
   "source": [
    "cpu.output_values()"
   ]
  },
  {
   "cell_type": "code",
   "execution_count": 15,
   "metadata": {},
   "outputs": [
    {
     "data": {
      "text/plain": [
       "42514168"
      ]
     },
     "execution_count": 15,
     "metadata": {},
     "output_type": "execute_result"
    }
   ],
   "source": [
    "def amp_circuit(phase_settings):\n",
    "    pipes = []\n",
    "    for phase_setting in phase_settings:\n",
    "        q = SimpleQueue()\n",
    "        q.put(phase_setting)\n",
    "        pipes.append(q)\n",
    "    pipes.append(pipes[0])\n",
    "    pipes[0].put(0)\n",
    "    \n",
    "    cpus = []\n",
    "    for i in range(len(phase_settings)):\n",
    "        cpu = Intcode(amp_program, input=pipes[i], output=pipes[i+1])\n",
    "        cpu.name = f\"Amp {chr(ord('A')+i)}\"\n",
    "        cpus.append(cpu)\n",
    "        cpu.run_in_thread()\n",
    "                \n",
    "    for cpu in cpus:\n",
    "        cpu.join()\n",
    "        \n",
    "    return pipes[-1].get()\n",
    "        \n",
    "amp_circuit(range(5,10))"
   ]
  },
  {
   "cell_type": "markdown",
   "metadata": {},
   "source": [
    "#### Part 2 Answer\n",
    "Try every combination of the new phase settings on the amplifier feedback loop.  \n",
    "**What is the highest signal that can be sent to the thrusters?**"
   ]
  },
  {
   "cell_type": "code",
   "execution_count": 16,
   "metadata": {},
   "outputs": [
    {
     "data": {
      "text/plain": [
       "(58285150, (8, 5, 6, 9, 7))"
      ]
     },
     "execution_count": 16,
     "metadata": {},
     "output_type": "execute_result"
    }
   ],
   "source": [
    "def max_settings():\n",
    "    highest = 0\n",
    "    highest_settings = ()\n",
    "    for settings in permutations(range(5,10)):\n",
    "        result = amp_circuit(settings)\n",
    "        if result > highest:\n",
    "            highest = result\n",
    "            highest_settings = settings\n",
    "    return highest, highest_settings\n",
    "\n",
    "max_settings()"
   ]
  }
 ],
 "metadata": {
  "kernelspec": {
   "display_name": "Python 3",
   "language": "python",
   "name": "python3"
  },
  "language_info": {
   "codemirror_mode": {
    "name": "ipython",
    "version": 3
   },
   "file_extension": ".py",
   "mimetype": "text/x-python",
   "name": "python",
   "nbconvert_exporter": "python",
   "pygments_lexer": "ipython3",
   "version": "3.8.5"
  }
 },
 "nbformat": 4,
 "nbformat_minor": 4
}
