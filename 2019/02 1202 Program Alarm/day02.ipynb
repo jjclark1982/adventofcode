{
 "cells": [
  {
   "cell_type": "markdown",
   "metadata": {},
   "source": [
    "# Advent of Code 2019\n",
    "## [Day 2: 1202 Program Alarm](https://adventofcode.com/2019/day/2)"
   ]
  },
  {
   "cell_type": "markdown",
   "metadata": {},
   "source": [
    "#### Load Data"
   ]
  },
  {
   "cell_type": "code",
   "execution_count": 1,
   "metadata": {},
   "outputs": [],
   "source": [
    "import numpy as np"
   ]
  },
  {
   "cell_type": "code",
   "execution_count": 2,
   "metadata": {},
   "outputs": [
    {
     "data": {
      "text/plain": [
       "array([  1,   0,   0,   3,   1,   1,   2,   3,   1,   3,   4,   3,   1,\n",
       "         5,   0,   3,   2,  10,   1,  19,   1,   5,  19,  23,   1,  23,\n",
       "         5,  27,   2,  27,  10,  31,   1,   5,  31,  35,   2,  35,   6,\n",
       "        39,   1,   6,  39,  43,   2,  13,  43,  47,   2,   9,  47,  51,\n",
       "         1,   6,  51,  55,   1,  55,   9,  59,   2,   6,  59,  63,   1,\n",
       "         5,  63,  67,   2,  67,  13,  71,   1,   9,  71,  75,   1,  75,\n",
       "         9,  79,   2,  79,  10,  83,   1,   6,  83,  87,   1,   5,  87,\n",
       "        91,   1,   6,  91,  95,   1,  95,  13,  99,   1,  10,  99, 103,\n",
       "         2,   6, 103, 107,   1, 107,   5, 111,   1, 111,  13, 115,   1,\n",
       "       115,  13, 119,   1,  13, 119, 123,   2, 123,  13, 127,   1, 127,\n",
       "         6, 131,   1, 131,   9, 135,   1,   5, 135, 139,   2, 139,   6,\n",
       "       143,   2,   6, 143, 147,   1,   5, 147, 151,   1, 151,   2, 155,\n",
       "         1,   9, 155,   0,  99,   2,  14,   0,   0])"
      ]
     },
     "execution_count": 2,
     "metadata": {},
     "output_type": "execute_result"
    }
   ],
   "source": [
    "import aocd\n",
    "input_data = aocd.get_data(year=2019, day=2)\n",
    "input_program = np.array(input_data.split(','), dtype=int)\n",
    "input_program"
   ]
  },
  {
   "cell_type": "code",
   "execution_count": 3,
   "metadata": {},
   "outputs": [
    {
     "data": {
      "text/plain": [
       "array([ 1,  9, 10,  3,  2,  3, 11,  0, 99, 30, 40, 50])"
      ]
     },
     "execution_count": 3,
     "metadata": {},
     "output_type": "execute_result"
    }
   ],
   "source": [
    "test_program = np.array([1,9,10,3,2,3,11,0,99,30,40,50])\n",
    "test_program"
   ]
  },
  {
   "cell_type": "markdown",
   "metadata": {},
   "source": [
    "### Part 1"
   ]
  },
  {
   "cell_type": "code",
   "execution_count": 4,
   "metadata": {},
   "outputs": [
    {
     "name": "stdout",
     "output_type": "stream",
     "text": [
      "1 9 10 3\n",
      "[ 1  9 10 70  2  3 11  0 99 30 40 50]\n",
      "2 3 11 0\n",
      "[3500    9   10   70    2    3   11    0   99   30   40   50]\n",
      "99 30 40 50\n"
     ]
    },
    {
     "data": {
      "text/plain": [
       "array([3500,    9,   10,   70,    2,    3,   11,    0,   99,   30,   40,\n",
       "         50])"
      ]
     },
     "execution_count": 4,
     "metadata": {},
     "output_type": "execute_result"
    }
   ],
   "source": [
    "def interpret_intcode(program):\n",
    "    program = program.copy()\n",
    "    pc = 0\n",
    "    while True:\n",
    "        opcode, lhs, rhs, result = program[pc:pc+4]\n",
    "        print(opcode, lhs, rhs, result)\n",
    "        if opcode == 1:\n",
    "            program[result] = program[lhs] + program[rhs]\n",
    "        elif opcode == 2:\n",
    "            program[result] = program[lhs] * program[rhs]\n",
    "        elif opcode == 99:\n",
    "            return program\n",
    "        print(program)\n",
    "        pc += 4\n",
    "        \n",
    "interpret_intcode(test_program)"
   ]
  },
  {
   "cell_type": "code",
   "execution_count": 5,
   "metadata": {},
   "outputs": [
    {
     "name": "stdout",
     "output_type": "stream",
     "text": [
      "   0 ADD  9 10 3\n",
      "   4 MUL  3 11 0\n",
      "   8 HALT\n",
      "   9 30 40 50\n"
     ]
    }
   ],
   "source": [
    "def format_intcode(program):\n",
    "    printout = ''\n",
    "    pc = 0\n",
    "    while pc < len(program):\n",
    "        opcode = program[pc]\n",
    "        printout += f\"{pc: 4d} \"\n",
    "        if opcode == 1:\n",
    "            lhs, rhs, result = program[pc+1:pc+4]\n",
    "            printout += f\"ADD  {lhs} {rhs} {result}\\n\"\n",
    "            pc += 4\n",
    "        elif opcode == 2:\n",
    "            lhs, rhs, result = program[pc+1:pc+4]\n",
    "            printout += f\"MUL  {lhs} {rhs} {result}\\n\"\n",
    "            pc += 4\n",
    "        elif opcode == 99:\n",
    "            printout += f\"HALT\\n\"\n",
    "            pc += 1\n",
    "            next\n",
    "        else:\n",
    "            printout += str(program[pc:])[1:-1]\n",
    "            pc = len(program)\n",
    "    return printout\n",
    "\n",
    "print(format_intcode(test_program))"
   ]
  },
  {
   "cell_type": "code",
   "execution_count": 6,
   "metadata": {},
   "outputs": [
    {
     "data": {
      "text/plain": [
       "12"
      ]
     },
     "execution_count": 6,
     "metadata": {},
     "output_type": "execute_result"
    }
   ],
   "source": [
    "len(test_program)"
   ]
  },
  {
   "cell_type": "code",
   "execution_count": 7,
   "metadata": {},
   "outputs": [
    {
     "name": "stdout",
     "output_type": "stream",
     "text": [
      "     0: ADD  9 + 10 -> 3\n",
      "     4: MUL  3 * 11 -> 0\n",
      "     8: HALT\n"
     ]
    },
    {
     "data": {
      "text/plain": [
       "array([3500,    9,   10,   70,    2,    3,   11,    0,   99,   30,   40,\n",
       "         50])"
      ]
     },
     "execution_count": 7,
     "metadata": {},
     "output_type": "execute_result"
    }
   ],
   "source": [
    "def intcode(program, printout=False):\n",
    "    program = np.array(program)\n",
    "    pc = 0\n",
    "    while pc < len(program):\n",
    "        opcode = program[pc]\n",
    "        if opcode == 1:\n",
    "            lhs, rhs, result = program[pc+1:pc+4]\n",
    "            if printout:\n",
    "                print(f\"{pc: 6d}: ADD  {lhs} + {rhs} -> {result}\")\n",
    "            program[result] = program[lhs] + program[rhs]\n",
    "            pc += 4\n",
    "        elif opcode == 2:\n",
    "            lhs, rhs, result = program[pc+1:pc+4]\n",
    "            if printout:\n",
    "                print(f\"{pc: 6d}: MUL  {lhs} * {rhs} -> {result}\")\n",
    "            program[result] = program[lhs] * program[rhs]\n",
    "            pc += 4\n",
    "        elif opcode == 99:\n",
    "            if printout:\n",
    "                print(f\"{pc: 6d}: HALT\")\n",
    "            return program\n",
    "        else:\n",
    "            if printout:\n",
    "                print(f\"{pc: 6d}: DATA {str(program[pc:])[1:-1]}\")\n",
    "            pc = len(program)\n",
    "    return program\n",
    "\n",
    "intcode(test_program, printout=True)"
   ]
  },
  {
   "cell_type": "code",
   "execution_count": 8,
   "metadata": {},
   "outputs": [
    {
     "name": "stdout",
     "output_type": "stream",
     "text": [
      "     0: ADD  0 + 0 -> 0\n",
      "     4: HALT\n"
     ]
    },
    {
     "data": {
      "text/plain": [
       "array([ 2,  0,  0,  0, 99])"
      ]
     },
     "execution_count": 8,
     "metadata": {},
     "output_type": "execute_result"
    }
   ],
   "source": [
    "intcode([1,0,0,0,99], printout=True)"
   ]
  },
  {
   "cell_type": "code",
   "execution_count": 9,
   "metadata": {},
   "outputs": [
    {
     "name": "stdout",
     "output_type": "stream",
     "text": [
      "     0: MUL  3 * 0 -> 3\n",
      "     4: HALT\n"
     ]
    },
    {
     "data": {
      "text/plain": [
       "array([ 2,  3,  0,  6, 99])"
      ]
     },
     "execution_count": 9,
     "metadata": {},
     "output_type": "execute_result"
    }
   ],
   "source": [
    "intcode([2,3,0,3,99], printout=True)"
   ]
  },
  {
   "cell_type": "code",
   "execution_count": 10,
   "metadata": {},
   "outputs": [
    {
     "name": "stdout",
     "output_type": "stream",
     "text": [
      "     0: MUL  4 * 4 -> 5\n",
      "     4: HALT\n"
     ]
    },
    {
     "data": {
      "text/plain": [
       "array([   2,    4,    4,    5,   99, 9801])"
      ]
     },
     "execution_count": 10,
     "metadata": {},
     "output_type": "execute_result"
    }
   ],
   "source": [
    "intcode([2,4,4,5,99,0], printout=True)"
   ]
  },
  {
   "cell_type": "code",
   "execution_count": 11,
   "metadata": {},
   "outputs": [
    {
     "name": "stdout",
     "output_type": "stream",
     "text": [
      "     0: ADD  1 + 1 -> 4\n",
      "     4: MUL  5 * 6 -> 0\n",
      "     8: HALT\n"
     ]
    },
    {
     "data": {
      "text/plain": [
       "array([30,  1,  1,  4,  2,  5,  6,  0, 99])"
      ]
     },
     "execution_count": 11,
     "metadata": {},
     "output_type": "execute_result"
    }
   ],
   "source": [
    "intcode([1,1,1,4,99,5,6,0,99], printout=True)"
   ]
  },
  {
   "cell_type": "code",
   "execution_count": 12,
   "metadata": {},
   "outputs": [
    {
     "data": {
      "text/plain": [
       "array([490668,      0,      0,      2,      1,      1,      2,      3,\n",
       "            1,      3,      4,      3,      1,      5,      0,      3,\n",
       "            2,     10,      1,      0,      1,      5,     19,      1,\n",
       "            1,     23,      5,      2,      2,     27,     10,      8,\n",
       "            1,      5,     31,      9,      2,     35,      6,     18,\n",
       "            1,      6,     39,     20,      2,     13,     43,    100,\n",
       "            2,      9,     47,    300,      1,      6,     51,    302,\n",
       "            1,     55,      9,    305,      2,      6,     59,    610,\n",
       "            1,      5,     63,    611,      2,     67,     13,   3055,\n",
       "            1,      9,     71,   3058,      1,     75,      9,   3061,\n",
       "            2,     79,     10,  12244,      1,      6,     83,  12246,\n",
       "            1,      5,     87,  12247,      1,      6,     91,  12249,\n",
       "            1,     95,     13,  12254,      1,     10,     99,  12258,\n",
       "            2,      6,    103,  24516,      1,    107,      5,  24517,\n",
       "            1,    111,     13,  24522,      1,    115,     13,  24527,\n",
       "            1,     13,    119,  24532,      2,    123,     13, 122660,\n",
       "            1,    127,      6, 122662,      1,    131,      9, 122665,\n",
       "            1,      5,    135, 122666,      2,    139,      6, 245332,\n",
       "            2,      6,    143, 490664,      1,      5,    147, 490665,\n",
       "            1,    151,      2, 490665,      1,      9,    155,      0,\n",
       "           99,      2,     14,      0,      0])"
      ]
     },
     "execution_count": 12,
     "metadata": {},
     "output_type": "execute_result"
    }
   ],
   "source": [
    "intcode(input_program)"
   ]
  },
  {
   "cell_type": "markdown",
   "metadata": {},
   "source": [
    "#### Part 1 Answer\n",
    "Once you have a working computer, the first step is to restore the gravity assist program (your puzzle input) to the \"1202 program alarm\" state it had just before the last computer caught fire. To do this, **before running the program,** replace position 1 with the value 12 and replace position 2 with the value 2.  \n",
    "**What value is left at position 0 after the program halts?**"
   ]
  },
  {
   "cell_type": "code",
   "execution_count": 13,
   "metadata": {},
   "outputs": [
    {
     "data": {
      "text/plain": [
       "9706670"
      ]
     },
     "execution_count": 13,
     "metadata": {},
     "output_type": "execute_result"
    }
   ],
   "source": [
    "fixed_program = input_program.copy()\n",
    "fixed_program[1] = 12\n",
    "fixed_program[2] = 2\n",
    "intcode(fixed_program)[0]"
   ]
  },
  {
   "cell_type": "markdown",
   "metadata": {},
   "source": [
    "### Part 2"
   ]
  },
  {
   "cell_type": "code",
   "execution_count": 14,
   "metadata": {},
   "outputs": [
    {
     "data": {
      "text/plain": [
       "9706670"
      ]
     },
     "execution_count": 14,
     "metadata": {},
     "output_type": "execute_result"
    }
   ],
   "source": [
    "def intcode_nv(program, noun, verb):\n",
    "    program = np.array(program)\n",
    "    program[1] = noun\n",
    "    program[2] = verb\n",
    "    return intcode(program)\n",
    "\n",
    "intcode_nv(input_program, 12, 2)[0]"
   ]
  },
  {
   "cell_type": "markdown",
   "metadata": {},
   "source": [
    "#### Part 2 Answer\n",
    "Find the input **noun** and **verb** that cause the program to produce the output 19690720.  \n",
    "**What is 100 * noun + verb?** (For example, if noun=12 and verb=2, the answer would be 1202.)"
   ]
  },
  {
   "cell_type": "code",
   "execution_count": 15,
   "metadata": {},
   "outputs": [
    {
     "data": {
      "text/plain": [
       "2552"
      ]
     },
     "execution_count": 15,
     "metadata": {},
     "output_type": "execute_result"
    }
   ],
   "source": [
    "def find_nv(program, target):\n",
    "    for noun in range(100):\n",
    "        for verb in range(100):\n",
    "            if intcode_nv(program, noun, verb)[0] == target:\n",
    "                return noun, verb\n",
    "\n",
    "noun, verb = find_nv(input_program, 19690720)\n",
    "100 * noun + verb"
   ]
  }
 ],
 "metadata": {
  "kernelspec": {
   "display_name": "Python 3",
   "language": "python",
   "name": "python3"
  },
  "language_info": {
   "codemirror_mode": {
    "name": "ipython",
    "version": 3
   },
   "file_extension": ".py",
   "mimetype": "text/x-python",
   "name": "python",
   "nbconvert_exporter": "python",
   "pygments_lexer": "ipython3",
   "version": "3.8.5"
  }
 },
 "nbformat": 4,
 "nbformat_minor": 4
}
