{
 "cells": [
  {
   "cell_type": "markdown",
   "metadata": {},
   "source": [
    "# Advent of Code 2019\n",
    "## [Day 11: Space Police](https://adventofcode.com/2019/day/11)"
   ]
  },
  {
   "cell_type": "code",
   "execution_count": 1,
   "metadata": {},
   "outputs": [
    {
     "data": {
      "text/plain": [
       "[3, 8, 1005, 8, 319, 1106, 0, 11, 0, 0]"
      ]
     },
     "execution_count": 1,
     "metadata": {},
     "output_type": "execute_result"
    }
   ],
   "source": [
    "import aocd\n",
    "input_data = [*map(int, (n for n in aocd.get_data(year=2019, day=11).split(',')))]\n",
    "input_data[:10]"
   ]
  },
  {
   "cell_type": "markdown",
   "metadata": {},
   "source": [
    "### Part 1"
   ]
  },
  {
   "cell_type": "code",
   "execution_count": 2,
   "metadata": {},
   "outputs": [],
   "source": [
    "from pathlib import Path\n",
    "import sys\n",
    "if str(Path('../..').resolve()) not in sys.path:\n",
    "    sys.path.insert(0, str(Path('../..').resolve()))\n",
    "\n",
    "from intcode import Intcode\n",
    "from intcode.painting_robot import PaintingRobot\n",
    "from aoc_lib import array_to_png"
   ]
  },
  {
   "cell_type": "code",
   "execution_count": 3,
   "metadata": {},
   "outputs": [],
   "source": [
    "robot = PaintingRobot()\n",
    "cpu = Intcode(input_data, input=robot, output=robot)"
   ]
  },
  {
   "cell_type": "code",
   "execution_count": 4,
   "metadata": {},
   "outputs": [
    {
     "data": {
      "text/html": [
       "<img src=\"data:image/png;base64,iVBORw0KGgoAAAANSUhEUgAAAQAAAAEACAAAAAB5Gfe6AAAB/UlEQVR4nO3QQREAIAzAMIZ/sUhARh5rFPQ67+x2dYDWAB2gNUAHaA3QAVoDdIDWAB2gNUAHaA3QAVoDdIDWAB2gNUAHaA3QAVoDdIDWAB2gNUAHaA3QAVoDdIDWAB2gNUAHaA3QAVoDdIDWAB2gNUAHaA3QAVoDdIDWAB2gNUAHaA3QAVoDdIDWAB2gNUAHaA3QAVoDdIDWAB2gNUAHaA3QAVoDdIDWAB2gNUAHaA3QAVoDdIDWAB2gNUAHaA3QAVoDdIDWAB2gNUAHaA3QAVoDdIDWAB2gNUAHaA3QAVoDdIDWAB2gNUAHaA3QAVoDdIDWAB2gNUAHaA3QAVoDdIDWAB2gNUAHaA3QAVoDdIDWAB2gNUAHaA3QAVoDdIDWAB2gNUAHaA3QAVoDdIDWAB2gNUAHaA3QAVoDdIDWAB2gNUAHaA3QAVoDdIDWAB2gNUAHaA3QAVoDdIDWAB2gNUAHaA3QAVoDdIDWAB2gNUAHaA3QAVoDdIDWAB2gNUAHaA3QAVoDdIDWAB2gNUAHaA3QAVoDdIDWAB2gNUAHaA3QAVoDdIDWAB2gNUAHaA3QAVoDdIDWAB2gNUAHaA3QAVoDdIDWAB2gNUAHaA3QAVoDdIDWAB2gNUAHaA3QAVoDdIDWAB2gNUAHaA3QAVoDdIDWAB2gNUAHaA3QAdoHDU0C8LuL5j4AAAAASUVORK5CYII=\n",
       "\">"
      ],
      "text/plain": [
       "array([[False, False, False, ..., False, False, False],\n",
       "       [False, False, False, ..., False, False, False],\n",
       "       [False, False, False, ..., False, False, False],\n",
       "       ...,\n",
       "       [False, False, False, ..., False, False, False],\n",
       "       [False, False, False, ..., False, False, False],\n",
       "       [False, False, False, ..., False, False, False]])"
      ]
     },
     "execution_count": 4,
     "metadata": {},
     "output_type": "execute_result"
    }
   ],
   "source": [
    "robot.color"
   ]
  },
  {
   "cell_type": "code",
   "execution_count": 5,
   "metadata": {},
   "outputs": [
    {
     "data": {
      "text/plain": [
       "<intcode.painting_robot.PaintingRobot at 0x7f918061c2e0>"
      ]
     },
     "execution_count": 5,
     "metadata": {},
     "output_type": "execute_result"
    }
   ],
   "source": [
    "cpu.run()"
   ]
  },
  {
   "cell_type": "code",
   "execution_count": 6,
   "metadata": {},
   "outputs": [
    {
     "data": {
      "text/plain": [
       "93192"
      ]
     },
     "execution_count": 6,
     "metadata": {},
     "output_type": "execute_result"
    }
   ],
   "source": [
    "cpu.num_cycles"
   ]
  },
  {
   "cell_type": "code",
   "execution_count": 7,
   "metadata": {},
   "outputs": [
    {
     "data": {
      "text/plain": [
       "3"
      ]
     },
     "execution_count": 7,
     "metadata": {},
     "output_type": "execute_result"
    }
   ],
   "source": [
    "robot.count[(128,128)]"
   ]
  },
  {
   "cell_type": "code",
   "execution_count": 8,
   "metadata": {},
   "outputs": [
    {
     "data": {
      "text/html": [
       "<tt style=\"display:flex;flex-wrap:wrap;align-items:center\">(<span style=\"margin-left:0.2em\"><tt>102</tt></span>, <span style=\"margin-left:0.2em\"><tt>103</tt></span>)</tt>"
      ],
      "text/plain": [
       "(102, 103)"
      ]
     },
     "execution_count": 8,
     "metadata": {},
     "output_type": "execute_result"
    }
   ],
   "source": [
    "robot.loc"
   ]
  },
  {
   "cell_type": "code",
   "execution_count": 9,
   "metadata": {},
   "outputs": [
    {
     "data": {
      "text/html": [
       "<img src=\"data:image/png;base64,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\n",
       "\">"
      ],
      "text/plain": [
       "array([[False, False, False, ..., False, False, False],\n",
       "       [False, False, False, ..., False, False, False],\n",
       "       [False, False, False, ..., False, False, False],\n",
       "       ...,\n",
       "       [False, False, False, ..., False, False, False],\n",
       "       [False, False, False, ..., False, False, False],\n",
       "       [False, False, False, ..., False, False, False]])"
      ]
     },
     "execution_count": 9,
     "metadata": {},
     "output_type": "execute_result"
    }
   ],
   "source": [
    "robot.color"
   ]
  },
  {
   "cell_type": "markdown",
   "metadata": {},
   "source": [
    "#### Part 1 Answer\n",
    "Build a new emergency hull painting robot and run the Intcode program on it.  \n",
    "**How many panels does it paint at least once?**"
   ]
  },
  {
   "cell_type": "code",
   "execution_count": 10,
   "metadata": {},
   "outputs": [
    {
     "data": {
      "text/plain": [
       "2211"
      ]
     },
     "execution_count": 10,
     "metadata": {},
     "output_type": "execute_result"
    }
   ],
   "source": [
    "(robot.count >= 1).sum()"
   ]
  },
  {
   "cell_type": "markdown",
   "metadata": {},
   "source": [
    "### Part 2"
   ]
  },
  {
   "cell_type": "markdown",
   "metadata": {},
   "source": [
    "#### Part 2 Answer\n",
    "Based on the Space Law Space Brochure that the Space Police attached to one of your windows, a valid registration identifier is always **eight capital letters**. After starting the robot on a single **white panel** instead, **what registration identifier does it paint** on your hull?"
   ]
  },
  {
   "cell_type": "code",
   "execution_count": 11,
   "metadata": {},
   "outputs": [],
   "source": [
    "robot = PaintingRobot()\n",
    "robot.color[robot.loc] = 1\n",
    "cpu = Intcode(input_data, input=robot, output=robot)"
   ]
  },
  {
   "cell_type": "code",
   "execution_count": 12,
   "metadata": {},
   "outputs": [
    {
     "data": {
      "text/plain": [
       "<intcode.painting_robot.PaintingRobot at 0x7f919024d1c0>"
      ]
     },
     "execution_count": 12,
     "metadata": {},
     "output_type": "execute_result"
    }
   ],
   "source": [
    "cpu.run()"
   ]
  },
  {
   "cell_type": "code",
   "execution_count": 13,
   "metadata": {},
   "outputs": [
    {
     "data": {
      "text/html": [
       "<img src=\"data:image/png;base64,iVBORw0KGgoAAAANSUhEUgAAAQAAAAEACAAAAAB5Gfe6AAACeUlEQVR4nO3UwU3DQBQA0R9EIdt/VVsCJXBwAkGIG+YFZeawUtaSMzv+9uVtnpsXLaApgBbQFEALaAqgBTQF0AKaAmgBTQG0gKYAWkBTAC2gKYAW0BRAC2gKoAU0BdACmgJoAU0BtICmAFpAUwAtoCmAFtAUQAtoCqAFNAXQApoCaAFNAbSApgBaQFMALaApgBbQFEALaAqgBTQF0AKaAmgBTQG0gKYAWkBTAC2gKYAW0BRAC2gKoAU0BdACmgJoAU0BtICmAFpAUwAtoCmAFtAUQAtoCqAFNAXQApoCaAFNAbSApgBaQFMALaApgBbQFEALaAqgBTQF0AKaAmgBTQG0gKYAWkBTAC2gKYAW0BRAC2gKoAU0BdACmgJoAU0BtICmAFpA86oFZs3MXjOzZ82etWftY/nYO5Zz8AGOs+2Z4+wza99d+Oxx0r8/wCuw1m2Z2Xfnv9ub55iA688vE3Dq+M88xATcs75v7Z8u/A4PMAHrdsh9POy99r5++mYfn8ITp+Dydtad/wkP9gr8PQXQApoCaAFNAbSApgBaQFMALaApgBbQFEALaAqgBTQF0AKaAmgBTQG0gKYAWkBTAC2gKYAW0BRAC2gKoAU0BdACmgJoAU0BtICmAFpAUwAtoCmAFtAUQAtoCqAFNAXQApoCaAFNAbSApgBaQFMALaApgBbQFEALaAqgBTQF0AKaAmgBTQG0gKYAWkBTAC2gKYAW0BRAC2gKoAU0BdACmgJoAU0BtICmAFpAUwAtoCmAFtAUQAtoCqAFNAXQApoCaAFNAbSApgBaQFMALaApgBbQFEALaAqgBTQF0AKaAmgBTQG0gKYAWkDzDpl6LQc6HNdmAAAAAElFTkSuQmCC\n",
       "\">"
      ],
      "text/plain": [
       "array([[False, False, False, ..., False, False, False],\n",
       "       [False, False, False, ..., False, False, False],\n",
       "       [False, False, False, ..., False, False, False],\n",
       "       ...,\n",
       "       [False, False, False, ..., False, False, False],\n",
       "       [False, False, False, ..., False, False, False],\n",
       "       [False, False, False, ..., False, False, False]])"
      ]
     },
     "execution_count": 13,
     "metadata": {},
     "output_type": "execute_result"
    }
   ],
   "source": [
    "robot.color"
   ]
  },
  {
   "cell_type": "code",
   "execution_count": null,
   "metadata": {},
   "outputs": [],
   "source": []
  }
 ],
 "metadata": {
  "kernelspec": {
   "display_name": "Python 3",
   "language": "python",
   "name": "python3"
  },
  "language_info": {
   "codemirror_mode": {
    "name": "ipython",
    "version": 3
   },
   "file_extension": ".py",
   "mimetype": "text/x-python",
   "name": "python",
   "nbconvert_exporter": "python",
   "pygments_lexer": "ipython3",
   "version": "3.8.5"
  }
 },
 "nbformat": 4,
 "nbformat_minor": 4
}
