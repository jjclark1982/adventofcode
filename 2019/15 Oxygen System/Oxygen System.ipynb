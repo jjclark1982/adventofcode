{
 "cells": [
  {
   "cell_type": "markdown",
   "metadata": {},
   "source": [
    "# Advent of Code 2019\n",
    "## [Day 15: Oxygen System](https://adventofcode.com/2019/day/15)"
   ]
  },
  {
   "cell_type": "code",
   "execution_count": 1,
   "metadata": {},
   "outputs": [
    {
     "data": {
      "text/plain": [
       "[3, 1033, 1008, 1033, 1, 1032, 1005, 1032, 31, 1008]"
      ]
     },
     "execution_count": 1,
     "metadata": {},
     "output_type": "execute_result"
    }
   ],
   "source": [
    "import aocd\n",
    "program = [*map(int, (n for n in aocd.get_data(year=2019, day=15).split(',')))]\n",
    "program[:10]"
   ]
  },
  {
   "cell_type": "code",
   "execution_count": 2,
   "metadata": {},
   "outputs": [],
   "source": [
    "from pathlib import Path\n",
    "import sys\n",
    "if str(Path('../..').resolve()) not in sys.path:\n",
    "    sys.path.insert(0, str(Path('../..').resolve()))\n",
    "\n",
    "from intcode import Intcode"
   ]
  },
  {
   "cell_type": "code",
   "execution_count": 3,
   "metadata": {},
   "outputs": [],
   "source": [
    "from enum import IntEnum"
   ]
  },
  {
   "cell_type": "code",
   "execution_count": 4,
   "metadata": {},
   "outputs": [],
   "source": [
    "import numpy as np\n",
    "import functools"
   ]
  },
  {
   "cell_type": "code",
   "execution_count": 5,
   "metadata": {},
   "outputs": [],
   "source": [
    "from collections import deque, namedtuple"
   ]
  },
  {
   "cell_type": "markdown",
   "metadata": {},
   "source": [
    "### Part 1"
   ]
  },
  {
   "cell_type": "code",
   "execution_count": 6,
   "metadata": {},
   "outputs": [
    {
     "data": {
      "text/plain": [
       "(0, 1)"
      ]
     },
     "execution_count": 6,
     "metadata": {},
     "output_type": "execute_result"
    }
   ],
   "source": [
    "translations = {\n",
    "    'N': np.array([-1, 0]),\n",
    "    'S': np.array([ 1, 0]),\n",
    "    'E': np.array([ 0, 1]),\n",
    "    'W': np.array([ 0,-1]),\n",
    "}\n",
    "\n",
    "class Move(IntEnum):\n",
    "    N = 1\n",
    "    S = 2\n",
    "    W = 3\n",
    "    E = 4\n",
    "    \n",
    "class Sense(IntEnum):\n",
    "    Wall = 0\n",
    "    Empty = 1\n",
    "    Goal = 2\n",
    "    \n",
    "def get_coords(path, origin=(0,0)):\n",
    "    steps = map(lambda d: translations[d.name], path)\n",
    "    return tuple(functools.reduce(lambda x, y: x+y, steps, np.array(origin)))\n",
    "\n",
    "get_coords([Move.N, Move.E, Move.S])"
   ]
  },
  {
   "cell_type": "code",
   "execution_count": 7,
   "metadata": {},
   "outputs": [
    {
     "name": "stdout",
     "output_type": "stream",
     "text": [
      "Move.N\n",
      "Move.S\n",
      "Move.W\n",
      "Move.E\n"
     ]
    }
   ],
   "source": [
    "for d in Move:\n",
    "    print(d)"
   ]
  },
  {
   "cell_type": "code",
   "execution_count": 28,
   "metadata": {},
   "outputs": [
    {
     "data": {
      "text/plain": [
       "'NNWWNNWWWWWWSSWWSSWWSSSSSSSSEESSSSSSSSEESSEENNNNEEEEEEEEEENNWWWWNNWWSSWWNNWWSSWWNNNNEENNNNEESSSSEENNNNEENNEEEEEEEENNNNWWSSWWWWNNEENNEEEENNWWNNNNNNWWNNNNWWWWWWNNEEEENNEESSEESSEEEESSSSWWSSEESSSSEEEENNWWNNNNEEEESSEESSSSSSWWSSEESSWWSSEESSWWSSEESSSSSSSSWWNNWWNNEENNWWWWWWNNEENNEENNNNWWSSWWSSWWSSSSSSSSSSSSSSEENNNNNNNNEESSSSSSSSEEEEEENNWWWWNN'"
      ]
     },
     "execution_count": 28,
     "metadata": {},
     "output_type": "execute_result"
    }
   ],
   "source": [
    "def shortest_path_to_oxygen():\n",
    "    seen = set()\n",
    "    to_try = deque([(Intcode(program), [])])\n",
    "    while to_try:\n",
    "        cpu, path = to_try.popleft()\n",
    "        if not path:\n",
    "            result = Sense.Empty\n",
    "        else:\n",
    "            coords = get_coords(path)\n",
    "            if coords in seen:\n",
    "                continue\n",
    "            seen.add(coords)\n",
    "            # print(f\"checking {coords}\")\n",
    "            move = path[-1]\n",
    "            cpu.input.put(move)\n",
    "            cpu.run(pause_on_output=True)\n",
    "            result = Sense(cpu.output.get())\n",
    "        if result == Sense.Goal:\n",
    "            return path, cpu\n",
    "        elif result == Sense.Wall:\n",
    "            continue\n",
    "        else:\n",
    "            for d in Move:\n",
    "                to_try.append((cpu.fork(), path + [d]))\n",
    "    return \"none\"\n",
    "\n",
    "shortest_path, repair_droid = shortest_path_to_oxygen()\n",
    "''.join([step.name for step in shortest_path])"
   ]
  },
  {
   "cell_type": "code",
   "execution_count": 21,
   "metadata": {},
   "outputs": [
    {
     "data": {
      "text/plain": [
       "(14, 14)"
      ]
     },
     "execution_count": 21,
     "metadata": {},
     "output_type": "execute_result"
    }
   ],
   "source": [
    "get_coords(shortest_path)"
   ]
  },
  {
   "cell_type": "markdown",
   "metadata": {},
   "source": [
    "#### Part 1 Answer\n",
    "**What is the fewest number of movement commands** required to move the repair droid from its starting position to the location of the oxygen system?"
   ]
  },
  {
   "cell_type": "code",
   "execution_count": 22,
   "metadata": {},
   "outputs": [
    {
     "data": {
      "text/plain": [
       "336"
      ]
     },
     "execution_count": 22,
     "metadata": {},
     "output_type": "execute_result"
    }
   ],
   "source": [
    "len(shortest_path)"
   ]
  },
  {
   "cell_type": "markdown",
   "metadata": {},
   "source": [
    "### Part 2"
   ]
  },
  {
   "cell_type": "code",
   "execution_count": 32,
   "metadata": {},
   "outputs": [
    {
     "data": {
      "text/plain": [
       "'SSEEEESSWWWWWWNNNNNNNNWWSSSSSSSSWWNNNNNNNNNNNNNNEENNEENNEESSSSWWSSWWSSEEEEEESSWWSSEESSEENNNNNNNNWWNNEENNWWNNEENNWWNNEENNNNNNWWNNWWWWSSSSEESSWWWWNNNNWWNNEENNNNWWWWNNWWNNWWWWWWWWWWSSSSEESSEEEEEESSWWSSEESSSSWWWWNNWWSSWWWWNNWWNNWWWWNNEEEENNEENNWWNNNNWWWWWWSSEEEESSSSWWWWNNWWSSSSSSSSEESSEEEEEESSWWWWSSSSSSWWWWNNWWSSSSEESSWWSSEESSEEEESSEESSWWWWNNWWSSSSSSEEEENNEESSEE'"
      ]
     },
     "execution_count": 32,
     "metadata": {},
     "output_type": "execute_result"
    }
   ],
   "source": [
    "def longest_path_from_oxygen(droid_at_oxygen):\n",
    "    seen = set()\n",
    "    to_try = deque([(droid_at_oxygen, [])])\n",
    "    longest_path = []\n",
    "    while to_try:\n",
    "        cpu, path = to_try.popleft()\n",
    "        if not path:\n",
    "            result = Sense.Empty\n",
    "        else:\n",
    "            coords = get_coords(path)\n",
    "            if coords in seen:\n",
    "                continue\n",
    "            seen.add(coords)\n",
    "            move = path[-1]\n",
    "            cpu.input.put(move)\n",
    "            cpu.run(pause_on_output=True)\n",
    "            result = Sense(cpu.output.get())\n",
    "        if result == Sense.Wall:\n",
    "            continue\n",
    "        else:\n",
    "            if len(path) > len(longest_path):\n",
    "                longest_path = path\n",
    "            for d in Move:\n",
    "                to_try.append((cpu.fork(), path + [d]))\n",
    "    return longest_path\n",
    "\n",
    "longest_path = longest_path_from_oxygen(repair_droid.fork())\n",
    "''.join([step.name for step in longest_path])"
   ]
  },
  {
   "cell_type": "code",
   "execution_count": 33,
   "metadata": {},
   "outputs": [
    {
     "data": {
      "text/plain": [
       "(4, -24)"
      ]
     },
     "execution_count": 33,
     "metadata": {},
     "output_type": "execute_result"
    }
   ],
   "source": [
    "get_coords(longest_path)"
   ]
  },
  {
   "cell_type": "markdown",
   "metadata": {},
   "source": [
    "#### Part 2 Answer\n",
    "Use the repair droid to get a complete map of the area.  \n",
    "**How many minutes will it take to fill with oxygen?**"
   ]
  },
  {
   "cell_type": "code",
   "execution_count": 34,
   "metadata": {},
   "outputs": [
    {
     "data": {
      "text/plain": [
       "360"
      ]
     },
     "execution_count": 34,
     "metadata": {},
     "output_type": "execute_result"
    }
   ],
   "source": [
    "len(longest_path)"
   ]
  }
 ],
 "metadata": {
  "kernelspec": {
   "display_name": "Python 3",
   "language": "python",
   "name": "python3"
  },
  "language_info": {
   "codemirror_mode": {
    "name": "ipython",
    "version": 3
   },
   "file_extension": ".py",
   "mimetype": "text/x-python",
   "name": "python",
   "nbconvert_exporter": "python",
   "pygments_lexer": "ipython3",
   "version": "3.8.5"
  }
 },
 "nbformat": 4,
 "nbformat_minor": 4
}
