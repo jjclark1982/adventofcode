{
 "cells": [
  {
   "cell_type": "markdown",
   "metadata": {},
   "source": [
    "# Advent of Code 2019\n",
    "## [Day 5: Sunny with a Chance of Asteroids](https://adventofcode.com/2019/day/5)"
   ]
  },
  {
   "cell_type": "markdown",
   "metadata": {},
   "source": [
    "#### Load Data"
   ]
  },
  {
   "cell_type": "code",
   "execution_count": 1,
   "metadata": {},
   "outputs": [],
   "source": [
    "import numpy as np\n",
    "from collections import deque"
   ]
  },
  {
   "cell_type": "code",
   "execution_count": 2,
   "metadata": {},
   "outputs": [
    {
     "data": {
      "text/plain": [
       "array([  3, 225,   1, 225,   6])"
      ]
     },
     "execution_count": 2,
     "metadata": {},
     "output_type": "execute_result"
    }
   ],
   "source": [
    "with open(\"input.txt\") as f:\n",
    "    input_program = np.array(f.read().split(\",\"), dtype=int)\n",
    "input_program[:5]"
   ]
  },
  {
   "cell_type": "code",
   "execution_count": 3,
   "metadata": {},
   "outputs": [],
   "source": [
    "test_program = [3,0,4,0,99]"
   ]
  },
  {
   "cell_type": "markdown",
   "metadata": {},
   "source": [
    "### Part 1"
   ]
  },
  {
   "cell_type": "markdown",
   "metadata": {},
   "source": [
    "An Operation is an abstract form of something like add, mul.\n",
    "\n",
    "An Instruction is a concrete form, with parameters and parameter modes.\n",
    "\n",
    "A Machine is a structure of (memory, pc, halted, in, out).\n",
    "\n",
    "So we could write `Machine(program, input).instruction_at(0).call()`"
   ]
  },
  {
   "cell_type": "code",
   "execution_count": 4,
   "metadata": {},
   "outputs": [],
   "source": [
    "class Operation(object):\n",
    "    \"\"\"An Operation is an abstract form of something the machine can do.\"\"\"\n",
    "    \n",
    "    code = None\n",
    "    num_params = 0\n",
    "    \n",
    "    def __init__(self):\n",
    "        pass\n",
    "\n",
    "    def __str__(self):\n",
    "        return self.__class__.__name__.ljust(10)\n",
    "    \n",
    "    def operate(self, state, **params):\n",
    "        raise NotImplementedError(\"Subclasses should override this\")\n",
    "    \n",
    "    @classmethod\n",
    "    def width(cls):\n",
    "        return 1 + cls.num_params\n",
    "    \n",
    "    @classmethod\n",
    "    def from_code(cls, code):\n",
    "        operations = {}\n",
    "        for item in cls.__subclasses__():\n",
    "            if type(item) == type and issubclass(item, cls):\n",
    "                operations[item.code] = item\n",
    "        if code in operations:\n",
    "            return operations[code]\n",
    "\n",
    "class Add(Operation):\n",
    "    code = 1\n",
    "    num_params = 3\n",
    "\n",
    "    def operate(self, state, lhs, rhs, result):\n",
    "        state[result] = state[lhs] + state[rhs]\n",
    "\n",
    "class Multiply(Operation):\n",
    "    code = 2\n",
    "    num_params = 3\n",
    "\n",
    "    def operate(self, state, lhs, rhs, result):\n",
    "        state[result] = state[lhs] * state[rhs]\n",
    "\n",
    "class Input(Operation):\n",
    "    code = 3\n",
    "    num_params = 1\n",
    "\n",
    "    def operate(self, state, result):\n",
    "        state[result] = state.input.popleft()\n",
    "\n",
    "class Output(Operation):\n",
    "    code = 4\n",
    "    num_params = 1\n",
    "\n",
    "    def operate(self, state, param):\n",
    "        state.output.append(state[param])\n",
    "\n",
    "class JumpIfTrue(Operation):\n",
    "    code = 5\n",
    "    num_params = 2\n",
    "\n",
    "    def operate(self, state, test, addr):\n",
    "        if state[test] != 0:\n",
    "            state.pc = state[addr]\n",
    "\n",
    "class JumpIfFalse(Operation):\n",
    "    code = 6\n",
    "    num_params = 2\n",
    "\n",
    "    def operate(self, state, test, addr):\n",
    "        if state[test] == 0:\n",
    "            state.pc = state[addr]\n",
    "            \n",
    "class LessThan(Operation):\n",
    "    code = 7\n",
    "    num_params = 3\n",
    "\n",
    "    def operate(self, state, lhs, rhs, result):\n",
    "        state[result] = int(state[lhs] < state[rhs])\n",
    "\n",
    "class Equals(Operation):\n",
    "    code = 8\n",
    "    num_params = 3\n",
    "\n",
    "    def operate(self, state, lhs, rhs, result):\n",
    "        state[result] = int(state[lhs] == state[rhs])\n",
    "        \n",
    "class Halt(Operation):\n",
    "    code = 99\n",
    "    num_params = 0\n",
    "\n",
    "    def operate(self, state):\n",
    "        state.halted = True"
   ]
  },
  {
   "cell_type": "code",
   "execution_count": 5,
   "metadata": {},
   "outputs": [],
   "source": [
    "class Param(object):\n",
    "    def __init__(self, mode, value):\n",
    "        self.mode = mode\n",
    "        self.value = value\n",
    "        \n",
    "    def __str__(self):\n",
    "        return f\"{['*',''][self.mode]}{self.value}\""
   ]
  },
  {
   "cell_type": "code",
   "execution_count": 6,
   "metadata": {},
   "outputs": [],
   "source": [
    "class Instruction(object):\n",
    "    \"\"\"An Instruction is a concrete instance of an Operation and its parameters\"\"\"\n",
    "    \n",
    "    def __init__(self, mem, pc):\n",
    "        code = mem[pc]\n",
    "        opcode, modes = self.decode(code)\n",
    "        OpClass = Operation.from_code(opcode)\n",
    "        if OpClass:\n",
    "            params = mem[pc + 1 : pc + 1 + OpClass.num_params]\n",
    "        else:\n",
    "            params = []\n",
    "        self.code = code\n",
    "        self.OpClass = OpClass\n",
    "\n",
    "        self.params = []\n",
    "        for i in range(len(params)):\n",
    "            mode = modes[i]\n",
    "            param = params[i]\n",
    "            self.params.append(Param(mode, param))\n",
    "\n",
    "        self.width = 1 + len(params)\n",
    "            \n",
    "    @staticmethod\n",
    "    def decode(instruction):\n",
    "        opcode = instruction % 100\n",
    "        modes = (\n",
    "            (instruction // 100) % 10,\n",
    "            (instruction // 1000) % 10,\n",
    "            (instruction // 10000) % 10\n",
    "        )\n",
    "        return opcode, modes\n",
    "    \n",
    "    def __str__(self):\n",
    "        param_strs = [str(p) for p in self.params]\n",
    "        if self.OpClass:\n",
    "            return ' '.join([self.OpClass.__name__] + param_strs)\n",
    "        return f\"{self.code}\"\n",
    "    \n",
    "    def __repr__(self):\n",
    "        return f\"[{self}]\""
   ]
  },
  {
   "cell_type": "code",
   "execution_count": 7,
   "metadata": {},
   "outputs": [
    {
     "data": {
      "text/plain": [
       "[Add *2 3 *4]"
      ]
     },
     "execution_count": 7,
     "metadata": {},
     "output_type": "execute_result"
    }
   ],
   "source": [
    "Instruction([1001,2,3,4,5,6,7], 0)"
   ]
  },
  {
   "cell_type": "code",
   "execution_count": 8,
   "metadata": {},
   "outputs": [
    {
     "data": {
      "text/plain": [
       "[[Add 2 3 *5], [Halt], [JumpIfTrue *6 *7]]"
      ]
     },
     "execution_count": 8,
     "metadata": {},
     "output_type": "execute_result"
    }
   ],
   "source": [
    "class Intcode(object):\n",
    "    \"\"\"An Intcode machine holds the state of a program, its memory and i/o\"\"\"\n",
    "    def __init__(self, program, input=[]):\n",
    "        self.mem = np.array(program)\n",
    "        self.halted = False\n",
    "        self.input = deque(input)\n",
    "        self.output = []\n",
    "        self.pc = 0\n",
    "        \n",
    "    def instruction_at(self, pc):\n",
    "        return Instruction(self.mem, pc)\n",
    "    \n",
    "    def next_instruction(self):\n",
    "        return self.instruction_at(self.pc)\n",
    "    \n",
    "    def all_instructions(self):\n",
    "        instrs = []\n",
    "        pc = 0\n",
    "        while pc < len(self.mem):\n",
    "            instr = self.instruction_at(pc)\n",
    "            instrs.append(instr)\n",
    "            pc += instr.width\n",
    "        return instrs\n",
    "    \n",
    "    def run_instruction(self, instr):\n",
    "        instr.OpClass().operate(self, *instr.params)        \n",
    "    \n",
    "    def run(self, *input, pc=0, verbose=False):\n",
    "        if input:\n",
    "            self.input = deque(input)\n",
    "        self.pc = pc\n",
    "        while self.pc < len(self.mem):\n",
    "            instr = self.next_instruction()\n",
    "            if verbose:\n",
    "                print(f\"{self.pc: 6d}: {instr}\")\n",
    "            self.pc += instr.width\n",
    "            self.run_instruction(instr)\n",
    "            if self.halted:\n",
    "                break\n",
    "        return self.output\n",
    "    \n",
    "    def __str__(self):\n",
    "        lines = [\n",
    "            [f\"{pc: 6d} {i}\" for pc, i in self.all_instructions()]\n",
    "        ]\n",
    "        return '\\n'.join(lines)\n",
    "    \n",
    "    def __repr__(self):\n",
    "        return f\"<Machine pc:{self.pc}/{len(self.mem)} in:{len(self.input)} out:{self.output}>\"\n",
    "    \n",
    "    def __getitem__(self, param):\n",
    "        # Handle dereferencing a param or using an immediate value\n",
    "        if param.mode == 1:\n",
    "            return param.value\n",
    "        elif param.mode == 0:\n",
    "            return self.mem[param.value]\n",
    "        \n",
    "    def __setitem__(self, param, value):\n",
    "        # Always write to the param as an address\n",
    "        self.mem[param.value] = value\n",
    "    \n",
    "machine = Intcode([1101,2,3,5,99,5,6,7])\n",
    "machine.all_instructions()"
   ]
  },
  {
   "cell_type": "code",
   "execution_count": 9,
   "metadata": {},
   "outputs": [
    {
     "name": "stdout",
     "output_type": "stream",
     "text": [
      "     0: Add 2 3 *5\n",
      "     4: Halt\n"
     ]
    },
    {
     "data": {
      "text/plain": [
       "[]"
      ]
     },
     "execution_count": 9,
     "metadata": {},
     "output_type": "execute_result"
    }
   ],
   "source": [
    "m = Intcode([1101,2,3,5,99,5,6,7])\n",
    "m.run(verbose=True)\n",
    "m.output"
   ]
  },
  {
   "cell_type": "code",
   "execution_count": 10,
   "metadata": {},
   "outputs": [
    {
     "name": "stdout",
     "output_type": "stream",
     "text": [
      "[[Add *2 3 *4], [JumpIfTrue *6 *7]]\n"
     ]
    }
   ],
   "source": [
    "print(Intcode([1001,2,3,4,5,6,7]).all_instructions())"
   ]
  },
  {
   "cell_type": "code",
   "execution_count": 11,
   "metadata": {},
   "outputs": [
    {
     "data": {
      "text/plain": [
       "[0, 0, 0, 0, 0, 0, 0, 0, 0, 14155342]"
      ]
     },
     "execution_count": 11,
     "metadata": {},
     "output_type": "execute_result"
    }
   ],
   "source": [
    "m = Intcode(input_program, input=[1])\n",
    "m.run()"
   ]
  },
  {
   "cell_type": "code",
   "execution_count": 12,
   "metadata": {},
   "outputs": [
    {
     "data": {
      "text/plain": [
       "array([   3,  225,    1,  225,    6,    6, 1101,    1,  238,  225])"
      ]
     },
     "execution_count": 12,
     "metadata": {},
     "output_type": "execute_result"
    }
   ],
   "source": [
    "m.mem[:10]"
   ]
  },
  {
   "cell_type": "code",
   "execution_count": 13,
   "metadata": {},
   "outputs": [
    {
     "data": {
      "text/plain": [
       "array([   3,  225,    1,  225,    6,    6, 1100,    1,  238,  225])"
      ]
     },
     "execution_count": 13,
     "metadata": {},
     "output_type": "execute_result"
    }
   ],
   "source": [
    "input_program[:10]"
   ]
  },
  {
   "cell_type": "code",
   "execution_count": 14,
   "metadata": {},
   "outputs": [],
   "source": [
    "m = Intcode(input_program, input=[1])\n",
    "m.run_instruction(m.next_instruction())"
   ]
  },
  {
   "cell_type": "code",
   "execution_count": 15,
   "metadata": {},
   "outputs": [
    {
     "data": {
      "text/plain": [
       "1"
      ]
     },
     "execution_count": 15,
     "metadata": {},
     "output_type": "execute_result"
    }
   ],
   "source": [
    "m.mem[225]"
   ]
  },
  {
   "cell_type": "code",
   "execution_count": 16,
   "metadata": {},
   "outputs": [
    {
     "data": {
      "text/plain": [
       "0"
      ]
     },
     "execution_count": 16,
     "metadata": {},
     "output_type": "execute_result"
    }
   ],
   "source": [
    "input_program[225]"
   ]
  },
  {
   "cell_type": "code",
   "execution_count": 17,
   "metadata": {},
   "outputs": [
    {
     "data": {
      "text/plain": [
       "[1]"
      ]
     },
     "execution_count": 17,
     "metadata": {},
     "output_type": "execute_result"
    }
   ],
   "source": [
    "Intcode([3,9,8,9,10,9,4,9,99,-1,8]).run(8)"
   ]
  },
  {
   "cell_type": "code",
   "execution_count": 18,
   "metadata": {},
   "outputs": [
    {
     "data": {
      "text/plain": [
       "[0]"
      ]
     },
     "execution_count": 18,
     "metadata": {},
     "output_type": "execute_result"
    }
   ],
   "source": [
    "Intcode([3,3,1108,-1,8,3,4,3,99]).run(7)"
   ]
  },
  {
   "cell_type": "code",
   "execution_count": 19,
   "metadata": {},
   "outputs": [
    {
     "data": {
      "text/plain": [
       "[1]"
      ]
     },
     "execution_count": 19,
     "metadata": {},
     "output_type": "execute_result"
    }
   ],
   "source": [
    "Intcode([3,12,6,12,15,1,13,14,13,4,13,99,-1,0,1,9]).run(2)"
   ]
  },
  {
   "cell_type": "code",
   "execution_count": 23,
   "metadata": {},
   "outputs": [
    {
     "data": {
      "text/plain": [
       "[[Input *21],\n",
       " [Equals *21 8 *20],\n",
       " [JumpIfTrue *20 22],\n",
       " [LessThan 8 *21 *20],\n",
       " [JumpIfFalse *20 31],\n",
       " [JumpIfFalse 0 36],\n",
       " [98],\n",
       " [0],\n",
       " [0],\n",
       " [Multiply *21 125 *20],\n",
       " [Output *20],\n",
       " [JumpIfTrue 1 46],\n",
       " [Output 999],\n",
       " [JumpIfTrue 1 46],\n",
       " [Add 1000 1 *20],\n",
       " [Output *20],\n",
       " [JumpIfTrue 1 46],\n",
       " [98],\n",
       " [Halt]]"
      ]
     },
     "execution_count": 23,
     "metadata": {},
     "output_type": "execute_result"
    }
   ],
   "source": [
    "Intcode([3,21,1008,21,8,20,1005,20,22,107,8,21,20,1006,20,31,\n",
    "1106,0,36,98,0,0,1002,21,125,20,4,20,1105,1,46,104,\n",
    "999,1105,1,46,1101,1000,1,20,4,20,1105,1,46,98,99]).all_instructions()"
   ]
  },
  {
   "cell_type": "code",
   "execution_count": 25,
   "metadata": {},
   "outputs": [
    {
     "data": {
      "text/plain": [
       "[8684145]"
      ]
     },
     "execution_count": 25,
     "metadata": {},
     "output_type": "execute_result"
    }
   ],
   "source": [
    "Intcode(input_program).run(5)"
   ]
  },
  {
   "cell_type": "code",
   "execution_count": null,
   "metadata": {},
   "outputs": [],
   "source": []
  }
 ],
 "metadata": {
  "kernelspec": {
   "display_name": "Python 3",
   "language": "python",
   "name": "python3"
  },
  "language_info": {
   "codemirror_mode": {
    "name": "ipython",
    "version": 3
   },
   "file_extension": ".py",
   "mimetype": "text/x-python",
   "name": "python",
   "nbconvert_exporter": "python",
   "pygments_lexer": "ipython3",
   "version": "3.8.5"
  }
 },
 "nbformat": 4,
 "nbformat_minor": 4
}
