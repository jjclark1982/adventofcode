{
 "cells": [
  {
   "cell_type": "markdown",
   "metadata": {},
   "source": [
    "# Advent of Code 2024\n",
    "\n",
    "# [Day 4: Ceres Search](https://adventofcode.com/2024/day/4)"
   ]
  },
  {
   "cell_type": "code",
   "execution_count": 1,
   "metadata": {},
   "outputs": [
    {
     "data": {
      "text/plain": [
       "['SAXMASMMMASAMMMMXXMMXMMMSSMMMXSAAXMSSMSSSSSSSSXSASXMSMMMSASXSXMASXMSSSMXSSMXSMSSXMXXSXMXAMXMASXASXMSAMSSSMMAAXAMMXXSAMMSXSSSSMSMMSMSAXSAMXMX',\n",
       " 'MXXAAMAAMAMASXSSSMMSAMMSAMASMMSXSAMXAAMAAAAAAXSXAMMMAMAAXAMMAXXAXAAAXMAMMAMAMMAMXMAXSASXSAMXAXMSMAMMAAXSAMXSSXMMMAMMASAMXAAAXAAAXAAMAMXAMXAM',\n",
       " 'XSXMASXMMXSAMXAAXMASASMMXXAMAXXAMXXSMMMMMMMMMMXMXMAMASASMMMAMMMMXMMMMSAMSAMAXMAMAMMXSAMXMMXMASXAMXMSMMMSMXMXAXSAMSXSAMASMMMMMSMSMMSMAMSXMASA',\n",
       " 'SMAMASMAMAMASMMMMMASMMXAAMMSSMMMMMXAXXXAMAMASXAASXXSASAXAAASAAAMASAXMSXXSMMMMSASXSMAMXMAMXAMXMXMMAMXAAAMXSMMMXMAMMAMSSXMMMSMAMXXXAAMAAXASAMS',\n",
       " 'XMAMAXXAMSSXSMSAXMXSXSMSMMXAXAXMASAMXMMMSMSASXMXSAMMMMXSMMMMSSXSXSASAMXMMMSMMMAMAAMXMMSXSAXXAMAXASASXMSSXXAAXMXMMMMMASXAXAAMSSXXMXSSXSMMMAXX']"
      ]
     },
     "execution_count": 1,
     "metadata": {},
     "output_type": "execute_result"
    }
   ],
   "source": [
    "import aocd\n",
    "input_data = aocd.get_data(year=2024, day=4).split('\\n')\n",
    "input_data[:5]"
   ]
  },
  {
   "cell_type": "markdown",
   "metadata": {},
   "source": [
    "### Part 1"
   ]
  },
  {
   "cell_type": "code",
   "execution_count": 2,
   "metadata": {},
   "outputs": [],
   "source": [
    "test_data = [\n",
    "    'MMMSXXMASM',\n",
    "    'MSAMXMSMSA',\n",
    "    'AMXSXMAAMM',\n",
    "    'MSAMASMSMX',\n",
    "    'XMASAMXAMM',\n",
    "    'XXAMMXXAMA',\n",
    "    'SMSMSASXSS',\n",
    "    'SAXAMASAAA',\n",
    "    'MAMMMXMMMM',\n",
    "    'MXMXAXMASX'\n",
    "]"
   ]
  },
  {
   "cell_type": "code",
   "execution_count": 3,
   "metadata": {},
   "outputs": [],
   "source": [
    "import numpy as np"
   ]
  },
  {
   "cell_type": "code",
   "execution_count": 4,
   "metadata": {},
   "outputs": [
    {
     "name": "stdout",
     "output_type": "stream",
     "text": [
      "[['M' 'M' 'M' 'S' 'X' 'X' 'M' 'A' 'S' 'M']\n",
      " ['M' 'S' 'A' 'M' 'X' 'M' 'S' 'M' 'S' 'A']\n",
      " ['A' 'M' 'X' 'S' 'X' 'M' 'A' 'A' 'M' 'M']\n",
      " ['M' 'S' 'A' 'M' 'A' 'S' 'M' 'S' 'M' 'X']\n",
      " ['X' 'M' 'A' 'S' 'A' 'M' 'X' 'A' 'M' 'M']\n",
      " ['X' 'X' 'A' 'M' 'M' 'X' 'X' 'A' 'M' 'A']\n",
      " ['S' 'M' 'S' 'M' 'S' 'A' 'S' 'X' 'S' 'S']\n",
      " ['S' 'A' 'X' 'A' 'M' 'A' 'S' 'A' 'A' 'A']\n",
      " ['M' 'A' 'M' 'M' 'M' 'X' 'M' 'M' 'M' 'M']\n",
      " ['M' 'X' 'M' 'X' 'A' 'X' 'M' 'A' 'S' 'X']]\n"
     ]
    }
   ],
   "source": [
    "def parse_grid(data):\n",
    "    return np.array([*(list(line) for line in data)])\n",
    "grid = parse_grid(test_data)\n",
    "print(grid)"
   ]
  },
  {
   "cell_type": "code",
   "execution_count": 5,
   "metadata": {},
   "outputs": [
    {
     "name": "stdout",
     "output_type": "stream",
     "text": [
      "['X' 'M' 'A' 'S']\n"
     ]
    }
   ],
   "source": [
    "XMAS = np.array(list('XMAS'))\n",
    "print(XMAS)"
   ]
  },
  {
   "cell_type": "code",
   "execution_count": 6,
   "metadata": {},
   "outputs": [
    {
     "data": {
      "text/plain": [
       "array([[0, 1, 2, 3],\n",
       "       [0, 0, 0, 0]])"
      ]
     },
     "execution_count": 6,
     "metadata": {},
     "output_type": "execute_result"
    }
   ],
   "source": [
    "def pattern_indices(n):\n",
    "    dirs = np.array([\n",
    "        [ np.arange(n),  np.zeros(n)],\n",
    "        [ np.arange(n),  np.arange(n)],\n",
    "        [ np.zeros(n),   np.arange(n)],\n",
    "        [ np.arange(n), -np.arange(n)],\n",
    "        [-np.arange(n),  np.zeros(n)],\n",
    "        [-np.arange(n), -np.arange(n)],\n",
    "        [-np.zeros(n),  -np.arange(n)],\n",
    "        [-np.arange(n),  np.arange(n)],\n",
    "    ], dtype=int)\n",
    "    return dirs\n",
    "dirs = pattern_indices(len(XMAS))\n",
    "dirs[0]"
   ]
  },
  {
   "cell_type": "code",
   "execution_count": 7,
   "metadata": {},
   "outputs": [
    {
     "data": {
      "text/plain": [
       "array(['X', 'M', 'A', 'S'], dtype='<U1')"
      ]
     },
     "execution_count": 7,
     "metadata": {},
     "output_type": "execute_result"
    }
   ],
   "source": [
    "grid[[0,1,2,3],[4,5,6,7]]"
   ]
  },
  {
   "cell_type": "code",
   "execution_count": 8,
   "metadata": {},
   "outputs": [
    {
     "data": {
      "text/plain": [
       "array(['M', 'M', 'A', 'M'], dtype='<U1')"
      ]
     },
     "execution_count": 8,
     "metadata": {},
     "output_type": "execute_result"
    }
   ],
   "source": [
    "grid[dirs[0][0], dirs[0][1]]"
   ]
  },
  {
   "cell_type": "code",
   "execution_count": 9,
   "metadata": {},
   "outputs": [
    {
     "name": "stdout",
     "output_type": "stream",
     "text": [
      "[['.' '.' '.' '.' '.' '.' '.' '.' '.' '.' '.' '.' '.' '.' '.' '.']\n",
      " ['.' '.' '.' '.' '.' '.' '.' '.' '.' '.' '.' '.' '.' '.' '.' '.']\n",
      " ['.' '.' '.' '.' '.' '.' '.' '.' '.' '.' '.' '.' '.' '.' '.' '.']\n",
      " ['.' '.' '.' 'M' 'M' 'M' 'S' 'X' 'X' 'M' 'A' 'S' 'M' '.' '.' '.']\n",
      " ['.' '.' '.' 'M' 'S' 'A' 'M' 'X' 'M' 'S' 'M' 'S' 'A' '.' '.' '.']\n",
      " ['.' '.' '.' 'A' 'M' 'X' 'S' 'X' 'M' 'A' 'A' 'M' 'M' '.' '.' '.']\n",
      " ['.' '.' '.' 'M' 'S' 'A' 'M' 'A' 'S' 'M' 'S' 'M' 'X' '.' '.' '.']\n",
      " ['.' '.' '.' 'X' 'M' 'A' 'S' 'A' 'M' 'X' 'A' 'M' 'M' '.' '.' '.']\n",
      " ['.' '.' '.' 'X' 'X' 'A' 'M' 'M' 'X' 'X' 'A' 'M' 'A' '.' '.' '.']\n",
      " ['.' '.' '.' 'S' 'M' 'S' 'M' 'S' 'A' 'S' 'X' 'S' 'S' '.' '.' '.']\n",
      " ['.' '.' '.' 'S' 'A' 'X' 'A' 'M' 'A' 'S' 'A' 'A' 'A' '.' '.' '.']\n",
      " ['.' '.' '.' 'M' 'A' 'M' 'M' 'M' 'X' 'M' 'M' 'M' 'M' '.' '.' '.']\n",
      " ['.' '.' '.' 'M' 'X' 'M' 'X' 'A' 'X' 'M' 'A' 'S' 'X' '.' '.' '.']\n",
      " ['.' '.' '.' '.' '.' '.' '.' '.' '.' '.' '.' '.' '.' '.' '.' '.']\n",
      " ['.' '.' '.' '.' '.' '.' '.' '.' '.' '.' '.' '.' '.' '.' '.' '.']\n",
      " ['.' '.' '.' '.' '.' '.' '.' '.' '.' '.' '.' '.' '.' '.' '.' '.']]\n"
     ]
    }
   ],
   "source": [
    "print(np.pad(grid, 3, constant_values='.'))"
   ]
  },
  {
   "cell_type": "code",
   "execution_count": 10,
   "metadata": {},
   "outputs": [
    {
     "data": {
      "text/plain": [
       "18"
      ]
     },
     "execution_count": 10,
     "metadata": {},
     "output_type": "execute_result"
    }
   ],
   "source": [
    "def count_pattern(grid, pattern, pad=None, dirs=None):\n",
    "    if pad is None:\n",
    "        pad = len(pattern)-1\n",
    "    if dirs is None:\n",
    "        dirs = pattern_indices(len(pattern))\n",
    "    grid2 = np.pad(grid, pad, constant_values='.')\n",
    "    count = 0\n",
    "    for i in range(grid.shape[0]):\n",
    "        for j in range(grid.shape[1]):\n",
    "            for d in dirs:\n",
    "                if np.all(grid2[d[0]+pad+i, d[1]+pad+j] == pattern):\n",
    "                    count += 1\n",
    "    return count\n",
    "count_pattern(parse_grid(test_data), XMAS)"
   ]
  },
  {
   "cell_type": "markdown",
   "metadata": {},
   "source": [
    "#### Part 1 Answer\n",
    "\n",
    "Take a look at the little Elf's word search. **How many times does XMAS appear?**"
   ]
  },
  {
   "cell_type": "code",
   "execution_count": 11,
   "metadata": {},
   "outputs": [
    {
     "name": "stdout",
     "output_type": "stream",
     "text": [
      "CPU times: user 1.27 s, sys: 28.9 ms, total: 1.3 s\n",
      "Wall time: 1.27 s\n"
     ]
    },
    {
     "data": {
      "text/plain": [
       "2633"
      ]
     },
     "execution_count": 11,
     "metadata": {},
     "output_type": "execute_result"
    }
   ],
   "source": [
    "grid = parse_grid(input_data)\n",
    "%time count_pattern(grid, XMAS)"
   ]
  },
  {
   "cell_type": "markdown",
   "metadata": {},
   "source": [
    "### Part 2"
   ]
  },
  {
   "cell_type": "code",
   "execution_count": 12,
   "metadata": {},
   "outputs": [
    {
     "name": "stdout",
     "output_type": "stream",
     "text": [
      "['M' 'A' 'S' 'M' 'S']\n"
     ]
    }
   ],
   "source": [
    "MAS = np.array(list('MASMS'))\n",
    "print(MAS)"
   ]
  },
  {
   "cell_type": "code",
   "execution_count": 13,
   "metadata": {},
   "outputs": [
    {
     "data": {
      "text/plain": [
       "array([[[-1,  0,  1, -1,  1],\n",
       "        [-1,  0,  1,  1, -1]],\n",
       "\n",
       "       [[-1,  0,  1,  1, -1],\n",
       "        [-1,  0,  1, -1,  1]],\n",
       "\n",
       "       [[ 1,  0, -1, -1,  1],\n",
       "        [ 1,  0, -1,  1, -1]],\n",
       "\n",
       "       [[ 1,  0, -1,  1, -1],\n",
       "        [ 1,  0, -1, -1,  1]]])"
      ]
     },
     "execution_count": 13,
     "metadata": {},
     "output_type": "execute_result"
    }
   ],
   "source": [
    "X_dirs = np.array([\n",
    "    [[0,1,2,0,2], [0,1,2,2,0]],\n",
    "    [[0,1,2,2,0], [0,1,2,0,2]],\n",
    "    [[2,1,0,0,2], [2,1,0,2,0]],\n",
    "    [[2,1,0,2,0], [2,1,0,0,2]],\n",
    "], dtype=int)-1\n",
    "X_dirs"
   ]
  },
  {
   "cell_type": "code",
   "execution_count": 14,
   "metadata": {},
   "outputs": [
    {
     "data": {
      "text/plain": [
       "9"
      ]
     },
     "execution_count": 14,
     "metadata": {},
     "output_type": "execute_result"
    }
   ],
   "source": [
    "count_pattern(parse_grid(test_data), MAS, pad=1, dirs=X_dirs)"
   ]
  },
  {
   "cell_type": "markdown",
   "metadata": {},
   "source": [
    "#### Part 2 Answer\n",
    "\n",
    "Flip the word search from the instructions back over to the word search side and try again. **How many times does an X-MAS appear?**"
   ]
  },
  {
   "cell_type": "code",
   "execution_count": 16,
   "metadata": {},
   "outputs": [
    {
     "name": "stdout",
     "output_type": "stream",
     "text": [
      "CPU times: user 665 ms, sys: 9.03 ms, total: 674 ms\n",
      "Wall time: 671 ms\n"
     ]
    },
    {
     "data": {
      "text/plain": [
       "1936"
      ]
     },
     "execution_count": 16,
     "metadata": {},
     "output_type": "execute_result"
    }
   ],
   "source": [
    "grid = parse_grid(input_data)\n",
    "%time count_pattern(grid, MAS, pad=1, dirs=X_dirs)"
   ]
  }
 ],
 "metadata": {
  "kernelspec": {
   "display_name": "Python 3",
   "language": "python",
   "name": "python3"
  },
  "language_info": {
   "codemirror_mode": {
    "name": "ipython",
    "version": 3
   },
   "file_extension": ".py",
   "mimetype": "text/x-python",
   "name": "python",
   "nbconvert_exporter": "python",
   "pygments_lexer": "ipython3",
   "version": "3.8.5"
  }
 },
 "nbformat": 4,
 "nbformat_minor": 4
}
