{
 "cells": [
  {
   "cell_type": "markdown",
   "metadata": {},
   "source": [
    "# Advent of Code 2024\n",
    "\n",
    "# [Day 2: Red-Nosed Reports](https://adventofcode.com/2024/day/2)"
   ]
  },
  {
   "cell_type": "code",
   "execution_count": 1,
   "metadata": {},
   "outputs": [
    {
     "data": {
      "text/plain": [
       "['19 21 24 27 24',\n",
       " '85 87 89 92 93 96 98 98',\n",
       " '2 5 6 7 8 12',\n",
       " '63 66 69 72 75 82',\n",
       " '18 21 23 26 28 26 27 28']"
      ]
     },
     "execution_count": 1,
     "metadata": {},
     "output_type": "execute_result"
    }
   ],
   "source": [
    "import aocd\n",
    "input_data = aocd.get_data(year=2024, day=2).split('\\n')\n",
    "input_data[:5]"
   ]
  },
  {
   "cell_type": "markdown",
   "metadata": {},
   "source": [
    "---"
   ]
  },
  {
   "cell_type": "markdown",
   "metadata": {},
   "source": [
    "### Part 1"
   ]
  },
  {
   "cell_type": "code",
   "execution_count": 2,
   "metadata": {},
   "outputs": [],
   "source": [
    "import numpy as np\n",
    "import pandas as pd"
   ]
  },
  {
   "cell_type": "code",
   "execution_count": 3,
   "metadata": {},
   "outputs": [
    {
     "data": {
      "text/plain": [
       "0    85\n",
       "1    87\n",
       "2    89\n",
       "3    92\n",
       "4    93\n",
       "5    96\n",
       "6    98\n",
       "7    98\n",
       "dtype: int64"
      ]
     },
     "execution_count": 3,
     "metadata": {},
     "output_type": "execute_result"
    }
   ],
   "source": [
    "reports = [*((pd.Series([*(int(s) for s in line.split())])) for line in input_data)]\n",
    "reports[1]"
   ]
  },
  {
   "cell_type": "code",
   "execution_count": 4,
   "metadata": {},
   "outputs": [],
   "source": [
    "def is_safe(report):\n",
    "    # The levels are either all increasing or all decreasing.\n",
    "    diff = report.diff()[1:]\n",
    "    if np.ptp(np.sign(diff)) != 0:\n",
    "        return False\n",
    "    \n",
    "    # Any two adjacent levels differ by at least one and at most three.\n",
    "    abs_diff = diff.abs()\n",
    "    if abs_diff.min() < 1:\n",
    "        return False\n",
    "    if abs_diff.max() > 3:\n",
    "        return False\n",
    "        \n",
    "    return True"
   ]
  },
  {
   "cell_type": "markdown",
   "metadata": {},
   "source": [
    "#### Part 1 Answer\n",
    "\n",
    "Analyze the unusual data from the engineers. **How many reports are safe?**"
   ]
  },
  {
   "cell_type": "code",
   "execution_count": 5,
   "metadata": {},
   "outputs": [
    {
     "name": "stdout",
     "output_type": "stream",
     "text": [
      "CPU times: user 578 ms, sys: 27.1 ms, total: 605 ms\n",
      "Wall time: 591 ms\n"
     ]
    },
    {
     "data": {
      "text/plain": [
       "407"
      ]
     },
     "execution_count": 5,
     "metadata": {},
     "output_type": "execute_result"
    }
   ],
   "source": [
    "%time sum(is_safe(report) for report in reports)"
   ]
  },
  {
   "cell_type": "markdown",
   "metadata": {},
   "source": [
    "### Part 2"
   ]
  },
  {
   "cell_type": "code",
   "execution_count": 6,
   "metadata": {},
   "outputs": [],
   "source": [
    "def is_safe_damp(report):\n",
    "    if is_safe(report):\n",
    "        return True\n",
    "    for i in range(len(report)):\n",
    "        if is_safe(pd.concat([report[:i], report[i+1:]])):\n",
    "            return True\n",
    "    return False"
   ]
  },
  {
   "cell_type": "markdown",
   "metadata": {},
   "source": [
    "#### Part 2 Answer\n",
    "\n",
    "Update your analysis by handling situations where the Problem Dampener can remove a single level from unsafe reports. **How many reports are now safe?**"
   ]
  },
  {
   "cell_type": "code",
   "execution_count": 7,
   "metadata": {},
   "outputs": [
    {
     "name": "stdout",
     "output_type": "stream",
     "text": [
      "CPU times: user 2.67 s, sys: 68.7 ms, total: 2.74 s\n",
      "Wall time: 2.7 s\n"
     ]
    },
    {
     "data": {
      "text/plain": [
       "459"
      ]
     },
     "execution_count": 7,
     "metadata": {},
     "output_type": "execute_result"
    }
   ],
   "source": [
    "%time sum(is_safe_damp(report) for report in reports)"
   ]
  }
 ],
 "metadata": {
  "kernelspec": {
   "display_name": "Python 3",
   "language": "python",
   "name": "python3"
  },
  "language_info": {
   "codemirror_mode": {
    "name": "ipython",
    "version": 3
   },
   "file_extension": ".py",
   "mimetype": "text/x-python",
   "name": "python",
   "nbconvert_exporter": "python",
   "pygments_lexer": "ipython3",
   "version": "3.8.5"
  }
 },
 "nbformat": 4,
 "nbformat_minor": 4
}
